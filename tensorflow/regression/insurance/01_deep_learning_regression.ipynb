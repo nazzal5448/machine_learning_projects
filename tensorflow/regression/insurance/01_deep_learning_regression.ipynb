{
  "nbformat": 4,
  "nbformat_minor": 0,
  "metadata": {
    "colab": {
      "provenance": []
    },
    "kernelspec": {
      "name": "python3",
      "display_name": "Python 3"
    },
    "language_info": {
      "name": "python"
    }
  },
  "cells": [
    {
      "cell_type": "code",
      "execution_count": null,
      "metadata": {
        "id": "rk-0o4JUM7ps",
        "colab": {
          "base_uri": "https://localhost:8080/"
        },
        "outputId": "dc858dc9-4f57-41cd-e61a-ccce740aa242"
      },
      "outputs": [
        {
          "output_type": "stream",
          "name": "stdout",
          "text": [
            "2.12.0\n"
          ]
        }
      ],
      "source": [
        "import tensorflow as tf\n",
        "print(tf.__version__)"
      ]
    },
    {
      "cell_type": "markdown",
      "source": [
        "## Creating data"
      ],
      "metadata": {
        "id": "MIsoJZsQ6RSh"
      }
    },
    {
      "cell_type": "code",
      "source": [
        "import numpy as np\n",
        "import matplotlib.pyplot as plt\n"
      ],
      "metadata": {
        "id": "X-Uuz4fN7mPw"
      },
      "execution_count": null,
      "outputs": []
    },
    {
      "cell_type": "code",
      "source": [
        "X=np.array([-7.,-4.,-2.,0.,2.,4.,6.,8.,10.])\n",
        "y=np.array([3,6.,8.,10.,12.,14.,16.,18.,20.])\n"
      ],
      "metadata": {
        "id": "eOPCZ2NL7GR0"
      },
      "execution_count": null,
      "outputs": []
    },
    {
      "cell_type": "code",
      "source": [
        "plt.scatter(X,y);"
      ],
      "metadata": {
        "colab": {
          "base_uri": "https://localhost:8080/",
          "height": 430
        },
        "id": "ykQCSnzE7kIB",
        "outputId": "68534a71-123e-4d8f-a916-9b69e21db3ba"
      },
      "execution_count": null,
      "outputs": [
        {
          "output_type": "display_data",
          "data": {
            "text/plain": [
              "<Figure size 640x480 with 1 Axes>"
            ],
            "image/png": "[encoded data removed]"
          },
          "metadata": {}
        }
      ]
    },
    {
      "cell_type": "code",
      "source": [
        "y==X+10"
      ],
      "metadata": {
        "colab": {
          "base_uri": "https://localhost:8080/"
        },
        "id": "cZWIMCZG7x6i",
        "outputId": "c5d61fdf-bec7-40c5-a1c2-7ed7df05b432"
      },
      "execution_count": null,
      "outputs": [
        {
          "output_type": "execute_result",
          "data": {
            "text/plain": [
              "array([ True,  True,  True,  True,  True,  True,  True,  True,  True])"
            ]
          },
          "metadata": {},
          "execution_count": 152
        }
      ]
    },
    {
      "cell_type": "code",
      "source": [
        "X= tf.constant(X)\n",
        "y=tf.constant(y)"
      ],
      "metadata": {
        "id": "80AwKEmy8ESB"
      },
      "execution_count": null,
      "outputs": []
    },
    {
      "cell_type": "markdown",
      "source": [
        "## Steps in Modelling:\n",
        "1. Creating a model\n",
        "2. Compiling a model\n",
        "  * Define loss function\n",
        "  * Optimizer like Adam\n",
        "  * Evaluation metrices\n",
        "3. Fitting the Model"
      ],
      "metadata": {
        "id": "B9i329Mb-pn5"
      }
    },
    {
      "cell_type": "code",
      "source": [
        "# setting random seed\n",
        "tf.random.set_seed(42)\n",
        "#creating a model using sequential API\n",
        "model= tf.keras.Sequential([\n",
        "    tf.keras.layers.Dense(1)\n",
        "])\n",
        "\n",
        "#compiling model\n",
        "model.compile(\n",
        "    loss=tf.keras.losses.mae,\n",
        "    optimizer=tf.keras.optimizers.SGD(), #sochastic graduent descent\n",
        "    metrics=[\"mae\"]\n",
        ")\n",
        "\n",
        "model.fit(tf.expand_dims(X,axis=-1),y, epochs=5)"
      ],
      "metadata": {
        "colab": {
          "base_uri": "https://localhost:8080/"
        },
        "id": "HzM_9gyw_IDU",
        "outputId": "3be03226-de72-4539-ce9e-cb284392ba76"
      },
      "execution_count": null,
      "outputs": [
        {
          "output_type": "stream",
          "name": "stdout",
          "text": [
            "Epoch 1/5\n",
            "1/1 [==============================] - 0s 344ms/step - loss: 8.8276 - mae: 8.8276\n",
            "Epoch 2/5\n",
            "1/1 [==============================] - 0s 10ms/step - loss: 8.7819 - mae: 8.7819\n",
            "Epoch 3/5\n",
            "1/1 [==============================] - 0s 10ms/step - loss: 8.7362 - mae: 8.7362\n",
            "Epoch 4/5\n",
            "1/1 [==============================] - 0s 8ms/step - loss: 8.6906 - mae: 8.6906\n",
            "Epoch 5/5\n",
            "1/1 [==============================] - 0s 11ms/step - loss: 8.6449 - mae: 8.6449\n"
          ]
        },
        {
          "output_type": "execute_result",
          "data": {
            "text/plain": [
              "<keras.callbacks.History at 0x7f060fa77e20>"
            ]
          },
          "metadata": {},
          "execution_count": 154
        }
      ]
    },
    {
      "cell_type": "code",
      "source": [
        "pred=model.predict([17])"
      ],
      "metadata": {
        "id": "SCmHPDGuBISa",
        "colab": {
          "base_uri": "https://localhost:8080/"
        },
        "outputId": "32a38f23-e0a7-46ae-bc61-683f1094de18"
      },
      "execution_count": null,
      "outputs": [
        {
          "output_type": "stream",
          "name": "stdout",
          "text": [
            "1/1 [==============================] - 0s 71ms/step\n"
          ]
        }
      ]
    },
    {
      "cell_type": "code",
      "source": [
        "pred"
      ],
      "metadata": {
        "colab": {
          "base_uri": "https://localhost:8080/"
        },
        "id": "CJX9lVJ6-8Jp",
        "outputId": "a7c40e50-32ab-4495-f270-6a42e394fa8d"
      },
      "execution_count": null,
      "outputs": [
        {
          "output_type": "execute_result",
          "data": {
            "text/plain": [
              "array([[29.20712]], dtype=float32)"
            ]
          },
          "metadata": {},
          "execution_count": 156
        }
      ]
    },
    {
      "cell_type": "markdown",
      "source": [
        "## Improving a Model\n",
        "We can improve the model by altering the steps we took to build the model.\n",
        "1. **Creating a model:** Here we might add more hidden layers, increase the number of neurons in each hidden layer , change the activation function of each layer.\n",
        "2. **Compiling the Model:** Here we might change the optimization function or the learning rate of each optimization function.\n",
        "3. **Fitting the Model:** Here we might fit the edit for more epochs (leave it training for longer) or increase the amount of data."
      ],
      "metadata": {
        "id": "DOldwYzwABCj"
      }
    },
    {
      "cell_type": "code",
      "source": [
        "model = tf.keras.Sequential([\n",
        "    tf.keras.layers.Dense(1)\n",
        "])\n",
        "\n",
        "model.compile(loss=tf.keras.losses.mae,\n",
        "              optimizer=tf.keras.optimizers.Adam(),\n",
        "              metrics=[\"mae\"])\n",
        "\n",
        "model.fit(tf.expand_dims(X,axis=-1), tf.expand_dims(y,axis=-1), epochs=100)"
      ],
      "metadata": {
        "colab": {
          "base_uri": "https://localhost:8080/"
        },
        "id": "unP5Vay9dx-U",
        "outputId": "f72c3e94-5ad7-4419-9d1c-751beecc75b4"
      },
      "execution_count": null,
      "outputs": [
        {
          "output_type": "stream",
          "name": "stdout",
          "text": [
            "Epoch 1/100\n",
            "1/1 [==============================] - 0s 405ms/step - loss: 15.9940 - mae: 15.9940\n",
            "Epoch 2/100\n",
            "1/1 [==============================] - 0s 9ms/step - loss: 15.9898 - mae: 15.9898\n",
            "Epoch 3/100\n",
            "1/1 [==============================] - 0s 11ms/step - loss: 15.9855 - mae: 15.9855\n",
            "Epoch 4/100\n",
            "1/1 [==============================] - 0s 12ms/step - loss: 15.9813 - mae: 15.9813\n",
            "Epoch 5/100\n",
            "1/1 [==============================] - 0s 12ms/step - loss: 15.9771 - mae: 15.9771\n",
            "Epoch 6/100\n",
            "1/1 [==============================] - 0s 10ms/step - loss: 15.9729 - mae: 15.9729\n",
            "Epoch 7/100\n",
            "1/1 [==============================] - 0s 10ms/step - loss: 15.9686 - mae: 15.9686\n",
            "Epoch 8/100\n",
            "1/1 [==============================] - 0s 10ms/step - loss: 15.9644 - mae: 15.9644\n",
            "Epoch 9/100\n",
            "1/1 [==============================] - 0s 10ms/step - loss: 15.9602 - mae: 15.9602\n",
            "Epoch 10/100\n",
            "1/1 [==============================] - 0s 11ms/step - loss: 15.9560 - mae: 15.9560\n",
            "Epoch 11/100\n",
            "1/1 [==============================] - 0s 9ms/step - loss: 15.9518 - mae: 15.9518\n",
            "Epoch 12/100\n",
            "1/1 [==============================] - 0s 9ms/step - loss: 15.9475 - mae: 15.9475\n",
            "Epoch 13/100\n",
            "1/1 [==============================] - 0s 9ms/step - loss: 15.9433 - mae: 15.9433\n",
            "Epoch 14/100\n",
            "1/1 [==============================] - 0s 8ms/step - loss: 15.9391 - mae: 15.9391\n",
            "Epoch 15/100\n",
            "1/1 [==============================] - 0s 8ms/step - loss: 15.9349 - mae: 15.9349\n",
            "Epoch 16/100\n",
            "1/1 [==============================] - 0s 9ms/step - loss: 15.9306 - mae: 15.9306\n",
            "Epoch 17/100\n",
            "1/1 [==============================] - 0s 10ms/step - loss: 15.9264 - mae: 15.9264\n",
            "Epoch 18/100\n",
            "1/1 [==============================] - 0s 10ms/step - loss: 15.9222 - mae: 15.9222\n",
            "Epoch 19/100\n",
            "1/1 [==============================] - 0s 9ms/step - loss: 15.9180 - mae: 15.9180\n",
            "Epoch 20/100\n",
            "1/1 [==============================] - 0s 9ms/step - loss: 15.9138 - mae: 15.9138\n",
            "Epoch 21/100\n",
            "1/1 [==============================] - 0s 13ms/step - loss: 15.9095 - mae: 15.9095\n",
            "Epoch 22/100\n",
            "1/1 [==============================] - 0s 10ms/step - loss: 15.9053 - mae: 15.9053\n",
            "Epoch 23/100\n",
            "1/1 [==============================] - 0s 10ms/step - loss: 15.9011 - mae: 15.9011\n",
            "Epoch 24/100\n",
            "1/1 [==============================] - 0s 9ms/step - loss: 15.8969 - mae: 15.8969\n",
            "Epoch 25/100\n",
            "1/1 [==============================] - 0s 9ms/step - loss: 15.8926 - mae: 15.8926\n",
            "Epoch 26/100\n",
            "1/1 [==============================] - 0s 9ms/step - loss: 15.8884 - mae: 15.8884\n",
            "Epoch 27/100\n",
            "1/1 [==============================] - 0s 8ms/step - loss: 15.8842 - mae: 15.8842\n",
            "Epoch 28/100\n",
            "1/1 [==============================] - 0s 9ms/step - loss: 15.8800 - mae: 15.8800\n",
            "Epoch 29/100\n",
            "1/1 [==============================] - 0s 9ms/step - loss: 15.8758 - mae: 15.8758\n",
            "Epoch 30/100\n",
            "1/1 [==============================] - 0s 10ms/step - loss: 15.8715 - mae: 15.8715\n",
            "Epoch 31/100\n",
            "1/1 [==============================] - 0s 11ms/step - loss: 15.8673 - mae: 15.8673\n",
            "Epoch 32/100\n",
            "1/1 [==============================] - 0s 10ms/step - loss: 15.8631 - mae: 15.8631\n",
            "Epoch 33/100\n",
            "1/1 [==============================] - 0s 8ms/step - loss: 15.8589 - mae: 15.8589\n",
            "Epoch 34/100\n",
            "1/1 [==============================] - 0s 10ms/step - loss: 15.8546 - mae: 15.8546\n",
            "Epoch 35/100\n",
            "1/1 [==============================] - 0s 10ms/step - loss: 15.8504 - mae: 15.8504\n",
            "Epoch 36/100\n",
            "1/1 [==============================] - 0s 10ms/step - loss: 15.8462 - mae: 15.8462\n",
            "Epoch 37/100\n",
            "1/1 [==============================] - 0s 11ms/step - loss: 15.8420 - mae: 15.8420\n",
            "Epoch 38/100\n",
            "1/1 [==============================] - 0s 19ms/step - loss: 15.8377 - mae: 15.8377\n",
            "Epoch 39/100\n",
            "1/1 [==============================] - 0s 9ms/step - loss: 15.8335 - mae: 15.8335\n",
            "Epoch 40/100\n",
            "1/1 [==============================] - 0s 10ms/step - loss: 15.8293 - mae: 15.8293\n",
            "Epoch 41/100\n",
            "1/1 [==============================] - 0s 10ms/step - loss: 15.8251 - mae: 15.8251\n",
            "Epoch 42/100\n",
            "1/1 [==============================] - 0s 11ms/step - loss: 15.8209 - mae: 15.8209\n",
            "Epoch 43/100\n",
            "1/1 [==============================] - 0s 11ms/step - loss: 15.8166 - mae: 15.8166\n",
            "Epoch 44/100\n",
            "1/1 [==============================] - 0s 11ms/step - loss: 15.8124 - mae: 15.8124\n",
            "Epoch 45/100\n",
            "1/1 [==============================] - 0s 9ms/step - loss: 15.8082 - mae: 15.8082\n",
            "Epoch 46/100\n",
            "1/1 [==============================] - 0s 10ms/step - loss: 15.8040 - mae: 15.8040\n",
            "Epoch 47/100\n",
            "1/1 [==============================] - 0s 11ms/step - loss: 15.7997 - mae: 15.7997\n",
            "Epoch 48/100\n",
            "1/1 [==============================] - 0s 9ms/step - loss: 15.7955 - mae: 15.7955\n",
            "Epoch 49/100\n",
            "1/1 [==============================] - 0s 7ms/step - loss: 15.7913 - mae: 15.7913\n",
            "Epoch 50/100\n",
            "1/1 [==============================] - 0s 9ms/step - loss: 15.7871 - mae: 15.7871\n",
            "Epoch 51/100\n",
            "1/1 [==============================] - 0s 10ms/step - loss: 15.7829 - mae: 15.7829\n",
            "Epoch 52/100\n",
            "1/1 [==============================] - 0s 8ms/step - loss: 15.7786 - mae: 15.7786\n",
            "Epoch 53/100\n",
            "1/1 [==============================] - 0s 8ms/step - loss: 15.7744 - mae: 15.7744\n",
            "Epoch 54/100\n",
            "1/1 [==============================] - 0s 9ms/step - loss: 15.7702 - mae: 15.7702\n",
            "Epoch 55/100\n",
            "1/1 [==============================] - 0s 8ms/step - loss: 15.7660 - mae: 15.7660\n",
            "Epoch 56/100\n",
            "1/1 [==============================] - 0s 8ms/step - loss: 15.7617 - mae: 15.7617\n",
            "Epoch 57/100\n",
            "1/1 [==============================] - 0s 9ms/step - loss: 15.7575 - mae: 15.7575\n",
            "Epoch 58/100\n",
            "1/1 [==============================] - 0s 8ms/step - loss: 15.7533 - mae: 15.7533\n",
            "Epoch 59/100\n",
            "1/1 [==============================] - 0s 8ms/step - loss: 15.7491 - mae: 15.7491\n",
            "Epoch 60/100\n",
            "1/1 [==============================] - 0s 8ms/step - loss: 15.7449 - mae: 15.7449\n",
            "Epoch 61/100\n",
            "1/1 [==============================] - 0s 9ms/step - loss: 15.7406 - mae: 15.7406\n",
            "Epoch 62/100\n",
            "1/1 [==============================] - 0s 8ms/step - loss: 15.7364 - mae: 15.7364\n",
            "Epoch 63/100\n",
            "1/1 [==============================] - 0s 8ms/step - loss: 15.7322 - mae: 15.7322\n",
            "Epoch 64/100\n",
            "1/1 [==============================] - 0s 9ms/step - loss: 15.7280 - mae: 15.7280\n",
            "Epoch 65/100\n",
            "1/1 [==============================] - 0s 8ms/step - loss: 15.7237 - mae: 15.7237\n",
            "Epoch 66/100\n",
            "1/1 [==============================] - 0s 8ms/step - loss: 15.7195 - mae: 15.7195\n",
            "Epoch 67/100\n",
            "1/1 [==============================] - 0s 9ms/step - loss: 15.7153 - mae: 15.7153\n",
            "Epoch 68/100\n",
            "1/1 [==============================] - 0s 9ms/step - loss: 15.7111 - mae: 15.7111\n",
            "Epoch 69/100\n",
            "1/1 [==============================] - 0s 11ms/step - loss: 15.7069 - mae: 15.7069\n",
            "Epoch 70/100\n",
            "1/1 [==============================] - 0s 11ms/step - loss: 15.7026 - mae: 15.7026\n",
            "Epoch 71/100\n",
            "1/1 [==============================] - 0s 9ms/step - loss: 15.6984 - mae: 15.6984\n",
            "Epoch 72/100\n",
            "1/1 [==============================] - 0s 10ms/step - loss: 15.6942 - mae: 15.6942\n",
            "Epoch 73/100\n",
            "1/1 [==============================] - 0s 10ms/step - loss: 15.6900 - mae: 15.6900\n",
            "Epoch 74/100\n",
            "1/1 [==============================] - 0s 8ms/step - loss: 15.6857 - mae: 15.6857\n",
            "Epoch 75/100\n",
            "1/1 [==============================] - 0s 9ms/step - loss: 15.6815 - mae: 15.6815\n",
            "Epoch 76/100\n",
            "1/1 [==============================] - 0s 9ms/step - loss: 15.6773 - mae: 15.6773\n",
            "Epoch 77/100\n",
            "1/1 [==============================] - 0s 8ms/step - loss: 15.6731 - mae: 15.6731\n",
            "Epoch 78/100\n",
            "1/1 [==============================] - 0s 9ms/step - loss: 15.6689 - mae: 15.6689\n",
            "Epoch 79/100\n",
            "1/1 [==============================] - 0s 9ms/step - loss: 15.6646 - mae: 15.6646\n",
            "Epoch 80/100\n",
            "1/1 [==============================] - 0s 9ms/step - loss: 15.6604 - mae: 15.6604\n",
            "Epoch 81/100\n",
            "1/1 [==============================] - 0s 11ms/step - loss: 15.6562 - mae: 15.6562\n",
            "Epoch 82/100\n",
            "1/1 [==============================] - 0s 9ms/step - loss: 15.6520 - mae: 15.6520\n",
            "Epoch 83/100\n",
            "1/1 [==============================] - 0s 8ms/step - loss: 15.6477 - mae: 15.6477\n",
            "Epoch 84/100\n",
            "1/1 [==============================] - 0s 9ms/step - loss: 15.6435 - mae: 15.6435\n",
            "Epoch 85/100\n",
            "1/1 [==============================] - 0s 10ms/step - loss: 15.6393 - mae: 15.6393\n",
            "Epoch 86/100\n",
            "1/1 [==============================] - 0s 9ms/step - loss: 15.6351 - mae: 15.6351\n",
            "Epoch 87/100\n",
            "1/1 [==============================] - 0s 8ms/step - loss: 15.6309 - mae: 15.6309\n",
            "Epoch 88/100\n",
            "1/1 [==============================] - 0s 8ms/step - loss: 15.6266 - mae: 15.6266\n",
            "Epoch 89/100\n",
            "1/1 [==============================] - 0s 9ms/step - loss: 15.6224 - mae: 15.6224\n",
            "Epoch 90/100\n",
            "1/1 [==============================] - 0s 9ms/step - loss: 15.6182 - mae: 15.6182\n",
            "Epoch 91/100\n",
            "1/1 [==============================] - 0s 10ms/step - loss: 15.6140 - mae: 15.6140\n",
            "Epoch 92/100\n",
            "1/1 [==============================] - 0s 9ms/step - loss: 15.6097 - mae: 15.6097\n",
            "Epoch 93/100\n",
            "1/1 [==============================] - 0s 9ms/step - loss: 15.6055 - mae: 15.6055\n",
            "Epoch 94/100\n",
            "1/1 [==============================] - 0s 9ms/step - loss: 15.6013 - mae: 15.6013\n",
            "Epoch 95/100\n",
            "1/1 [==============================] - 0s 8ms/step - loss: 15.5971 - mae: 15.5971\n",
            "Epoch 96/100\n",
            "1/1 [==============================] - 0s 8ms/step - loss: 15.5929 - mae: 15.5929\n",
            "Epoch 97/100\n",
            "1/1 [==============================] - 0s 10ms/step - loss: 15.5886 - mae: 15.5886\n",
            "Epoch 98/100\n",
            "1/1 [==============================] - 0s 12ms/step - loss: 15.5844 - mae: 15.5844\n",
            "Epoch 99/100\n",
            "1/1 [==============================] - 0s 8ms/step - loss: 15.5802 - mae: 15.5802\n",
            "Epoch 100/100\n",
            "1/1 [==============================] - 0s 8ms/step - loss: 15.5760 - mae: 15.5760\n"
          ]
        },
        {
          "output_type": "execute_result",
          "data": {
            "text/plain": [
              "<keras.callbacks.History at 0x7f060fc217b0>"
            ]
          },
          "metadata": {},
          "execution_count": 157
        }
      ]
    },
    {
      "cell_type": "code",
      "source": [
        "model.predict([17])"
      ],
      "metadata": {
        "colab": {
          "base_uri": "https://localhost:8080/"
        },
        "id": "xA04I7bhf9ZO",
        "outputId": "8503f19e-f6e9-479e-9d32-c588610db522"
      },
      "execution_count": null,
      "outputs": [
        {
          "output_type": "stream",
          "name": "stdout",
          "text": [
            "1/1 [==============================] - 0s 62ms/step\n"
          ]
        },
        {
          "output_type": "execute_result",
          "data": {
            "text/plain": [
              "array([[-21.750841]], dtype=float32)"
            ]
          },
          "metadata": {},
          "execution_count": 158
        }
      ]
    },
    {
      "cell_type": "code",
      "source": [
        "#rebuilding the model again\n",
        "model= tf.keras.Sequential()\n",
        "model.add(tf.keras.layers.Dense(100, activation=\"relu\"))\n",
        "model.add(tf.keras.layers.Dense(100, activation=\"relu\"))\n",
        "model.add(tf.keras.layers.Dense(100, activation=\"relu\"))\n",
        "\n",
        "model.compile(loss=tf.keras.losses.mae,\n",
        "              optimizer=tf.keras.optimizers.Adam(),\n",
        "              metrics=[\"mae\"])\n",
        "\n",
        "model.fit(tf.expand_dims(X, axis=-1), y, epochs=100)"
      ],
      "metadata": {
        "colab": {
          "base_uri": "https://localhost:8080/"
        },
        "id": "RFp6JtSPg5FF",
        "outputId": "c2a53c79-900f-4c8c-db00-2ea4224fa613"
      },
      "execution_count": null,
      "outputs": [
        {
          "output_type": "stream",
          "name": "stdout",
          "text": [
            "Epoch 1/100\n",
            "1/1 [==============================] - 1s 731ms/step - loss: 11.7040 - mae: 11.7040\n",
            "Epoch 2/100\n",
            "1/1 [==============================] - 0s 11ms/step - loss: 11.6720 - mae: 11.6720\n",
            "Epoch 3/100\n",
            "1/1 [==============================] - 0s 13ms/step - loss: 11.6382 - mae: 11.6382\n",
            "Epoch 4/100\n",
            "1/1 [==============================] - 0s 10ms/step - loss: 11.6019 - mae: 11.6019\n",
            "Epoch 5/100\n",
            "1/1 [==============================] - 0s 11ms/step - loss: 11.5632 - mae: 11.5632\n",
            "Epoch 6/100\n",
            "1/1 [==============================] - 0s 10ms/step - loss: 11.5219 - mae: 11.5219\n",
            "Epoch 7/100\n",
            "1/1 [==============================] - 0s 10ms/step - loss: 11.4776 - mae: 11.4776\n",
            "Epoch 8/100\n",
            "1/1 [==============================] - 0s 9ms/step - loss: 11.4301 - mae: 11.4301\n",
            "Epoch 9/100\n",
            "1/1 [==============================] - 0s 10ms/step - loss: 11.3791 - mae: 11.3791\n",
            "Epoch 10/100\n",
            "1/1 [==============================] - 0s 12ms/step - loss: 11.3244 - mae: 11.3244\n",
            "Epoch 11/100\n",
            "1/1 [==============================] - 0s 11ms/step - loss: 11.2654 - mae: 11.2654\n",
            "Epoch 12/100\n",
            "1/1 [==============================] - 0s 10ms/step - loss: 11.2021 - mae: 11.2021\n",
            "Epoch 13/100\n",
            "1/1 [==============================] - 0s 11ms/step - loss: 11.1339 - mae: 11.1339\n",
            "Epoch 14/100\n",
            "1/1 [==============================] - 0s 11ms/step - loss: 11.0607 - mae: 11.0607\n",
            "Epoch 15/100\n",
            "1/1 [==============================] - 0s 11ms/step - loss: 10.9813 - mae: 10.9813\n",
            "Epoch 16/100\n",
            "1/1 [==============================] - 0s 11ms/step - loss: 10.8958 - mae: 10.8958\n",
            "Epoch 17/100\n",
            "1/1 [==============================] - 0s 10ms/step - loss: 10.8037 - mae: 10.8037\n",
            "Epoch 18/100\n",
            "1/1 [==============================] - 0s 10ms/step - loss: 10.7042 - mae: 10.7042\n",
            "Epoch 19/100\n",
            "1/1 [==============================] - 0s 10ms/step - loss: 10.5970 - mae: 10.5970\n",
            "Epoch 20/100\n",
            "1/1 [==============================] - 0s 10ms/step - loss: 10.4823 - mae: 10.4823\n",
            "Epoch 21/100\n",
            "1/1 [==============================] - 0s 13ms/step - loss: 10.3598 - mae: 10.3598\n",
            "Epoch 22/100\n",
            "1/1 [==============================] - 0s 15ms/step - loss: 10.2288 - mae: 10.2288\n",
            "Epoch 23/100\n",
            "1/1 [==============================] - 0s 10ms/step - loss: 10.0888 - mae: 10.0888\n",
            "Epoch 24/100\n",
            "1/1 [==============================] - 0s 10ms/step - loss: 9.9391 - mae: 9.9391\n",
            "Epoch 25/100\n",
            "1/1 [==============================] - 0s 10ms/step - loss: 9.7816 - mae: 9.7816\n",
            "Epoch 26/100\n",
            "1/1 [==============================] - 0s 10ms/step - loss: 9.6155 - mae: 9.6155\n",
            "Epoch 27/100\n",
            "1/1 [==============================] - 0s 10ms/step - loss: 9.4405 - mae: 9.4405\n",
            "Epoch 28/100\n",
            "1/1 [==============================] - 0s 10ms/step - loss: 9.2562 - mae: 9.2562\n",
            "Epoch 29/100\n",
            "1/1 [==============================] - 0s 10ms/step - loss: 9.0637 - mae: 9.0637\n",
            "Epoch 30/100\n",
            "1/1 [==============================] - 0s 10ms/step - loss: 8.8612 - mae: 8.8612\n",
            "Epoch 31/100\n",
            "1/1 [==============================] - 0s 10ms/step - loss: 8.6499 - mae: 8.6499\n",
            "Epoch 32/100\n",
            "1/1 [==============================] - 0s 10ms/step - loss: 8.4302 - mae: 8.4302\n",
            "Epoch 33/100\n",
            "1/1 [==============================] - 0s 10ms/step - loss: 8.2008 - mae: 8.2008\n",
            "Epoch 34/100\n",
            "1/1 [==============================] - 0s 11ms/step - loss: 7.9622 - mae: 7.9622\n",
            "Epoch 35/100\n",
            "1/1 [==============================] - 0s 10ms/step - loss: 7.7138 - mae: 7.7138\n",
            "Epoch 36/100\n",
            "1/1 [==============================] - 0s 10ms/step - loss: 7.4587 - mae: 7.4587\n",
            "Epoch 37/100\n",
            "1/1 [==============================] - 0s 10ms/step - loss: 7.2001 - mae: 7.2001\n",
            "Epoch 38/100\n",
            "1/1 [==============================] - 0s 10ms/step - loss: 6.9435 - mae: 6.9435\n",
            "Epoch 39/100\n",
            "1/1 [==============================] - 0s 10ms/step - loss: 6.6965 - mae: 6.6965\n",
            "Epoch 40/100\n",
            "1/1 [==============================] - 0s 10ms/step - loss: 6.4699 - mae: 6.4699\n",
            "Epoch 41/100\n",
            "1/1 [==============================] - 0s 10ms/step - loss: 6.2625 - mae: 6.2625\n",
            "Epoch 42/100\n",
            "1/1 [==============================] - 0s 11ms/step - loss: 6.0925 - mae: 6.0925\n",
            "Epoch 43/100\n",
            "1/1 [==============================] - 0s 11ms/step - loss: 5.9577 - mae: 5.9577\n",
            "Epoch 44/100\n",
            "1/1 [==============================] - 0s 10ms/step - loss: 5.8558 - mae: 5.8558\n",
            "Epoch 45/100\n",
            "1/1 [==============================] - 0s 10ms/step - loss: 5.7879 - mae: 5.7879\n",
            "Epoch 46/100\n",
            "1/1 [==============================] - 0s 10ms/step - loss: 5.7371 - mae: 5.7371\n",
            "Epoch 47/100\n",
            "1/1 [==============================] - 0s 11ms/step - loss: 5.7057 - mae: 5.7057\n",
            "Epoch 48/100\n",
            "1/1 [==============================] - 0s 14ms/step - loss: 5.6860 - mae: 5.6860\n",
            "Epoch 49/100\n",
            "1/1 [==============================] - 0s 16ms/step - loss: 5.6766 - mae: 5.6766\n",
            "Epoch 50/100\n",
            "1/1 [==============================] - 0s 10ms/step - loss: 5.6712 - mae: 5.6712\n",
            "Epoch 51/100\n",
            "1/1 [==============================] - 0s 9ms/step - loss: 5.6647 - mae: 5.6647\n",
            "Epoch 52/100\n",
            "1/1 [==============================] - 0s 10ms/step - loss: 5.6518 - mae: 5.6518\n",
            "Epoch 53/100\n",
            "1/1 [==============================] - 0s 10ms/step - loss: 5.6312 - mae: 5.6312\n",
            "Epoch 54/100\n",
            "1/1 [==============================] - 0s 9ms/step - loss: 5.5999 - mae: 5.5999\n",
            "Epoch 55/100\n",
            "1/1 [==============================] - 0s 9ms/step - loss: 5.5564 - mae: 5.5564\n",
            "Epoch 56/100\n",
            "1/1 [==============================] - 0s 9ms/step - loss: 5.5027 - mae: 5.5027\n",
            "Epoch 57/100\n",
            "1/1 [==============================] - 0s 9ms/step - loss: 5.4384 - mae: 5.4384\n",
            "Epoch 58/100\n",
            "1/1 [==============================] - 0s 10ms/step - loss: 5.3671 - mae: 5.3671\n",
            "Epoch 59/100\n",
            "1/1 [==============================] - 0s 13ms/step - loss: 5.2964 - mae: 5.2964\n",
            "Epoch 60/100\n",
            "1/1 [==============================] - 0s 11ms/step - loss: 5.2394 - mae: 5.2394\n",
            "Epoch 61/100\n",
            "1/1 [==============================] - 0s 11ms/step - loss: 5.1934 - mae: 5.1934\n",
            "Epoch 62/100\n",
            "1/1 [==============================] - 0s 14ms/step - loss: 5.1575 - mae: 5.1575\n",
            "Epoch 63/100\n",
            "1/1 [==============================] - 0s 9ms/step - loss: 5.1266 - mae: 5.1266\n",
            "Epoch 64/100\n",
            "1/1 [==============================] - 0s 10ms/step - loss: 5.0969 - mae: 5.0969\n",
            "Epoch 65/100\n",
            "1/1 [==============================] - 0s 10ms/step - loss: 5.0678 - mae: 5.0678\n",
            "Epoch 66/100\n",
            "1/1 [==============================] - 0s 10ms/step - loss: 5.0467 - mae: 5.0467\n",
            "Epoch 67/100\n",
            "1/1 [==============================] - 0s 10ms/step - loss: 5.0414 - mae: 5.0414\n",
            "Epoch 68/100\n",
            "1/1 [==============================] - 0s 10ms/step - loss: 5.0485 - mae: 5.0485\n",
            "Epoch 69/100\n",
            "1/1 [==============================] - 0s 10ms/step - loss: 5.0551 - mae: 5.0551\n",
            "Epoch 70/100\n",
            "1/1 [==============================] - 0s 10ms/step - loss: 5.0559 - mae: 5.0559\n",
            "Epoch 71/100\n",
            "1/1 [==============================] - 0s 10ms/step - loss: 5.0509 - mae: 5.0509\n",
            "Epoch 72/100\n",
            "1/1 [==============================] - 0s 11ms/step - loss: 5.0402 - mae: 5.0402\n",
            "Epoch 73/100\n",
            "1/1 [==============================] - 0s 13ms/step - loss: 5.0260 - mae: 5.0260\n",
            "Epoch 74/100\n",
            "1/1 [==============================] - 0s 11ms/step - loss: 5.0075 - mae: 5.0075\n",
            "Epoch 75/100\n",
            "1/1 [==============================] - 0s 10ms/step - loss: 4.9852 - mae: 4.9852\n",
            "Epoch 76/100\n",
            "1/1 [==============================] - 0s 10ms/step - loss: 4.9623 - mae: 4.9623\n",
            "Epoch 77/100\n",
            "1/1 [==============================] - 0s 10ms/step - loss: 4.9413 - mae: 4.9413\n",
            "Epoch 78/100\n",
            "1/1 [==============================] - 0s 10ms/step - loss: 4.9236 - mae: 4.9236\n",
            "Epoch 79/100\n",
            "1/1 [==============================] - 0s 16ms/step - loss: 4.9112 - mae: 4.9112\n",
            "Epoch 80/100\n",
            "1/1 [==============================] - 0s 14ms/step - loss: 4.9039 - mae: 4.9039\n",
            "Epoch 81/100\n",
            "1/1 [==============================] - 0s 11ms/step - loss: 4.8964 - mae: 4.8964\n",
            "Epoch 82/100\n",
            "1/1 [==============================] - 0s 12ms/step - loss: 4.8871 - mae: 4.8871\n",
            "Epoch 83/100\n",
            "1/1 [==============================] - 0s 10ms/step - loss: 4.8768 - mae: 4.8768\n",
            "Epoch 84/100\n",
            "1/1 [==============================] - 0s 12ms/step - loss: 4.8657 - mae: 4.8657\n",
            "Epoch 85/100\n",
            "1/1 [==============================] - 0s 9ms/step - loss: 4.8540 - mae: 4.8540\n",
            "Epoch 86/100\n",
            "1/1 [==============================] - 0s 10ms/step - loss: 4.8415 - mae: 4.8415\n",
            "Epoch 87/100\n",
            "1/1 [==============================] - 0s 11ms/step - loss: 4.8279 - mae: 4.8279\n",
            "Epoch 88/100\n",
            "1/1 [==============================] - 0s 10ms/step - loss: 4.8140 - mae: 4.8140\n",
            "Epoch 89/100\n",
            "1/1 [==============================] - 0s 12ms/step - loss: 4.7991 - mae: 4.7991\n",
            "Epoch 90/100\n",
            "1/1 [==============================] - 0s 10ms/step - loss: 4.7839 - mae: 4.7839\n",
            "Epoch 91/100\n",
            "1/1 [==============================] - 0s 10ms/step - loss: 4.7674 - mae: 4.7674\n",
            "Epoch 92/100\n",
            "1/1 [==============================] - 0s 10ms/step - loss: 4.7503 - mae: 4.7503\n",
            "Epoch 93/100\n",
            "1/1 [==============================] - 0s 11ms/step - loss: 4.7337 - mae: 4.7337\n",
            "Epoch 94/100\n",
            "1/1 [==============================] - 0s 10ms/step - loss: 4.7167 - mae: 4.7167\n",
            "Epoch 95/100\n",
            "1/1 [==============================] - 0s 10ms/step - loss: 4.6979 - mae: 4.6979\n",
            "Epoch 96/100\n",
            "1/1 [==============================] - 0s 9ms/step - loss: 4.6794 - mae: 4.6794\n",
            "Epoch 97/100\n",
            "1/1 [==============================] - 0s 9ms/step - loss: 4.6640 - mae: 4.6640\n",
            "Epoch 98/100\n",
            "1/1 [==============================] - 0s 9ms/step - loss: 4.6498 - mae: 4.6498\n",
            "Epoch 99/100\n",
            "1/1 [==============================] - 0s 9ms/step - loss: 4.6340 - mae: 4.6340\n",
            "Epoch 100/100\n",
            "1/1 [==============================] - 0s 9ms/step - loss: 4.6170 - mae: 4.6170\n"
          ]
        },
        {
          "output_type": "execute_result",
          "data": {
            "text/plain": [
              "<keras.callbacks.History at 0x7f060e80eaa0>"
            ]
          },
          "metadata": {},
          "execution_count": 159
        }
      ]
    },
    {
      "cell_type": "code",
      "source": [
        "preds=model.predict([8.])"
      ],
      "metadata": {
        "colab": {
          "base_uri": "https://localhost:8080/"
        },
        "id": "rqr0-cixiqAj",
        "outputId": "e545150c-d2ce-4470-8935-7c9748e3dd5b"
      },
      "execution_count": null,
      "outputs": [
        {
          "output_type": "stream",
          "name": "stdout",
          "text": [
            "1/1 [==============================] - 0s 115ms/step\n"
          ]
        }
      ]
    },
    {
      "cell_type": "code",
      "source": [
        "np.median(preds)"
      ],
      "metadata": {
        "colab": {
          "base_uri": "https://localhost:8080/"
        },
        "id": "7BS4wArCi6eh",
        "outputId": "dc8219df-fae3-4638-b3ba-abcb9e334499"
      },
      "execution_count": null,
      "outputs": [
        {
          "output_type": "execute_result",
          "data": {
            "text/plain": [
              "18.075666"
            ]
          },
          "metadata": {},
          "execution_count": 161
        }
      ]
    },
    {
      "cell_type": "code",
      "source": [
        "model= tf.keras.Sequential()\n",
        "model.add(tf.keras.layers.Dense(100, activation='relu'))\n",
        "model.add(tf.keras.layers.Dense(100, activation=\"relu\"))\n",
        "model.add(tf.keras.layers.Dense(100, activation=\"relu\"))\n",
        "\n",
        "model.compile(loss=tf.keras.losses.mae,\n",
        "              optimizer=tf.keras.optimizers.Adam(learning_rate=.1))\n",
        "\n",
        "model.fit(tf.expand_dims(X, axis=-1), y, epochs=100)"
      ],
      "metadata": {
        "colab": {
          "base_uri": "https://localhost:8080/"
        },
        "id": "KBEgIEyzjSrJ",
        "outputId": "638ecfb5-57dd-42c5-f651-6b267f5d36b6"
      },
      "execution_count": null,
      "outputs": [
        {
          "output_type": "stream",
          "name": "stdout",
          "text": [
            "Epoch 1/100\n",
            "1/1 [==============================] - 1s 874ms/step - loss: 11.7409\n",
            "Epoch 2/100\n",
            "1/1 [==============================] - 0s 11ms/step - loss: 10.7635\n",
            "Epoch 3/100\n",
            "1/1 [==============================] - 0s 11ms/step - loss: 9.3584\n",
            "Epoch 4/100\n",
            "1/1 [==============================] - 0s 10ms/step - loss: 9.0810\n",
            "Epoch 5/100\n",
            "1/1 [==============================] - 0s 10ms/step - loss: 7.9962\n",
            "Epoch 6/100\n",
            "1/1 [==============================] - 0s 10ms/step - loss: 6.0507\n",
            "Epoch 7/100\n",
            "1/1 [==============================] - 0s 7ms/step - loss: 5.2982\n",
            "Epoch 8/100\n",
            "1/1 [==============================] - 0s 8ms/step - loss: 4.8420\n",
            "Epoch 9/100\n",
            "1/1 [==============================] - 0s 8ms/step - loss: 6.9044\n",
            "Epoch 10/100\n",
            "1/1 [==============================] - 0s 10ms/step - loss: 4.4074\n",
            "Epoch 11/100\n",
            "1/1 [==============================] - 0s 12ms/step - loss: 4.1378\n",
            "Epoch 12/100\n",
            "1/1 [==============================] - 0s 8ms/step - loss: 4.0268\n",
            "Epoch 13/100\n",
            "1/1 [==============================] - 0s 9ms/step - loss: 2.7138\n",
            "Epoch 14/100\n",
            "1/1 [==============================] - 0s 11ms/step - loss: 3.3295\n",
            "Epoch 15/100\n",
            "1/1 [==============================] - 0s 8ms/step - loss: 2.6900\n",
            "Epoch 16/100\n",
            "1/1 [==============================] - 0s 8ms/step - loss: 2.9419\n",
            "Epoch 17/100\n",
            "1/1 [==============================] - 0s 14ms/step - loss: 2.5877\n",
            "Epoch 18/100\n",
            "1/1 [==============================] - 0s 8ms/step - loss: 2.1002\n",
            "Epoch 19/100\n",
            "1/1 [==============================] - 0s 36ms/step - loss: 1.9731\n",
            "Epoch 20/100\n",
            "1/1 [==============================] - 0s 13ms/step - loss: 2.2396\n",
            "Epoch 21/100\n",
            "1/1 [==============================] - 0s 9ms/step - loss: 2.7012\n",
            "Epoch 22/100\n",
            "1/1 [==============================] - 0s 8ms/step - loss: 1.9216\n",
            "Epoch 23/100\n",
            "1/1 [==============================] - 0s 11ms/step - loss: 2.2547\n",
            "Epoch 24/100\n",
            "1/1 [==============================] - 0s 11ms/step - loss: 1.8660\n",
            "Epoch 25/100\n",
            "1/1 [==============================] - 0s 15ms/step - loss: 1.2770\n",
            "Epoch 26/100\n",
            "1/1 [==============================] - 0s 41ms/step - loss: 1.6877\n",
            "Epoch 27/100\n",
            "1/1 [==============================] - 0s 12ms/step - loss: 1.5830\n",
            "Epoch 28/100\n",
            "1/1 [==============================] - 0s 15ms/step - loss: 1.1405\n",
            "Epoch 29/100\n",
            "1/1 [==============================] - 0s 26ms/step - loss: 1.3421\n",
            "Epoch 30/100\n",
            "1/1 [==============================] - 0s 27ms/step - loss: 1.4463\n",
            "Epoch 31/100\n",
            "1/1 [==============================] - 0s 14ms/step - loss: 1.0239\n",
            "Epoch 32/100\n",
            "1/1 [==============================] - 0s 14ms/step - loss: 1.5779\n",
            "Epoch 33/100\n",
            "1/1 [==============================] - 0s 13ms/step - loss: 0.9437\n",
            "Epoch 34/100\n",
            "1/1 [==============================] - 0s 10ms/step - loss: 1.2140\n",
            "Epoch 35/100\n",
            "1/1 [==============================] - 0s 12ms/step - loss: 1.2447\n",
            "Epoch 36/100\n",
            "1/1 [==============================] - 0s 11ms/step - loss: 0.9093\n",
            "Epoch 37/100\n",
            "1/1 [==============================] - 0s 11ms/step - loss: 1.1968\n",
            "Epoch 38/100\n",
            "1/1 [==============================] - 0s 11ms/step - loss: 0.7457\n",
            "Epoch 39/100\n",
            "1/1 [==============================] - 0s 12ms/step - loss: 0.7237\n",
            "Epoch 40/100\n",
            "1/1 [==============================] - 0s 11ms/step - loss: 1.0138\n",
            "Epoch 41/100\n",
            "1/1 [==============================] - 0s 11ms/step - loss: 0.8796\n",
            "Epoch 42/100\n",
            "1/1 [==============================] - 0s 11ms/step - loss: 0.6288\n",
            "Epoch 43/100\n",
            "1/1 [==============================] - 0s 13ms/step - loss: 0.6533\n",
            "Epoch 44/100\n",
            "1/1 [==============================] - 0s 11ms/step - loss: 1.0057\n",
            "Epoch 45/100\n",
            "1/1 [==============================] - 0s 12ms/step - loss: 0.6367\n",
            "Epoch 46/100\n",
            "1/1 [==============================] - 0s 13ms/step - loss: 0.6263\n",
            "Epoch 47/100\n",
            "1/1 [==============================] - 0s 13ms/step - loss: 0.7200\n",
            "Epoch 48/100\n",
            "1/1 [==============================] - 0s 13ms/step - loss: 0.7066\n",
            "Epoch 49/100\n",
            "1/1 [==============================] - 0s 13ms/step - loss: 0.6118\n",
            "Epoch 50/100\n",
            "1/1 [==============================] - 0s 11ms/step - loss: 0.4822\n",
            "Epoch 51/100\n",
            "1/1 [==============================] - 0s 14ms/step - loss: 0.4461\n",
            "Epoch 52/100\n",
            "1/1 [==============================] - 0s 11ms/step - loss: 1.0218\n",
            "Epoch 53/100\n",
            "1/1 [==============================] - 0s 11ms/step - loss: 0.7786\n",
            "Epoch 54/100\n",
            "1/1 [==============================] - 0s 13ms/step - loss: 0.5490\n",
            "Epoch 55/100\n",
            "1/1 [==============================] - 0s 9ms/step - loss: 0.9726\n",
            "Epoch 56/100\n",
            "1/1 [==============================] - 0s 12ms/step - loss: 0.6290\n",
            "Epoch 57/100\n",
            "1/1 [==============================] - 0s 13ms/step - loss: 0.4900\n",
            "Epoch 58/100\n",
            "1/1 [==============================] - 0s 13ms/step - loss: 0.6352\n",
            "Epoch 59/100\n",
            "1/1 [==============================] - 0s 11ms/step - loss: 1.0474\n",
            "Epoch 60/100\n",
            "1/1 [==============================] - 0s 8ms/step - loss: 0.6202\n",
            "Epoch 61/100\n",
            "1/1 [==============================] - 0s 7ms/step - loss: 1.5493\n",
            "Epoch 62/100\n",
            "1/1 [==============================] - 0s 10ms/step - loss: 1.1608\n",
            "Epoch 63/100\n",
            "1/1 [==============================] - 0s 9ms/step - loss: 1.1372\n",
            "Epoch 64/100\n",
            "1/1 [==============================] - 0s 9ms/step - loss: 1.0918\n",
            "Epoch 65/100\n",
            "1/1 [==============================] - 0s 6ms/step - loss: 0.7985\n",
            "Epoch 66/100\n",
            "1/1 [==============================] - 0s 6ms/step - loss: 0.7406\n",
            "Epoch 67/100\n",
            "1/1 [==============================] - 0s 7ms/step - loss: 1.0483\n",
            "Epoch 68/100\n",
            "1/1 [==============================] - 0s 7ms/step - loss: 0.9231\n",
            "Epoch 69/100\n",
            "1/1 [==============================] - 0s 6ms/step - loss: 0.9663\n",
            "Epoch 70/100\n",
            "1/1 [==============================] - 0s 6ms/step - loss: 0.7448\n",
            "Epoch 71/100\n",
            "1/1 [==============================] - 0s 11ms/step - loss: 1.0943\n",
            "Epoch 72/100\n",
            "1/1 [==============================] - 0s 6ms/step - loss: 1.1435\n",
            "Epoch 73/100\n",
            "1/1 [==============================] - 0s 7ms/step - loss: 0.4657\n",
            "Epoch 74/100\n",
            "1/1 [==============================] - 0s 12ms/step - loss: 1.0097\n",
            "Epoch 75/100\n",
            "1/1 [==============================] - 0s 7ms/step - loss: 0.4080\n",
            "Epoch 76/100\n",
            "1/1 [==============================] - 0s 6ms/step - loss: 0.3633\n",
            "Epoch 77/100\n",
            "1/1 [==============================] - 0s 7ms/step - loss: 0.5219\n",
            "Epoch 78/100\n",
            "1/1 [==============================] - 0s 6ms/step - loss: 0.5919\n",
            "Epoch 79/100\n",
            "1/1 [==============================] - 0s 6ms/step - loss: 0.3226\n",
            "Epoch 80/100\n",
            "1/1 [==============================] - 0s 8ms/step - loss: 0.3193\n",
            "Epoch 81/100\n",
            "1/1 [==============================] - 0s 6ms/step - loss: 0.7003\n",
            "Epoch 82/100\n",
            "1/1 [==============================] - 0s 6ms/step - loss: 0.3231\n",
            "Epoch 83/100\n",
            "1/1 [==============================] - 0s 6ms/step - loss: 0.7735\n",
            "Epoch 84/100\n",
            "1/1 [==============================] - 0s 10ms/step - loss: 0.3353\n",
            "Epoch 85/100\n",
            "1/1 [==============================] - 0s 7ms/step - loss: 0.4043\n",
            "Epoch 86/100\n",
            "1/1 [==============================] - 0s 6ms/step - loss: 0.7043\n",
            "Epoch 87/100\n",
            "1/1 [==============================] - 0s 7ms/step - loss: 0.3126\n",
            "Epoch 88/100\n",
            "1/1 [==============================] - 0s 7ms/step - loss: 0.7901\n",
            "Epoch 89/100\n",
            "1/1 [==============================] - 0s 7ms/step - loss: 0.2720\n",
            "Epoch 90/100\n",
            "1/1 [==============================] - 0s 7ms/step - loss: 0.6504\n",
            "Epoch 91/100\n",
            "1/1 [==============================] - 0s 12ms/step - loss: 0.3203\n",
            "Epoch 92/100\n",
            "1/1 [==============================] - 0s 7ms/step - loss: 0.2481\n",
            "Epoch 93/100\n",
            "1/1 [==============================] - 0s 9ms/step - loss: 0.2631\n",
            "Epoch 94/100\n",
            "1/1 [==============================] - 0s 12ms/step - loss: 0.3717\n",
            "Epoch 95/100\n",
            "1/1 [==============================] - 0s 9ms/step - loss: 0.6129\n",
            "Epoch 96/100\n",
            "1/1 [==============================] - 0s 9ms/step - loss: 0.3736\n",
            "Epoch 97/100\n",
            "1/1 [==============================] - 0s 10ms/step - loss: 0.5952\n",
            "Epoch 98/100\n",
            "1/1 [==============================] - 0s 7ms/step - loss: 0.2460\n",
            "Epoch 99/100\n",
            "1/1 [==============================] - 0s 6ms/step - loss: 0.2983\n",
            "Epoch 100/100\n",
            "1/1 [==============================] - 0s 6ms/step - loss: 0.9248\n"
          ]
        },
        {
          "output_type": "execute_result",
          "data": {
            "text/plain": [
              "<keras.callbacks.History at 0x7f060faf81c0>"
            ]
          },
          "metadata": {},
          "execution_count": 162
        }
      ]
    },
    {
      "cell_type": "code",
      "source": [
        "model.predict([18.])"
      ],
      "metadata": {
        "colab": {
          "base_uri": "https://localhost:8080/"
        },
        "id": "IrYnwthNvbf1",
        "outputId": "18dada32-c154-4eda-bf51-0360cc00afbf"
      },
      "execution_count": null,
      "outputs": [
        {
          "output_type": "stream",
          "name": "stdout",
          "text": [
            "1/1 [==============================] - 0s 97ms/step\n"
          ]
        },
        {
          "output_type": "execute_result",
          "data": {
            "text/plain": [
              "array([[30.610806, 29.491703, 30.93083 , 28.513165, 31.744465, 29.433075,\n",
              "        29.715221, 32.09309 , 28.198448, 29.832153, 30.130396, 29.26178 ,\n",
              "        27.497663, 28.783537, 27.307253, 30.74146 , 30.83123 , 32.114986,\n",
              "        28.97984 , 29.288994, 30.782398, 31.020939, 29.496508, 30.188414,\n",
              "        27.939798, 27.716118, 30.434116, 30.743494, 27.969742, 31.522188,\n",
              "        30.13821 , 31.122875, 29.688911, 30.102028, 28.690653, 30.707586,\n",
              "        30.989496, 28.608078, 30.822731, 30.921638, 29.549957, 30.85514 ,\n",
              "        28.569826, 28.20118 , 28.109255, 27.504974, 30.795479, 29.737123,\n",
              "        30.527523, 30.709316, 28.894827, 30.330774, 29.96868 , 29.347126,\n",
              "        28.940186, 31.687872, 29.077223, 29.922619, 31.138693, 28.5974  ,\n",
              "        27.852745, 31.107239, 29.854694, 29.356606, 30.620813, 31.946177,\n",
              "        29.268974, 27.546848, 30.086628, 29.91529 , 30.1972  , 28.186886,\n",
              "        30.912262, 28.690992, 28.93637 , 31.155884, 29.975437, 29.564737,\n",
              "        31.210344, 30.890726, 29.832418, 29.722263, 30.04426 , 28.45015 ,\n",
              "        27.67893 , 27.166468, 29.007536, 32.152252, 29.29516 , 27.51314 ,\n",
              "        30.574924, 30.776619, 29.459099, 30.010082, 30.50425 , 28.2006  ,\n",
              "        31.047283, 28.016352, 28.836433, 31.109287]], dtype=float32)"
            ]
          },
          "metadata": {},
          "execution_count": 163
        }
      ]
    },
    {
      "cell_type": "code",
      "source": [
        "np.median(model.predict([18.]))"
      ],
      "metadata": {
        "colab": {
          "base_uri": "https://localhost:8080/"
        },
        "id": "Ohd0uZ9qv8SH",
        "outputId": "3300e2bc-0fb4-4891-c96d-0cc22bdafa94"
      },
      "execution_count": null,
      "outputs": [
        {
          "output_type": "stream",
          "name": "stdout",
          "text": [
            "1/1 [==============================] - 0s 38ms/step\n"
          ]
        },
        {
          "output_type": "execute_result",
          "data": {
            "text/plain": [
              "29.843555"
            ]
          },
          "metadata": {},
          "execution_count": 164
        }
      ]
    },
    {
      "cell_type": "code",
      "source": [
        "X= tf.range(-100,100,2)"
      ],
      "metadata": {
        "id": "JMLC2gymwDog"
      },
      "execution_count": null,
      "outputs": []
    },
    {
      "cell_type": "code",
      "source": [
        "y=X+10"
      ],
      "metadata": {
        "id": "zNflkucC1zd-"
      },
      "execution_count": null,
      "outputs": []
    },
    {
      "cell_type": "code",
      "source": [
        "X_train=X[:80]\n",
        "X_test=X[80:]\n",
        "y_train=y[:80]\n",
        "y_test=y[80:]"
      ],
      "metadata": {
        "id": "2L7DLwNh12tO"
      },
      "execution_count": null,
      "outputs": []
    },
    {
      "cell_type": "code",
      "source": [
        "X_train"
      ],
      "metadata": {
        "colab": {
          "base_uri": "https://localhost:8080/"
        },
        "id": "4eXpVhUC3IsX",
        "outputId": "609836d4-00fc-4d30-d05f-1db10dbb8e43"
      },
      "execution_count": null,
      "outputs": [
        {
          "output_type": "execute_result",
          "data": {
            "text/plain": [
              "<tf.Tensor: shape=(80,), dtype=int32, numpy=\n",
              "array([-100,  -98,  -96,  -94,  -92,  -90,  -88,  -86,  -84,  -82,  -80,\n",
              "        -78,  -76,  -74,  -72,  -70,  -68,  -66,  -64,  -62,  -60,  -58,\n",
              "        -56,  -54,  -52,  -50,  -48,  -46,  -44,  -42,  -40,  -38,  -36,\n",
              "        -34,  -32,  -30,  -28,  -26,  -24,  -22,  -20,  -18,  -16,  -14,\n",
              "        -12,  -10,   -8,   -6,   -4,   -2,    0,    2,    4,    6,    8,\n",
              "         10,   12,   14,   16,   18,   20,   22,   24,   26,   28,   30,\n",
              "         32,   34,   36,   38,   40,   42,   44,   46,   48,   50,   52,\n",
              "         54,   56,   58], dtype=int32)>"
            ]
          },
          "metadata": {},
          "execution_count": 168
        }
      ]
    },
    {
      "cell_type": "code",
      "source": [
        "y_train"
      ],
      "metadata": {
        "colab": {
          "base_uri": "https://localhost:8080/"
        },
        "id": "f6aDZC5j3Kju",
        "outputId": "8ff9455c-0e1b-4c4d-90a5-a70f4c6e5642"
      },
      "execution_count": null,
      "outputs": [
        {
          "output_type": "execute_result",
          "data": {
            "text/plain": [
              "<tf.Tensor: shape=(80,), dtype=int32, numpy=\n",
              "array([-90, -88, -86, -84, -82, -80, -78, -76, -74, -72, -70, -68, -66,\n",
              "       -64, -62, -60, -58, -56, -54, -52, -50, -48, -46, -44, -42, -40,\n",
              "       -38, -36, -34, -32, -30, -28, -26, -24, -22, -20, -18, -16, -14,\n",
              "       -12, -10,  -8,  -6,  -4,  -2,   0,   2,   4,   6,   8,  10,  12,\n",
              "        14,  16,  18,  20,  22,  24,  26,  28,  30,  32,  34,  36,  38,\n",
              "        40,  42,  44,  46,  48,  50,  52,  54,  56,  58,  60,  62,  64,\n",
              "        66,  68], dtype=int32)>"
            ]
          },
          "metadata": {},
          "execution_count": 169
        }
      ]
    },
    {
      "cell_type": "code",
      "source": [
        "X_train==y_train-10"
      ],
      "metadata": {
        "colab": {
          "base_uri": "https://localhost:8080/"
        },
        "id": "V9mzvZAz3cq3",
        "outputId": "ce362354-efda-4447-984c-f647f8644e28"
      },
      "execution_count": null,
      "outputs": [
        {
          "output_type": "execute_result",
          "data": {
            "text/plain": [
              "<tf.Tensor: shape=(80,), dtype=bool, numpy=\n",
              "array([ True,  True,  True,  True,  True,  True,  True,  True,  True,\n",
              "        True,  True,  True,  True,  True,  True,  True,  True,  True,\n",
              "        True,  True,  True,  True,  True,  True,  True,  True,  True,\n",
              "        True,  True,  True,  True,  True,  True,  True,  True,  True,\n",
              "        True,  True,  True,  True,  True,  True,  True,  True,  True,\n",
              "        True,  True,  True,  True,  True,  True,  True,  True,  True,\n",
              "        True,  True,  True,  True,  True,  True,  True,  True,  True,\n",
              "        True,  True,  True,  True,  True,  True,  True,  True,  True,\n",
              "        True,  True,  True,  True,  True,  True,  True,  True])>"
            ]
          },
          "metadata": {},
          "execution_count": 170
        }
      ]
    },
    {
      "cell_type": "code",
      "source": [
        "plt.figure(figsize=(10,7))\n",
        "plt.scatter(X_train, y_train, c='b', label=\"Training Data\")\n",
        "plt.scatter(X_test, y_test, c=\"g\", label=\"Test data\")\n",
        "plt.legend()"
      ],
      "metadata": {
        "colab": {
          "base_uri": "https://localhost:8080/",
          "height": 616
        },
        "id": "2PRxehGT3x41",
        "outputId": "44f969ac-4b30-4cf4-9a04-724bbd22de79"
      },
      "execution_count": null,
      "outputs": [
        {
          "output_type": "execute_result",
          "data": {
            "text/plain": [
              "<matplotlib.legend.Legend at 0x7f060e7bd270>"
            ]
          },
          "metadata": {},
          "execution_count": 171
        },
        {
          "output_type": "display_data",
          "data": {
            "text/plain": [
              "<Figure size 1000x700 with 1 Axes>"
            ],
            "image/png": "[encoded data removed]"
          },
          "metadata": {}
        }
      ]
    },
    {
      "cell_type": "code",
      "source": [
        "model=tf.keras.Sequential(name=\"Hehehe\")\n",
        "model.add(tf.keras.layers.Dense(50, activation=\"relu\"))\n",
        "model.add(tf.keras.layers.Dense(1, activation=None))\n",
        "\n",
        "\n",
        "model.compile(loss= tf.keras.losses.mae,\n",
        "              optimizer=tf.keras.optimizers.Adam(learning_rate=.1),\n",
        "              metrics=[\"mae\"])\n",
        "\n",
        "model.fit(tf.expand_dims(X_train, axis=-1), y_train, epochs=100, verbose=0)"
      ],
      "metadata": {
        "colab": {
          "base_uri": "https://localhost:8080/"
        },
        "id": "ySzBO31w40k0",
        "outputId": "6a2394f2-2e41-4c73-9c89-e4036dd536f6"
      },
      "execution_count": null,
      "outputs": [
        {
          "output_type": "execute_result",
          "data": {
            "text/plain": [
              "<keras.callbacks.History at 0x7f060e7bfd30>"
            ]
          },
          "metadata": {},
          "execution_count": 172
        }
      ]
    },
    {
      "cell_type": "code",
      "source": [
        "model.predict([18])"
      ],
      "metadata": {
        "colab": {
          "base_uri": "https://localhost:8080/"
        },
        "id": "beUHSdsx5ngy",
        "outputId": "441f91ce-5e7a-42f6-86bc-ff7ae14e3d80"
      },
      "execution_count": null,
      "outputs": [
        {
          "output_type": "stream",
          "name": "stdout",
          "text": [
            "1/1 [==============================] - 0s 72ms/step\n"
          ]
        },
        {
          "output_type": "execute_result",
          "data": {
            "text/plain": [
              "array([[26.272514]], dtype=float32)"
            ]
          },
          "metadata": {},
          "execution_count": 173
        }
      ]
    },
    {
      "cell_type": "code",
      "source": [
        "model.summary()"
      ],
      "metadata": {
        "colab": {
          "base_uri": "https://localhost:8080/"
        },
        "id": "woKwreLC6Zva",
        "outputId": "dc85223e-4227-46bb-8c3d-8c14a89a7fbe"
      },
      "execution_count": null,
      "outputs": [
        {
          "output_type": "stream",
          "name": "stdout",
          "text": [
            "Model: \"Hehehe\"\n",
            "_________________________________________________________________\n",
            " Layer (type)                Output Shape              Param #   \n",
            "=================================================================\n",
            " dense_35 (Dense)            (None, 50)                100       \n",
            "                                                                 \n",
            " dense_36 (Dense)            (None, 1)                 51        \n",
            "                                                                 \n",
            "=================================================================\n",
            "Total params: 151\n",
            "Trainable params: 151\n",
            "Non-trainable params: 0\n",
            "_________________________________________________________________\n"
          ]
        }
      ]
    },
    {
      "cell_type": "code",
      "source": [
        "from tensorflow.keras.utils import plot_model\n",
        "plot_model(model=model, show_shapes=True\n",
        "           )"
      ],
      "metadata": {
        "colab": {
          "base_uri": "https://localhost:8080/",
          "height": 312
        },
        "id": "Ac-BkPAE63wj",
        "outputId": "9c811e3e-e1e4-49b8-ca40-eb94e47351ba"
      },
      "execution_count": null,
      "outputs": [
        {
          "output_type": "execute_result",
          "data": {
            "image/png": "[encoded data removed]",
            "text/plain": [
              "<IPython.core.display.Image object>"
            ]
          },
          "metadata": {},
          "execution_count": 175
        }
      ]
    },
    {
      "cell_type": "markdown",
      "source": [
        "## Plotting predictions"
      ],
      "metadata": {
        "id": "5jD_sG-xSZKP"
      }
    },
    {
      "cell_type": "code",
      "source": [
        "def plot_preds(y_preds,X_train=X_train, X_test=X_test, y_train=y_train, y_test=y_test):\n",
        "  plt.figure(figsize=(10,5))\n",
        "  plt.scatter(X_train, y_train, c='b', label='Training Data')\n",
        "  plt.scatter(X_test, y_test, c=\"g\", label= 'Testing Data')\n",
        "  plt.scatter(X_test, y_preds, c=\"red\", label=\"Predictions\")\n",
        "  plt.legend();"
      ],
      "metadata": {
        "id": "udTkr0mzSb_j"
      },
      "execution_count": null,
      "outputs": []
    },
    {
      "cell_type": "code",
      "source": [
        "y_preds=model.predict(X_test)"
      ],
      "metadata": {
        "colab": {
          "base_uri": "https://localhost:8080/"
        },
        "id": "0tl1PsdyTECj",
        "outputId": "ddf2c41c-7e55-41b0-b558-d231ca05dde5"
      },
      "execution_count": null,
      "outputs": [
        {
          "output_type": "stream",
          "name": "stdout",
          "text": [
            "1/1 [==============================] - 0s 55ms/step\n"
          ]
        }
      ]
    },
    {
      "cell_type": "code",
      "source": [
        "len(y_preds)"
      ],
      "metadata": {
        "colab": {
          "base_uri": "https://localhost:8080/"
        },
        "id": "j9PF_QWyTQA-",
        "outputId": "05987f55-52d9-4a29-b576-49c7f38ba31c"
      },
      "execution_count": null,
      "outputs": [
        {
          "output_type": "execute_result",
          "data": {
            "text/plain": [
              "20"
            ]
          },
          "metadata": {},
          "execution_count": 178
        }
      ]
    },
    {
      "cell_type": "code",
      "source": [
        "y_preds=model.predict(X_test)"
      ],
      "metadata": {
        "colab": {
          "base_uri": "https://localhost:8080/"
        },
        "id": "fY2JA3aNTo5X",
        "outputId": "33c9ac31-f3cf-4f1a-b83a-d4bfbc8f6853"
      },
      "execution_count": null,
      "outputs": [
        {
          "output_type": "stream",
          "name": "stdout",
          "text": [
            "1/1 [==============================] - 0s 21ms/step\n"
          ]
        }
      ]
    },
    {
      "cell_type": "code",
      "source": [
        "y_test"
      ],
      "metadata": {
        "id": "VFbNAk6LXN3x",
        "outputId": "2dabaf80-9cbc-46cd-8df4-81fbd71c39e8",
        "colab": {
          "base_uri": "https://localhost:8080/"
        }
      },
      "execution_count": null,
      "outputs": [
        {
          "output_type": "execute_result",
          "data": {
            "text/plain": [
              "<tf.Tensor: shape=(20,), dtype=int32, numpy=\n",
              "array([ 70,  72,  74,  76,  78,  80,  82,  84,  86,  88,  90,  92,  94,\n",
              "        96,  98, 100, 102, 104, 106, 108], dtype=int32)>"
            ]
          },
          "metadata": {},
          "execution_count": 180
        }
      ]
    },
    {
      "cell_type": "markdown",
      "source": [
        "## Evaluating our model predictions with regression metrics:\n",
        "There are two main regression evaluation metrices:\n",
        "1. MAE(Mean Absolute error)\n",
        "2. MSE(Mean squared Error(Square of the average error(used to get rid of big errors)))"
      ],
      "metadata": {
        "id": "muNSd-WYXQ4E"
      }
    },
    {
      "cell_type": "code",
      "source": [
        "model.evaluate(X_test, y_test)"
      ],
      "metadata": {
        "colab": {
          "base_uri": "https://localhost:8080/"
        },
        "id": "iUUCZlMcfblL",
        "outputId": "635ad79f-448f-450d-a20b-e93a1f7ef37a"
      },
      "execution_count": null,
      "outputs": [
        {
          "output_type": "stream",
          "name": "stdout",
          "text": [
            "1/1 [==============================] - 0s 124ms/step - loss: 6.2404 - mae: 6.2404\n"
          ]
        },
        {
          "output_type": "execute_result",
          "data": {
            "text/plain": [
              "[6.240367889404297, 6.240367889404297]"
            ]
          },
          "metadata": {},
          "execution_count": 181
        }
      ]
    },
    {
      "cell_type": "code",
      "source": [
        "tf.keras.losses.mae(y_test, y_preds) #Gives a strange output becaue of one extra dimension of y_preds than y_test"
      ],
      "metadata": {
        "colab": {
          "base_uri": "https://localhost:8080/"
        },
        "id": "DYBYYkAVfhbX",
        "outputId": "4b32614b-2ca2-40fe-9e8c-aa0b1a0cadaf"
      },
      "execution_count": null,
      "outputs": [
        {
          "output_type": "execute_result",
          "data": {
            "text/plain": [
              "<tf.Tensor: shape=(20,), dtype=float32, numpy=\n",
              "array([23.840431 , 21.98787  , 20.1353   , 18.354458 , 16.743896 ,\n",
              "       15.303827 , 14.034358 , 12.935478 , 12.009037 , 11.266275 ,\n",
              "       10.693988 , 10.292181 , 10.060852 , 10.       , 10.109621 ,\n",
              "       10.389719 , 10.840289 , 11.4613495, 12.252914 , 13.214975 ],\n",
              "      dtype=float32)>"
            ]
          },
          "metadata": {},
          "execution_count": 182
        }
      ]
    },
    {
      "cell_type": "code",
      "source": [
        "tf.keras.losses.mae(y_true=y_test,\n",
        "                    y_pred=tf.squeeze(y_preds))"
      ],
      "metadata": {
        "colab": {
          "base_uri": "https://localhost:8080/"
        },
        "id": "ClsME20xf8_-",
        "outputId": "a112f153-ebda-4bff-9cd1-21fef9bafb59"
      },
      "execution_count": null,
      "outputs": [
        {
          "output_type": "execute_result",
          "data": {
            "text/plain": [
              "<tf.Tensor: shape=(), dtype=float32, numpy=6.240368>"
            ]
          },
          "metadata": {},
          "execution_count": 183
        }
      ]
    },
    {
      "cell_type": "code",
      "source": [
        "tf.keras.losses.mse(y_true=y_test,\n",
        "                    y_pred=tf.squeeze(y_preds))"
      ],
      "metadata": {
        "colab": {
          "base_uri": "https://localhost:8080/"
        },
        "id": "iL_POI1miGjz",
        "outputId": "ad7c831f-e419-4fb5-e977-f85670e9c1fc"
      },
      "execution_count": null,
      "outputs": [
        {
          "output_type": "execute_result",
          "data": {
            "text/plain": [
              "<tf.Tensor: shape=(), dtype=float32, numpy=39.6649>"
            ]
          },
          "metadata": {},
          "execution_count": 184
        }
      ]
    },
    {
      "cell_type": "code",
      "source": [
        "def evaluate(y_true, y_pred):\n",
        "  \"\"\"\n",
        "  Evaluates the model on regression metrices and returns MAE and MAE.\n",
        "\n",
        "  Parameters:\n",
        "  y_true: True labels\n",
        "  y_pred: Predicted labels\n",
        "  \"\"\"\n",
        "  mae= tf.keras.losses.mae(y_true, y_pred)\n",
        "  mse= tf.keras.losses.mse(y_true, y_pred)\n",
        "  print(f\"The Mean Absolute Error of the model is: {mae}.\")\n",
        "  print(f\"The Mean Squared Error of the model is: {mse}.\")\n",
        "  return mae.numpy(), mse.numpy()\n"
      ],
      "metadata": {
        "id": "UhWN8OJ-ibu7"
      },
      "execution_count": null,
      "outputs": []
    },
    {
      "cell_type": "markdown",
      "source": [
        "## Running Experiments to improve our model\n",
        "```\n",
        "Build a model -> Fit it -> Evaluate it -> Tweak it -> Fit it -> Evaluate it -> Tweak it -> Fit it -> Evaluate it....\n",
        "```\n",
        "1. Get more data\n",
        "2. Enlarge the model(More hidden layers, more units in each layer)\n",
        "3. Enlarge Model training (more epochs)\n",
        "\n",
        "## Modelling experiments\n",
        "We'll build 3 diff models to compare them and check how to improve them.\n",
        "* `model_1`: 1 layer with 100 epochs\n",
        "* `model_2` : 2 layers with 100 epochs . 1st layer with 50 hidden units\n",
        "* `model_3` : 2 layers with 200 epochs.\n"
      ],
      "metadata": {
        "id": "wfSN0Zo_kJ4g"
      }
    },
    {
      "cell_type": "markdown",
      "source": [
        "## `model_1`"
      ],
      "metadata": {
        "id": "z9SGAvJTkz93"
      }
    },
    {
      "cell_type": "code",
      "source": [
        "model_1 = tf.keras.Sequential()\n",
        "model.add(tf.keras.layers.Dense(1))\n",
        "\n",
        "model_1.compile(loss='mae',\n",
        "              optimizer= tf.keras.optimizers.SGD())\n",
        "\n",
        "model_1.fit(X_train, y_train, epochs=100)"
      ],
      "metadata": {
        "colab": {
          "base_uri": "https://localhost:8080/"
        },
        "id": "DW9Yt9KYtbrq",
        "outputId": "72e79b7a-143f-4856-ea3f-8320c01d7fc0"
      },
      "execution_count": null,
      "outputs": [
        {
          "output_type": "stream",
          "name": "stdout",
          "text": [
            "Epoch 1/100\n",
            "3/3 [==============================] - 0s 4ms/step - loss: 10.0000\n",
            "Epoch 2/100\n",
            "3/3 [==============================] - 0s 3ms/step - loss: 10.0000\n",
            "Epoch 3/100\n",
            "3/3 [==============================] - 0s 5ms/step - loss: 10.0000\n",
            "Epoch 4/100\n",
            "3/3 [==============================] - 0s 3ms/step - loss: 10.0000\n",
            "Epoch 5/100\n",
            "3/3 [==============================] - 0s 3ms/step - loss: 10.0000\n",
            "Epoch 6/100\n",
            "3/3 [==============================] - 0s 3ms/step - loss: 10.0000\n",
            "Epoch 7/100\n",
            "3/3 [==============================] - 0s 3ms/step - loss: 10.0000\n",
            "Epoch 8/100\n",
            "3/3 [==============================] - 0s 4ms/step - loss: 10.0000\n",
            "Epoch 9/100\n",
            "3/3 [==============================] - 0s 3ms/step - loss: 10.0000\n",
            "Epoch 10/100\n",
            "3/3 [==============================] - 0s 3ms/step - loss: 10.0000\n",
            "Epoch 11/100\n",
            "3/3 [==============================] - 0s 3ms/step - loss: 10.0000\n",
            "Epoch 12/100\n",
            "3/3 [==============================] - 0s 3ms/step - loss: 10.0000\n",
            "Epoch 13/100\n",
            "3/3 [==============================] - 0s 3ms/step - loss: 10.0000\n",
            "Epoch 14/100\n",
            "3/3 [==============================] - 0s 3ms/step - loss: 10.0000\n",
            "Epoch 15/100\n",
            "3/3 [==============================] - 0s 3ms/step - loss: 10.0000\n",
            "Epoch 16/100\n",
            "3/3 [==============================] - 0s 3ms/step - loss: 10.0000\n",
            "Epoch 17/100\n",
            "3/3 [==============================] - 0s 3ms/step - loss: 10.0000\n",
            "Epoch 18/100\n",
            "3/3 [==============================] - 0s 3ms/step - loss: 10.0000\n",
            "Epoch 19/100\n",
            "3/3 [==============================] - 0s 3ms/step - loss: 10.0000\n",
            "Epoch 20/100\n",
            "3/3 [==============================] - 0s 3ms/step - loss: 10.0000\n",
            "Epoch 21/100\n",
            "3/3 [==============================] - 0s 3ms/step - loss: 10.0000\n",
            "Epoch 22/100\n",
            "3/3 [==============================] - 0s 3ms/step - loss: 10.0000\n",
            "Epoch 23/100\n",
            "3/3 [==============================] - 0s 4ms/step - loss: 10.0000\n",
            "Epoch 24/100\n",
            "3/3 [==============================] - 0s 3ms/step - loss: 10.0000\n",
            "Epoch 25/100\n",
            "3/3 [==============================] - 0s 3ms/step - loss: 10.0000\n",
            "Epoch 26/100\n",
            "3/3 [==============================] - 0s 4ms/step - loss: 10.0000\n",
            "Epoch 27/100\n",
            "3/3 [==============================] - 0s 4ms/step - loss: 10.0000\n",
            "Epoch 28/100\n",
            "3/3 [==============================] - 0s 4ms/step - loss: 10.0000\n",
            "Epoch 29/100\n",
            "3/3 [==============================] - 0s 3ms/step - loss: 10.0000\n",
            "Epoch 30/100\n",
            "3/3 [==============================] - 0s 4ms/step - loss: 10.0000\n",
            "Epoch 31/100\n",
            "3/3 [==============================] - 0s 4ms/step - loss: 10.0000\n",
            "Epoch 32/100\n",
            "3/3 [==============================] - 0s 4ms/step - loss: 10.0000\n",
            "Epoch 33/100\n",
            "3/3 [==============================] - 0s 4ms/step - loss: 10.0000\n",
            "Epoch 34/100\n",
            "3/3 [==============================] - 0s 4ms/step - loss: 10.0000\n",
            "Epoch 35/100\n",
            "3/3 [==============================] - 0s 4ms/step - loss: 10.0000\n",
            "Epoch 36/100\n",
            "3/3 [==============================] - 0s 4ms/step - loss: 10.0000\n",
            "Epoch 37/100\n",
            "3/3 [==============================] - 0s 3ms/step - loss: 10.0000\n",
            "Epoch 38/100\n",
            "3/3 [==============================] - 0s 3ms/step - loss: 10.0000\n",
            "Epoch 39/100\n",
            "3/3 [==============================] - 0s 4ms/step - loss: 10.0000\n",
            "Epoch 40/100\n",
            "3/3 [==============================] - 0s 6ms/step - loss: 10.0000\n",
            "Epoch 41/100\n",
            "3/3 [==============================] - 0s 4ms/step - loss: 10.0000\n",
            "Epoch 42/100\n",
            "3/3 [==============================] - 0s 3ms/step - loss: 10.0000\n",
            "Epoch 43/100\n",
            "3/3 [==============================] - 0s 4ms/step - loss: 10.0000\n",
            "Epoch 44/100\n",
            "3/3 [==============================] - 0s 3ms/step - loss: 10.0000\n",
            "Epoch 45/100\n",
            "3/3 [==============================] - 0s 4ms/step - loss: 10.0000\n",
            "Epoch 46/100\n",
            "3/3 [==============================] - 0s 3ms/step - loss: 10.0000\n",
            "Epoch 47/100\n",
            "3/3 [==============================] - 0s 4ms/step - loss: 10.0000\n",
            "Epoch 48/100\n",
            "3/3 [==============================] - 0s 4ms/step - loss: 10.0000\n",
            "Epoch 49/100\n",
            "3/3 [==============================] - 0s 4ms/step - loss: 10.0000\n",
            "Epoch 50/100\n",
            "3/3 [==============================] - 0s 4ms/step - loss: 10.0000\n",
            "Epoch 51/100\n",
            "3/3 [==============================] - 0s 4ms/step - loss: 10.0000\n",
            "Epoch 52/100\n",
            "3/3 [==============================] - 0s 4ms/step - loss: 10.0000\n",
            "Epoch 53/100\n",
            "3/3 [==============================] - 0s 4ms/step - loss: 10.0000\n",
            "Epoch 54/100\n",
            "3/3 [==============================] - 0s 4ms/step - loss: 10.0000\n",
            "Epoch 55/100\n",
            "3/3 [==============================] - 0s 4ms/step - loss: 10.0000\n",
            "Epoch 56/100\n",
            "3/3 [==============================] - 0s 3ms/step - loss: 10.0000\n",
            "Epoch 57/100\n",
            "3/3 [==============================] - 0s 5ms/step - loss: 10.0000\n",
            "Epoch 58/100\n",
            "3/3 [==============================] - 0s 5ms/step - loss: 10.0000\n",
            "Epoch 59/100\n",
            "3/3 [==============================] - 0s 4ms/step - loss: 10.0000\n",
            "Epoch 60/100\n",
            "3/3 [==============================] - 0s 3ms/step - loss: 10.0000\n",
            "Epoch 61/100\n",
            "3/3 [==============================] - 0s 4ms/step - loss: 10.0000\n",
            "Epoch 62/100\n",
            "3/3 [==============================] - 0s 5ms/step - loss: 10.0000\n",
            "Epoch 63/100\n",
            "3/3 [==============================] - 0s 3ms/step - loss: 10.0000\n",
            "Epoch 64/100\n",
            "3/3 [==============================] - 0s 3ms/step - loss: 10.0000\n",
            "Epoch 65/100\n",
            "3/3 [==============================] - 0s 5ms/step - loss: 10.0000\n",
            "Epoch 66/100\n",
            "3/3 [==============================] - 0s 3ms/step - loss: 10.0000\n",
            "Epoch 67/100\n",
            "3/3 [==============================] - 0s 3ms/step - loss: 10.0000\n",
            "Epoch 68/100\n",
            "3/3 [==============================] - 0s 3ms/step - loss: 10.0000\n",
            "Epoch 69/100\n",
            "3/3 [==============================] - 0s 3ms/step - loss: 10.0000\n",
            "Epoch 70/100\n",
            "3/3 [==============================] - 0s 4ms/step - loss: 10.0000\n",
            "Epoch 71/100\n",
            "3/3 [==============================] - 0s 4ms/step - loss: 10.0000\n",
            "Epoch 72/100\n",
            "3/3 [==============================] - 0s 4ms/step - loss: 10.0000\n",
            "Epoch 73/100\n",
            "3/3 [==============================] - 0s 4ms/step - loss: 10.0000\n",
            "Epoch 74/100\n",
            "3/3 [==============================] - 0s 4ms/step - loss: 10.0000\n",
            "Epoch 75/100\n",
            "3/3 [==============================] - 0s 4ms/step - loss: 10.0000\n",
            "Epoch 76/100\n",
            "3/3 [==============================] - 0s 4ms/step - loss: 10.0000\n",
            "Epoch 77/100\n",
            "3/3 [==============================] - 0s 4ms/step - loss: 10.0000\n",
            "Epoch 78/100\n",
            "3/3 [==============================] - 0s 3ms/step - loss: 10.0000\n",
            "Epoch 79/100\n",
            "3/3 [==============================] - 0s 4ms/step - loss: 10.0000\n",
            "Epoch 80/100\n",
            "3/3 [==============================] - 0s 4ms/step - loss: 10.0000\n",
            "Epoch 81/100\n",
            "3/3 [==============================] - 0s 4ms/step - loss: 10.0000\n",
            "Epoch 82/100\n",
            "3/3 [==============================] - 0s 4ms/step - loss: 10.0000\n",
            "Epoch 83/100\n",
            "3/3 [==============================] - 0s 4ms/step - loss: 10.0000\n",
            "Epoch 84/100\n",
            "3/3 [==============================] - 0s 4ms/step - loss: 10.0000\n",
            "Epoch 85/100\n",
            "3/3 [==============================] - 0s 7ms/step - loss: 10.0000\n",
            "Epoch 86/100\n",
            "3/3 [==============================] - 0s 4ms/step - loss: 10.0000\n",
            "Epoch 87/100\n",
            "3/3 [==============================] - 0s 3ms/step - loss: 10.0000\n",
            "Epoch 88/100\n",
            "3/3 [==============================] - 0s 4ms/step - loss: 10.0000\n",
            "Epoch 89/100\n",
            "3/3 [==============================] - 0s 4ms/step - loss: 10.0000\n",
            "Epoch 90/100\n",
            "3/3 [==============================] - 0s 5ms/step - loss: 10.0000\n",
            "Epoch 91/100\n",
            "3/3 [==============================] - 0s 4ms/step - loss: 10.0000\n",
            "Epoch 92/100\n",
            "3/3 [==============================] - 0s 6ms/step - loss: 10.0000\n",
            "Epoch 93/100\n",
            "3/3 [==============================] - 0s 4ms/step - loss: 10.0000\n",
            "Epoch 94/100\n",
            "3/3 [==============================] - 0s 5ms/step - loss: 10.0000\n",
            "Epoch 95/100\n",
            "3/3 [==============================] - 0s 4ms/step - loss: 10.0000\n",
            "Epoch 96/100\n",
            "3/3 [==============================] - 0s 4ms/step - loss: 10.0000\n",
            "Epoch 97/100\n",
            "3/3 [==============================] - 0s 4ms/step - loss: 10.0000\n",
            "Epoch 98/100\n",
            "3/3 [==============================] - 0s 5ms/step - loss: 10.0000\n",
            "Epoch 99/100\n",
            "3/3 [==============================] - 0s 4ms/step - loss: 10.0000\n",
            "Epoch 100/100\n",
            "3/3 [==============================] - 0s 4ms/step - loss: 10.0000\n"
          ]
        },
        {
          "output_type": "execute_result",
          "data": {
            "text/plain": [
              "<keras.callbacks.History at 0x7f060e76eaa0>"
            ]
          },
          "metadata": {},
          "execution_count": 186
        }
      ]
    },
    {
      "cell_type": "code",
      "source": [
        "preds_1 = model_1.predict(X_test)"
      ],
      "metadata": {
        "colab": {
          "base_uri": "https://localhost:8080/"
        },
        "id": "FbQlbfP2t6Sg",
        "outputId": "afebd572-9fa6-4667-9b41-acafe03ab1c1"
      },
      "execution_count": null,
      "outputs": [
        {
          "output_type": "stream",
          "name": "stdout",
          "text": [
            "1/1 [==============================] - 0s 35ms/step\n"
          ]
        }
      ]
    },
    {
      "cell_type": "markdown",
      "source": [
        "## `model_2`"
      ],
      "metadata": {
        "id": "D3F1t0k8uLwu"
      }
    },
    {
      "cell_type": "code",
      "source": [
        "model_2 = tf.keras.Sequential()\n",
        "model_2.add(tf.keras.layers.Dense(50))\n",
        "model_2.add(tf.keras.layers.Dense(1))\n",
        "\n",
        "model_2.compile(loss=\"mae\",\n",
        "              optimizer= tf.keras.optimizers.SGD())\n",
        "\n",
        "model_2.fit(tf.expand_dims(X_train,axis=-1), y_train, epochs=100, verbose=0)"
      ],
      "metadata": {
        "colab": {
          "base_uri": "https://localhost:8080/"
        },
        "id": "H4ZaELnovaVP",
        "outputId": "0dbb2c8e-015b-4aee-e52c-cca90c66c86c"
      },
      "execution_count": null,
      "outputs": [
        {
          "output_type": "execute_result",
          "data": {
            "text/plain": [
              "<keras.callbacks.History at 0x7f0615e30580>"
            ]
          },
          "metadata": {},
          "execution_count": 188
        }
      ]
    },
    {
      "cell_type": "code",
      "source": [
        "preds_2= model_2.predict(tf.expand_dims(X_test, axis=-1))"
      ],
      "metadata": {
        "colab": {
          "base_uri": "https://localhost:8080/"
        },
        "id": "r8K5Iz-Pv4DX",
        "outputId": "ecbb270b-41fa-4b0a-b748-426d600772d5"
      },
      "execution_count": null,
      "outputs": [
        {
          "output_type": "stream",
          "name": "stdout",
          "text": [
            "1/1 [==============================] - 0s 74ms/step\n"
          ]
        }
      ]
    },
    {
      "cell_type": "markdown",
      "source": [
        "## `model_3`"
      ],
      "metadata": {
        "id": "q-8wjKoJv8Ke"
      }
    },
    {
      "cell_type": "code",
      "source": [
        "model_3= tf.keras.Sequential()\n",
        "model_3.add(tf.keras.layers.Dense(50))\n",
        "model_3.add(tf.keras.layers.Dense(1))\n",
        "\n",
        "model_3.compile(loss=\"mae\",\n",
        "                optimizer=tf.keras.optimizers.SGD())\n",
        "\n",
        "model_3.fit(tf.expand_dims(X_train,axis=-1), y_train, epochs=200, verbose=0)"
      ],
      "metadata": {
        "colab": {
          "base_uri": "https://localhost:8080/"
        },
        "id": "lyyYleh_wdlo",
        "outputId": "92581213-3b15-43e2-ee3c-fd6c9715b4d8"
      },
      "execution_count": null,
      "outputs": [
        {
          "output_type": "execute_result",
          "data": {
            "text/plain": [
              "<keras.callbacks.History at 0x7f0615ec31f0>"
            ]
          },
          "metadata": {},
          "execution_count": 190
        }
      ]
    },
    {
      "cell_type": "code",
      "source": [
        "preds_3=model_3.predict(X_test)"
      ],
      "metadata": {
        "colab": {
          "base_uri": "https://localhost:8080/"
        },
        "id": "F95EdBDtw7em",
        "outputId": "6d79920d-715d-4407-d726-9f634a413177"
      },
      "execution_count": null,
      "outputs": [
        {
          "output_type": "stream",
          "name": "stdout",
          "text": [
            "1/1 [==============================] - 0s 75ms/step\n"
          ]
        }
      ]
    },
    {
      "cell_type": "code",
      "source": [
        "model_1_mae, model_1_mse = evaluate(y_test,preds_1)\n",
        "model_2_mae, model_2_mse= evaluate(y_test, tf.squeeze(preds_2,axis=-1))\n",
        "model_3_mae, model_3_mse=evaluate(y_test, tf.squeeze(preds_3,axis=-1))"
      ],
      "metadata": {
        "colab": {
          "base_uri": "https://localhost:8080/"
        },
        "id": "6sbqxnN6xIdg",
        "outputId": "29636b08-0298-4d91-9a41-f6917ab4e409"
      },
      "execution_count": null,
      "outputs": [
        {
          "output_type": "stream",
          "name": "stdout",
          "text": [
            "The Mean Absolute Error of the model is: 10.\n",
            "The Mean Squared Error of the model is: 100.\n",
            "The Mean Absolute Error of the model is: 49.7374382019043.\n",
            "The Mean Squared Error of the model is: 2511.28173828125.\n",
            "The Mean Absolute Error of the model is: 4.436951160430908.\n",
            "The Mean Squared Error of the model is: 19.704517364501953.\n"
          ]
        }
      ]
    },
    {
      "cell_type": "code",
      "source": [
        "import pandas as pd"
      ],
      "metadata": {
        "id": "WUropHYrybcw"
      },
      "execution_count": null,
      "outputs": []
    },
    {
      "cell_type": "code",
      "source": [
        "scores_list=[[\"model_1\", model_1_mae, model_2_mse],\n",
        "             [\"model_2\", model_2_mae, model_2_mse],\n",
        "             [\"model_3\", model_3_mae, model_3_mse]]"
      ],
      "metadata": {
        "id": "qeQBRGGJ5kNv"
      },
      "execution_count": null,
      "outputs": []
    },
    {
      "cell_type": "code",
      "source": [
        "df = pd.DataFrame(data=scores_list, columns=[\"Model\", \"MAE\", \"MSE\"])"
      ],
      "metadata": {
        "id": "kMPcF0qd0LWs"
      },
      "execution_count": null,
      "outputs": []
    },
    {
      "cell_type": "code",
      "source": [
        "df"
      ],
      "metadata": {
        "colab": {
          "base_uri": "https://localhost:8080/",
          "height": 143
        },
        "id": "BmupbcoL0TvJ",
        "outputId": "6a58610e-2e77-4a67-9b47-ff0b5852c1db"
      },
      "execution_count": null,
      "outputs": [
        {
          "output_type": "execute_result",
          "data": {
            "text/plain": [
              "     Model        MAE          MSE\n",
              "0  model_1  10.000000  2511.281738\n",
              "1  model_2  49.737438  2511.281738\n",
              "2  model_3   4.436951    19.704517"
            ],
            "text/html": [
              "\n",
              "  <div id=\"df-02d579ed-c2bb-4666-8219-6543927593b2\">\n",
              "    <div class=\"colab-df-container\">\n",
              "      <div>\n",
              "<style scoped>\n",
              "    .dataframe tbody tr th:only-of-type {\n",
              "        vertical-align: middle;\n",
              "    }\n",
              "\n",
              "    .dataframe tbody tr th {\n",
              "        vertical-align: top;\n",
              "    }\n",
              "\n",
              "    .dataframe thead th {\n",
              "        text-align: right;\n",
              "    }\n",
              "</style>\n",
              "<table border=\"1\" class=\"dataframe\">\n",
              "  <thead>\n",
              "    <tr style=\"text-align: right;\">\n",
              "      <th></th>\n",
              "      <th>Model</th>\n",
              "      <th>MAE</th>\n",
              "      <th>MSE</th>\n",
              "    </tr>\n",
              "  </thead>\n",
              "  <tbody>\n",
              "    <tr>\n",
              "      <th>0</th>\n",
              "      <td>model_1</td>\n",
              "      <td>10.000000</td>\n",
              "      <td>2511.281738</td>\n",
              "    </tr>\n",
              "    <tr>\n",
              "      <th>1</th>\n",
              "      <td>model_2</td>\n",
              "      <td>49.737438</td>\n",
              "      <td>2511.281738</td>\n",
              "    </tr>\n",
              "    <tr>\n",
              "      <th>2</th>\n",
              "      <td>model_3</td>\n",
              "      <td>4.436951</td>\n",
              "      <td>19.704517</td>\n",
              "    </tr>\n",
              "  </tbody>\n",
              "</table>\n",
              "</div>\n",
              "      <button class=\"colab-df-convert\" onclick=\"convertToInteractive('df-02d579ed-c2bb-4666-8219-6543927593b2')\"\n",
              "              title=\"Convert this dataframe to an interactive table.\"\n",
              "              style=\"display:none;\">\n",
              "        \n",
              "  <svg xmlns=\"http://www.w3.org/2000/svg\" height=\"24px\"viewBox=\"0 0 24 24\"\n",
              "       width=\"24px\">\n",
              "    <path d=\"M0 0h24v24H0V0z\" fill=\"none\"/>\n",
              "    <path d=\"M18.56 5.44l.94 2.06.94-2.06 2.06-.94-2.06-.94-.94-2.06-.94 2.06-2.06.94zm-11 1L8.5 8.5l.94-2.06 2.06-.94-2.06-.94L8.5 2.5l-.94 2.06-2.06.94zm10 10l.94 2.06.94-2.06 2.06-.94-2.06-.94-.94-2.06-.94 2.06-2.06.94z\"/><path d=\"M17.41 7.96l-1.37-1.37c-.4-.4-.92-.59-1.43-.59-.52 0-1.04.2-1.43.59L10.3 9.45l-7.72 7.72c-.78.78-.78 2.05 0 2.83L4 21.41c.39.39.9.59 1.41.59.51 0 1.02-.2 1.41-.59l7.78-7.78 2.81-2.81c.8-.78.8-2.07 0-2.86zM5.41 20L4 18.59l7.72-7.72 1.47 1.35L5.41 20z\"/>\n",
              "  </svg>\n",
              "      </button>\n",
              "      \n",
              "  <style>\n",
              "    .colab-df-container {\n",
              "      display:flex;\n",
              "      flex-wrap:wrap;\n",
              "      gap: 12px;\n",
              "    }\n",
              "\n",
              "    .colab-df-convert {\n",
              "      background-color: #E8F0FE;\n",
              "      border: none;\n",
              "      border-radius: 50%;\n",
              "      cursor: pointer;\n",
              "      display: none;\n",
              "      fill: #1967D2;\n",
              "      height: 32px;\n",
              "      padding: 0 0 0 0;\n",
              "      width: 32px;\n",
              "    }\n",
              "\n",
              "    .colab-df-convert:hover {\n",
              "      background-color: #E2EBFA;\n",
              "      box-shadow: 0px 1px 2px rgba(60, 64, 67, 0.3), 0px 1px 3px 1px rgba(60, 64, 67, 0.15);\n",
              "      fill: #174EA6;\n",
              "    }\n",
              "\n",
              "    [theme=dark] .colab-df-convert {\n",
              "      background-color: #3B4455;\n",
              "      fill: #D2E3FC;\n",
              "    }\n",
              "\n",
              "    [theme=dark] .colab-df-convert:hover {\n",
              "      background-color: #434B5C;\n",
              "      box-shadow: 0px 1px 3px 1px rgba(0, 0, 0, 0.15);\n",
              "      filter: drop-shadow(0px 1px 2px rgba(0, 0, 0, 0.3));\n",
              "      fill: #FFFFFF;\n",
              "    }\n",
              "  </style>\n",
              "\n",
              "      <script>\n",
              "        const buttonEl =\n",
              "          document.querySelector('#df-02d579ed-c2bb-4666-8219-6543927593b2 button.colab-df-convert');\n",
              "        buttonEl.style.display =\n",
              "          google.colab.kernel.accessAllowed ? 'block' : 'none';\n",
              "\n",
              "        async function convertToInteractive(key) {\n",
              "          const element = document.querySelector('#df-02d579ed-c2bb-4666-8219-6543927593b2');\n",
              "          const dataTable =\n",
              "            await google.colab.kernel.invokeFunction('convertToInteractive',\n",
              "                                                     [key], {});\n",
              "          if (!dataTable) return;\n",
              "\n",
              "          const docLinkHtml = 'Like what you see? Visit the ' +\n",
              "            '<a target=\"_blank\" href=https://colab.research.google.com/notebooks/data_table.ipynb>data table notebook</a>'\n",
              "            + ' to learn more about interactive tables.';\n",
              "          element.innerHTML = '';\n",
              "          dataTable['output_type'] = 'display_data';\n",
              "          await google.colab.output.renderOutput(dataTable, element);\n",
              "          const docLink = document.createElement('div');\n",
              "          docLink.innerHTML = docLinkHtml;\n",
              "          element.appendChild(docLink);\n",
              "        }\n",
              "      </script>\n",
              "    </div>\n",
              "  </div>\n",
              "  "
            ]
          },
          "metadata": {},
          "execution_count": 196
        }
      ]
    },
    {
      "cell_type": "code",
      "source": [
        "plot_preds"
      ],
      "metadata": {
        "colab": {
          "base_uri": "https://localhost:8080/"
        },
        "id": "ss0S0S_n0VIZ",
        "outputId": "d0fa27cb-edff-4dc2-f5e5-98fba57e85ef"
      },
      "execution_count": null,
      "outputs": [
        {
          "output_type": "execute_result",
          "data": {
            "text/plain": [
              "<function __main__.plot_preds(y_preds, X_train=<tf.Tensor: shape=(80,), dtype=int32, numpy=\n",
              "array([-100,  -98,  -96,  -94,  -92,  -90,  -88,  -86,  -84,  -82,  -80,\n",
              "        -78,  -76,  -74,  -72,  -70,  -68,  -66,  -64,  -62,  -60,  -58,\n",
              "        -56,  -54,  -52,  -50,  -48,  -46,  -44,  -42,  -40,  -38,  -36,\n",
              "        -34,  -32,  -30,  -28,  -26,  -24,  -22,  -20,  -18,  -16,  -14,\n",
              "        -12,  -10,   -8,   -6,   -4,   -2,    0,    2,    4,    6,    8,\n",
              "         10,   12,   14,   16,   18,   20,   22,   24,   26,   28,   30,\n",
              "         32,   34,   36,   38,   40,   42,   44,   46,   48,   50,   52,\n",
              "         54,   56,   58], dtype=int32)>, X_test=<tf.Tensor: shape=(20,), dtype=int32, numpy=\n",
              "array([60, 62, 64, 66, 68, 70, 72, 74, 76, 78, 80, 82, 84, 86, 88, 90, 92,\n",
              "       94, 96, 98], dtype=int32)>, y_train=<tf.Tensor: shape=(80,), dtype=int32, numpy=\n",
              "array([-90, -88, -86, -84, -82, -80, -78, -76, -74, -72, -70, -68, -66,\n",
              "       -64, -62, -60, -58, -56, -54, -52, -50, -48, -46, -44, -42, -40,\n",
              "       -38, -36, -34, -32, -30, -28, -26, -24, -22, -20, -18, -16, -14,\n",
              "       -12, -10,  -8,  -6,  -4,  -2,   0,   2,   4,   6,   8,  10,  12,\n",
              "        14,  16,  18,  20,  22,  24,  26,  28,  30,  32,  34,  36,  38,\n",
              "        40,  42,  44,  46,  48,  50,  52,  54,  56,  58,  60,  62,  64,\n",
              "        66,  68], dtype=int32)>, y_test=<tf.Tensor: shape=(20,), dtype=int32, numpy=\n",
              "array([ 70,  72,  74,  76,  78,  80,  82,  84,  86,  88,  90,  92,  94,\n",
              "        96,  98, 100, 102, 104, 106, 108], dtype=int32)>)>"
            ]
          },
          "metadata": {},
          "execution_count": 197
        }
      ]
    },
    {
      "cell_type": "code",
      "source": [
        "plot_preds(preds_1)"
      ],
      "metadata": {
        "colab": {
          "base_uri": "https://localhost:8080/",
          "height": 445
        },
        "id": "d8cUhLX30iE3",
        "outputId": "12f555f0-60da-462c-e912-b92dcd447ae1"
      },
      "execution_count": null,
      "outputs": [
        {
          "output_type": "display_data",
          "data": {
            "text/plain": [
              "<Figure size 1000x500 with 1 Axes>"
            ],
            "image/png": "[encoded data removed]"
          },
          "metadata": {}
        }
      ]
    },
    {
      "cell_type": "code",
      "source": [
        "plot_preds(preds_2)"
      ],
      "metadata": {
        "colab": {
          "base_uri": "https://localhost:8080/",
          "height": 445
        },
        "id": "VMujPzlD6zwm",
        "outputId": "3ed4a4c6-9e68-4103-9cd7-421e792b7b7a"
      },
      "execution_count": null,
      "outputs": [
        {
          "output_type": "display_data",
          "data": {
            "text/plain": [
              "<Figure size 1000x500 with 1 Axes>"
            ],
            "image/png": "[encoded data removed]"
          },
          "metadata": {}
        }
      ]
    },
    {
      "cell_type": "code",
      "source": [
        "plot_preds(preds_3)"
      ],
      "metadata": {
        "colab": {
          "base_uri": "https://localhost:8080/",
          "height": 445
        },
        "id": "jk12jURp64do",
        "outputId": "cad82bbd-1996-4c9e-efab-5bfc62681d90"
      },
      "execution_count": null,
      "outputs": [
        {
          "output_type": "display_data",
          "data": {
            "text/plain": [
              "<Figure size 1000x500 with 1 Axes>"
            ],
            "image/png": "[encoded data removed]"
          },
          "metadata": {}
        }
      ]
    },
    {
      "cell_type": "markdown",
      "source": [
        "## Saving and Loading a model"
      ],
      "metadata": {
        "id": "81O59woX67mr"
      }
    },
    {
      "cell_type": "markdown",
      "source": [
        "### 1. Savedmodelformat method"
      ],
      "metadata": {
        "id": "0TeVMyxP7Fgz"
      }
    },
    {
      "cell_type": "code",
      "source": [
        "model_1.save(\"SavedModelMethod_model_1\")"
      ],
      "metadata": {
        "colab": {
          "base_uri": "https://localhost:8080/"
        },
        "id": "Q3Gmnvq97LzA",
        "outputId": "1225f211-f37a-4011-dbf3-9413d6bff930"
      },
      "execution_count": null,
      "outputs": [
        {
          "output_type": "stream",
          "name": "stderr",
          "text": [
            "WARNING:absl:Found untraced functions such as _update_step_xla while saving (showing 1 of 1). These functions will not be directly callable after loading.\n"
          ]
        }
      ]
    },
    {
      "cell_type": "markdown",
      "source": [
        "### 2. HD5 format"
      ],
      "metadata": {
        "id": "b4TjcFpV7zwo"
      }
    },
    {
      "cell_type": "code",
      "source": [
        "model_1.save(\"model_1.h5\")"
      ],
      "metadata": {
        "id": "9s4sva4r8ExF"
      },
      "execution_count": null,
      "outputs": []
    },
    {
      "cell_type": "markdown",
      "source": [
        "### Loading Model"
      ],
      "metadata": {
        "id": "S4pS4DN18K2v"
      }
    },
    {
      "cell_type": "code",
      "source": [
        "loaded_model= tf.keras.models.load_model(\"model_1.h5\")"
      ],
      "metadata": {
        "id": "96unTvVP8OAX"
      },
      "execution_count": null,
      "outputs": []
    },
    {
      "cell_type": "code",
      "source": [
        "# loaded_model_2= tf.keras.models.load_model(\"/content/SavedModelMethod_model_1\") # will figure this out later"
      ],
      "metadata": {
        "id": "x1uvjo-O89Hj"
      },
      "execution_count": null,
      "outputs": []
    },
    {
      "cell_type": "markdown",
      "source": [
        "### comparing both models before and after saving"
      ],
      "metadata": {
        "id": "pF6-eptF92sg"
      }
    },
    {
      "cell_type": "code",
      "source": [
        "preds_1==loaded_model.predict(X_test)"
      ],
      "metadata": {
        "colab": {
          "base_uri": "https://localhost:8080/"
        },
        "id": "J4S2ShMR-OAU",
        "outputId": "aabde45e-176b-4aa4-c79f-4da19bac5a92"
      },
      "execution_count": null,
      "outputs": [
        {
          "output_type": "stream",
          "name": "stdout",
          "text": [
            "1/1 [==============================] - 0s 109ms/step\n"
          ]
        },
        {
          "output_type": "execute_result",
          "data": {
            "text/plain": [
              "array([ True,  True,  True,  True,  True,  True,  True,  True,  True,\n",
              "        True,  True,  True,  True,  True,  True,  True,  True,  True,\n",
              "        True,  True])"
            ]
          },
          "metadata": {},
          "execution_count": 205
        }
      ]
    },
    {
      "cell_type": "markdown",
      "source": [
        "## Download A model to computer\n",
        "There are 3 ways of doing this:\n",
        "1. Simply right click on the model and click download.\n",
        "2. use `google.colab.files` module\n",
        "3. copy the model to google drive"
      ],
      "metadata": {
        "id": "TNCHG9du-ZXw"
      }
    },
    {
      "cell_type": "code",
      "source": [
        "from google.colab import files"
      ],
      "metadata": {
        "id": "-waS4T-uA03n"
      },
      "execution_count": null,
      "outputs": []
    },
    {
      "cell_type": "code",
      "source": [
        "# files.download(\"/content/model_1.h5\")"
      ],
      "metadata": {
        "colab": {
          "base_uri": "https://localhost:8080/",
          "height": 17
        },
        "id": "YNMa7oFXBQKs",
        "outputId": "5e0435c9-b5c9-4526-96ff-04efca43e57e"
      },
      "execution_count": null,
      "outputs": [
        {
          "output_type": "display_data",
          "data": {
            "text/plain": [
              "<IPython.core.display.Javascript object>"
            ],
            "application/javascript": [
              "\n",
              "    async function download(id, filename, size) {\n",
              "      if (!google.colab.kernel.accessAllowed) {\n",
              "        return;\n",
              "      }\n",
              "      const div = document.createElement('div');\n",
              "      const label = document.createElement('label');\n",
              "      label.textContent = `Downloading \"${filename}\": `;\n",
              "      div.appendChild(label);\n",
              "      const progress = document.createElement('progress');\n",
              "      progress.max = size;\n",
              "      div.appendChild(progress);\n",
              "      document.body.appendChild(div);\n",
              "\n",
              "      const buffers = [];\n",
              "      let downloaded = 0;\n",
              "\n",
              "      const channel = await google.colab.kernel.comms.open(id);\n",
              "      // Send a message to notify the kernel that we're ready.\n",
              "      channel.send({})\n",
              "\n",
              "      for await (const message of channel.messages) {\n",
              "        // Send a message to notify the kernel that we're ready.\n",
              "        channel.send({})\n",
              "        if (message.buffers) {\n",
              "          for (const buffer of message.buffers) {\n",
              "            buffers.push(buffer);\n",
              "            downloaded += buffer.byteLength;\n",
              "            progress.value = downloaded;\n",
              "          }\n",
              "        }\n",
              "      }\n",
              "      const blob = new Blob(buffers, {type: 'application/binary'});\n",
              "      const a = document.createElement('a');\n",
              "      a.href = window.URL.createObjectURL(blob);\n",
              "      a.download = filename;\n",
              "      div.appendChild(a);\n",
              "      a.click();\n",
              "      div.remove();\n",
              "    }\n",
              "  "
            ]
          },
          "metadata": {}
        },
        {
          "output_type": "display_data",
          "data": {
            "text/plain": [
              "<IPython.core.display.Javascript object>"
            ],
            "application/javascript": [
              "download(\"download_34174cb6-578f-467d-84fe-b91af7bd1ffb\", \"model_1.h5\", 9144)"
            ]
          },
          "metadata": {}
        }
      ]
    },
    {
      "cell_type": "code",
      "source": [
        "# !cp /content/model_1.h5 /content/drive/MyDrive/models"
      ],
      "metadata": {
        "id": "rByQBfztBhUN"
      },
      "execution_count": null,
      "outputs": []
    },
    {
      "cell_type": "code",
      "source": [
        "# !ls /content/drive/MyDrive/models"
      ],
      "metadata": {
        "colab": {
          "base_uri": "https://localhost:8080/"
        },
        "id": "hKHBTMw4B7T_",
        "outputId": "7c49a0d3-82be-4c97-bdbc-51b9a7045d00"
      },
      "execution_count": null,
      "outputs": [
        {
          "output_type": "stream",
          "name": "stdout",
          "text": [
            "model_1.h5\n"
          ]
        }
      ]
    },
    {
      "cell_type": "markdown",
      "source": [
        "# A Larger Example"
      ],
      "metadata": {
        "id": "997QJcb5CAdP"
      }
    },
    {
      "cell_type": "code",
      "source": [
        "insurance=pd.read_csv(\"https://raw.githubusercontent.com/stedy/Machine-Learning-with-R-datasets/master/insurance.csv\")\n",
        "insurance"
      ],
      "metadata": {
        "colab": {
          "base_uri": "https://localhost:8080/",
          "height": 424
        },
        "id": "8EGUZFH6HvWq",
        "outputId": "0e3b2473-1995-459e-8ea6-afb314163f31"
      },
      "execution_count": null,
      "outputs": [
        {
          "output_type": "execute_result",
          "data": {
            "text/plain": [
              "      age     sex     bmi  children smoker     region      charges\n",
              "0      19  female  27.900         0    yes  southwest  16884.92400\n",
              "1      18    male  33.770         1     no  southeast   1725.55230\n",
              "2      28    male  33.000         3     no  southeast   4449.46200\n",
              "3      33    male  22.705         0     no  northwest  21984.47061\n",
              "4      32    male  28.880         0     no  northwest   3866.85520\n",
              "...   ...     ...     ...       ...    ...        ...          ...\n",
              "1333   50    male  30.970         3     no  northwest  10600.54830\n",
              "1334   18  female  31.920         0     no  northeast   2205.98080\n",
              "1335   18  female  36.850         0     no  southeast   1629.83350\n",
              "1336   21  female  25.800         0     no  southwest   2007.94500\n",
              "1337   61  female  29.070         0    yes  northwest  29141.36030\n",
              "\n",
              "[1338 rows x 7 columns]"
            ],
            "text/html": [
              "\n",
              "  <div id=\"df-0e304eee-2b42-4b84-bc9f-db41b9f722a3\">\n",
              "    <div class=\"colab-df-container\">\n",
              "      <div>\n",
              "<style scoped>\n",
              "    .dataframe tbody tr th:only-of-type {\n",
              "        vertical-align: middle;\n",
              "    }\n",
              "\n",
              "    .dataframe tbody tr th {\n",
              "        vertical-align: top;\n",
              "    }\n",
              "\n",
              "    .dataframe thead th {\n",
              "        text-align: right;\n",
              "    }\n",
              "</style>\n",
              "<table border=\"1\" class=\"dataframe\">\n",
              "  <thead>\n",
              "    <tr style=\"text-align: right;\">\n",
              "      <th></th>\n",
              "      <th>age</th>\n",
              "      <th>sex</th>\n",
              "      <th>bmi</th>\n",
              "      <th>children</th>\n",
              "      <th>smoker</th>\n",
              "      <th>region</th>\n",
              "      <th>charges</th>\n",
              "    </tr>\n",
              "  </thead>\n",
              "  <tbody>\n",
              "    <tr>\n",
              "      <th>0</th>\n",
              "      <td>19</td>\n",
              "      <td>female</td>\n",
              "      <td>27.900</td>\n",
              "      <td>0</td>\n",
              "      <td>yes</td>\n",
              "      <td>southwest</td>\n",
              "      <td>16884.92400</td>\n",
              "    </tr>\n",
              "    <tr>\n",
              "      <th>1</th>\n",
              "      <td>18</td>\n",
              "      <td>male</td>\n",
              "      <td>33.770</td>\n",
              "      <td>1</td>\n",
              "      <td>no</td>\n",
              "      <td>southeast</td>\n",
              "      <td>1725.55230</td>\n",
              "    </tr>\n",
              "    <tr>\n",
              "      <th>2</th>\n",
              "      <td>28</td>\n",
              "      <td>male</td>\n",
              "      <td>33.000</td>\n",
              "      <td>3</td>\n",
              "      <td>no</td>\n",
              "      <td>southeast</td>\n",
              "      <td>4449.46200</td>\n",
              "    </tr>\n",
              "    <tr>\n",
              "      <th>3</th>\n",
              "      <td>33</td>\n",
              "      <td>male</td>\n",
              "      <td>22.705</td>\n",
              "      <td>0</td>\n",
              "      <td>no</td>\n",
              "      <td>northwest</td>\n",
              "      <td>21984.47061</td>\n",
              "    </tr>\n",
              "    <tr>\n",
              "      <th>4</th>\n",
              "      <td>32</td>\n",
              "      <td>male</td>\n",
              "      <td>28.880</td>\n",
              "      <td>0</td>\n",
              "      <td>no</td>\n",
              "      <td>northwest</td>\n",
              "      <td>3866.85520</td>\n",
              "    </tr>\n",
              "    <tr>\n",
              "      <th>...</th>\n",
              "      <td>...</td>\n",
              "      <td>...</td>\n",
              "      <td>...</td>\n",
              "      <td>...</td>\n",
              "      <td>...</td>\n",
              "      <td>...</td>\n",
              "      <td>...</td>\n",
              "    </tr>\n",
              "    <tr>\n",
              "      <th>1333</th>\n",
              "      <td>50</td>\n",
              "      <td>male</td>\n",
              "      <td>30.970</td>\n",
              "      <td>3</td>\n",
              "      <td>no</td>\n",
              "      <td>northwest</td>\n",
              "      <td>10600.54830</td>\n",
              "    </tr>\n",
              "    <tr>\n",
              "      <th>1334</th>\n",
              "      <td>18</td>\n",
              "      <td>female</td>\n",
              "      <td>31.920</td>\n",
              "      <td>0</td>\n",
              "      <td>no</td>\n",
              "      <td>northeast</td>\n",
              "      <td>2205.98080</td>\n",
              "    </tr>\n",
              "    <tr>\n",
              "      <th>1335</th>\n",
              "      <td>18</td>\n",
              "      <td>female</td>\n",
              "      <td>36.850</td>\n",
              "      <td>0</td>\n",
              "      <td>no</td>\n",
              "      <td>southeast</td>\n",
              "      <td>1629.83350</td>\n",
              "    </tr>\n",
              "    <tr>\n",
              "      <th>1336</th>\n",
              "      <td>21</td>\n",
              "      <td>female</td>\n",
              "      <td>25.800</td>\n",
              "      <td>0</td>\n",
              "      <td>no</td>\n",
              "      <td>southwest</td>\n",
              "      <td>2007.94500</td>\n",
              "    </tr>\n",
              "    <tr>\n",
              "      <th>1337</th>\n",
              "      <td>61</td>\n",
              "      <td>female</td>\n",
              "      <td>29.070</td>\n",
              "      <td>0</td>\n",
              "      <td>yes</td>\n",
              "      <td>northwest</td>\n",
              "      <td>29141.36030</td>\n",
              "    </tr>\n",
              "  </tbody>\n",
              "</table>\n",
              "<p>1338 rows × 7 columns</p>\n",
              "</div>\n",
              "      <button class=\"colab-df-convert\" onclick=\"convertToInteractive('df-0e304eee-2b42-4b84-bc9f-db41b9f722a3')\"\n",
              "              title=\"Convert this dataframe to an interactive table.\"\n",
              "              style=\"display:none;\">\n",
              "        \n",
              "  <svg xmlns=\"http://www.w3.org/2000/svg\" height=\"24px\"viewBox=\"0 0 24 24\"\n",
              "       width=\"24px\">\n",
              "    <path d=\"M0 0h24v24H0V0z\" fill=\"none\"/>\n",
              "    <path d=\"M18.56 5.44l.94 2.06.94-2.06 2.06-.94-2.06-.94-.94-2.06-.94 2.06-2.06.94zm-11 1L8.5 8.5l.94-2.06 2.06-.94-2.06-.94L8.5 2.5l-.94 2.06-2.06.94zm10 10l.94 2.06.94-2.06 2.06-.94-2.06-.94-.94-2.06-.94 2.06-2.06.94z\"/><path d=\"M17.41 7.96l-1.37-1.37c-.4-.4-.92-.59-1.43-.59-.52 0-1.04.2-1.43.59L10.3 9.45l-7.72 7.72c-.78.78-.78 2.05 0 2.83L4 21.41c.39.39.9.59 1.41.59.51 0 1.02-.2 1.41-.59l7.78-7.78 2.81-2.81c.8-.78.8-2.07 0-2.86zM5.41 20L4 18.59l7.72-7.72 1.47 1.35L5.41 20z\"/>\n",
              "  </svg>\n",
              "      </button>\n",
              "      \n",
              "  <style>\n",
              "    .colab-df-container {\n",
              "      display:flex;\n",
              "      flex-wrap:wrap;\n",
              "      gap: 12px;\n",
              "    }\n",
              "\n",
              "    .colab-df-convert {\n",
              "      background-color: #E8F0FE;\n",
              "      border: none;\n",
              "      border-radius: 50%;\n",
              "      cursor: pointer;\n",
              "      display: none;\n",
              "      fill: #1967D2;\n",
              "      height: 32px;\n",
              "      padding: 0 0 0 0;\n",
              "      width: 32px;\n",
              "    }\n",
              "\n",
              "    .colab-df-convert:hover {\n",
              "      background-color: #E2EBFA;\n",
              "      box-shadow: 0px 1px 2px rgba(60, 64, 67, 0.3), 0px 1px 3px 1px rgba(60, 64, 67, 0.15);\n",
              "      fill: #174EA6;\n",
              "    }\n",
              "\n",
              "    [theme=dark] .colab-df-convert {\n",
              "      background-color: #3B4455;\n",
              "      fill: #D2E3FC;\n",
              "    }\n",
              "\n",
              "    [theme=dark] .colab-df-convert:hover {\n",
              "      background-color: #434B5C;\n",
              "      box-shadow: 0px 1px 3px 1px rgba(0, 0, 0, 0.15);\n",
              "      filter: drop-shadow(0px 1px 2px rgba(0, 0, 0, 0.3));\n",
              "      fill: #FFFFFF;\n",
              "    }\n",
              "  </style>\n",
              "\n",
              "      <script>\n",
              "        const buttonEl =\n",
              "          document.querySelector('#df-0e304eee-2b42-4b84-bc9f-db41b9f722a3 button.colab-df-convert');\n",
              "        buttonEl.style.display =\n",
              "          google.colab.kernel.accessAllowed ? 'block' : 'none';\n",
              "\n",
              "        async function convertToInteractive(key) {\n",
              "          const element = document.querySelector('#df-0e304eee-2b42-4b84-bc9f-db41b9f722a3');\n",
              "          const dataTable =\n",
              "            await google.colab.kernel.invokeFunction('convertToInteractive',\n",
              "                                                     [key], {});\n",
              "          if (!dataTable) return;\n",
              "\n",
              "          const docLinkHtml = 'Like what you see? Visit the ' +\n",
              "            '<a target=\"_blank\" href=https://colab.research.google.com/notebooks/data_table.ipynb>data table notebook</a>'\n",
              "            + ' to learn more about interactive tables.';\n",
              "          element.innerHTML = '';\n",
              "          dataTable['output_type'] = 'display_data';\n",
              "          await google.colab.output.renderOutput(dataTable, element);\n",
              "          const docLink = document.createElement('div');\n",
              "          docLink.innerHTML = docLinkHtml;\n",
              "          element.appendChild(docLink);\n",
              "        }\n",
              "      </script>\n",
              "    </div>\n",
              "  </div>\n",
              "  "
            ]
          },
          "metadata": {},
          "execution_count": 213
        }
      ]
    },
    {
      "cell_type": "code",
      "source": [
        "insurance.info()"
      ],
      "metadata": {
        "colab": {
          "base_uri": "https://localhost:8080/"
        },
        "id": "vbnIBRxCH1Zj",
        "outputId": "32bbcf07-c7a7-4a2b-c666-7cd405865fe5"
      },
      "execution_count": null,
      "outputs": [
        {
          "output_type": "stream",
          "name": "stdout",
          "text": [
            "<class 'pandas.core.frame.DataFrame'>\n",
            "RangeIndex: 1338 entries, 0 to 1337\n",
            "Data columns (total 7 columns):\n",
            " #   Column    Non-Null Count  Dtype  \n",
            "---  ------    --------------  -----  \n",
            " 0   age       1338 non-null   int64  \n",
            " 1   sex       1338 non-null   object \n",
            " 2   bmi       1338 non-null   float64\n",
            " 3   children  1338 non-null   int64  \n",
            " 4   smoker    1338 non-null   object \n",
            " 5   region    1338 non-null   object \n",
            " 6   charges   1338 non-null   float64\n",
            "dtypes: float64(2), int64(2), object(3)\n",
            "memory usage: 73.3+ KB\n"
          ]
        }
      ]
    },
    {
      "cell_type": "code",
      "source": [
        "insurance.describe()"
      ],
      "metadata": {
        "colab": {
          "base_uri": "https://localhost:8080/",
          "height": 300
        },
        "id": "2T8vHx7EH5qI",
        "outputId": "401d60a2-7fb2-4e2e-d595-65190f60e75c"
      },
      "execution_count": null,
      "outputs": [
        {
          "output_type": "execute_result",
          "data": {
            "text/plain": [
              "               age          bmi     children       charges\n",
              "count  1338.000000  1338.000000  1338.000000   1338.000000\n",
              "mean     39.207025    30.663397     1.094918  13270.422265\n",
              "std      14.049960     6.098187     1.205493  12110.011237\n",
              "min      18.000000    15.960000     0.000000   1121.873900\n",
              "25%      27.000000    26.296250     0.000000   4740.287150\n",
              "50%      39.000000    30.400000     1.000000   9382.033000\n",
              "75%      51.000000    34.693750     2.000000  16639.912515\n",
              "max      64.000000    53.130000     5.000000  63770.428010"
            ],
            "text/html": [
              "\n",
              "  <div id=\"df-e25c7ece-7042-446e-9b07-4019506932b0\">\n",
              "    <div class=\"colab-df-container\">\n",
              "      <div>\n",
              "<style scoped>\n",
              "    .dataframe tbody tr th:only-of-type {\n",
              "        vertical-align: middle;\n",
              "    }\n",
              "\n",
              "    .dataframe tbody tr th {\n",
              "        vertical-align: top;\n",
              "    }\n",
              "\n",
              "    .dataframe thead th {\n",
              "        text-align: right;\n",
              "    }\n",
              "</style>\n",
              "<table border=\"1\" class=\"dataframe\">\n",
              "  <thead>\n",
              "    <tr style=\"text-align: right;\">\n",
              "      <th></th>\n",
              "      <th>age</th>\n",
              "      <th>bmi</th>\n",
              "      <th>children</th>\n",
              "      <th>charges</th>\n",
              "    </tr>\n",
              "  </thead>\n",
              "  <tbody>\n",
              "    <tr>\n",
              "      <th>count</th>\n",
              "      <td>1338.000000</td>\n",
              "      <td>1338.000000</td>\n",
              "      <td>1338.000000</td>\n",
              "      <td>1338.000000</td>\n",
              "    </tr>\n",
              "    <tr>\n",
              "      <th>mean</th>\n",
              "      <td>39.207025</td>\n",
              "      <td>30.663397</td>\n",
              "      <td>1.094918</td>\n",
              "      <td>13270.422265</td>\n",
              "    </tr>\n",
              "    <tr>\n",
              "      <th>std</th>\n",
              "      <td>14.049960</td>\n",
              "      <td>6.098187</td>\n",
              "      <td>1.205493</td>\n",
              "      <td>12110.011237</td>\n",
              "    </tr>\n",
              "    <tr>\n",
              "      <th>min</th>\n",
              "      <td>18.000000</td>\n",
              "      <td>15.960000</td>\n",
              "      <td>0.000000</td>\n",
              "      <td>1121.873900</td>\n",
              "    </tr>\n",
              "    <tr>\n",
              "      <th>25%</th>\n",
              "      <td>27.000000</td>\n",
              "      <td>26.296250</td>\n",
              "      <td>0.000000</td>\n",
              "      <td>4740.287150</td>\n",
              "    </tr>\n",
              "    <tr>\n",
              "      <th>50%</th>\n",
              "      <td>39.000000</td>\n",
              "      <td>30.400000</td>\n",
              "      <td>1.000000</td>\n",
              "      <td>9382.033000</td>\n",
              "    </tr>\n",
              "    <tr>\n",
              "      <th>75%</th>\n",
              "      <td>51.000000</td>\n",
              "      <td>34.693750</td>\n",
              "      <td>2.000000</td>\n",
              "      <td>16639.912515</td>\n",
              "    </tr>\n",
              "    <tr>\n",
              "      <th>max</th>\n",
              "      <td>64.000000</td>\n",
              "      <td>53.130000</td>\n",
              "      <td>5.000000</td>\n",
              "      <td>63770.428010</td>\n",
              "    </tr>\n",
              "  </tbody>\n",
              "</table>\n",
              "</div>\n",
              "      <button class=\"colab-df-convert\" onclick=\"convertToInteractive('df-e25c7ece-7042-446e-9b07-4019506932b0')\"\n",
              "              title=\"Convert this dataframe to an interactive table.\"\n",
              "              style=\"display:none;\">\n",
              "        \n",
              "  <svg xmlns=\"http://www.w3.org/2000/svg\" height=\"24px\"viewBox=\"0 0 24 24\"\n",
              "       width=\"24px\">\n",
              "    <path d=\"M0 0h24v24H0V0z\" fill=\"none\"/>\n",
              "    <path d=\"M18.56 5.44l.94 2.06.94-2.06 2.06-.94-2.06-.94-.94-2.06-.94 2.06-2.06.94zm-11 1L8.5 8.5l.94-2.06 2.06-.94-2.06-.94L8.5 2.5l-.94 2.06-2.06.94zm10 10l.94 2.06.94-2.06 2.06-.94-2.06-.94-.94-2.06-.94 2.06-2.06.94z\"/><path d=\"M17.41 7.96l-1.37-1.37c-.4-.4-.92-.59-1.43-.59-.52 0-1.04.2-1.43.59L10.3 9.45l-7.72 7.72c-.78.78-.78 2.05 0 2.83L4 21.41c.39.39.9.59 1.41.59.51 0 1.02-.2 1.41-.59l7.78-7.78 2.81-2.81c.8-.78.8-2.07 0-2.86zM5.41 20L4 18.59l7.72-7.72 1.47 1.35L5.41 20z\"/>\n",
              "  </svg>\n",
              "      </button>\n",
              "      \n",
              "  <style>\n",
              "    .colab-df-container {\n",
              "      display:flex;\n",
              "      flex-wrap:wrap;\n",
              "      gap: 12px;\n",
              "    }\n",
              "\n",
              "    .colab-df-convert {\n",
              "      background-color: #E8F0FE;\n",
              "      border: none;\n",
              "      border-radius: 50%;\n",
              "      cursor: pointer;\n",
              "      display: none;\n",
              "      fill: #1967D2;\n",
              "      height: 32px;\n",
              "      padding: 0 0 0 0;\n",
              "      width: 32px;\n",
              "    }\n",
              "\n",
              "    .colab-df-convert:hover {\n",
              "      background-color: #E2EBFA;\n",
              "      box-shadow: 0px 1px 2px rgba(60, 64, 67, 0.3), 0px 1px 3px 1px rgba(60, 64, 67, 0.15);\n",
              "      fill: #174EA6;\n",
              "    }\n",
              "\n",
              "    [theme=dark] .colab-df-convert {\n",
              "      background-color: #3B4455;\n",
              "      fill: #D2E3FC;\n",
              "    }\n",
              "\n",
              "    [theme=dark] .colab-df-convert:hover {\n",
              "      background-color: #434B5C;\n",
              "      box-shadow: 0px 1px 3px 1px rgba(0, 0, 0, 0.15);\n",
              "      filter: drop-shadow(0px 1px 2px rgba(0, 0, 0, 0.3));\n",
              "      fill: #FFFFFF;\n",
              "    }\n",
              "  </style>\n",
              "\n",
              "      <script>\n",
              "        const buttonEl =\n",
              "          document.querySelector('#df-e25c7ece-7042-446e-9b07-4019506932b0 button.colab-df-convert');\n",
              "        buttonEl.style.display =\n",
              "          google.colab.kernel.accessAllowed ? 'block' : 'none';\n",
              "\n",
              "        async function convertToInteractive(key) {\n",
              "          const element = document.querySelector('#df-e25c7ece-7042-446e-9b07-4019506932b0');\n",
              "          const dataTable =\n",
              "            await google.colab.kernel.invokeFunction('convertToInteractive',\n",
              "                                                     [key], {});\n",
              "          if (!dataTable) return;\n",
              "\n",
              "          const docLinkHtml = 'Like what you see? Visit the ' +\n",
              "            '<a target=\"_blank\" href=https://colab.research.google.com/notebooks/data_table.ipynb>data table notebook</a>'\n",
              "            + ' to learn more about interactive tables.';\n",
              "          element.innerHTML = '';\n",
              "          dataTable['output_type'] = 'display_data';\n",
              "          await google.colab.output.renderOutput(dataTable, element);\n",
              "          const docLink = document.createElement('div');\n",
              "          docLink.innerHTML = docLinkHtml;\n",
              "          element.appendChild(docLink);\n",
              "        }\n",
              "      </script>\n",
              "    </div>\n",
              "  </div>\n",
              "  "
            ]
          },
          "metadata": {},
          "execution_count": 215
        }
      ]
    },
    {
      "cell_type": "code",
      "source": [
        "insurance= pd.get_dummies(insurance)"
      ],
      "metadata": {
        "id": "DliZ9U5DIDIZ"
      },
      "execution_count": null,
      "outputs": []
    },
    {
      "cell_type": "code",
      "source": [
        "insurance"
      ],
      "metadata": {
        "colab": {
          "base_uri": "https://localhost:8080/",
          "height": 424
        },
        "id": "fSlV5AxNIO4B",
        "outputId": "96cb0c23-868c-484c-ab5e-065e39efd265"
      },
      "execution_count": null,
      "outputs": [
        {
          "output_type": "execute_result",
          "data": {
            "text/plain": [
              "      age     bmi  children      charges  sex_female  sex_male  smoker_no  \\\n",
              "0      19  27.900         0  16884.92400           1         0          0   \n",
              "1      18  33.770         1   1725.55230           0         1          1   \n",
              "2      28  33.000         3   4449.46200           0         1          1   \n",
              "3      33  22.705         0  21984.47061           0         1          1   \n",
              "4      32  28.880         0   3866.85520           0         1          1   \n",
              "...   ...     ...       ...          ...         ...       ...        ...   \n",
              "1333   50  30.970         3  10600.54830           0         1          1   \n",
              "1334   18  31.920         0   2205.98080           1         0          1   \n",
              "1335   18  36.850         0   1629.83350           1         0          1   \n",
              "1336   21  25.800         0   2007.94500           1         0          1   \n",
              "1337   61  29.070         0  29141.36030           1         0          0   \n",
              "\n",
              "      smoker_yes  region_northeast  region_northwest  region_southeast  \\\n",
              "0              1                 0                 0                 0   \n",
              "1              0                 0                 0                 1   \n",
              "2              0                 0                 0                 1   \n",
              "3              0                 0                 1                 0   \n",
              "4              0                 0                 1                 0   \n",
              "...          ...               ...               ...               ...   \n",
              "1333           0                 0                 1                 0   \n",
              "1334           0                 1                 0                 0   \n",
              "1335           0                 0                 0                 1   \n",
              "1336           0                 0                 0                 0   \n",
              "1337           1                 0                 1                 0   \n",
              "\n",
              "      region_southwest  \n",
              "0                    1  \n",
              "1                    0  \n",
              "2                    0  \n",
              "3                    0  \n",
              "4                    0  \n",
              "...                ...  \n",
              "1333                 0  \n",
              "1334                 0  \n",
              "1335                 0  \n",
              "1336                 1  \n",
              "1337                 0  \n",
              "\n",
              "[1338 rows x 12 columns]"
            ],
            "text/html": [
              "\n",
              "  <div id=\"df-c563b63d-d873-4287-a323-0ebb98edef53\">\n",
              "    <div class=\"colab-df-container\">\n",
              "      <div>\n",
              "<style scoped>\n",
              "    .dataframe tbody tr th:only-of-type {\n",
              "        vertical-align: middle;\n",
              "    }\n",
              "\n",
              "    .dataframe tbody tr th {\n",
              "        vertical-align: top;\n",
              "    }\n",
              "\n",
              "    .dataframe thead th {\n",
              "        text-align: right;\n",
              "    }\n",
              "</style>\n",
              "<table border=\"1\" class=\"dataframe\">\n",
              "  <thead>\n",
              "    <tr style=\"text-align: right;\">\n",
              "      <th></th>\n",
              "      <th>age</th>\n",
              "      <th>bmi</th>\n",
              "      <th>children</th>\n",
              "      <th>charges</th>\n",
              "      <th>sex_female</th>\n",
              "      <th>sex_male</th>\n",
              "      <th>smoker_no</th>\n",
              "      <th>smoker_yes</th>\n",
              "      <th>region_northeast</th>\n",
              "      <th>region_northwest</th>\n",
              "      <th>region_southeast</th>\n",
              "      <th>region_southwest</th>\n",
              "    </tr>\n",
              "  </thead>\n",
              "  <tbody>\n",
              "    <tr>\n",
              "      <th>0</th>\n",
              "      <td>19</td>\n",
              "      <td>27.900</td>\n",
              "      <td>0</td>\n",
              "      <td>16884.92400</td>\n",
              "      <td>1</td>\n",
              "      <td>0</td>\n",
              "      <td>0</td>\n",
              "      <td>1</td>\n",
              "      <td>0</td>\n",
              "      <td>0</td>\n",
              "      <td>0</td>\n",
              "      <td>1</td>\n",
              "    </tr>\n",
              "    <tr>\n",
              "      <th>1</th>\n",
              "      <td>18</td>\n",
              "      <td>33.770</td>\n",
              "      <td>1</td>\n",
              "      <td>1725.55230</td>\n",
              "      <td>0</td>\n",
              "      <td>1</td>\n",
              "      <td>1</td>\n",
              "      <td>0</td>\n",
              "      <td>0</td>\n",
              "      <td>0</td>\n",
              "      <td>1</td>\n",
              "      <td>0</td>\n",
              "    </tr>\n",
              "    <tr>\n",
              "      <th>2</th>\n",
              "      <td>28</td>\n",
              "      <td>33.000</td>\n",
              "      <td>3</td>\n",
              "      <td>4449.46200</td>\n",
              "      <td>0</td>\n",
              "      <td>1</td>\n",
              "      <td>1</td>\n",
              "      <td>0</td>\n",
              "      <td>0</td>\n",
              "      <td>0</td>\n",
              "      <td>1</td>\n",
              "      <td>0</td>\n",
              "    </tr>\n",
              "    <tr>\n",
              "      <th>3</th>\n",
              "      <td>33</td>\n",
              "      <td>22.705</td>\n",
              "      <td>0</td>\n",
              "      <td>21984.47061</td>\n",
              "      <td>0</td>\n",
              "      <td>1</td>\n",
              "      <td>1</td>\n",
              "      <td>0</td>\n",
              "      <td>0</td>\n",
              "      <td>1</td>\n",
              "      <td>0</td>\n",
              "      <td>0</td>\n",
              "    </tr>\n",
              "    <tr>\n",
              "      <th>4</th>\n",
              "      <td>32</td>\n",
              "      <td>28.880</td>\n",
              "      <td>0</td>\n",
              "      <td>3866.85520</td>\n",
              "      <td>0</td>\n",
              "      <td>1</td>\n",
              "      <td>1</td>\n",
              "      <td>0</td>\n",
              "      <td>0</td>\n",
              "      <td>1</td>\n",
              "      <td>0</td>\n",
              "      <td>0</td>\n",
              "    </tr>\n",
              "    <tr>\n",
              "      <th>...</th>\n",
              "      <td>...</td>\n",
              "      <td>...</td>\n",
              "      <td>...</td>\n",
              "      <td>...</td>\n",
              "      <td>...</td>\n",
              "      <td>...</td>\n",
              "      <td>...</td>\n",
              "      <td>...</td>\n",
              "      <td>...</td>\n",
              "      <td>...</td>\n",
              "      <td>...</td>\n",
              "      <td>...</td>\n",
              "    </tr>\n",
              "    <tr>\n",
              "      <th>1333</th>\n",
              "      <td>50</td>\n",
              "      <td>30.970</td>\n",
              "      <td>3</td>\n",
              "      <td>10600.54830</td>\n",
              "      <td>0</td>\n",
              "      <td>1</td>\n",
              "      <td>1</td>\n",
              "      <td>0</td>\n",
              "      <td>0</td>\n",
              "      <td>1</td>\n",
              "      <td>0</td>\n",
              "      <td>0</td>\n",
              "    </tr>\n",
              "    <tr>\n",
              "      <th>1334</th>\n",
              "      <td>18</td>\n",
              "      <td>31.920</td>\n",
              "      <td>0</td>\n",
              "      <td>2205.98080</td>\n",
              "      <td>1</td>\n",
              "      <td>0</td>\n",
              "      <td>1</td>\n",
              "      <td>0</td>\n",
              "      <td>1</td>\n",
              "      <td>0</td>\n",
              "      <td>0</td>\n",
              "      <td>0</td>\n",
              "    </tr>\n",
              "    <tr>\n",
              "      <th>1335</th>\n",
              "      <td>18</td>\n",
              "      <td>36.850</td>\n",
              "      <td>0</td>\n",
              "      <td>1629.83350</td>\n",
              "      <td>1</td>\n",
              "      <td>0</td>\n",
              "      <td>1</td>\n",
              "      <td>0</td>\n",
              "      <td>0</td>\n",
              "      <td>0</td>\n",
              "      <td>1</td>\n",
              "      <td>0</td>\n",
              "    </tr>\n",
              "    <tr>\n",
              "      <th>1336</th>\n",
              "      <td>21</td>\n",
              "      <td>25.800</td>\n",
              "      <td>0</td>\n",
              "      <td>2007.94500</td>\n",
              "      <td>1</td>\n",
              "      <td>0</td>\n",
              "      <td>1</td>\n",
              "      <td>0</td>\n",
              "      <td>0</td>\n",
              "      <td>0</td>\n",
              "      <td>0</td>\n",
              "      <td>1</td>\n",
              "    </tr>\n",
              "    <tr>\n",
              "      <th>1337</th>\n",
              "      <td>61</td>\n",
              "      <td>29.070</td>\n",
              "      <td>0</td>\n",
              "      <td>29141.36030</td>\n",
              "      <td>1</td>\n",
              "      <td>0</td>\n",
              "      <td>0</td>\n",
              "      <td>1</td>\n",
              "      <td>0</td>\n",
              "      <td>1</td>\n",
              "      <td>0</td>\n",
              "      <td>0</td>\n",
              "    </tr>\n",
              "  </tbody>\n",
              "</table>\n",
              "<p>1338 rows × 12 columns</p>\n",
              "</div>\n",
              "      <button class=\"colab-df-convert\" onclick=\"convertToInteractive('df-c563b63d-d873-4287-a323-0ebb98edef53')\"\n",
              "              title=\"Convert this dataframe to an interactive table.\"\n",
              "              style=\"display:none;\">\n",
              "        \n",
              "  <svg xmlns=\"http://www.w3.org/2000/svg\" height=\"24px\"viewBox=\"0 0 24 24\"\n",
              "       width=\"24px\">\n",
              "    <path d=\"M0 0h24v24H0V0z\" fill=\"none\"/>\n",
              "    <path d=\"M18.56 5.44l.94 2.06.94-2.06 2.06-.94-2.06-.94-.94-2.06-.94 2.06-2.06.94zm-11 1L8.5 8.5l.94-2.06 2.06-.94-2.06-.94L8.5 2.5l-.94 2.06-2.06.94zm10 10l.94 2.06.94-2.06 2.06-.94-2.06-.94-.94-2.06-.94 2.06-2.06.94z\"/><path d=\"M17.41 7.96l-1.37-1.37c-.4-.4-.92-.59-1.43-.59-.52 0-1.04.2-1.43.59L10.3 9.45l-7.72 7.72c-.78.78-.78 2.05 0 2.83L4 21.41c.39.39.9.59 1.41.59.51 0 1.02-.2 1.41-.59l7.78-7.78 2.81-2.81c.8-.78.8-2.07 0-2.86zM5.41 20L4 18.59l7.72-7.72 1.47 1.35L5.41 20z\"/>\n",
              "  </svg>\n",
              "      </button>\n",
              "      \n",
              "  <style>\n",
              "    .colab-df-container {\n",
              "      display:flex;\n",
              "      flex-wrap:wrap;\n",
              "      gap: 12px;\n",
              "    }\n",
              "\n",
              "    .colab-df-convert {\n",
              "      background-color: #E8F0FE;\n",
              "      border: none;\n",
              "      border-radius: 50%;\n",
              "      cursor: pointer;\n",
              "      display: none;\n",
              "      fill: #1967D2;\n",
              "      height: 32px;\n",
              "      padding: 0 0 0 0;\n",
              "      width: 32px;\n",
              "    }\n",
              "\n",
              "    .colab-df-convert:hover {\n",
              "      background-color: #E2EBFA;\n",
              "      box-shadow: 0px 1px 2px rgba(60, 64, 67, 0.3), 0px 1px 3px 1px rgba(60, 64, 67, 0.15);\n",
              "      fill: #174EA6;\n",
              "    }\n",
              "\n",
              "    [theme=dark] .colab-df-convert {\n",
              "      background-color: #3B4455;\n",
              "      fill: #D2E3FC;\n",
              "    }\n",
              "\n",
              "    [theme=dark] .colab-df-convert:hover {\n",
              "      background-color: #434B5C;\n",
              "      box-shadow: 0px 1px 3px 1px rgba(0, 0, 0, 0.15);\n",
              "      filter: drop-shadow(0px 1px 2px rgba(0, 0, 0, 0.3));\n",
              "      fill: #FFFFFF;\n",
              "    }\n",
              "  </style>\n",
              "\n",
              "      <script>\n",
              "        const buttonEl =\n",
              "          document.querySelector('#df-c563b63d-d873-4287-a323-0ebb98edef53 button.colab-df-convert');\n",
              "        buttonEl.style.display =\n",
              "          google.colab.kernel.accessAllowed ? 'block' : 'none';\n",
              "\n",
              "        async function convertToInteractive(key) {\n",
              "          const element = document.querySelector('#df-c563b63d-d873-4287-a323-0ebb98edef53');\n",
              "          const dataTable =\n",
              "            await google.colab.kernel.invokeFunction('convertToInteractive',\n",
              "                                                     [key], {});\n",
              "          if (!dataTable) return;\n",
              "\n",
              "          const docLinkHtml = 'Like what you see? Visit the ' +\n",
              "            '<a target=\"_blank\" href=https://colab.research.google.com/notebooks/data_table.ipynb>data table notebook</a>'\n",
              "            + ' to learn more about interactive tables.';\n",
              "          element.innerHTML = '';\n",
              "          dataTable['output_type'] = 'display_data';\n",
              "          await google.colab.output.renderOutput(dataTable, element);\n",
              "          const docLink = document.createElement('div');\n",
              "          docLink.innerHTML = docLinkHtml;\n",
              "          element.appendChild(docLink);\n",
              "        }\n",
              "      </script>\n",
              "    </div>\n",
              "  </div>\n",
              "  "
            ]
          },
          "metadata": {},
          "execution_count": 217
        }
      ]
    },
    {
      "cell_type": "code",
      "source": [
        "X= insurance.drop(\"charges\", axis=1)\n",
        "y=insurance[\"charges\"]"
      ],
      "metadata": {
        "id": "LnRMw_DFJBf7"
      },
      "execution_count": null,
      "outputs": []
    },
    {
      "cell_type": "code",
      "source": [
        "tf.random.set_seed(42)\n",
        "from sklearn.model_selection import train_test_split\n",
        "X_train, X_test, y_train, y_test = train_test_split(X, y, test_size=0.2)"
      ],
      "metadata": {
        "id": "CUdEaR3aIQT3"
      },
      "execution_count": null,
      "outputs": []
    },
    {
      "cell_type": "code",
      "source": [
        "len(X_train), len(X_test), len(y_train), len(y_test)"
      ],
      "metadata": {
        "colab": {
          "base_uri": "https://localhost:8080/"
        },
        "id": "J17fUb76JNIw",
        "outputId": "cb6208fc-8a0d-4988-c7ec-6ca7e08653ab"
      },
      "execution_count": null,
      "outputs": [
        {
          "output_type": "execute_result",
          "data": {
            "text/plain": [
              "(1070, 268, 1070, 268)"
            ]
          },
          "metadata": {},
          "execution_count": 220
        }
      ]
    },
    {
      "cell_type": "code",
      "source": [
        "X_train.shape, y_train.shape"
      ],
      "metadata": {
        "colab": {
          "base_uri": "https://localhost:8080/"
        },
        "id": "UH4aI76LJWpT",
        "outputId": "9ddffce1-5dc6-4d49-9b32-4d5a94b5529a"
      },
      "execution_count": null,
      "outputs": [
        {
          "output_type": "execute_result",
          "data": {
            "text/plain": [
              "((1070, 11), (1070,))"
            ]
          },
          "metadata": {},
          "execution_count": 221
        }
      ]
    },
    {
      "cell_type": "code",
      "source": [
        "X_test.shape, y_test.shape"
      ],
      "metadata": {
        "colab": {
          "base_uri": "https://localhost:8080/"
        },
        "id": "uPqzOob_Jcpl",
        "outputId": "1c871072-61c2-4de4-acdc-ae5a3b4c15a0"
      },
      "execution_count": null,
      "outputs": [
        {
          "output_type": "execute_result",
          "data": {
            "text/plain": [
              "((268, 11), (268,))"
            ]
          },
          "metadata": {},
          "execution_count": 223
        }
      ]
    },
    {
      "cell_type": "markdown",
      "source": [
        "## Modelling"
      ],
      "metadata": {
        "id": "Z2XlC_nfJjbN"
      }
    },
    {
      "cell_type": "code",
      "source": [
        "model_0 = tf.keras.Sequential()\n",
        "model_0.add(tf.keras.layers.Dense(20))\n",
        "model_0.add(tf.keras.layers.Dense(1))\n",
        "\n",
        "model_0.compile(loss=\"mae\",\n",
        "              optimizer= tf.keras.optimizers.Adam(),\n",
        "              metrics=[\"mae\"])\n",
        "\n",
        "model_0.fit(X_train,y_train, epochs=100, verbose=0)"
      ],
      "metadata": {
        "colab": {
          "base_uri": "https://localhost:8080/"
        },
        "id": "EMILlWAvQGrs",
        "outputId": "85bf4804-7396-4b32-d18c-37de95000d9b"
      },
      "execution_count": null,
      "outputs": [
        {
          "output_type": "execute_result",
          "data": {
            "text/plain": [
              "<keras.callbacks.History at 0x7f060a13f6d0>"
            ]
          },
          "metadata": {},
          "execution_count": 228
        }
      ]
    },
    {
      "cell_type": "code",
      "source": [
        "y_preds=model_0.predict(X_test)"
      ],
      "metadata": {
        "colab": {
          "base_uri": "https://localhost:8080/"
        },
        "id": "W6XZ77sdQuv6",
        "outputId": "2d10e7d9-b856-4394-a79d-9859c0d9795c"
      },
      "execution_count": null,
      "outputs": [
        {
          "output_type": "stream",
          "name": "stdout",
          "text": [
            "9/9 [==============================] - 0s 3ms/step\n"
          ]
        }
      ]
    },
    {
      "cell_type": "code",
      "source": [
        "mae, mse= evaluate(y_test, tf.squeeze(y_preds))"
      ],
      "metadata": {
        "colab": {
          "base_uri": "https://localhost:8080/"
        },
        "id": "DBnSQuaNSeKa",
        "outputId": "e23ffcaa-238b-4899-e02f-f07859f8892a"
      },
      "execution_count": null,
      "outputs": [
        {
          "output_type": "stream",
          "name": "stdout",
          "text": [
            "The Mean Absolute Error of the model is: 7453.04443359375.\n",
            "The Mean Squared Error of the model is: 166526848.0.\n"
          ]
        }
      ]
    },
    {
      "cell_type": "markdown",
      "source": [
        "## Improving Model\n",
        "Remember the 3 steps in improving model...."
      ],
      "metadata": {
        "id": "eY1TK3ajWC6H"
      }
    },
    {
      "cell_type": "code",
      "source": [
        "model_1= tf.keras.Sequential([\n",
        "    tf.keras.layers.Dense(100),\n",
        "    tf.keras.layers.Dense(20),\n",
        "    tf.keras.layers.Dense(1)\n",
        "])\n",
        "\n",
        "model_1.compile(loss=\"mae\",\n",
        "                optimizer=tf.keras.optimizers.Adam(), # SGD() gives loss:nan so we'll use Adam()\n",
        "                metrics=[\"mae\"])\n",
        "\n",
        "model_1.fit(X_train, y_train, epochs=100)"
      ],
      "metadata": {
        "colab": {
          "base_uri": "https://localhost:8080/"
        },
        "id": "MmcEui8Fc0yh",
        "outputId": "54eee7b5-bb9a-44f6-8df5-a8c921bdec76"
      },
      "execution_count": null,
      "outputs": [
        {
          "output_type": "stream",
          "name": "stdout",
          "text": [
            "Epoch 1/100\n",
            "34/34 [==============================] - 1s 2ms/step - loss: 13124.0586 - mae: 13124.0586\n",
            "Epoch 2/100\n",
            "34/34 [==============================] - 0s 2ms/step - loss: 12868.3369 - mae: 12868.3369\n",
            "Epoch 3/100\n",
            "34/34 [==============================] - 0s 2ms/step - loss: 12282.8691 - mae: 12282.8691\n",
            "Epoch 4/100\n",
            "34/34 [==============================] - 0s 2ms/step - loss: 11099.8379 - mae: 11099.8379\n",
            "Epoch 5/100\n",
            "34/34 [==============================] - 0s 2ms/step - loss: 9359.9326 - mae: 9359.9326\n",
            "Epoch 6/100\n",
            "34/34 [==============================] - 0s 2ms/step - loss: 7899.0747 - mae: 7899.0747\n",
            "Epoch 7/100\n",
            "34/34 [==============================] - 0s 2ms/step - loss: 7441.4609 - mae: 7441.4609\n",
            "Epoch 8/100\n",
            "34/34 [==============================] - 0s 2ms/step - loss: 7389.7627 - mae: 7389.7627\n",
            "Epoch 9/100\n",
            "34/34 [==============================] - 0s 2ms/step - loss: 7363.0942 - mae: 7363.0942\n",
            "Epoch 10/100\n",
            "34/34 [==============================] - 0s 2ms/step - loss: 7335.8730 - mae: 7335.8730\n",
            "Epoch 11/100\n",
            "34/34 [==============================] - 0s 2ms/step - loss: 7308.6079 - mae: 7308.6079\n",
            "Epoch 12/100\n",
            "34/34 [==============================] - 0s 2ms/step - loss: 7281.1504 - mae: 7281.1504\n",
            "Epoch 13/100\n",
            "34/34 [==============================] - 0s 2ms/step - loss: 7251.7280 - mae: 7251.7280\n",
            "Epoch 14/100\n",
            "34/34 [==============================] - 0s 2ms/step - loss: 7227.6851 - mae: 7227.6851\n",
            "Epoch 15/100\n",
            "34/34 [==============================] - 0s 2ms/step - loss: 7194.1577 - mae: 7194.1577\n",
            "Epoch 16/100\n",
            "34/34 [==============================] - 0s 2ms/step - loss: 7164.4390 - mae: 7164.4390\n",
            "Epoch 17/100\n",
            "34/34 [==============================] - 0s 2ms/step - loss: 7132.0747 - mae: 7132.0747\n",
            "Epoch 18/100\n",
            "34/34 [==============================] - 0s 2ms/step - loss: 7100.4722 - mae: 7100.4722\n",
            "Epoch 19/100\n",
            "34/34 [==============================] - 0s 2ms/step - loss: 7070.0688 - mae: 7070.0688\n",
            "Epoch 20/100\n",
            "34/34 [==============================] - 0s 2ms/step - loss: 7033.9854 - mae: 7033.9854\n",
            "Epoch 21/100\n",
            "34/34 [==============================] - 0s 2ms/step - loss: 6999.3550 - mae: 6999.3550\n",
            "Epoch 22/100\n",
            "34/34 [==============================] - 0s 2ms/step - loss: 6962.2637 - mae: 6962.2637\n",
            "Epoch 23/100\n",
            "34/34 [==============================] - 0s 2ms/step - loss: 6925.6733 - mae: 6925.6733\n",
            "Epoch 24/100\n",
            "34/34 [==============================] - 0s 2ms/step - loss: 6886.2549 - mae: 6886.2549\n",
            "Epoch 25/100\n",
            "34/34 [==============================] - 0s 2ms/step - loss: 6848.8857 - mae: 6848.8857\n",
            "Epoch 26/100\n",
            "34/34 [==============================] - 0s 2ms/step - loss: 6804.9233 - mae: 6804.9233\n",
            "Epoch 27/100\n",
            "34/34 [==============================] - 0s 2ms/step - loss: 6758.9829 - mae: 6758.9829\n",
            "Epoch 28/100\n",
            "34/34 [==============================] - 0s 2ms/step - loss: 6716.1860 - mae: 6716.1860\n",
            "Epoch 29/100\n",
            "34/34 [==============================] - 0s 2ms/step - loss: 6669.0947 - mae: 6669.0947\n",
            "Epoch 30/100\n",
            "34/34 [==============================] - 0s 2ms/step - loss: 6622.1372 - mae: 6622.1372\n",
            "Epoch 31/100\n",
            "34/34 [==============================] - 0s 2ms/step - loss: 6578.1909 - mae: 6578.1909\n",
            "Epoch 32/100\n",
            "34/34 [==============================] - 0s 2ms/step - loss: 6533.6377 - mae: 6533.6377\n",
            "Epoch 33/100\n",
            "34/34 [==============================] - 0s 2ms/step - loss: 6496.7026 - mae: 6496.7026\n",
            "Epoch 34/100\n",
            "34/34 [==============================] - 0s 2ms/step - loss: 6468.1274 - mae: 6468.1274\n",
            "Epoch 35/100\n",
            "34/34 [==============================] - 0s 2ms/step - loss: 6442.0630 - mae: 6442.0630\n",
            "Epoch 36/100\n",
            "34/34 [==============================] - 0s 2ms/step - loss: 6420.4062 - mae: 6420.4062\n",
            "Epoch 37/100\n",
            "34/34 [==============================] - 0s 2ms/step - loss: 6400.8130 - mae: 6400.8130\n",
            "Epoch 38/100\n",
            "34/34 [==============================] - 0s 2ms/step - loss: 6384.5718 - mae: 6384.5718\n",
            "Epoch 39/100\n",
            "34/34 [==============================] - 0s 2ms/step - loss: 6367.9185 - mae: 6367.9185\n",
            "Epoch 40/100\n",
            "34/34 [==============================] - 0s 2ms/step - loss: 6353.9741 - mae: 6353.9741\n",
            "Epoch 41/100\n",
            "34/34 [==============================] - 0s 2ms/step - loss: 6336.7759 - mae: 6336.7759\n",
            "Epoch 42/100\n",
            "34/34 [==============================] - 0s 2ms/step - loss: 6324.3232 - mae: 6324.3232\n",
            "Epoch 43/100\n",
            "34/34 [==============================] - 0s 2ms/step - loss: 6304.9150 - mae: 6304.9150\n",
            "Epoch 44/100\n",
            "34/34 [==============================] - 0s 2ms/step - loss: 6289.7822 - mae: 6289.7822\n",
            "Epoch 45/100\n",
            "34/34 [==============================] - 0s 2ms/step - loss: 6272.2607 - mae: 6272.2607\n",
            "Epoch 46/100\n",
            "34/34 [==============================] - 0s 2ms/step - loss: 6256.2510 - mae: 6256.2510\n",
            "Epoch 47/100\n",
            "34/34 [==============================] - 0s 2ms/step - loss: 6239.0713 - mae: 6239.0713\n",
            "Epoch 48/100\n",
            "34/34 [==============================] - 0s 2ms/step - loss: 6221.8765 - mae: 6221.8765\n",
            "Epoch 49/100\n",
            "34/34 [==============================] - 0s 2ms/step - loss: 6204.0581 - mae: 6204.0581\n",
            "Epoch 50/100\n",
            "34/34 [==============================] - 0s 2ms/step - loss: 6183.6562 - mae: 6183.6562\n",
            "Epoch 51/100\n",
            "34/34 [==============================] - 0s 2ms/step - loss: 6169.8101 - mae: 6169.8101\n",
            "Epoch 52/100\n",
            "34/34 [==============================] - 0s 3ms/step - loss: 6146.6914 - mae: 6146.6914\n",
            "Epoch 53/100\n",
            "34/34 [==============================] - 0s 3ms/step - loss: 6131.1992 - mae: 6131.1992\n",
            "Epoch 54/100\n",
            "34/34 [==============================] - 0s 3ms/step - loss: 6106.8804 - mae: 6106.8804\n",
            "Epoch 55/100\n",
            "34/34 [==============================] - 0s 3ms/step - loss: 6088.0273 - mae: 6088.0273\n",
            "Epoch 56/100\n",
            "34/34 [==============================] - 0s 3ms/step - loss: 6065.4512 - mae: 6065.4512\n",
            "Epoch 57/100\n",
            "34/34 [==============================] - 0s 3ms/step - loss: 6049.8130 - mae: 6049.8130\n",
            "Epoch 58/100\n",
            "34/34 [==============================] - 0s 3ms/step - loss: 6022.1226 - mae: 6022.1226\n",
            "Epoch 59/100\n",
            "34/34 [==============================] - 0s 3ms/step - loss: 6001.8428 - mae: 6001.8428\n",
            "Epoch 60/100\n",
            "34/34 [==============================] - 0s 3ms/step - loss: 5978.1108 - mae: 5978.1108\n",
            "Epoch 61/100\n",
            "34/34 [==============================] - 0s 3ms/step - loss: 5957.1084 - mae: 5957.1084\n",
            "Epoch 62/100\n",
            "34/34 [==============================] - 0s 3ms/step - loss: 5929.2778 - mae: 5929.2778\n",
            "Epoch 63/100\n",
            "34/34 [==============================] - 0s 3ms/step - loss: 5895.6719 - mae: 5895.6719\n",
            "Epoch 64/100\n",
            "34/34 [==============================] - 0s 3ms/step - loss: 5868.7144 - mae: 5868.7144\n",
            "Epoch 65/100\n",
            "34/34 [==============================] - 0s 3ms/step - loss: 5837.5083 - mae: 5837.5083\n",
            "Epoch 66/100\n",
            "34/34 [==============================] - 0s 3ms/step - loss: 5807.7095 - mae: 5807.7095\n",
            "Epoch 67/100\n",
            "34/34 [==============================] - 0s 3ms/step - loss: 5781.8652 - mae: 5781.8652\n",
            "Epoch 68/100\n",
            "34/34 [==============================] - 0s 3ms/step - loss: 5746.3984 - mae: 5746.3984\n",
            "Epoch 69/100\n",
            "34/34 [==============================] - 0s 3ms/step - loss: 5722.1157 - mae: 5722.1157\n",
            "Epoch 70/100\n",
            "34/34 [==============================] - 0s 3ms/step - loss: 5678.9585 - mae: 5678.9585\n",
            "Epoch 71/100\n",
            "34/34 [==============================] - 0s 3ms/step - loss: 5631.8403 - mae: 5631.8403\n",
            "Epoch 72/100\n",
            "34/34 [==============================] - 0s 3ms/step - loss: 5600.0049 - mae: 5600.0049\n",
            "Epoch 73/100\n",
            "34/34 [==============================] - 0s 3ms/step - loss: 5554.1841 - mae: 5554.1841\n",
            "Epoch 74/100\n",
            "34/34 [==============================] - 0s 3ms/step - loss: 5507.3120 - mae: 5507.3120\n",
            "Epoch 75/100\n",
            "34/34 [==============================] - 0s 3ms/step - loss: 5461.9053 - mae: 5461.9053\n",
            "Epoch 76/100\n",
            "34/34 [==============================] - 0s 3ms/step - loss: 5413.8657 - mae: 5413.8657\n",
            "Epoch 77/100\n",
            "34/34 [==============================] - 0s 3ms/step - loss: 5362.7104 - mae: 5362.7104\n",
            "Epoch 78/100\n",
            "34/34 [==============================] - 0s 3ms/step - loss: 5298.2725 - mae: 5298.2725\n",
            "Epoch 79/100\n",
            "34/34 [==============================] - 0s 3ms/step - loss: 5240.8076 - mae: 5240.8076\n",
            "Epoch 80/100\n",
            "34/34 [==============================] - 0s 2ms/step - loss: 5181.5229 - mae: 5181.5229\n",
            "Epoch 81/100\n",
            "34/34 [==============================] - 0s 2ms/step - loss: 5116.5806 - mae: 5116.5806\n",
            "Epoch 82/100\n",
            "34/34 [==============================] - 0s 2ms/step - loss: 5035.8823 - mae: 5035.8823\n",
            "Epoch 83/100\n",
            "34/34 [==============================] - 0s 3ms/step - loss: 4965.2217 - mae: 4965.2217\n",
            "Epoch 84/100\n",
            "34/34 [==============================] - 0s 3ms/step - loss: 4880.6899 - mae: 4880.6899\n",
            "Epoch 85/100\n",
            "34/34 [==============================] - 0s 3ms/step - loss: 4789.6611 - mae: 4789.6611\n",
            "Epoch 86/100\n",
            "34/34 [==============================] - 0s 3ms/step - loss: 4695.9614 - mae: 4695.9614\n",
            "Epoch 87/100\n",
            "34/34 [==============================] - 0s 2ms/step - loss: 4597.0405 - mae: 4597.0405\n",
            "Epoch 88/100\n",
            "34/34 [==============================] - 0s 3ms/step - loss: 4500.0107 - mae: 4500.0107\n",
            "Epoch 89/100\n",
            "34/34 [==============================] - 0s 3ms/step - loss: 4403.3545 - mae: 4403.3545\n",
            "Epoch 90/100\n",
            "34/34 [==============================] - 0s 3ms/step - loss: 4283.4355 - mae: 4283.4355\n",
            "Epoch 91/100\n",
            "34/34 [==============================] - 0s 3ms/step - loss: 4176.8511 - mae: 4176.8511\n",
            "Epoch 92/100\n",
            "34/34 [==============================] - 0s 3ms/step - loss: 4086.1958 - mae: 4086.1958\n",
            "Epoch 93/100\n",
            "34/34 [==============================] - 0s 3ms/step - loss: 4005.6365 - mae: 4005.6365\n",
            "Epoch 94/100\n",
            "34/34 [==============================] - 0s 3ms/step - loss: 3925.6973 - mae: 3925.6973\n",
            "Epoch 95/100\n",
            "34/34 [==============================] - 0s 3ms/step - loss: 3875.5107 - mae: 3875.5107\n",
            "Epoch 96/100\n",
            "34/34 [==============================] - 0s 2ms/step - loss: 3834.6243 - mae: 3834.6243\n",
            "Epoch 97/100\n",
            "34/34 [==============================] - 0s 3ms/step - loss: 3808.4438 - mae: 3808.4438\n",
            "Epoch 98/100\n",
            "34/34 [==============================] - 0s 3ms/step - loss: 3805.8184 - mae: 3805.8184\n",
            "Epoch 99/100\n",
            "34/34 [==============================] - 0s 3ms/step - loss: 3794.5647 - mae: 3794.5647\n",
            "Epoch 100/100\n",
            "34/34 [==============================] - 0s 3ms/step - loss: 3759.5574 - mae: 3759.5574\n"
          ]
        },
        {
          "output_type": "execute_result",
          "data": {
            "text/plain": [
              "<keras.callbacks.History at 0x7f060fd2b7f0>"
            ]
          },
          "metadata": {},
          "execution_count": 255
        }
      ]
    },
    {
      "cell_type": "code",
      "source": [
        "model_0.evaluate(X_test, y_test)"
      ],
      "metadata": {
        "colab": {
          "base_uri": "https://localhost:8080/"
        },
        "id": "QZHcoOXxdahb",
        "outputId": "596125d1-85b7-4e7c-ed24-51ee47bbdc4f"
      },
      "execution_count": null,
      "outputs": [
        {
          "output_type": "stream",
          "name": "stdout",
          "text": [
            "9/9 [==============================] - 0s 2ms/step - loss: 7453.0439 - mae: 7453.0439\n"
          ]
        },
        {
          "output_type": "execute_result",
          "data": {
            "text/plain": [
              "[7453.0439453125, 7453.0439453125]"
            ]
          },
          "metadata": {},
          "execution_count": 256
        }
      ]
    },
    {
      "cell_type": "code",
      "source": [
        "model_1.evaluate(X_test, y_test)"
      ],
      "metadata": {
        "colab": {
          "base_uri": "https://localhost:8080/"
        },
        "id": "JWtUjkHSduNS",
        "outputId": "5df3494d-93d0-4359-963c-905640e54222"
      },
      "execution_count": null,
      "outputs": [
        {
          "output_type": "stream",
          "name": "stdout",
          "text": [
            "9/9 [==============================] - 0s 2ms/step - loss: 3929.0784 - mae: 3929.0784\n"
          ]
        },
        {
          "output_type": "execute_result",
          "data": {
            "text/plain": [
              "[3929.078369140625, 3929.078369140625]"
            ]
          },
          "metadata": {},
          "execution_count": 257
        }
      ]
    },
    {
      "cell_type": "code",
      "source": [
        "model_2= tf.keras.Sequential([\n",
        "    tf.keras.layers.Dense(100),\n",
        "    tf.keras.layers.Dense(20),\n",
        "    tf.keras.layers.Dense(1)\n",
        "])\n",
        "\n",
        "model_2.compile(loss=\"mae\",\n",
        "                optimizer=tf.keras.optimizers.Adam(learning_rate=0.01),\n",
        "                metrics=[\"mae\"])\n",
        "\n",
        "history=model_2.fit(X_train, y_train, epochs=150)"
      ],
      "metadata": {
        "colab": {
          "base_uri": "https://localhost:8080/"
        },
        "id": "z6ueCyMBd0f8",
        "outputId": "1a5bf256-4143-48a2-e12f-26626f0ee7d7"
      },
      "execution_count": null,
      "outputs": [
        {
          "output_type": "stream",
          "name": "stdout",
          "text": [
            "Epoch 1/150\n",
            "34/34 [==============================] - 1s 2ms/step - loss: 10856.0967 - mae: 10856.0967\n",
            "Epoch 2/150\n",
            "34/34 [==============================] - 0s 2ms/step - loss: 7489.2661 - mae: 7489.2661\n",
            "Epoch 3/150\n",
            "34/34 [==============================] - 0s 2ms/step - loss: 7094.3975 - mae: 7094.3975\n",
            "Epoch 4/150\n",
            "34/34 [==============================] - 0s 2ms/step - loss: 6751.9717 - mae: 6751.9717\n",
            "Epoch 5/150\n",
            "34/34 [==============================] - 0s 2ms/step - loss: 6412.6665 - mae: 6412.6665\n",
            "Epoch 6/150\n",
            "34/34 [==============================] - 0s 2ms/step - loss: 6266.0488 - mae: 6266.0488\n",
            "Epoch 7/150\n",
            "34/34 [==============================] - 0s 2ms/step - loss: 6100.6348 - mae: 6100.6348\n",
            "Epoch 8/150\n",
            "34/34 [==============================] - 0s 2ms/step - loss: 5896.0166 - mae: 5896.0166\n",
            "Epoch 9/150\n",
            "34/34 [==============================] - 0s 2ms/step - loss: 5588.9082 - mae: 5588.9082\n",
            "Epoch 10/150\n",
            "34/34 [==============================] - 0s 2ms/step - loss: 5145.2114 - mae: 5145.2114\n",
            "Epoch 11/150\n",
            "34/34 [==============================] - 0s 2ms/step - loss: 4430.1528 - mae: 4430.1528\n",
            "Epoch 12/150\n",
            "34/34 [==============================] - 0s 2ms/step - loss: 3830.3459 - mae: 3830.3459\n",
            "Epoch 13/150\n",
            "34/34 [==============================] - 0s 2ms/step - loss: 3753.4465 - mae: 3753.4465\n",
            "Epoch 14/150\n",
            "34/34 [==============================] - 0s 2ms/step - loss: 3845.1472 - mae: 3845.1472\n",
            "Epoch 15/150\n",
            "34/34 [==============================] - 0s 2ms/step - loss: 3705.0679 - mae: 3705.0679\n",
            "Epoch 16/150\n",
            "34/34 [==============================] - 0s 2ms/step - loss: 3735.8521 - mae: 3735.8521\n",
            "Epoch 17/150\n",
            "34/34 [==============================] - 0s 2ms/step - loss: 3716.3669 - mae: 3716.3669\n",
            "Epoch 18/150\n",
            "34/34 [==============================] - 0s 2ms/step - loss: 3722.2786 - mae: 3722.2786\n",
            "Epoch 19/150\n",
            "34/34 [==============================] - 0s 2ms/step - loss: 3696.8745 - mae: 3696.8745\n",
            "Epoch 20/150\n",
            "34/34 [==============================] - 0s 2ms/step - loss: 3539.6499 - mae: 3539.6499\n",
            "Epoch 46/150\n",
            "34/34 [==============================] - 0s 2ms/step - loss: 3541.0642 - mae: 3541.0642\n",
            "Epoch 47/150\n",
            "34/34 [==============================] - 0s 2ms/step - loss: 3524.2332 - mae: 3524.2332\n",
            "Epoch 48/150\n",
            "34/34 [==============================] - 0s 2ms/step - loss: 3602.1729 - mae: 3602.1729\n",
            "Epoch 49/150\n",
            "34/34 [==============================] - 0s 2ms/step - loss: 3529.7285 - mae: 3529.7285\n",
            "Epoch 50/150\n",
            "34/34 [==============================] - 0s 2ms/step - loss: 3554.0276 - mae: 3554.0276\n",
            "Epoch 51/150\n",
            "34/34 [==============================] - 0s 2ms/step - loss: 3524.8994 - mae: 3524.8994\n",
            "Epoch 52/150\n",
            "34/34 [==============================] - 0s 2ms/step - loss: 3522.0823 - mae: 3522.0823\n",
            "Epoch 53/150\n",
            "34/34 [==============================] - 0s 2ms/step - loss: 3535.3125 - mae: 3535.3125\n",
            "Epoch 54/150\n",
            "34/34 [==============================] - 0s 2ms/step - loss: 3556.1509 - mae: 3556.1509\n",
            "Epoch 55/150\n",
            "34/34 [==============================] - 0s 2ms/step - loss: 3532.1990 - mae: 3532.1990\n",
            "Epoch 56/150\n",
            "34/34 [==============================] - 0s 2ms/step - loss: 3501.4189 - mae: 3501.4189\n",
            "Epoch 57/150\n",
            "34/34 [==============================] - 0s 2ms/step - loss: 3552.7847 - mae: 3552.7847\n",
            "Epoch 58/150\n",
            "34/34 [==============================] - 0s 2ms/step - loss: 3518.4978 - mae: 3518.4978\n",
            "Epoch 59/150\n",
            "34/34 [==============================] - 0s 2ms/step - loss: 3541.5374 - mae: 3541.5374\n",
            "Epoch 60/150\n",
            "34/34 [==============================] - 0s 2ms/step - loss: 3509.8049 - mae: 3509.8049\n",
            "Epoch 61/150\n",
            "34/34 [==============================] - 0s 2ms/step - loss: 3540.5703 - mae: 3540.5703\n",
            "Epoch 62/150\n",
            "34/34 [==============================] - 0s 2ms/step - loss: 3518.5000 - mae: 3518.5000\n",
            "Epoch 63/150\n",
            "34/34 [==============================] - 0s 2ms/step - loss: 3518.0903 - mae: 3518.0903\n",
            "Epoch 64/150\n",
            "34/34 [==============================] - 0s 2ms/step - loss: 3547.8093 - mae: 3547.8093\n",
            "Epoch 65/150\n",
            "34/34 [==============================] - 0s 2ms/step - loss: 3531.5969 - mae: 3531.5969\n",
            "Epoch 66/150\n",
            "34/34 [==============================] - 0s 2ms/step - loss: 3544.8838 - mae: 3544.8838\n",
            "Epoch 67/150\n",
            "34/34 [==============================] - 0s 2ms/step - loss: 3541.4966 - mae: 3541.4966\n",
            "Epoch 68/150\n",
            "34/34 [==============================] - 0s 2ms/step - loss: 3542.7329 - mae: 3542.7329\n",
            "Epoch 69/150\n",
            "34/34 [==============================] - 0s 2ms/step - loss: 3519.6003 - mae: 3519.6003\n",
            "Epoch 70/150\n",
            "34/34 [==============================] - 0s 2ms/step - loss: 3511.4221 - mae: 3511.4221\n",
            "Epoch 71/150\n",
            "34/34 [==============================] - 0s 2ms/step - loss: 3512.7576 - mae: 3512.7576\n",
            "Epoch 72/150\n",
            "34/34 [==============================] - 0s 2ms/step - loss: 3674.9456 - mae: 3674.9456\n",
            "Epoch 73/150\n",
            "34/34 [==============================] - 0s 2ms/step - loss: 3594.2014 - mae: 3594.2014\n",
            "Epoch 74/150\n",
            "34/34 [==============================] - 0s 2ms/step - loss: 3538.9780 - mae: 3538.9780\n",
            "Epoch 75/150\n",
            "34/34 [==============================] - 0s 2ms/step - loss: 3568.9504 - mae: 3568.9504\n",
            "Epoch 76/150\n",
            "34/34 [==============================] - 0s 2ms/step - loss: 3573.2129 - mae: 3573.2129\n",
            "Epoch 77/150\n",
            "34/34 [==============================] - 0s 2ms/step - loss: 3540.7200 - mae: 3540.7200\n",
            "Epoch 78/150\n",
            "34/34 [==============================] - 0s 2ms/step - loss: 3504.8877 - mae: 3504.8877\n",
            "Epoch 79/150\n",
            "34/34 [==============================] - 0s 2ms/step - loss: 3508.2632 - mae: 3508.2632\n",
            "Epoch 80/150\n",
            "34/34 [==============================] - 0s 2ms/step - loss: 3483.2966 - mae: 3483.2966\n",
            "Epoch 81/150\n",
            "34/34 [==============================] - 0s 2ms/step - loss: 3675.8711 - mae: 3675.8711\n",
            "Epoch 82/150\n",
            "34/34 [==============================] - 0s 2ms/step - loss: 3588.7986 - mae: 3588.7986\n",
            "Epoch 83/150\n",
            "34/34 [==============================] - 0s 2ms/step - loss: 3627.5740 - mae: 3627.5740\n",
            "Epoch 84/150\n",
            "34/34 [==============================] - 0s 2ms/step - loss: 3585.5686 - mae: 3585.5686\n",
            "Epoch 85/150\n",
            "34/34 [==============================] - 0s 2ms/step - loss: 3546.5583 - mae: 3546.5583\n",
            "Epoch 86/150\n",
            "34/34 [==============================] - 0s 2ms/step - loss: 3508.5620 - mae: 3508.5620\n",
            "Epoch 87/150\n",
            "34/34 [==============================] - 0s 2ms/step - loss: 3547.3762 - mae: 3547.3762\n",
            "Epoch 88/150\n",
            "34/34 [==============================] - 0s 2ms/step - loss: 3647.7642 - mae: 3647.7642\n",
            "Epoch 89/150\n",
            "34/34 [==============================] - 0s 2ms/step - loss: 3523.0554 - mae: 3523.0554\n",
            "Epoch 90/150\n",
            "34/34 [==============================] - 0s 2ms/step - loss: 3490.1355 - mae: 3490.1355\n",
            "Epoch 91/150\n",
            "34/34 [==============================] - 0s 2ms/step - loss: 3477.1216 - mae: 3477.1216\n",
            "Epoch 92/150\n",
            "34/34 [==============================] - 0s 2ms/step - loss: 3541.6248 - mae: 3541.6248\n",
            "Epoch 93/150\n",
            "34/34 [==============================] - 0s 2ms/step - loss: 3532.8320 - mae: 3532.8320\n",
            "Epoch 94/150\n",
            "34/34 [==============================] - 0s 2ms/step - loss: 3578.2463 - mae: 3578.2463\n",
            "Epoch 95/150\n",
            "34/34 [==============================] - 0s 2ms/step - loss: 3523.9651 - mae: 3523.9651\n",
            "Epoch 96/150\n",
            "34/34 [==============================] - 0s 2ms/step - loss: 3615.2512 - mae: 3615.2512\n",
            "Epoch 97/150\n",
            "34/34 [==============================] - 0s 2ms/step - loss: 3532.0435 - mae: 3532.0435\n",
            "Epoch 98/150\n",
            "34/34 [==============================] - 0s 2ms/step - loss: 3613.6921 - mae: 3613.6921\n",
            "Epoch 99/150\n",
            "34/34 [==============================] - 0s 2ms/step - loss: 3554.0432 - mae: 3554.0432\n",
            "Epoch 100/150\n",
            "34/34 [==============================] - 0s 2ms/step - loss: 3522.6062 - mae: 3522.6062\n",
            "Epoch 101/150\n",
            "34/34 [==============================] - 0s 2ms/step - loss: 3497.5620 - mae: 3497.5620\n",
            "Epoch 102/150\n",
            "34/34 [==============================] - 0s 2ms/step - loss: 3536.6804 - mae: 3536.6804\n",
            "Epoch 103/150\n",
            "34/34 [==============================] - 0s 2ms/step - loss: 3524.5786 - mae: 3524.5786\n",
            "Epoch 104/150\n",
            "34/34 [==============================] - 0s 2ms/step - loss: 3518.4675 - mae: 3518.4675\n",
            "Epoch 105/150\n",
            "34/34 [==============================] - 0s 2ms/step - loss: 3501.6787 - mae: 3501.6787\n",
            "Epoch 106/150\n",
            "34/34 [==============================] - 0s 2ms/step - loss: 3567.8589 - mae: 3567.8589\n",
            "Epoch 107/150\n",
            "34/34 [==============================] - 0s 2ms/step - loss: 3581.4329 - mae: 3581.4329\n",
            "Epoch 108/150\n",
            "34/34 [==============================] - 0s 2ms/step - loss: 3543.2234 - mae: 3543.2234\n",
            "Epoch 109/150\n",
            "34/34 [==============================] - 0s 2ms/step - loss: 3516.3630 - mae: 3516.3630\n",
            "Epoch 110/150\n",
            "34/34 [==============================] - 0s 2ms/step - loss: 3521.0498 - mae: 3521.0498\n",
            "Epoch 111/150\n",
            "34/34 [==============================] - 0s 2ms/step - loss: 3517.2908 - mae: 3517.2908\n",
            "Epoch 112/150\n",
            "34/34 [==============================] - 0s 2ms/step - loss: 3495.4775 - mae: 3495.4775\n",
            "Epoch 113/150\n",
            "34/34 [==============================] - 0s 2ms/step - loss: 3498.2087 - mae: 3498.2087\n",
            "Epoch 114/150\n",
            "34/34 [==============================] - 0s 3ms/step - loss: 3511.2493 - mae: 3511.2493\n",
            "Epoch 115/150\n",
            "34/34 [==============================] - 0s 3ms/step - loss: 3491.5261 - mae: 3491.5261\n",
            "Epoch 116/150\n",
            "34/34 [==============================] - 0s 3ms/step - loss: 3541.1694 - mae: 3541.1694\n",
            "Epoch 117/150\n",
            "34/34 [==============================] - 0s 3ms/step - loss: 3522.9243 - mae: 3522.9243\n",
            "Epoch 118/150\n",
            "34/34 [==============================] - 0s 3ms/step - loss: 3518.2717 - mae: 3518.2717\n",
            "Epoch 119/150\n",
            "34/34 [==============================] - 0s 3ms/step - loss: 3501.6152 - mae: 3501.6152\n",
            "Epoch 120/150\n",
            "34/34 [==============================] - 0s 3ms/step - loss: 3565.8674 - mae: 3565.8674\n",
            "Epoch 121/150\n",
            "34/34 [==============================] - 0s 3ms/step - loss: 3512.4351 - mae: 3512.4351\n",
            "Epoch 122/150\n",
            "34/34 [==============================] - 0s 3ms/step - loss: 3668.9934 - mae: 3668.9934\n",
            "Epoch 123/150\n",
            "34/34 [==============================] - 0s 3ms/step - loss: 3574.7773 - mae: 3574.7773\n",
            "Epoch 124/150\n",
            "34/34 [==============================] - 0s 3ms/step - loss: 3586.8350 - mae: 3586.8350\n",
            "Epoch 125/150\n",
            "34/34 [==============================] - 0s 3ms/step - loss: 3500.7981 - mae: 3500.7981\n",
            "Epoch 126/150\n",
            "34/34 [==============================] - 0s 3ms/step - loss: 3478.8191 - mae: 3478.8191\n",
            "Epoch 127/150\n",
            "34/34 [==============================] - 0s 3ms/step - loss: 3490.8655 - mae: 3490.8655\n",
            "Epoch 128/150\n",
            "34/34 [==============================] - 0s 3ms/step - loss: 3496.6362 - mae: 3496.6362\n",
            "Epoch 129/150\n",
            "34/34 [==============================] - 0s 3ms/step - loss: 3511.6328 - mae: 3511.6328\n",
            "Epoch 130/150\n",
            "34/34 [==============================] - 0s 3ms/step - loss: 3567.7253 - mae: 3567.7253\n",
            "Epoch 131/150\n",
            "34/34 [==============================] - 0s 3ms/step - loss: 3602.9258 - mae: 3602.9258\n",
            "Epoch 132/150\n",
            "34/34 [==============================] - 0s 3ms/step - loss: 3511.4812 - mae: 3511.4812\n",
            "Epoch 133/150\n",
            "34/34 [==============================] - 0s 3ms/step - loss: 3532.1821 - mae: 3532.1821\n",
            "Epoch 134/150\n",
            "34/34 [==============================] - 0s 3ms/step - loss: 3698.0225 - mae: 3698.0225\n",
            "Epoch 135/150\n",
            "34/34 [==============================] - 0s 3ms/step - loss: 3513.1079 - mae: 3513.1079\n",
            "Epoch 136/150\n",
            "34/34 [==============================] - 0s 3ms/step - loss: 3529.2454 - mae: 3529.2454\n",
            "Epoch 137/150\n",
            "34/34 [==============================] - 0s 3ms/step - loss: 3514.6538 - mae: 3514.6538\n",
            "Epoch 138/150\n",
            "34/34 [==============================] - 0s 3ms/step - loss: 3590.1475 - mae: 3590.1475\n",
            "Epoch 139/150\n",
            "34/34 [==============================] - 0s 3ms/step - loss: 3556.4307 - mae: 3556.4307\n",
            "Epoch 140/150\n",
            "34/34 [==============================] - 0s 2ms/step - loss: 3488.7302 - mae: 3488.7302\n",
            "Epoch 141/150\n",
            "34/34 [==============================] - 0s 3ms/step - loss: 3510.8696 - mae: 3510.8696\n",
            "Epoch 142/150\n",
            "34/34 [==============================] - 0s 3ms/step - loss: 3517.1880 - mae: 3517.1880\n",
            "Epoch 143/150\n",
            "34/34 [==============================] - 0s 3ms/step - loss: 3540.7766 - mae: 3540.7766\n",
            "Epoch 144/150\n",
            "34/34 [==============================] - 0s 3ms/step - loss: 3504.0366 - mae: 3504.0366\n",
            "Epoch 145/150\n",
            "34/34 [==============================] - 0s 3ms/step - loss: 3542.9548 - mae: 3542.9548\n",
            "Epoch 146/150\n",
            "34/34 [==============================] - 0s 3ms/step - loss: 3532.3452 - mae: 3532.3452\n",
            "Epoch 147/150\n",
            "34/34 [==============================] - 0s 3ms/step - loss: 3565.1384 - mae: 3565.1384\n",
            "Epoch 148/150\n",
            "34/34 [==============================] - 0s 3ms/step - loss: 3494.2791 - mae: 3494.2791\n",
            "Epoch 149/150\n",
            "34/34 [==============================] - 0s 3ms/step - loss: 3523.6494 - mae: 3523.6494\n",
            "Epoch 150/150\n",
            "34/34 [==============================] - 0s 3ms/step - loss: 3501.4177 - mae: 3501.4177\n"
          ]
        }
      ]
    },
    {
      "cell_type": "code",
      "source": [
        "model_2.evaluate(X_test, y_test)"
      ],
      "metadata": {
        "colab": {
          "base_uri": "https://localhost:8080/"
        },
        "id": "mpGGDoj4edNJ",
        "outputId": "cbb4aca7-79b3-43b0-99b7-48e326d293d0"
      },
      "execution_count": null,
      "outputs": [
        {
          "output_type": "stream",
          "name": "stdout",
          "text": [
            "9/9 [==============================] - 0s 6ms/step - loss: 3248.7769 - mae: 3248.7769\n"
          ]
        },
        {
          "output_type": "execute_result",
          "data": {
            "text/plain": [
              "[3248.77685546875, 3248.77685546875]"
            ]
          },
          "metadata": {},
          "execution_count": 271
        }
      ]
    },
    {
      "cell_type": "code",
      "source": [
        "pd.DataFrame(history.history).plot()\n",
        "plt.ylabel(\"loss\")\n",
        "plt.xlabel(\"epochs\");"
      ],
      "metadata": {
        "colab": {
          "base_uri": "https://localhost:8080/",
          "height": 449
        },
        "id": "GXv3R7HMfKev",
        "outputId": "2f091aa7-fddc-4104-d489-76e60e5ad150"
      },
      "execution_count": null,
      "outputs": [
        {
          "output_type": "display_data",
          "data": {
            "text/plain": [
              "<Figure size 640x480 with 1 Axes>"
            ],
            "image/png": "[encoded data removed]"
          },
          "metadata": {}
        }
      ]
    },
    {
      "cell_type": "markdown",
      "source": [
        "## Normalization and standardization\n",
        "Normalization in machine learning is done to the data to scale it in the similar range so that model learn better patterns. And standardization brings the data to a normal distribution(but reduce the effect of outliers)."
      ],
      "metadata": {
        "id": "f_JEsYp6gsJT"
      }
    },
    {
      "cell_type": "code",
      "source": [
        "import pandas as pd\n",
        "import numpy as np\n",
        "import matplotlib.pyplot as plt\n",
        "\n",
        "insurance = pd.read_csv(\"https://raw.githubusercontent.com/stedy/Machine-Learning-with-R-datasets/master/insurance.csv\")\n",
        "insurance.head()"
      ],
      "metadata": {
        "colab": {
          "base_uri": "https://localhost:8080/",
          "height": 206
        },
        "id": "5iSlihlRj12j",
        "outputId": "6854c89d-bf5e-44af-83c9-866daa398c9b"
      },
      "execution_count": null,
      "outputs": [
        {
          "output_type": "execute_result",
          "data": {
            "text/plain": [
              "   age     sex     bmi  children smoker     region      charges\n",
              "0   19  female  27.900         0    yes  southwest  16884.92400\n",
              "1   18    male  33.770         1     no  southeast   1725.55230\n",
              "2   28    male  33.000         3     no  southeast   4449.46200\n",
              "3   33    male  22.705         0     no  northwest  21984.47061\n",
              "4   32    male  28.880         0     no  northwest   3866.85520"
            ],
            "text/html": [
              "\n",
              "  <div id=\"df-2aa4fddd-70d4-40b8-a7d5-020d71532db5\">\n",
              "    <div class=\"colab-df-container\">\n",
              "      <div>\n",
              "<style scoped>\n",
              "    .dataframe tbody tr th:only-of-type {\n",
              "        vertical-align: middle;\n",
              "    }\n",
              "\n",
              "    .dataframe tbody tr th {\n",
              "        vertical-align: top;\n",
              "    }\n",
              "\n",
              "    .dataframe thead th {\n",
              "        text-align: right;\n",
              "    }\n",
              "</style>\n",
              "<table border=\"1\" class=\"dataframe\">\n",
              "  <thead>\n",
              "    <tr style=\"text-align: right;\">\n",
              "      <th></th>\n",
              "      <th>age</th>\n",
              "      <th>sex</th>\n",
              "      <th>bmi</th>\n",
              "      <th>children</th>\n",
              "      <th>smoker</th>\n",
              "      <th>region</th>\n",
              "      <th>charges</th>\n",
              "    </tr>\n",
              "  </thead>\n",
              "  <tbody>\n",
              "    <tr>\n",
              "      <th>0</th>\n",
              "      <td>19</td>\n",
              "      <td>female</td>\n",
              "      <td>27.900</td>\n",
              "      <td>0</td>\n",
              "      <td>yes</td>\n",
              "      <td>southwest</td>\n",
              "      <td>16884.92400</td>\n",
              "    </tr>\n",
              "    <tr>\n",
              "      <th>1</th>\n",
              "      <td>18</td>\n",
              "      <td>male</td>\n",
              "      <td>33.770</td>\n",
              "      <td>1</td>\n",
              "      <td>no</td>\n",
              "      <td>southeast</td>\n",
              "      <td>1725.55230</td>\n",
              "    </tr>\n",
              "    <tr>\n",
              "      <th>2</th>\n",
              "      <td>28</td>\n",
              "      <td>male</td>\n",
              "      <td>33.000</td>\n",
              "      <td>3</td>\n",
              "      <td>no</td>\n",
              "      <td>southeast</td>\n",
              "      <td>4449.46200</td>\n",
              "    </tr>\n",
              "    <tr>\n",
              "      <th>3</th>\n",
              "      <td>33</td>\n",
              "      <td>male</td>\n",
              "      <td>22.705</td>\n",
              "      <td>0</td>\n",
              "      <td>no</td>\n",
              "      <td>northwest</td>\n",
              "      <td>21984.47061</td>\n",
              "    </tr>\n",
              "    <tr>\n",
              "      <th>4</th>\n",
              "      <td>32</td>\n",
              "      <td>male</td>\n",
              "      <td>28.880</td>\n",
              "      <td>0</td>\n",
              "      <td>no</td>\n",
              "      <td>northwest</td>\n",
              "      <td>3866.85520</td>\n",
              "    </tr>\n",
              "  </tbody>\n",
              "</table>\n",
              "</div>\n",
              "      <button class=\"colab-df-convert\" onclick=\"convertToInteractive('df-2aa4fddd-70d4-40b8-a7d5-020d71532db5')\"\n",
              "              title=\"Convert this dataframe to an interactive table.\"\n",
              "              style=\"display:none;\">\n",
              "        \n",
              "  <svg xmlns=\"http://www.w3.org/2000/svg\" height=\"24px\"viewBox=\"0 0 24 24\"\n",
              "       width=\"24px\">\n",
              "    <path d=\"M0 0h24v24H0V0z\" fill=\"none\"/>\n",
              "    <path d=\"M18.56 5.44l.94 2.06.94-2.06 2.06-.94-2.06-.94-.94-2.06-.94 2.06-2.06.94zm-11 1L8.5 8.5l.94-2.06 2.06-.94-2.06-.94L8.5 2.5l-.94 2.06-2.06.94zm10 10l.94 2.06.94-2.06 2.06-.94-2.06-.94-.94-2.06-.94 2.06-2.06.94z\"/><path d=\"M17.41 7.96l-1.37-1.37c-.4-.4-.92-.59-1.43-.59-.52 0-1.04.2-1.43.59L10.3 9.45l-7.72 7.72c-.78.78-.78 2.05 0 2.83L4 21.41c.39.39.9.59 1.41.59.51 0 1.02-.2 1.41-.59l7.78-7.78 2.81-2.81c.8-.78.8-2.07 0-2.86zM5.41 20L4 18.59l7.72-7.72 1.47 1.35L5.41 20z\"/>\n",
              "  </svg>\n",
              "      </button>\n",
              "      \n",
              "  <style>\n",
              "    .colab-df-container {\n",
              "      display:flex;\n",
              "      flex-wrap:wrap;\n",
              "      gap: 12px;\n",
              "    }\n",
              "\n",
              "    .colab-df-convert {\n",
              "      background-color: #E8F0FE;\n",
              "      border: none;\n",
              "      border-radius: 50%;\n",
              "      cursor: pointer;\n",
              "      display: none;\n",
              "      fill: #1967D2;\n",
              "      height: 32px;\n",
              "      padding: 0 0 0 0;\n",
              "      width: 32px;\n",
              "    }\n",
              "\n",
              "    .colab-df-convert:hover {\n",
              "      background-color: #E2EBFA;\n",
              "      box-shadow: 0px 1px 2px rgba(60, 64, 67, 0.3), 0px 1px 3px 1px rgba(60, 64, 67, 0.15);\n",
              "      fill: #174EA6;\n",
              "    }\n",
              "\n",
              "    [theme=dark] .colab-df-convert {\n",
              "      background-color: #3B4455;\n",
              "      fill: #D2E3FC;\n",
              "    }\n",
              "\n",
              "    [theme=dark] .colab-df-convert:hover {\n",
              "      background-color: #434B5C;\n",
              "      box-shadow: 0px 1px 3px 1px rgba(0, 0, 0, 0.15);\n",
              "      filter: drop-shadow(0px 1px 2px rgba(0, 0, 0, 0.3));\n",
              "      fill: #FFFFFF;\n",
              "    }\n",
              "  </style>\n",
              "\n",
              "      <script>\n",
              "        const buttonEl =\n",
              "          document.querySelector('#df-2aa4fddd-70d4-40b8-a7d5-020d71532db5 button.colab-df-convert');\n",
              "        buttonEl.style.display =\n",
              "          google.colab.kernel.accessAllowed ? 'block' : 'none';\n",
              "\n",
              "        async function convertToInteractive(key) {\n",
              "          const element = document.querySelector('#df-2aa4fddd-70d4-40b8-a7d5-020d71532db5');\n",
              "          const dataTable =\n",
              "            await google.colab.kernel.invokeFunction('convertToInteractive',\n",
              "                                                     [key], {});\n",
              "          if (!dataTable) return;\n",
              "\n",
              "          const docLinkHtml = 'Like what you see? Visit the ' +\n",
              "            '<a target=\"_blank\" href=https://colab.research.google.com/notebooks/data_table.ipynb>data table notebook</a>'\n",
              "            + ' to learn more about interactive tables.';\n",
              "          element.innerHTML = '';\n",
              "          dataTable['output_type'] = 'display_data';\n",
              "          await google.colab.output.renderOutput(dataTable, element);\n",
              "          const docLink = document.createElement('div');\n",
              "          docLink.innerHTML = docLinkHtml;\n",
              "          element.appendChild(docLink);\n",
              "        }\n",
              "      </script>\n",
              "    </div>\n",
              "  </div>\n",
              "  "
            ]
          },
          "metadata": {},
          "execution_count": 275
        }
      ]
    },
    {
      "cell_type": "code",
      "source": [
        "from sklearn.model_selection import train_test_split\n",
        "from sklearn.preprocessing import MinMaxScaler, OneHotEncoder #MinMaxScaler scales numerical features b/w a specific range(0,1) while OneHotEncoder does what u know.\n",
        "from sklearn.compose import make_column_transformer # Column transformer is going to tranform or dit the columns and apply the particular transformers to the data in those columns"
      ],
      "metadata": {
        "id": "vblmp2HrkMk8"
      },
      "execution_count": null,
      "outputs": []
    },
    {
      "cell_type": "code",
      "source": [
        "ct= make_column_transformer((MinMaxScaler(),['age','bmi','children']),\n",
        "                            (OneHotEncoder(handle_unknown='ignore'), ['sex','region','smoker'])\n",
        "                            )"
      ],
      "metadata": {
        "id": "3EwGtmpRk5Ds"
      },
      "execution_count": null,
      "outputs": []
    },
    {
      "cell_type": "code",
      "source": [
        "X= insurance.drop(\"charges\", axis=1)\n",
        "y=insurance[\"charges\"]"
      ],
      "metadata": {
        "id": "cxUGRmiEl442"
      },
      "execution_count": null,
      "outputs": []
    },
    {
      "cell_type": "markdown",
      "source": [
        "🔑**Note:** First we should split the data between training and testing splits then transform so it does not inherit any order from the training data."
      ],
      "metadata": {
        "id": "yRCwZR4zpqaf"
      }
    },
    {
      "cell_type": "code",
      "source": [
        "X_train, X_test, y_train, y_test=train_test_split(X, y, test_size=0.2, random_state=42)"
      ],
      "metadata": {
        "id": "IGPPQ1xVmlLW"
      },
      "execution_count": null,
      "outputs": []
    },
    {
      "cell_type": "code",
      "source": [
        "len(X_train), len(y_train), len(X_test), len(y_test)"
      ],
      "metadata": {
        "colab": {
          "base_uri": "https://localhost:8080/"
        },
        "id": "bTwrFi7zmtlv",
        "outputId": "d385f3b7-d84f-4a3f-e1e4-3b6e8bfa014e"
      },
      "execution_count": null,
      "outputs": [
        {
          "output_type": "execute_result",
          "data": {
            "text/plain": [
              "(1070, 1070, 268, 268)"
            ]
          },
          "metadata": {},
          "execution_count": 316
        }
      ]
    },
    {
      "cell_type": "code",
      "source": [
        "X_train.shape, y_train.shape, X_test.shape, y_test.shape"
      ],
      "metadata": {
        "colab": {
          "base_uri": "https://localhost:8080/"
        },
        "id": "wZDYFBO0m0t9",
        "outputId": "74fac164-06ae-4996-c8bf-b576498a0dfd"
      },
      "execution_count": null,
      "outputs": [
        {
          "output_type": "execute_result",
          "data": {
            "text/plain": [
              "((1070, 6), (1070,), (268, 6), (268,))"
            ]
          },
          "metadata": {},
          "execution_count": 317
        }
      ]
    },
    {
      "cell_type": "markdown",
      "source": [
        "Now we'll transform the data"
      ],
      "metadata": {
        "id": "-b8tk-XbnGCl"
      }
    },
    {
      "cell_type": "code",
      "source": [
        "ct.fit(X_train) # Fit the transformer to the training data"
      ],
      "metadata": {
        "colab": {
          "base_uri": "https://localhost:8080/",
          "height": 118
        },
        "id": "anviJGA6nXIK",
        "outputId": "4442c617-8791-49ef-9674-5a1aacc4552d"
      },
      "execution_count": null,
      "outputs": [
        {
          "output_type": "execute_result",
          "data": {
            "text/plain": [
              "ColumnTransformer(transformers=[('minmaxscaler', MinMaxScaler(),\n",
              "                                 ['age', 'bmi', 'children']),\n",
              "                                ('onehotencoder',\n",
              "                                 OneHotEncoder(handle_unknown='ignore'),\n",
              "                                 ['sex', 'region', 'smoker'])])"
            ],
            "text/html": [
              "<style>#sk-container-id-5 {color: black;background-color: white;}#sk-container-id-5 pre{padding: 0;}#sk-container-id-5 div.sk-toggleable {background-color: white;}#sk-container-id-5 label.sk-toggleable__label {cursor: pointer;display: block;width: 100%;margin-bottom: 0;padding: 0.3em;box-sizing: border-box;text-align: center;}#sk-container-id-5 label.sk-toggleable__label-arrow:before {content: \"▸\";float: left;margin-right: 0.25em;color: #696969;}#sk-container-id-5 label.sk-toggleable__label-arrow:hover:before {color: black;}#sk-container-id-5 div.sk-estimator:hover label.sk-toggleable__label-arrow:before {color: black;}#sk-container-id-5 div.sk-toggleable__content {max-height: 0;max-width: 0;overflow: hidden;text-align: left;background-color: #f0f8ff;}#sk-container-id-5 div.sk-toggleable__content pre {margin: 0.2em;color: black;border-radius: 0.25em;background-color: #f0f8ff;}#sk-container-id-5 input.sk-toggleable__control:checked~div.sk-toggleable__content {max-height: 200px;max-width: 100%;overflow: auto;}#sk-container-id-5 input.sk-toggleable__control:checked~label.sk-toggleable__label-arrow:before {content: \"▾\";}#sk-container-id-5 div.sk-estimator input.sk-toggleable__control:checked~label.sk-toggleable__label {background-color: #d4ebff;}#sk-container-id-5 div.sk-label input.sk-toggleable__control:checked~label.sk-toggleable__label {background-color: #d4ebff;}#sk-container-id-5 input.sk-hidden--visually {border: 0;clip: rect(1px 1px 1px 1px);clip: rect(1px, 1px, 1px, 1px);height: 1px;margin: -1px;overflow: hidden;padding: 0;position: absolute;width: 1px;}#sk-container-id-5 div.sk-estimator {font-family: monospace;background-color: #f0f8ff;border: 1px dotted black;border-radius: 0.25em;box-sizing: border-box;margin-bottom: 0.5em;}#sk-container-id-5 div.sk-estimator:hover {background-color: #d4ebff;}#sk-container-id-5 div.sk-parallel-item::after {content: \"\";width: 100%;border-bottom: 1px solid gray;flex-grow: 1;}#sk-container-id-5 div.sk-label:hover label.sk-toggleable__label {background-color: #d4ebff;}#sk-container-id-5 div.sk-serial::before {content: \"\";position: absolute;border-left: 1px solid gray;box-sizing: border-box;top: 0;bottom: 0;left: 50%;z-index: 0;}#sk-container-id-5 div.sk-serial {display: flex;flex-direction: column;align-items: center;background-color: white;padding-right: 0.2em;padding-left: 0.2em;position: relative;}#sk-container-id-5 div.sk-item {position: relative;z-index: 1;}#sk-container-id-5 div.sk-parallel {display: flex;align-items: stretch;justify-content: center;background-color: white;position: relative;}#sk-container-id-5 div.sk-item::before, #sk-container-id-5 div.sk-parallel-item::before {content: \"\";position: absolute;border-left: 1px solid gray;box-sizing: border-box;top: 0;bottom: 0;left: 50%;z-index: -1;}#sk-container-id-5 div.sk-parallel-item {display: flex;flex-direction: column;z-index: 1;position: relative;background-color: white;}#sk-container-id-5 div.sk-parallel-item:first-child::after {align-self: flex-end;width: 50%;}#sk-container-id-5 div.sk-parallel-item:last-child::after {align-self: flex-start;width: 50%;}#sk-container-id-5 div.sk-parallel-item:only-child::after {width: 0;}#sk-container-id-5 div.sk-dashed-wrapped {border: 1px dashed gray;margin: 0 0.4em 0.5em 0.4em;box-sizing: border-box;padding-bottom: 0.4em;background-color: white;}#sk-container-id-5 div.sk-label label {font-family: monospace;font-weight: bold;display: inline-block;line-height: 1.2em;}#sk-container-id-5 div.sk-label-container {text-align: center;}#sk-container-id-5 div.sk-container {/* jupyter's `normalize.less` sets `[hidden] { display: none; }` but bootstrap.min.css set `[hidden] { display: none !important; }` so we also need the `!important` here to be able to override the default hidden behavior on the sphinx rendered scikit-learn.org. See: https://github.com/scikit-learn/scikit-learn/issues/21755 */display: inline-block !important;position: relative;}#sk-container-id-5 div.sk-text-repr-fallback {display: none;}</style><div id=\"sk-container-id-5\" class=\"sk-top-container\"><div class=\"sk-text-repr-fallback\"><pre>ColumnTransformer(transformers=[(&#x27;minmaxscaler&#x27;, MinMaxScaler(),\n",
              "                                 [&#x27;age&#x27;, &#x27;bmi&#x27;, &#x27;children&#x27;]),\n",
              "                                (&#x27;onehotencoder&#x27;,\n",
              "                                 OneHotEncoder(handle_unknown=&#x27;ignore&#x27;),\n",
              "                                 [&#x27;sex&#x27;, &#x27;region&#x27;, &#x27;smoker&#x27;])])</pre><b>In a Jupyter environment, please rerun this cell to show the HTML representation or trust the notebook. <br />On GitHub, the HTML representation is unable to render, please try loading this page with nbviewer.org.</b></div><div class=\"sk-container\" hidden><div class=\"sk-item sk-dashed-wrapped\"><div class=\"sk-label-container\"><div class=\"sk-label sk-toggleable\"><input class=\"sk-toggleable__control sk-hidden--visually\" id=\"sk-estimator-id-21\" type=\"checkbox\" ><label for=\"sk-estimator-id-21\" class=\"sk-toggleable__label sk-toggleable__label-arrow\">ColumnTransformer</label><div class=\"sk-toggleable__content\"><pre>ColumnTransformer(transformers=[(&#x27;minmaxscaler&#x27;, MinMaxScaler(),\n",
              "                                 [&#x27;age&#x27;, &#x27;bmi&#x27;, &#x27;children&#x27;]),\n",
              "                                (&#x27;onehotencoder&#x27;,\n",
              "                                 OneHotEncoder(handle_unknown=&#x27;ignore&#x27;),\n",
              "                                 [&#x27;sex&#x27;, &#x27;region&#x27;, &#x27;smoker&#x27;])])</pre></div></div></div><div class=\"sk-parallel\"><div class=\"sk-parallel-item\"><div class=\"sk-item\"><div class=\"sk-label-container\"><div class=\"sk-label sk-toggleable\"><input class=\"sk-toggleable__control sk-hidden--visually\" id=\"sk-estimator-id-22\" type=\"checkbox\" ><label for=\"sk-estimator-id-22\" class=\"sk-toggleable__label sk-toggleable__label-arrow\">minmaxscaler</label><div class=\"sk-toggleable__content\"><pre>[&#x27;age&#x27;, &#x27;bmi&#x27;, &#x27;children&#x27;]</pre></div></div></div><div class=\"sk-serial\"><div class=\"sk-item\"><div class=\"sk-estimator sk-toggleable\"><input class=\"sk-toggleable__control sk-hidden--visually\" id=\"sk-estimator-id-23\" type=\"checkbox\" ><label for=\"sk-estimator-id-23\" class=\"sk-toggleable__label sk-toggleable__label-arrow\">MinMaxScaler</label><div class=\"sk-toggleable__content\"><pre>MinMaxScaler()</pre></div></div></div></div></div></div><div class=\"sk-parallel-item\"><div class=\"sk-item\"><div class=\"sk-label-container\"><div class=\"sk-label sk-toggleable\"><input class=\"sk-toggleable__control sk-hidden--visually\" id=\"sk-estimator-id-24\" type=\"checkbox\" ><label for=\"sk-estimator-id-24\" class=\"sk-toggleable__label sk-toggleable__label-arrow\">onehotencoder</label><div class=\"sk-toggleable__content\"><pre>[&#x27;sex&#x27;, &#x27;region&#x27;, &#x27;smoker&#x27;]</pre></div></div></div><div class=\"sk-serial\"><div class=\"sk-item\"><div class=\"sk-estimator sk-toggleable\"><input class=\"sk-toggleable__control sk-hidden--visually\" id=\"sk-estimator-id-25\" type=\"checkbox\" ><label for=\"sk-estimator-id-25\" class=\"sk-toggleable__label sk-toggleable__label-arrow\">OneHotEncoder</label><div class=\"sk-toggleable__content\"><pre>OneHotEncoder(handle_unknown=&#x27;ignore&#x27;)</pre></div></div></div></div></div></div></div></div></div></div>"
            ]
          },
          "metadata": {},
          "execution_count": 318
        }
      ]
    },
    {
      "cell_type": "code",
      "source": [
        "X_train= ct.transform(X_train) #Now transforming the training data."
      ],
      "metadata": {
        "id": "ctBjOXSznhSc"
      },
      "execution_count": null,
      "outputs": []
    },
    {
      "cell_type": "code",
      "source": [
        "X_test=ct.transform(X_test)"
      ],
      "metadata": {
        "id": "TGs8w1jonvJf"
      },
      "execution_count": null,
      "outputs": []
    },
    {
      "cell_type": "code",
      "source": [
        "X_train[0]"
      ],
      "metadata": {
        "colab": {
          "base_uri": "https://localhost:8080/"
        },
        "id": "-PkhNeYkrQwR",
        "outputId": "378351e5-3310-408e-da6a-3175a5506a9e"
      },
      "execution_count": null,
      "outputs": [
        {
          "output_type": "execute_result",
          "data": {
            "text/plain": [
              "array([0.60869565, 0.10734463, 0.4       , 1.        , 0.        ,\n",
              "       0.        , 1.        , 0.        , 0.        , 1.        ,\n",
              "       0.        ])"
            ]
          },
          "metadata": {},
          "execution_count": 322
        }
      ]
    },
    {
      "cell_type": "markdown",
      "source": [
        "Now we have transformed and One Hot encoded the data. Lets pass it to a model"
      ],
      "metadata": {
        "id": "N2D4ffF_sOKG"
      }
    },
    {
      "cell_type": "code",
      "source": [
        "model_4=tf.keras.Sequential([\n",
        "    tf.keras.layers.Dense(100),\n",
        "    tf.keras.layers.Dense(20),\n",
        "    tf.keras.layers.Dense(1)\n",
        "])\n",
        "\n",
        "model_4.compile(loss=\"mae\",\n",
        "                optimizer=tf.keras.optimizers.Adam(learning_rate=0.01),\n",
        "                metrics=[\"mae\"])\n",
        "\n",
        "model_4.fit(X_train, y_train, epochs=150)"
      ],
      "metadata": {
        "colab": {
          "base_uri": "https://localhost:8080/"
        },
        "id": "hJeLVvYzs5Ak",
        "outputId": "025fc14f-182c-46b8-d927-998148fd930e"
      },
      "execution_count": null,
      "outputs": [
        {
          "output_type": "stream",
          "name": "stdout",
          "text": [
            "Epoch 1/150\n",
            "34/34 [==============================] - 2s 5ms/step - loss: 13154.2373 - mae: 13154.2373\n",
            "Epoch 2/150\n",
            "34/34 [==============================] - 0s 3ms/step - loss: 10361.7324 - mae: 10361.7324\n",
            "Epoch 3/150\n",
            "34/34 [==============================] - 0s 5ms/step - loss: 7796.6611 - mae: 7796.6611\n",
            "Epoch 4/150\n",
            "34/34 [==============================] - 0s 4ms/step - loss: 7270.9443 - mae: 7270.9443\n",
            "Epoch 5/150\n",
            "34/34 [==============================] - 0s 4ms/step - loss: 6536.4648 - mae: 6536.4648\n",
            "Epoch 6/150\n",
            "34/34 [==============================] - 0s 6ms/step - loss: 5356.5913 - mae: 5356.5913\n",
            "Epoch 7/150\n",
            "34/34 [==============================] - 0s 5ms/step - loss: 4035.0845 - mae: 4035.0845\n",
            "Epoch 8/150\n",
            "34/34 [==============================] - 0s 8ms/step - loss: 3673.7476 - mae: 3673.7476\n",
            "Epoch 9/150\n",
            "34/34 [==============================] - 0s 5ms/step - loss: 3640.6323 - mae: 3640.6323\n",
            "Epoch 10/150\n",
            "34/34 [==============================] - 0s 5ms/step - loss: 3633.5520 - mae: 3633.5520\n",
            "Epoch 11/150\n",
            "34/34 [==============================] - 0s 4ms/step - loss: 3626.1101 - mae: 3626.1101\n",
            "Epoch 12/150\n",
            "34/34 [==============================] - 0s 4ms/step - loss: 3591.8391 - mae: 3591.8391\n",
            "Epoch 13/150\n",
            "34/34 [==============================] - 0s 4ms/step - loss: 3554.3794 - mae: 3554.3794\n",
            "Epoch 14/150\n",
            "34/34 [==============================] - 0s 3ms/step - loss: 3569.4724 - mae: 3569.4724\n",
            "Epoch 15/150\n",
            "34/34 [==============================] - 0s 5ms/step - loss: 3532.4539 - mae: 3532.4539\n",
            "Epoch 16/150\n",
            "34/34 [==============================] - 0s 4ms/step - loss: 3519.0503 - mae: 3519.0503\n",
            "Epoch 17/150\n",
            "34/34 [==============================] - 0s 5ms/step - loss: 3542.0901 - mae: 3542.0901\n",
            "Epoch 18/150\n",
            "34/34 [==============================] - 0s 4ms/step - loss: 3488.2388 - mae: 3488.2388\n",
            "Epoch 19/150\n",
            "34/34 [==============================] - 0s 4ms/step - loss: 3534.4509 - mae: 3534.4509\n",
            "Epoch 20/150\n",
            "34/34 [==============================] - 0s 5ms/step - loss: 3500.0186 - mae: 3500.0186\n",
            "Epoch 21/150\n",
            "34/34 [==============================] - 0s 5ms/step - loss: 3485.1890 - mae: 3485.1890\n",
            "Epoch 22/150\n",
            "34/34 [==============================] - 0s 5ms/step - loss: 3495.0061 - mae: 3495.0061\n",
            "Epoch 23/150\n",
            "34/34 [==============================] - 0s 4ms/step - loss: 3498.8494 - mae: 3498.8494\n",
            "Epoch 24/150\n",
            "34/34 [==============================] - 0s 4ms/step - loss: 3498.0081 - mae: 3498.0081\n",
            "Epoch 25/150\n",
            "34/34 [==============================] - 0s 4ms/step - loss: 3533.5454 - mae: 3533.5454\n",
            "Epoch 26/150\n",
            "34/34 [==============================] - 0s 4ms/step - loss: 3490.8755 - mae: 3490.8755\n",
            "Epoch 27/150\n",
            "34/34 [==============================] - 0s 4ms/step - loss: 3500.9348 - mae: 3500.9348\n",
            "Epoch 28/150\n",
            "34/34 [==============================] - 0s 4ms/step - loss: 3508.8799 - mae: 3508.8799\n",
            "Epoch 29/150\n",
            "34/34 [==============================] - 0s 5ms/step - loss: 3502.6165 - mae: 3502.6165\n",
            "Epoch 30/150\n",
            "34/34 [==============================] - 0s 4ms/step - loss: 3503.3909 - mae: 3503.3909\n",
            "Epoch 31/150\n",
            "34/34 [==============================] - 0s 5ms/step - loss: 3500.7649 - mae: 3500.7649\n",
            "Epoch 32/150\n",
            "34/34 [==============================] - 0s 4ms/step - loss: 3505.1902 - mae: 3505.1902\n",
            "Epoch 33/150\n",
            "34/34 [==============================] - 0s 5ms/step - loss: 3504.2483 - mae: 3504.2483\n",
            "Epoch 34/150\n",
            "34/34 [==============================] - 0s 3ms/step - loss: 3495.5625 - mae: 3495.5625\n",
            "Epoch 35/150\n",
            "34/34 [==============================] - 0s 3ms/step - loss: 3498.7473 - mae: 3498.7473\n",
            "Epoch 36/150\n",
            "34/34 [==============================] - 0s 3ms/step - loss: 3512.1409 - mae: 3512.1409\n",
            "Epoch 37/150\n",
            "34/34 [==============================] - 0s 3ms/step - loss: 3488.6123 - mae: 3488.6123\n",
            "Epoch 38/150\n",
            "34/34 [==============================] - 0s 2ms/step - loss: 3505.8774 - mae: 3505.8774\n",
            "Epoch 39/150\n",
            "34/34 [==============================] - 0s 2ms/step - loss: 3491.4443 - mae: 3491.4443\n",
            "Epoch 40/150\n",
            "34/34 [==============================] - 0s 2ms/step - loss: 3527.5542 - mae: 3527.5542\n",
            "Epoch 41/150\n",
            "34/34 [==============================] - 0s 2ms/step - loss: 3503.4543 - mae: 3503.4543\n",
            "Epoch 42/150\n",
            "34/34 [==============================] - 0s 2ms/step - loss: 3506.1792 - mae: 3506.1792\n",
            "Epoch 43/150\n",
            "34/34 [==============================] - 0s 2ms/step - loss: 3496.8818 - mae: 3496.8818\n",
            "Epoch 44/150\n",
            "34/34 [==============================] - 0s 2ms/step - loss: 3493.3413 - mae: 3493.3413\n",
            "Epoch 45/150\n",
            "34/34 [==============================] - 0s 2ms/step - loss: 3482.3286 - mae: 3482.3286\n",
            "Epoch 46/150\n",
            "34/34 [==============================] - 0s 2ms/step - loss: 3498.7908 - mae: 3498.7908\n",
            "Epoch 47/150\n",
            "34/34 [==============================] - 0s 2ms/step - loss: 3504.8987 - mae: 3504.8987\n",
            "Epoch 48/150\n",
            "34/34 [==============================] - 0s 2ms/step - loss: 3490.8552 - mae: 3490.8552\n",
            "Epoch 49/150\n",
            "34/34 [==============================] - 0s 2ms/step - loss: 3509.9109 - mae: 3509.9109\n",
            "Epoch 50/150\n",
            "34/34 [==============================] - 0s 2ms/step - loss: 3523.1501 - mae: 3523.1501\n",
            "Epoch 51/150\n",
            "34/34 [==============================] - 0s 2ms/step - loss: 3505.0415 - mae: 3505.0415\n",
            "Epoch 52/150\n",
            "34/34 [==============================] - 0s 2ms/step - loss: 3496.6636 - mae: 3496.6636\n",
            "Epoch 53/150\n",
            "34/34 [==============================] - 0s 2ms/step - loss: 3493.0740 - mae: 3493.0740\n",
            "Epoch 54/150\n",
            "34/34 [==============================] - 0s 2ms/step - loss: 3512.3127 - mae: 3512.3127\n",
            "Epoch 55/150\n",
            "34/34 [==============================] - 0s 2ms/step - loss: 3518.9766 - mae: 3518.9766\n",
            "Epoch 56/150\n",
            "34/34 [==============================] - 0s 2ms/step - loss: 3495.6855 - mae: 3495.6855\n",
            "Epoch 57/150\n",
            "34/34 [==============================] - 0s 2ms/step - loss: 3499.6091 - mae: 3499.6091\n",
            "Epoch 58/150\n",
            "34/34 [==============================] - 0s 2ms/step - loss: 3491.4824 - mae: 3491.4824\n",
            "Epoch 59/150\n",
            "34/34 [==============================] - 0s 2ms/step - loss: 3493.0034 - mae: 3493.0034\n",
            "Epoch 60/150\n",
            "34/34 [==============================] - 0s 2ms/step - loss: 3502.4834 - mae: 3502.4834\n",
            "Epoch 61/150\n",
            "34/34 [==============================] - 0s 2ms/step - loss: 3500.6118 - mae: 3500.6118\n",
            "Epoch 62/150\n",
            "34/34 [==============================] - 0s 2ms/step - loss: 3494.5447 - mae: 3494.5447\n",
            "Epoch 63/150\n",
            "34/34 [==============================] - 0s 2ms/step - loss: 3489.1584 - mae: 3489.1584\n",
            "Epoch 64/150\n",
            "34/34 [==============================] - 0s 2ms/step - loss: 3495.0437 - mae: 3495.0437\n",
            "Epoch 65/150\n",
            "34/34 [==============================] - 0s 2ms/step - loss: 3490.4480 - mae: 3490.4480\n",
            "Epoch 66/150\n",
            "34/34 [==============================] - 0s 2ms/step - loss: 3499.8538 - mae: 3499.8538\n",
            "Epoch 67/150\n",
            "34/34 [==============================] - 0s 2ms/step - loss: 3495.6675 - mae: 3495.6675\n",
            "Epoch 68/150\n",
            "34/34 [==============================] - 0s 2ms/step - loss: 3490.8228 - mae: 3490.8228\n",
            "Epoch 69/150\n",
            "34/34 [==============================] - 0s 2ms/step - loss: 3490.9231 - mae: 3490.9231\n",
            "Epoch 70/150\n",
            "34/34 [==============================] - 0s 2ms/step - loss: 3491.3721 - mae: 3491.3723\n",
            "Epoch 71/150\n",
            "34/34 [==============================] - 0s 2ms/step - loss: 3489.0977 - mae: 3489.0977\n",
            "Epoch 72/150\n",
            "34/34 [==============================] - 0s 2ms/step - loss: 3487.3657 - mae: 3487.3657\n",
            "Epoch 73/150\n",
            "34/34 [==============================] - 0s 2ms/step - loss: 3512.1929 - mae: 3512.1929\n",
            "Epoch 74/150\n",
            "34/34 [==============================] - 0s 2ms/step - loss: 3507.5933 - mae: 3507.5933\n",
            "Epoch 75/150\n",
            "34/34 [==============================] - 0s 2ms/step - loss: 3489.6509 - mae: 3489.6509\n",
            "Epoch 76/150\n",
            "34/34 [==============================] - 0s 2ms/step - loss: 3506.4563 - mae: 3506.4563\n",
            "Epoch 77/150\n",
            "34/34 [==============================] - 0s 2ms/step - loss: 3492.1050 - mae: 3492.1050\n",
            "Epoch 78/150\n",
            "34/34 [==============================] - 0s 2ms/step - loss: 3496.4575 - mae: 3496.4575\n",
            "Epoch 79/150\n",
            "34/34 [==============================] - 0s 2ms/step - loss: 3501.1025 - mae: 3501.1025\n",
            "Epoch 80/150\n",
            "34/34 [==============================] - 0s 2ms/step - loss: 3517.7930 - mae: 3517.7930\n",
            "Epoch 81/150\n",
            "34/34 [==============================] - 0s 2ms/step - loss: 3507.2612 - mae: 3507.2612\n",
            "Epoch 82/150\n",
            "34/34 [==============================] - 0s 2ms/step - loss: 3495.5923 - mae: 3495.5923\n",
            "Epoch 83/150\n",
            "34/34 [==============================] - 0s 2ms/step - loss: 3500.6458 - mae: 3500.6458\n",
            "Epoch 84/150\n",
            "34/34 [==============================] - 0s 2ms/step - loss: 3515.4326 - mae: 3515.4329\n",
            "Epoch 85/150\n",
            "34/34 [==============================] - 0s 2ms/step - loss: 3480.6438 - mae: 3480.6438\n",
            "Epoch 86/150\n",
            "34/34 [==============================] - 0s 2ms/step - loss: 3491.9055 - mae: 3491.9055\n",
            "Epoch 87/150\n",
            "34/34 [==============================] - 0s 2ms/step - loss: 3486.8235 - mae: 3486.8235\n",
            "Epoch 88/150\n",
            "34/34 [==============================] - 0s 2ms/step - loss: 3488.0481 - mae: 3488.0481\n",
            "Epoch 89/150\n",
            "34/34 [==============================] - 0s 2ms/step - loss: 3497.9717 - mae: 3497.9717\n",
            "Epoch 90/150\n",
            "34/34 [==============================] - 0s 2ms/step - loss: 3490.9150 - mae: 3490.9150\n",
            "Epoch 91/150\n",
            "34/34 [==============================] - 0s 2ms/step - loss: 3489.6616 - mae: 3489.6616\n",
            "Epoch 92/150\n",
            "34/34 [==============================] - 0s 2ms/step - loss: 3504.7104 - mae: 3504.7104\n",
            "Epoch 93/150\n",
            "34/34 [==============================] - 0s 2ms/step - loss: 3495.0938 - mae: 3495.0938\n",
            "Epoch 94/150\n",
            "34/34 [==============================] - 0s 2ms/step - loss: 3488.4797 - mae: 3488.4797\n",
            "Epoch 95/150\n",
            "34/34 [==============================] - 0s 2ms/step - loss: 3497.6282 - mae: 3497.6282\n",
            "Epoch 96/150\n",
            "34/34 [==============================] - 0s 2ms/step - loss: 3494.7466 - mae: 3494.7466\n",
            "Epoch 97/150\n",
            "34/34 [==============================] - 0s 2ms/step - loss: 3515.6057 - mae: 3515.6057\n",
            "Epoch 98/150\n",
            "34/34 [==============================] - 0s 2ms/step - loss: 3487.8562 - mae: 3487.8562\n",
            "Epoch 99/150\n",
            "34/34 [==============================] - 0s 2ms/step - loss: 3518.6758 - mae: 3518.6758\n",
            "Epoch 100/150\n",
            "34/34 [==============================] - 0s 2ms/step - loss: 3504.7473 - mae: 3504.7473\n",
            "Epoch 101/150\n",
            "34/34 [==============================] - 0s 2ms/step - loss: 3499.6404 - mae: 3499.6404\n",
            "Epoch 102/150\n",
            "34/34 [==============================] - 0s 2ms/step - loss: 3497.2993 - mae: 3497.2993\n",
            "Epoch 103/150\n",
            "34/34 [==============================] - 0s 2ms/step - loss: 3521.0505 - mae: 3521.0505\n",
            "Epoch 104/150\n",
            "34/34 [==============================] - 0s 2ms/step - loss: 3491.9326 - mae: 3491.9326\n",
            "Epoch 105/150\n",
            "34/34 [==============================] - 0s 2ms/step - loss: 3507.3774 - mae: 3507.3774\n",
            "Epoch 106/150\n",
            "34/34 [==============================] - 0s 2ms/step - loss: 3504.2205 - mae: 3504.2205\n",
            "Epoch 107/150\n",
            "34/34 [==============================] - 0s 2ms/step - loss: 3481.1699 - mae: 3481.1699\n",
            "Epoch 108/150\n",
            "34/34 [==============================] - 0s 2ms/step - loss: 3488.5930 - mae: 3488.5930\n",
            "Epoch 109/150\n",
            "34/34 [==============================] - 0s 2ms/step - loss: 3500.9851 - mae: 3500.9851\n",
            "Epoch 110/150\n",
            "34/34 [==============================] - 0s 2ms/step - loss: 3487.6367 - mae: 3487.6367\n",
            "Epoch 111/150\n",
            "34/34 [==============================] - 0s 2ms/step - loss: 3512.7146 - mae: 3512.7146\n",
            "Epoch 112/150\n",
            "34/34 [==============================] - 0s 2ms/step - loss: 3503.1748 - mae: 3503.1748\n",
            "Epoch 113/150\n",
            "34/34 [==============================] - 0s 2ms/step - loss: 3524.6255 - mae: 3524.6255\n",
            "Epoch 114/150\n",
            "34/34 [==============================] - 0s 2ms/step - loss: 3500.3943 - mae: 3500.3943\n",
            "Epoch 115/150\n",
            "34/34 [==============================] - 0s 2ms/step - loss: 3496.9956 - mae: 3496.9956\n",
            "Epoch 116/150\n",
            "34/34 [==============================] - 0s 2ms/step - loss: 3509.3413 - mae: 3509.3413\n",
            "Epoch 117/150\n",
            "34/34 [==============================] - 0s 2ms/step - loss: 3493.9426 - mae: 3493.9426\n",
            "Epoch 118/150\n",
            "34/34 [==============================] - 0s 2ms/step - loss: 3488.8760 - mae: 3488.8760\n",
            "Epoch 119/150\n",
            "34/34 [==============================] - 0s 2ms/step - loss: 3493.4810 - mae: 3493.4810\n",
            "Epoch 120/150\n",
            "34/34 [==============================] - 0s 2ms/step - loss: 3490.2092 - mae: 3490.2092\n",
            "Epoch 121/150\n",
            "34/34 [==============================] - 0s 2ms/step - loss: 3515.9844 - mae: 3515.9844\n",
            "Epoch 122/150\n",
            "34/34 [==============================] - 0s 2ms/step - loss: 3502.8552 - mae: 3502.8552\n",
            "Epoch 123/150\n",
            "34/34 [==============================] - 0s 2ms/step - loss: 3517.1328 - mae: 3517.1328\n",
            "Epoch 124/150\n",
            "34/34 [==============================] - 0s 2ms/step - loss: 3494.4702 - mae: 3494.4702\n",
            "Epoch 125/150\n",
            "34/34 [==============================] - 0s 2ms/step - loss: 3503.5015 - mae: 3503.5015\n",
            "Epoch 126/150\n",
            "34/34 [==============================] - 0s 2ms/step - loss: 3507.5098 - mae: 3507.5098\n",
            "Epoch 127/150\n",
            "34/34 [==============================] - 0s 2ms/step - loss: 3499.3625 - mae: 3499.3625\n",
            "Epoch 128/150\n",
            "34/34 [==============================] - 0s 2ms/step - loss: 3501.0461 - mae: 3501.0461\n",
            "Epoch 129/150\n",
            "34/34 [==============================] - 0s 2ms/step - loss: 3515.6702 - mae: 3515.6702\n",
            "Epoch 130/150\n",
            "34/34 [==============================] - 0s 2ms/step - loss: 3513.0986 - mae: 3513.0986\n",
            "Epoch 131/150\n",
            "34/34 [==============================] - 0s 2ms/step - loss: 3490.8728 - mae: 3490.8728\n",
            "Epoch 132/150\n",
            "34/34 [==============================] - 0s 2ms/step - loss: 3498.5198 - mae: 3498.5198\n",
            "Epoch 133/150\n",
            "34/34 [==============================] - 0s 2ms/step - loss: 3491.8503 - mae: 3491.8503\n",
            "Epoch 134/150\n",
            "34/34 [==============================] - 0s 2ms/step - loss: 3495.8518 - mae: 3495.8518\n",
            "Epoch 135/150\n",
            "34/34 [==============================] - 0s 2ms/step - loss: 3495.6282 - mae: 3495.6282\n",
            "Epoch 136/150\n",
            "34/34 [==============================] - 0s 2ms/step - loss: 3482.3159 - mae: 3482.3159\n",
            "Epoch 137/150\n",
            "34/34 [==============================] - 0s 2ms/step - loss: 3495.9854 - mae: 3495.9854\n",
            "Epoch 138/150\n",
            "34/34 [==============================] - 0s 2ms/step - loss: 3495.8960 - mae: 3495.8960\n",
            "Epoch 139/150\n",
            "34/34 [==============================] - 0s 2ms/step - loss: 3501.0022 - mae: 3501.0022\n",
            "Epoch 140/150\n",
            "34/34 [==============================] - 0s 2ms/step - loss: 3499.9897 - mae: 3499.9897\n",
            "Epoch 141/150\n",
            "34/34 [==============================] - 0s 2ms/step - loss: 3511.2644 - mae: 3511.2644\n",
            "Epoch 142/150\n",
            "34/34 [==============================] - 0s 2ms/step - loss: 3500.9524 - mae: 3500.9524\n",
            "Epoch 143/150\n",
            "34/34 [==============================] - 0s 2ms/step - loss: 3492.5657 - mae: 3492.5657\n",
            "Epoch 144/150\n",
            "34/34 [==============================] - 0s 2ms/step - loss: 3499.1533 - mae: 3499.1533\n",
            "Epoch 145/150\n",
            "34/34 [==============================] - 0s 2ms/step - loss: 3505.4409 - mae: 3505.4409\n",
            "Epoch 146/150\n",
            "34/34 [==============================] - 0s 2ms/step - loss: 3511.1472 - mae: 3511.1472\n",
            "Epoch 147/150\n",
            "34/34 [==============================] - 0s 2ms/step - loss: 3538.6895 - mae: 3538.6895\n",
            "Epoch 148/150\n",
            "34/34 [==============================] - 0s 2ms/step - loss: 3498.2180 - mae: 3498.2180\n",
            "Epoch 149/150\n",
            "34/34 [==============================] - 0s 2ms/step - loss: 3491.8528 - mae: 3491.8528\n",
            "Epoch 150/150\n",
            "34/34 [==============================] - 0s 2ms/step - loss: 3494.4258 - mae: 3494.4258\n"
          ]
        },
        {
          "output_type": "execute_result",
          "data": {
            "text/plain": [
              "<keras.callbacks.History at 0x7f061b167a60>"
            ]
          },
          "metadata": {},
          "execution_count": 323
        }
      ]
    },
    {
      "cell_type": "code",
      "source": [
        "model_4.evaluate(X_test, y_test)"
      ],
      "metadata": {
        "colab": {
          "base_uri": "https://localhost:8080/"
        },
        "id": "PTfOZIJZtoo3",
        "outputId": "0d37e415-e53c-4fa7-8217-2886ad719a16"
      },
      "execution_count": null,
      "outputs": [
        {
          "output_type": "stream",
          "name": "stdout",
          "text": [
            "9/9 [==============================] - 0s 3ms/step - loss: 3155.6575 - mae: 3155.6575\n"
          ]
        },
        {
          "output_type": "execute_result",
          "data": {
            "text/plain": [
              "[3155.657470703125, 3155.657470703125]"
            ]
          },
          "metadata": {},
          "execution_count": 324
        }
      ]
    },
    {
      "cell_type": "markdown",
      "source": [
        "🔑**Note:** we saw that the model got improved so apart from the before experiments, we can alter and normalize data which might improve the model."
      ],
      "metadata": {
        "id": "HnFTkes0txz0"
      }
    },
    {
      "cell_type": "code",
      "source": [],
      "metadata": {
        "id": "SyhGaPfAuWMo"
      },
      "execution_count": null,
      "outputs": []
    }
  ]
}
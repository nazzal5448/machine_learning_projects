{
  "nbformat": 4,
  "nbformat_minor": 0,
  "metadata": {
    "colab": {
      "provenance": []
    },
    "kernelspec": {
      "name": "python3",
      "display_name": "Python 3"
    },
    "language_info": {
      "name": "python"
    }
  },
  "cells": [
    {
      "cell_type": "markdown",
      "source": [
        "#🛠 Neural network regression with TensorFlow Exercises\n",
        "01. Create your own regression dataset (or make the one we created in \"Create data to view and fit\" bigger) and build fit a model to it.\n",
        "02.Try building a neural network with 4 Dense layers and fitting it to your own regression dataset, how does it perform?\n",
        "03. Try and improve the results we got on the insurance dataset, some things you might want to try include:\n",
        "  * Building a larger model (how does one with 4 dense layers go?).\n",
        "  * Increasing the number of units in each layer.\n",
        "  * Lookup the documentation of [Adam](https://www.tensorflow.org/api_docs/python/tf/keras/optimizers/Adam) and find out what the first parameter is, what happens if you increase it by 10x?\n",
        "  * What happens if you train for longer (say 300 epochs instead of 200)?\n",
        "04. Import the [Boston pricing dataset](https://www.tensorflow.org/api_docs/python/tf/keras/datasets/boston_housing/load_data) from TensorFlow `tf.keras.datasets` and model it"
      ],
      "metadata": {
        "id": "7UxJ-dq-t1gc"
      }
    },
    {
      "cell_type": "markdown",
      "source": [
        "## 01. Creating Regression Dataset and fitting model"
      ],
      "metadata": {
        "id": "AIRXw7r5t4mW"
      }
    },
    {
      "cell_type": "code",
      "source": [
        "import tensorflow as tf\n",
        "import numpy as np"
      ],
      "metadata": {
        "id": "Oo4h8oV91Z68"
      },
      "execution_count": null,
      "outputs": []
    },
    {
      "cell_type": "code",
      "source": [
        "#creating X and y data\n",
        "X= np.arange(0, 1000, 5)\n",
        "y= X+10"
      ],
      "metadata": {
        "id": "XoPi9Mp01g83"
      },
      "execution_count": null,
      "outputs": []
    },
    {
      "cell_type": "code",
      "source": [
        "X.shape, y.shape"
      ],
      "metadata": {
        "colab": {
          "base_uri": "https://localhost:8080/"
        },
        "id": "7TVXcLzl10Fk",
        "outputId": "55ce8acd-0516-4a5e-ce6f-45817dbf997d"
      },
      "execution_count": null,
      "outputs": [
        {
          "output_type": "execute_result",
          "data": {
            "text/plain": [
              "((200,), (200,))"
            ]
          },
          "metadata": {},
          "execution_count": 16
        }
      ]
    },
    {
      "cell_type": "code",
      "source": [
        "X[:10], y[:10]"
      ],
      "metadata": {
        "colab": {
          "base_uri": "https://localhost:8080/"
        },
        "id": "fVlX6jCR1258",
        "outputId": "9db4140e-973b-4431-a0d4-7e1d0cb42228"
      },
      "execution_count": null,
      "outputs": [
        {
          "output_type": "execute_result",
          "data": {
            "text/plain": [
              "(array([ 0,  5, 10, 15, 20, 25, 30, 35, 40, 45]),\n",
              " array([10, 15, 20, 25, 30, 35, 40, 45, 50, 55]))"
            ]
          },
          "metadata": {},
          "execution_count": 18
        }
      ]
    },
    {
      "cell_type": "code",
      "source": [
        "#creating train and test splits\n",
        "X_train, y_train = X[:180], y[:180]\n",
        "X_test, y_test=X[180:], y[180:]"
      ],
      "metadata": {
        "id": "X5VwCtYG2kOf"
      },
      "execution_count": null,
      "outputs": []
    },
    {
      "cell_type": "code",
      "source": [
        "X_train.shape, y_train.shape"
      ],
      "metadata": {
        "colab": {
          "base_uri": "https://localhost:8080/"
        },
        "id": "D1YZULF83AWn",
        "outputId": "210b099c-6f34-4fed-a288-d84f74013027"
      },
      "execution_count": null,
      "outputs": [
        {
          "output_type": "execute_result",
          "data": {
            "text/plain": [
              "((180,), (180,))"
            ]
          },
          "metadata": {},
          "execution_count": 20
        }
      ]
    },
    {
      "cell_type": "code",
      "source": [
        "X_test.shape, y_test.shape"
      ],
      "metadata": {
        "colab": {
          "base_uri": "https://localhost:8080/"
        },
        "id": "8BfXNaEo3DwY",
        "outputId": "d1d30244-91aa-4850-bc42-e101c5013e20"
      },
      "execution_count": null,
      "outputs": [
        {
          "output_type": "execute_result",
          "data": {
            "text/plain": [
              "((20,), (20,))"
            ]
          },
          "metadata": {},
          "execution_count": 21
        }
      ]
    },
    {
      "cell_type": "markdown",
      "source": [
        "## Modelling"
      ],
      "metadata": {
        "id": "zbCdPcjN3cXG"
      }
    },
    {
      "cell_type": "code",
      "source": [
        "#creating model\n",
        "model_1= tf.keras.Sequential([\n",
        "    tf.keras.layers.Dense(1),\n",
        "])\n",
        "#compiling model\n",
        "model_1.compile(loss=['mae'],\n",
        "                optimizer= tf.keras.optimizers.Adam(),\n",
        "                metrics=['mae'])\n",
        "\n",
        "#fitting model\n",
        "model_1.fit(tf.expand_dims(X_train, axis=-1), y_train, epochs=100)"
      ],
      "metadata": {
        "colab": {
          "base_uri": "https://localhost:8080/"
        },
        "id": "MwTBNMkh3IVp",
        "outputId": "68c51ff3-347c-4120-fd63-0d6ecc3a4686"
      },
      "execution_count": null,
      "outputs": [
        {
          "output_type": "stream",
          "name": "stdout",
          "text": [
            "Epoch 1/100\n",
            "6/6 [==============================] - 1s 4ms/step - loss: 1179.1321 - mae: 1179.1321\n",
            "Epoch 2/100\n",
            "6/6 [==============================] - 0s 3ms/step - loss: 1176.3668 - mae: 1176.3668\n",
            "Epoch 3/100\n",
            "6/6 [==============================] - 0s 4ms/step - loss: 1173.7393 - mae: 1173.7393\n",
            "Epoch 4/100\n",
            "6/6 [==============================] - 0s 3ms/step - loss: 1171.0714 - mae: 1171.0714\n",
            "Epoch 5/100\n",
            "6/6 [==============================] - 0s 3ms/step - loss: 1168.3618 - mae: 1168.3618\n",
            "Epoch 6/100\n",
            "6/6 [==============================] - 0s 3ms/step - loss: 1165.6698 - mae: 1165.6698\n",
            "Epoch 7/100\n",
            "6/6 [==============================] - 0s 3ms/step - loss: 1163.0518 - mae: 1163.0518\n",
            "Epoch 8/100\n",
            "6/6 [==============================] - 0s 3ms/step - loss: 1160.2982 - mae: 1160.2982\n",
            "Epoch 9/100\n",
            "6/6 [==============================] - 0s 3ms/step - loss: 1157.6797 - mae: 1157.6797\n",
            "Epoch 10/100\n",
            "6/6 [==============================] - 0s 3ms/step - loss: 1154.9417 - mae: 1154.9417\n",
            "Epoch 11/100\n",
            "6/6 [==============================] - 0s 3ms/step - loss: 1152.2795 - mae: 1152.2795\n",
            "Epoch 12/100\n",
            "6/6 [==============================] - 0s 3ms/step - loss: 1149.6426 - mae: 1149.6426\n",
            "Epoch 13/100\n",
            "6/6 [==============================] - 0s 3ms/step - loss: 1146.9130 - mae: 1146.9130\n",
            "Epoch 14/100\n",
            "6/6 [==============================] - 0s 4ms/step - loss: 1144.2271 - mae: 1144.2271\n",
            "Epoch 15/100\n",
            "6/6 [==============================] - 0s 3ms/step - loss: 1141.5754 - mae: 1141.5754\n",
            "Epoch 16/100\n",
            "6/6 [==============================] - 0s 3ms/step - loss: 1138.9030 - mae: 1138.9030\n",
            "Epoch 17/100\n",
            "6/6 [==============================] - 0s 3ms/step - loss: 1136.2733 - mae: 1136.2733\n",
            "Epoch 18/100\n",
            "6/6 [==============================] - 0s 3ms/step - loss: 1133.5044 - mae: 1133.5044\n",
            "Epoch 19/100\n",
            "6/6 [==============================] - 0s 3ms/step - loss: 1130.8712 - mae: 1130.8712\n",
            "Epoch 20/100\n",
            "6/6 [==============================] - 0s 3ms/step - loss: 1128.1858 - mae: 1128.1858\n",
            "Epoch 21/100\n",
            "6/6 [==============================] - 0s 3ms/step - loss: 1125.5061 - mae: 1125.5061\n",
            "Epoch 22/100\n",
            "6/6 [==============================] - 0s 4ms/step - loss: 1122.8644 - mae: 1122.8644\n",
            "Epoch 23/100\n",
            "6/6 [==============================] - 0s 3ms/step - loss: 1120.1501 - mae: 1120.1501\n",
            "Epoch 24/100\n",
            "6/6 [==============================] - 0s 3ms/step - loss: 1117.4771 - mae: 1117.4771\n",
            "Epoch 25/100\n",
            "6/6 [==============================] - 0s 3ms/step - loss: 1114.8494 - mae: 1114.8494\n",
            "Epoch 26/100\n",
            "6/6 [==============================] - 0s 3ms/step - loss: 1112.1417 - mae: 1112.1417\n",
            "Epoch 27/100\n",
            "6/6 [==============================] - 0s 3ms/step - loss: 1109.4786 - mae: 1109.4786\n",
            "Epoch 28/100\n",
            "6/6 [==============================] - 0s 3ms/step - loss: 1106.8065 - mae: 1106.8065\n",
            "Epoch 29/100\n",
            "6/6 [==============================] - 0s 3ms/step - loss: 1104.1206 - mae: 1104.1206\n",
            "Epoch 30/100\n",
            "6/6 [==============================] - 0s 3ms/step - loss: 1101.4747 - mae: 1101.4747\n",
            "Epoch 31/100\n",
            "6/6 [==============================] - 0s 3ms/step - loss: 1098.7980 - mae: 1098.7980\n",
            "Epoch 32/100\n",
            "6/6 [==============================] - 0s 3ms/step - loss: 1096.0948 - mae: 1096.0948\n",
            "Epoch 33/100\n",
            "6/6 [==============================] - 0s 3ms/step - loss: 1093.4398 - mae: 1093.4398\n",
            "Epoch 34/100\n",
            "6/6 [==============================] - 0s 4ms/step - loss: 1090.7631 - mae: 1090.7631\n",
            "Epoch 35/100\n",
            "6/6 [==============================] - 0s 3ms/step - loss: 1088.0631 - mae: 1088.0631\n",
            "Epoch 36/100\n",
            "6/6 [==============================] - 0s 3ms/step - loss: 1085.4500 - mae: 1085.4500\n",
            "Epoch 37/100\n",
            "6/6 [==============================] - 0s 3ms/step - loss: 1082.7274 - mae: 1082.7274\n",
            "Epoch 38/100\n",
            "6/6 [==============================] - 0s 3ms/step - loss: 1080.0615 - mae: 1080.0615\n",
            "Epoch 39/100\n",
            "6/6 [==============================] - 0s 3ms/step - loss: 1077.3778 - mae: 1077.3778\n",
            "Epoch 40/100\n",
            "6/6 [==============================] - 0s 3ms/step - loss: 1074.6829 - mae: 1074.6829\n",
            "Epoch 41/100\n",
            "6/6 [==============================] - 0s 3ms/step - loss: 1072.0264 - mae: 1072.0264\n",
            "Epoch 42/100\n",
            "6/6 [==============================] - 0s 3ms/step - loss: 1069.3599 - mae: 1069.3599\n",
            "Epoch 43/100\n",
            "6/6 [==============================] - 0s 3ms/step - loss: 1066.6809 - mae: 1066.6809\n",
            "Epoch 44/100\n",
            "6/6 [==============================] - 0s 3ms/step - loss: 1063.9215 - mae: 1063.9215\n",
            "Epoch 45/100\n",
            "6/6 [==============================] - 0s 3ms/step - loss: 1061.2390 - mae: 1061.2390\n",
            "Epoch 46/100\n",
            "6/6 [==============================] - 0s 3ms/step - loss: 1058.5862 - mae: 1058.5862\n",
            "Epoch 47/100\n",
            "6/6 [==============================] - 0s 3ms/step - loss: 1055.9247 - mae: 1055.9247\n",
            "Epoch 48/100\n",
            "6/6 [==============================] - 0s 3ms/step - loss: 1053.2603 - mae: 1053.2603\n",
            "Epoch 49/100\n",
            "6/6 [==============================] - 0s 3ms/step - loss: 1050.5236 - mae: 1050.5236\n",
            "Epoch 50/100\n",
            "6/6 [==============================] - 0s 3ms/step - loss: 1047.8708 - mae: 1047.8708\n",
            "Epoch 51/100\n",
            "6/6 [==============================] - 0s 3ms/step - loss: 1045.2002 - mae: 1045.2002\n",
            "Epoch 52/100\n",
            "6/6 [==============================] - 0s 3ms/step - loss: 1042.5443 - mae: 1042.5443\n",
            "Epoch 53/100\n",
            "6/6 [==============================] - 0s 3ms/step - loss: 1039.8661 - mae: 1039.8661\n",
            "Epoch 54/100\n",
            "6/6 [==============================] - 0s 3ms/step - loss: 1037.1731 - mae: 1037.1731\n",
            "Epoch 55/100\n",
            "6/6 [==============================] - 0s 3ms/step - loss: 1034.5261 - mae: 1034.5261\n",
            "Epoch 56/100\n",
            "6/6 [==============================] - 0s 3ms/step - loss: 1031.8463 - mae: 1031.8463\n",
            "Epoch 57/100\n",
            "6/6 [==============================] - 0s 3ms/step - loss: 1029.1300 - mae: 1029.1300\n",
            "Epoch 58/100\n",
            "6/6 [==============================] - 0s 3ms/step - loss: 1026.4542 - mae: 1026.4542\n",
            "Epoch 59/100\n",
            "6/6 [==============================] - 0s 3ms/step - loss: 1023.8592 - mae: 1023.8593\n",
            "Epoch 60/100\n",
            "6/6 [==============================] - 0s 3ms/step - loss: 1021.1634 - mae: 1021.1634\n",
            "Epoch 61/100\n",
            "6/6 [==============================] - 0s 3ms/step - loss: 1018.4819 - mae: 1018.4819\n",
            "Epoch 62/100\n",
            "6/6 [==============================] - 0s 3ms/step - loss: 1015.8337 - mae: 1015.8337\n",
            "Epoch 63/100\n",
            "6/6 [==============================] - 0s 5ms/step - loss: 1013.1367 - mae: 1013.1367\n",
            "Epoch 64/100\n",
            "6/6 [==============================] - 0s 3ms/step - loss: 1010.4921 - mae: 1010.4921\n",
            "Epoch 65/100\n",
            "6/6 [==============================] - 0s 3ms/step - loss: 1007.8279 - mae: 1007.8279\n",
            "Epoch 66/100\n",
            "6/6 [==============================] - 0s 3ms/step - loss: 1005.1150 - mae: 1005.1150\n",
            "Epoch 67/100\n",
            "6/6 [==============================] - 0s 3ms/step - loss: 1002.4764 - mae: 1002.4764\n",
            "Epoch 68/100\n",
            "6/6 [==============================] - 0s 3ms/step - loss: 999.7883 - mae: 999.7883\n",
            "Epoch 69/100\n",
            "6/6 [==============================] - 0s 3ms/step - loss: 997.1243 - mae: 997.1243\n",
            "Epoch 70/100\n",
            "6/6 [==============================] - 0s 3ms/step - loss: 994.4186 - mae: 994.4186\n",
            "Epoch 71/100\n",
            "6/6 [==============================] - 0s 5ms/step - loss: 991.7706 - mae: 991.7706\n",
            "Epoch 72/100\n",
            "6/6 [==============================] - 0s 3ms/step - loss: 989.0695 - mae: 989.0695\n",
            "Epoch 73/100\n",
            "6/6 [==============================] - 0s 3ms/step - loss: 986.4068 - mae: 986.4068\n",
            "Epoch 74/100\n",
            "6/6 [==============================] - 0s 3ms/step - loss: 983.7406 - mae: 983.7406\n",
            "Epoch 75/100\n",
            "6/6 [==============================] - 0s 3ms/step - loss: 981.0126 - mae: 981.0126\n",
            "Epoch 76/100\n",
            "6/6 [==============================] - 0s 3ms/step - loss: 978.3783 - mae: 978.3783\n",
            "Epoch 77/100\n",
            "6/6 [==============================] - 0s 3ms/step - loss: 975.6299 - mae: 975.6299\n",
            "Epoch 78/100\n",
            "6/6 [==============================] - 0s 3ms/step - loss: 972.9533 - mae: 972.9533\n",
            "Epoch 79/100\n",
            "6/6 [==============================] - 0s 4ms/step - loss: 970.3290 - mae: 970.3290\n",
            "Epoch 80/100\n",
            "6/6 [==============================] - 0s 5ms/step - loss: 967.5941 - mae: 967.5941\n",
            "Epoch 81/100\n",
            "6/6 [==============================] - 0s 5ms/step - loss: 964.9492 - mae: 964.9492\n",
            "Epoch 82/100\n",
            "6/6 [==============================] - 0s 5ms/step - loss: 962.1830 - mae: 962.1830\n",
            "Epoch 83/100\n",
            "6/6 [==============================] - 0s 4ms/step - loss: 959.5627 - mae: 959.5627\n",
            "Epoch 84/100\n",
            "6/6 [==============================] - 0s 6ms/step - loss: 956.8739 - mae: 956.8739\n",
            "Epoch 85/100\n",
            "6/6 [==============================] - 0s 4ms/step - loss: 954.1992 - mae: 954.1992\n",
            "Epoch 86/100\n",
            "6/6 [==============================] - 0s 4ms/step - loss: 951.4872 - mae: 951.4872\n",
            "Epoch 87/100\n",
            "6/6 [==============================] - 0s 6ms/step - loss: 948.8353 - mae: 948.8353\n",
            "Epoch 88/100\n",
            "6/6 [==============================] - 0s 5ms/step - loss: 946.1246 - mae: 946.1246\n",
            "Epoch 89/100\n",
            "6/6 [==============================] - 0s 5ms/step - loss: 943.4371 - mae: 943.4371\n",
            "Epoch 90/100\n",
            "6/6 [==============================] - 0s 4ms/step - loss: 940.7383 - mae: 940.7383\n",
            "Epoch 91/100\n",
            "6/6 [==============================] - 0s 5ms/step - loss: 938.1010 - mae: 938.1010\n",
            "Epoch 92/100\n",
            "6/6 [==============================] - 0s 4ms/step - loss: 935.4532 - mae: 935.4532\n",
            "Epoch 93/100\n",
            "6/6 [==============================] - 0s 4ms/step - loss: 932.7266 - mae: 932.7266\n",
            "Epoch 94/100\n",
            "6/6 [==============================] - 0s 3ms/step - loss: 930.0886 - mae: 930.0886\n",
            "Epoch 95/100\n",
            "6/6 [==============================] - 0s 3ms/step - loss: 927.3662 - mae: 927.3662\n",
            "Epoch 96/100\n",
            "6/6 [==============================] - 0s 4ms/step - loss: 924.7321 - mae: 924.7321\n",
            "Epoch 97/100\n",
            "6/6 [==============================] - 0s 5ms/step - loss: 922.0482 - mae: 922.0482\n",
            "Epoch 98/100\n",
            "6/6 [==============================] - 0s 3ms/step - loss: 919.3928 - mae: 919.3928\n",
            "Epoch 99/100\n",
            "6/6 [==============================] - 0s 3ms/step - loss: 916.7557 - mae: 916.7557\n",
            "Epoch 100/100\n",
            "6/6 [==============================] - 0s 3ms/step - loss: 914.1061 - mae: 914.1061\n"
          ]
        },
        {
          "output_type": "execute_result",
          "data": {
            "text/plain": [
              "<keras.callbacks.History at 0x7f128c0a1180>"
            ]
          },
          "metadata": {},
          "execution_count": 23
        }
      ]
    },
    {
      "cell_type": "code",
      "source": [
        "model_1.evaluate(X_test, y_test)"
      ],
      "metadata": {
        "colab": {
          "base_uri": "https://localhost:8080/"
        },
        "id": "XJ51guH54AD4",
        "outputId": "0887f413-aed9-46d2-95b2-4b6395998d3b"
      },
      "execution_count": null,
      "outputs": [
        {
          "output_type": "stream",
          "name": "stdout",
          "text": [
            "1/1 [==============================] - 0s 143ms/step - loss: 1921.4307 - mae: 1921.4307\n"
          ]
        },
        {
          "output_type": "execute_result",
          "data": {
            "text/plain": [
              "[1921.4306640625, 1921.4306640625]"
            ]
          },
          "metadata": {},
          "execution_count": 24
        }
      ]
    },
    {
      "cell_type": "markdown",
      "source": [
        "## 03. Increasing No. of hidden units"
      ],
      "metadata": {
        "id": "ck0q8gSy4iFF"
      }
    },
    {
      "cell_type": "code",
      "source": [
        "model_2=tf.keras.Sequential([\n",
        "    tf.keras.layers.Dense(100),\n",
        "])\n",
        "\n",
        "model_2.compile(loss=['mae'],\n",
        "                optimizer=tf.keras.optimizers.Adam(),\n",
        "                metrics=['mae'])\n",
        "model_2.fit(tf.expand_dims(X_train, axis=-1), y_train, epochs=100)"
      ],
      "metadata": {
        "colab": {
          "base_uri": "https://localhost:8080/"
        },
        "id": "myBo02Ap5Jnu",
        "outputId": "2a23d1b5-bc92-4710-fe8f-886dbb4fb945"
      },
      "execution_count": null,
      "outputs": [
        {
          "output_type": "stream",
          "name": "stdout",
          "text": [
            "Epoch 1/100\n",
            "6/6 [==============================] - 1s 3ms/step - loss: 462.3967 - mae: 462.3967\n",
            "Epoch 2/100\n",
            "6/6 [==============================] - 0s 3ms/step - loss: 459.7385 - mae: 459.7385\n",
            "Epoch 3/100\n",
            "6/6 [==============================] - 0s 3ms/step - loss: 457.0447 - mae: 457.0447\n",
            "Epoch 4/100\n",
            "6/6 [==============================] - 0s 3ms/step - loss: 454.3643 - mae: 454.3643\n",
            "Epoch 5/100\n",
            "6/6 [==============================] - 0s 3ms/step - loss: 451.7093 - mae: 451.7093\n",
            "Epoch 6/100\n",
            "6/6 [==============================] - 0s 3ms/step - loss: 449.0139 - mae: 449.0139\n",
            "Epoch 7/100\n",
            "6/6 [==============================] - 0s 3ms/step - loss: 446.3098 - mae: 446.3098\n",
            "Epoch 8/100\n",
            "6/6 [==============================] - 0s 3ms/step - loss: 443.6542 - mae: 443.6542\n",
            "Epoch 9/100\n",
            "6/6 [==============================] - 0s 3ms/step - loss: 440.9427 - mae: 440.9427\n",
            "Epoch 10/100\n",
            "6/6 [==============================] - 0s 3ms/step - loss: 438.2638 - mae: 438.2638\n",
            "Epoch 11/100\n",
            "6/6 [==============================] - 0s 3ms/step - loss: 435.5909 - mae: 435.5909\n",
            "Epoch 12/100\n",
            "6/6 [==============================] - 0s 4ms/step - loss: 432.8781 - mae: 432.8781\n",
            "Epoch 13/100\n",
            "6/6 [==============================] - 0s 3ms/step - loss: 430.1323 - mae: 430.1323\n",
            "Epoch 14/100\n",
            "6/6 [==============================] - 0s 3ms/step - loss: 427.5381 - mae: 427.5381\n",
            "Epoch 15/100\n",
            "6/6 [==============================] - 0s 3ms/step - loss: 424.8125 - mae: 424.8125\n",
            "Epoch 16/100\n",
            "6/6 [==============================] - 0s 3ms/step - loss: 422.1506 - mae: 422.1506\n",
            "Epoch 17/100\n",
            "6/6 [==============================] - 0s 3ms/step - loss: 419.4678 - mae: 419.4678\n",
            "Epoch 18/100\n",
            "6/6 [==============================] - 0s 3ms/step - loss: 416.8141 - mae: 416.8141\n",
            "Epoch 19/100\n",
            "6/6 [==============================] - 0s 3ms/step - loss: 414.0929 - mae: 414.0929\n",
            "Epoch 20/100\n",
            "6/6 [==============================] - 0s 4ms/step - loss: 411.3770 - mae: 411.3770\n",
            "Epoch 21/100\n",
            "6/6 [==============================] - 0s 4ms/step - loss: 408.7191 - mae: 408.7191\n",
            "Epoch 22/100\n",
            "6/6 [==============================] - 0s 3ms/step - loss: 406.0033 - mae: 406.0033\n",
            "Epoch 23/100\n",
            "6/6 [==============================] - 0s 3ms/step - loss: 403.3200 - mae: 403.3200\n",
            "Epoch 24/100\n",
            "6/6 [==============================] - 0s 3ms/step - loss: 400.6830 - mae: 400.6830\n",
            "Epoch 25/100\n",
            "6/6 [==============================] - 0s 3ms/step - loss: 397.9654 - mae: 397.9654\n",
            "Epoch 26/100\n",
            "6/6 [==============================] - 0s 4ms/step - loss: 395.2717 - mae: 395.2717\n",
            "Epoch 27/100\n",
            "6/6 [==============================] - 0s 3ms/step - loss: 392.5865 - mae: 392.5865\n",
            "Epoch 28/100\n",
            "6/6 [==============================] - 0s 3ms/step - loss: 389.9439 - mae: 389.9439\n",
            "Epoch 29/100\n",
            "6/6 [==============================] - 0s 3ms/step - loss: 387.1664 - mae: 387.1664\n",
            "Epoch 30/100\n",
            "6/6 [==============================] - 0s 4ms/step - loss: 384.5139 - mae: 384.5139\n",
            "Epoch 31/100\n",
            "6/6 [==============================] - 0s 4ms/step - loss: 381.8381 - mae: 381.8381\n",
            "Epoch 32/100\n",
            "6/6 [==============================] - 0s 3ms/step - loss: 379.1414 - mae: 379.1414\n",
            "Epoch 33/100\n",
            "6/6 [==============================] - 0s 3ms/step - loss: 376.4266 - mae: 376.4266\n",
            "Epoch 34/100\n",
            "6/6 [==============================] - 0s 3ms/step - loss: 373.7462 - mae: 373.7462\n",
            "Epoch 35/100\n",
            "6/6 [==============================] - 0s 3ms/step - loss: 371.1348 - mae: 371.1348\n",
            "Epoch 36/100\n",
            "6/6 [==============================] - 0s 3ms/step - loss: 368.3727 - mae: 368.3727\n",
            "Epoch 37/100\n",
            "6/6 [==============================] - 0s 3ms/step - loss: 365.6816 - mae: 365.6816\n",
            "Epoch 38/100\n",
            "6/6 [==============================] - 0s 3ms/step - loss: 363.0494 - mae: 363.0494\n",
            "Epoch 39/100\n",
            "6/6 [==============================] - 0s 3ms/step - loss: 360.3438 - mae: 360.3438\n",
            "Epoch 40/100\n",
            "6/6 [==============================] - 0s 3ms/step - loss: 357.6625 - mae: 357.6625\n",
            "Epoch 41/100\n",
            "6/6 [==============================] - 0s 3ms/step - loss: 354.9954 - mae: 354.9954\n",
            "Epoch 42/100\n",
            "6/6 [==============================] - 0s 3ms/step - loss: 352.2838 - mae: 352.2838\n",
            "Epoch 43/100\n",
            "6/6 [==============================] - 0s 3ms/step - loss: 349.6555 - mae: 349.6555\n",
            "Epoch 44/100\n",
            "6/6 [==============================] - 0s 4ms/step - loss: 346.9664 - mae: 346.9664\n",
            "Epoch 45/100\n",
            "6/6 [==============================] - 0s 4ms/step - loss: 344.2122 - mae: 344.2122\n",
            "Epoch 46/100\n",
            "6/6 [==============================] - 0s 3ms/step - loss: 341.6167 - mae: 341.6167\n",
            "Epoch 47/100\n",
            "6/6 [==============================] - 0s 3ms/step - loss: 338.9008 - mae: 338.9008\n",
            "Epoch 48/100\n",
            "6/6 [==============================] - 0s 3ms/step - loss: 336.1798 - mae: 336.1798\n",
            "Epoch 49/100\n",
            "6/6 [==============================] - 0s 3ms/step - loss: 333.5063 - mae: 333.5063\n",
            "Epoch 50/100\n",
            "6/6 [==============================] - 0s 3ms/step - loss: 330.8059 - mae: 330.8059\n",
            "Epoch 51/100\n",
            "6/6 [==============================] - 0s 3ms/step - loss: 328.1228 - mae: 328.1228\n",
            "Epoch 52/100\n",
            "6/6 [==============================] - 0s 4ms/step - loss: 325.4638 - mae: 325.4638\n",
            "Epoch 53/100\n",
            "6/6 [==============================] - 0s 3ms/step - loss: 322.8087 - mae: 322.8087\n",
            "Epoch 54/100\n",
            "6/6 [==============================] - 0s 3ms/step - loss: 320.1164 - mae: 320.1164\n",
            "Epoch 55/100\n",
            "6/6 [==============================] - 0s 3ms/step - loss: 317.4370 - mae: 317.4370\n",
            "Epoch 56/100\n",
            "6/6 [==============================] - 0s 3ms/step - loss: 314.7428 - mae: 314.7428\n",
            "Epoch 57/100\n",
            "6/6 [==============================] - 0s 3ms/step - loss: 312.0686 - mae: 312.0686\n",
            "Epoch 58/100\n",
            "6/6 [==============================] - 0s 3ms/step - loss: 309.4146 - mae: 309.4146\n",
            "Epoch 59/100\n",
            "6/6 [==============================] - 0s 3ms/step - loss: 306.7512 - mae: 306.7512\n",
            "Epoch 60/100\n",
            "6/6 [==============================] - 0s 3ms/step - loss: 304.0677 - mae: 304.0677\n",
            "Epoch 61/100\n",
            "6/6 [==============================] - 0s 3ms/step - loss: 301.4385 - mae: 301.4385\n",
            "Epoch 62/100\n",
            "6/6 [==============================] - 0s 3ms/step - loss: 298.7755 - mae: 298.7755\n",
            "Epoch 63/100\n",
            "6/6 [==============================] - 0s 4ms/step - loss: 296.0721 - mae: 296.0721\n",
            "Epoch 64/100\n",
            "6/6 [==============================] - 0s 4ms/step - loss: 293.4211 - mae: 293.4211\n",
            "Epoch 65/100\n",
            "6/6 [==============================] - 0s 3ms/step - loss: 290.8265 - mae: 290.8265\n",
            "Epoch 66/100\n",
            "6/6 [==============================] - 0s 4ms/step - loss: 288.1114 - mae: 288.1114\n",
            "Epoch 67/100\n",
            "6/6 [==============================] - 0s 4ms/step - loss: 285.4745 - mae: 285.4745\n",
            "Epoch 68/100\n",
            "6/6 [==============================] - 0s 5ms/step - loss: 282.7508 - mae: 282.7508\n",
            "Epoch 69/100\n",
            "6/6 [==============================] - 0s 3ms/step - loss: 280.1103 - mae: 280.1103\n",
            "Epoch 70/100\n",
            "6/6 [==============================] - 0s 4ms/step - loss: 277.4336 - mae: 277.4336\n",
            "Epoch 71/100\n",
            "6/6 [==============================] - 0s 3ms/step - loss: 274.7355 - mae: 274.7355\n",
            "Epoch 72/100\n",
            "6/6 [==============================] - 0s 3ms/step - loss: 272.1199 - mae: 272.1199\n",
            "Epoch 73/100\n",
            "6/6 [==============================] - 0s 3ms/step - loss: 269.4245 - mae: 269.4245\n",
            "Epoch 74/100\n",
            "6/6 [==============================] - 0s 4ms/step - loss: 266.7127 - mae: 266.7127\n",
            "Epoch 75/100\n",
            "6/6 [==============================] - 0s 4ms/step - loss: 264.0634 - mae: 264.0634\n",
            "Epoch 76/100\n",
            "6/6 [==============================] - 0s 3ms/step - loss: 261.3064 - mae: 261.3064\n",
            "Epoch 77/100\n",
            "6/6 [==============================] - 0s 4ms/step - loss: 258.6882 - mae: 258.6882\n",
            "Epoch 78/100\n",
            "6/6 [==============================] - 0s 4ms/step - loss: 255.9659 - mae: 255.9659\n",
            "Epoch 79/100\n",
            "6/6 [==============================] - 0s 3ms/step - loss: 253.3484 - mae: 253.3484\n",
            "Epoch 80/100\n",
            "6/6 [==============================] - 0s 3ms/step - loss: 250.5874 - mae: 250.5874\n",
            "Epoch 81/100\n",
            "6/6 [==============================] - 0s 4ms/step - loss: 247.9112 - mae: 247.9112\n",
            "Epoch 82/100\n",
            "6/6 [==============================] - 0s 3ms/step - loss: 245.2628 - mae: 245.2628\n",
            "Epoch 83/100\n",
            "6/6 [==============================] - 0s 3ms/step - loss: 242.5537 - mae: 242.5537\n",
            "Epoch 84/100\n",
            "6/6 [==============================] - 0s 4ms/step - loss: 239.8814 - mae: 239.8814\n",
            "Epoch 85/100\n",
            "6/6 [==============================] - 0s 4ms/step - loss: 237.2356 - mae: 237.2356\n",
            "Epoch 86/100\n",
            "6/6 [==============================] - 0s 4ms/step - loss: 234.5497 - mae: 234.5497\n",
            "Epoch 87/100\n",
            "6/6 [==============================] - 0s 3ms/step - loss: 231.9384 - mae: 231.9384\n",
            "Epoch 88/100\n",
            "6/6 [==============================] - 0s 4ms/step - loss: 229.2254 - mae: 229.2254\n",
            "Epoch 89/100\n",
            "6/6 [==============================] - 0s 3ms/step - loss: 226.5928 - mae: 226.5928\n",
            "Epoch 90/100\n",
            "6/6 [==============================] - 0s 3ms/step - loss: 223.8804 - mae: 223.8804\n",
            "Epoch 91/100\n",
            "6/6 [==============================] - 0s 3ms/step - loss: 221.2334 - mae: 221.2334\n",
            "Epoch 92/100\n",
            "6/6 [==============================] - 0s 3ms/step - loss: 218.5855 - mae: 218.5855\n",
            "Epoch 93/100\n",
            "6/6 [==============================] - 0s 3ms/step - loss: 215.8780 - mae: 215.8780\n",
            "Epoch 94/100\n",
            "6/6 [==============================] - 0s 3ms/step - loss: 213.2438 - mae: 213.2438\n",
            "Epoch 95/100\n",
            "6/6 [==============================] - 0s 3ms/step - loss: 210.5506 - mae: 210.5506\n",
            "Epoch 96/100\n",
            "6/6 [==============================] - 0s 3ms/step - loss: 207.8381 - mae: 207.8381\n",
            "Epoch 97/100\n",
            "6/6 [==============================] - 0s 3ms/step - loss: 205.1936 - mae: 205.1936\n",
            "Epoch 98/100\n",
            "6/6 [==============================] - 0s 4ms/step - loss: 202.5099 - mae: 202.5099\n",
            "Epoch 99/100\n",
            "6/6 [==============================] - 0s 3ms/step - loss: 199.8118 - mae: 199.8118\n",
            "Epoch 100/100\n",
            "6/6 [==============================] - 0s 4ms/step - loss: 197.1631 - mae: 197.1631\n"
          ]
        },
        {
          "output_type": "execute_result",
          "data": {
            "text/plain": [
              "<keras.callbacks.History at 0x7f12998bb190>"
            ]
          },
          "metadata": {},
          "execution_count": 26
        }
      ]
    },
    {
      "cell_type": "code",
      "source": [
        "model_3= tf.keras.Sequential([\n",
        "    tf.keras.layers.Dense(100),\n",
        "    tf.keras.layers.Dense(50)\n",
        "])\n",
        "model_3.compile(loss=['mae'],\n",
        "                optimizer= tf.keras.optimizers.Adam(),\n",
        "                metrics=['mae'])\n",
        "model_3.fit(tf.expand_dims(X_train, axis=-1), y_train, epochs=100)"
      ],
      "metadata": {
        "colab": {
          "base_uri": "https://localhost:8080/"
        },
        "id": "VFgvfyqQ5qAJ",
        "outputId": "5159d6f2-5603-413f-d4d1-26a12d5e254d"
      },
      "execution_count": null,
      "outputs": [
        {
          "output_type": "stream",
          "name": "stdout",
          "text": [
            "Epoch 1/100\n",
            "6/6 [==============================] - 1s 3ms/step - loss: 454.4111 - mae: 454.4111\n",
            "Epoch 2/100\n",
            "6/6 [==============================] - 0s 3ms/step - loss: 417.2899 - mae: 417.2899\n",
            "Epoch 3/100\n",
            "6/6 [==============================] - 0s 4ms/step - loss: 378.1762 - mae: 378.1762\n",
            "Epoch 4/100\n",
            "6/6 [==============================] - 0s 4ms/step - loss: 337.7643 - mae: 337.7643\n",
            "Epoch 5/100\n",
            "6/6 [==============================] - 0s 3ms/step - loss: 294.6519 - mae: 294.6519\n",
            "Epoch 6/100\n",
            "6/6 [==============================] - 0s 3ms/step - loss: 248.1235 - mae: 248.1235\n",
            "Epoch 7/100\n",
            "6/6 [==============================] - 0s 4ms/step - loss: 195.6671 - mae: 195.6671\n",
            "Epoch 8/100\n",
            "6/6 [==============================] - 0s 3ms/step - loss: 139.5373 - mae: 139.5373\n",
            "Epoch 9/100\n",
            "6/6 [==============================] - 0s 3ms/step - loss: 91.4342 - mae: 91.4342\n",
            "Epoch 10/100\n",
            "6/6 [==============================] - 0s 4ms/step - loss: 61.2020 - mae: 61.2020\n",
            "Epoch 11/100\n",
            "6/6 [==============================] - 0s 4ms/step - loss: 37.8029 - mae: 37.8029\n",
            "Epoch 12/100\n",
            "6/6 [==============================] - 0s 3ms/step - loss: 20.4329 - mae: 20.4329\n",
            "Epoch 13/100\n",
            "6/6 [==============================] - 0s 3ms/step - loss: 15.0871 - mae: 15.0871\n",
            "Epoch 14/100\n",
            "6/6 [==============================] - 0s 3ms/step - loss: 10.5306 - mae: 10.5306\n",
            "Epoch 15/100\n",
            "6/6 [==============================] - 0s 3ms/step - loss: 8.2003 - mae: 8.2003\n",
            "Epoch 16/100\n",
            "6/6 [==============================] - 0s 3ms/step - loss: 6.3943 - mae: 6.3943\n",
            "Epoch 17/100\n",
            "6/6 [==============================] - 0s 3ms/step - loss: 5.7131 - mae: 5.7131\n",
            "Epoch 18/100\n",
            "6/6 [==============================] - 0s 3ms/step - loss: 4.8731 - mae: 4.8731\n",
            "Epoch 19/100\n",
            "6/6 [==============================] - 0s 3ms/step - loss: 4.4246 - mae: 4.4246\n",
            "Epoch 20/100\n",
            "6/6 [==============================] - 0s 3ms/step - loss: 4.2160 - mae: 4.2160\n",
            "Epoch 21/100\n",
            "6/6 [==============================] - 0s 4ms/step - loss: 4.0994 - mae: 4.0994\n",
            "Epoch 22/100\n",
            "6/6 [==============================] - 0s 3ms/step - loss: 4.0625 - mae: 4.0625\n",
            "Epoch 23/100\n",
            "6/6 [==============================] - 0s 4ms/step - loss: 3.9835 - mae: 3.9835\n",
            "Epoch 24/100\n",
            "6/6 [==============================] - 0s 4ms/step - loss: 3.9253 - mae: 3.9253\n",
            "Epoch 25/100\n",
            "6/6 [==============================] - 0s 3ms/step - loss: 4.0649 - mae: 4.0649\n",
            "Epoch 26/100\n",
            "6/6 [==============================] - 0s 3ms/step - loss: 3.9857 - mae: 3.9857\n",
            "Epoch 27/100\n",
            "6/6 [==============================] - 0s 4ms/step - loss: 4.2344 - mae: 4.2344\n",
            "Epoch 28/100\n",
            "6/6 [==============================] - 0s 4ms/step - loss: 4.2426 - mae: 4.2426\n",
            "Epoch 29/100\n",
            "6/6 [==============================] - 0s 3ms/step - loss: 4.4640 - mae: 4.4640\n",
            "Epoch 30/100\n",
            "6/6 [==============================] - 0s 5ms/step - loss: 4.0683 - mae: 4.0683\n",
            "Epoch 31/100\n",
            "6/6 [==============================] - 0s 3ms/step - loss: 4.2761 - mae: 4.2761\n",
            "Epoch 32/100\n",
            "6/6 [==============================] - 0s 3ms/step - loss: 3.9209 - mae: 3.9209\n",
            "Epoch 33/100\n",
            "6/6 [==============================] - 0s 3ms/step - loss: 4.0207 - mae: 4.0207\n",
            "Epoch 34/100\n",
            "6/6 [==============================] - 0s 4ms/step - loss: 4.1819 - mae: 4.1819\n",
            "Epoch 35/100\n",
            "6/6 [==============================] - 0s 3ms/step - loss: 3.9110 - mae: 3.9110\n",
            "Epoch 36/100\n",
            "6/6 [==============================] - 0s 4ms/step - loss: 3.8137 - mae: 3.8137\n",
            "Epoch 37/100\n",
            "6/6 [==============================] - 0s 3ms/step - loss: 3.8141 - mae: 3.8141\n",
            "Epoch 38/100\n",
            "6/6 [==============================] - 0s 4ms/step - loss: 3.9236 - mae: 3.9236\n",
            "Epoch 39/100\n",
            "6/6 [==============================] - 0s 4ms/step - loss: 3.7312 - mae: 3.7312\n",
            "Epoch 40/100\n",
            "6/6 [==============================] - 0s 3ms/step - loss: 3.8051 - mae: 3.8051\n",
            "Epoch 41/100\n",
            "6/6 [==============================] - 0s 3ms/step - loss: 4.0918 - mae: 4.0918\n",
            "Epoch 42/100\n",
            "6/6 [==============================] - 0s 3ms/step - loss: 4.0789 - mae: 4.0789\n",
            "Epoch 43/100\n",
            "6/6 [==============================] - 0s 3ms/step - loss: 3.8329 - mae: 3.8329\n",
            "Epoch 44/100\n",
            "6/6 [==============================] - 0s 3ms/step - loss: 3.9861 - mae: 3.9861\n",
            "Epoch 45/100\n",
            "6/6 [==============================] - 0s 3ms/step - loss: 3.9312 - mae: 3.9312\n",
            "Epoch 46/100\n",
            "6/6 [==============================] - 0s 3ms/step - loss: 3.8304 - mae: 3.8304\n",
            "Epoch 47/100\n",
            "6/6 [==============================] - 0s 3ms/step - loss: 3.5903 - mae: 3.5903\n",
            "Epoch 48/100\n",
            "6/6 [==============================] - 0s 3ms/step - loss: 3.6574 - mae: 3.6574\n",
            "Epoch 49/100\n",
            "6/6 [==============================] - 0s 3ms/step - loss: 3.6724 - mae: 3.6724\n",
            "Epoch 50/100\n",
            "6/6 [==============================] - 0s 3ms/step - loss: 3.6978 - mae: 3.6978\n",
            "Epoch 51/100\n",
            "6/6 [==============================] - 0s 3ms/step - loss: 3.5810 - mae: 3.5810\n",
            "Epoch 52/100\n",
            "6/6 [==============================] - 0s 3ms/step - loss: 3.6311 - mae: 3.6311\n",
            "Epoch 53/100\n",
            "6/6 [==============================] - 0s 3ms/step - loss: 3.6989 - mae: 3.6989\n",
            "Epoch 54/100\n",
            "6/6 [==============================] - 0s 3ms/step - loss: 3.6502 - mae: 3.6502\n",
            "Epoch 55/100\n",
            "6/6 [==============================] - 0s 3ms/step - loss: 3.5679 - mae: 3.5679\n",
            "Epoch 56/100\n",
            "6/6 [==============================] - 0s 3ms/step - loss: 3.5261 - mae: 3.5261\n",
            "Epoch 57/100\n",
            "6/6 [==============================] - 0s 5ms/step - loss: 3.4896 - mae: 3.4896\n",
            "Epoch 58/100\n",
            "6/6 [==============================] - 0s 3ms/step - loss: 3.5782 - mae: 3.5782\n",
            "Epoch 59/100\n",
            "6/6 [==============================] - 0s 3ms/step - loss: 3.4771 - mae: 3.4771\n",
            "Epoch 60/100\n",
            "6/6 [==============================] - 0s 3ms/step - loss: 3.4752 - mae: 3.4752\n",
            "Epoch 61/100\n",
            "6/6 [==============================] - 0s 4ms/step - loss: 3.7094 - mae: 3.7094\n",
            "Epoch 62/100\n",
            "6/6 [==============================] - 0s 3ms/step - loss: 3.5349 - mae: 3.5349\n",
            "Epoch 63/100\n",
            "6/6 [==============================] - 0s 4ms/step - loss: 3.5794 - mae: 3.5794\n",
            "Epoch 64/100\n",
            "6/6 [==============================] - 0s 3ms/step - loss: 3.7522 - mae: 3.7522\n",
            "Epoch 65/100\n",
            "6/6 [==============================] - 0s 3ms/step - loss: 3.4666 - mae: 3.4666\n",
            "Epoch 66/100\n",
            "6/6 [==============================] - 0s 3ms/step - loss: 3.3703 - mae: 3.3703\n",
            "Epoch 67/100\n",
            "6/6 [==============================] - 0s 3ms/step - loss: 3.4113 - mae: 3.4113\n",
            "Epoch 68/100\n",
            "6/6 [==============================] - 0s 5ms/step - loss: 3.4292 - mae: 3.4292\n",
            "Epoch 69/100\n",
            "6/6 [==============================] - 0s 3ms/step - loss: 3.3328 - mae: 3.3328\n",
            "Epoch 70/100\n",
            "6/6 [==============================] - 0s 3ms/step - loss: 3.2987 - mae: 3.2987\n",
            "Epoch 71/100\n",
            "6/6 [==============================] - 0s 4ms/step - loss: 3.3439 - mae: 3.3439\n",
            "Epoch 72/100\n",
            "6/6 [==============================] - 0s 4ms/step - loss: 3.2384 - mae: 3.2384\n",
            "Epoch 73/100\n",
            "6/6 [==============================] - 0s 3ms/step - loss: 3.3415 - mae: 3.3415\n",
            "Epoch 74/100\n",
            "6/6 [==============================] - 0s 4ms/step - loss: 3.2268 - mae: 3.2268\n",
            "Epoch 75/100\n",
            "6/6 [==============================] - 0s 3ms/step - loss: 3.2483 - mae: 3.2483\n",
            "Epoch 76/100\n",
            "6/6 [==============================] - 0s 3ms/step - loss: 3.3445 - mae: 3.3445\n",
            "Epoch 77/100\n",
            "6/6 [==============================] - 0s 3ms/step - loss: 3.2828 - mae: 3.2828\n",
            "Epoch 78/100\n",
            "6/6 [==============================] - 0s 3ms/step - loss: 3.2021 - mae: 3.2021\n",
            "Epoch 79/100\n",
            "6/6 [==============================] - 0s 3ms/step - loss: 3.1684 - mae: 3.1684\n",
            "Epoch 80/100\n",
            "6/6 [==============================] - 0s 3ms/step - loss: 3.2151 - mae: 3.2151\n",
            "Epoch 81/100\n",
            "6/6 [==============================] - 0s 3ms/step - loss: 3.1171 - mae: 3.1171\n",
            "Epoch 82/100\n",
            "6/6 [==============================] - 0s 3ms/step - loss: 3.4248 - mae: 3.4248\n",
            "Epoch 83/100\n",
            "6/6 [==============================] - 0s 3ms/step - loss: 3.3084 - mae: 3.3084\n",
            "Epoch 84/100\n",
            "6/6 [==============================] - 0s 4ms/step - loss: 3.1461 - mae: 3.1461\n",
            "Epoch 85/100\n",
            "6/6 [==============================] - 0s 4ms/step - loss: 3.2846 - mae: 3.2846\n",
            "Epoch 86/100\n",
            "6/6 [==============================] - 0s 3ms/step - loss: 3.9150 - mae: 3.9150\n",
            "Epoch 87/100\n",
            "6/6 [==============================] - 0s 3ms/step - loss: 4.1003 - mae: 4.1003\n",
            "Epoch 88/100\n",
            "6/6 [==============================] - 0s 3ms/step - loss: 4.8049 - mae: 4.8049\n",
            "Epoch 89/100\n",
            "6/6 [==============================] - 0s 3ms/step - loss: 3.4609 - mae: 3.4609\n",
            "Epoch 90/100\n",
            "6/6 [==============================] - 0s 3ms/step - loss: 3.5207 - mae: 3.5207\n",
            "Epoch 91/100\n",
            "6/6 [==============================] - 0s 3ms/step - loss: 3.1406 - mae: 3.1406\n",
            "Epoch 92/100\n",
            "6/6 [==============================] - 0s 3ms/step - loss: 3.2286 - mae: 3.2286\n",
            "Epoch 93/100\n",
            "6/6 [==============================] - 0s 4ms/step - loss: 3.5870 - mae: 3.5870\n",
            "Epoch 94/100\n",
            "6/6 [==============================] - 0s 4ms/step - loss: 3.3273 - mae: 3.3273\n",
            "Epoch 95/100\n",
            "6/6 [==============================] - 0s 3ms/step - loss: 3.5723 - mae: 3.5723\n",
            "Epoch 96/100\n",
            "6/6 [==============================] - 0s 4ms/step - loss: 3.4886 - mae: 3.4886\n",
            "Epoch 97/100\n",
            "6/6 [==============================] - 0s 4ms/step - loss: 3.1029 - mae: 3.1029\n",
            "Epoch 98/100\n",
            "6/6 [==============================] - 0s 3ms/step - loss: 3.7661 - mae: 3.7661\n",
            "Epoch 99/100\n",
            "6/6 [==============================] - 0s 3ms/step - loss: 3.2210 - mae: 3.2210\n",
            "Epoch 100/100\n",
            "6/6 [==============================] - 0s 3ms/step - loss: 3.1182 - mae: 3.1182\n"
          ]
        },
        {
          "output_type": "execute_result",
          "data": {
            "text/plain": [
              "<keras.callbacks.History at 0x7f127f534610>"
            ]
          },
          "metadata": {},
          "execution_count": 27
        }
      ]
    },
    {
      "cell_type": "code",
      "source": [
        "model_3.evaluate(tf.expand_dims(X_test, axis=-1),y_test)"
      ],
      "metadata": {
        "colab": {
          "base_uri": "https://localhost:8080/"
        },
        "id": "p7FDkMFZ6g0f",
        "outputId": "6ebe6a35-914b-4462-af7b-78713e287cb7"
      },
      "execution_count": null,
      "outputs": [
        {
          "output_type": "stream",
          "name": "stdout",
          "text": [
            "1/1 [==============================] - 0s 182ms/step - loss: 8.8464 - mae: 8.8464\n"
          ]
        },
        {
          "output_type": "execute_result",
          "data": {
            "text/plain": [
              "[8.84640884399414, 8.84640884399414]"
            ]
          },
          "metadata": {},
          "execution_count": 30
        }
      ]
    },
    {
      "cell_type": "code",
      "source": [
        "model_3.predict([25]).mean()"
      ],
      "metadata": {
        "colab": {
          "base_uri": "https://localhost:8080/"
        },
        "id": "ecnvOoIF6v8U",
        "outputId": "1aad855b-a343-4933-f6b2-64045baad368"
      },
      "execution_count": null,
      "outputs": [
        {
          "output_type": "stream",
          "name": "stdout",
          "text": [
            "1/1 [==============================] - 0s 39ms/step\n"
          ]
        },
        {
          "output_type": "execute_result",
          "data": {
            "text/plain": [
              "28.606033"
            ]
          },
          "metadata": {},
          "execution_count": 33
        }
      ]
    },
    {
      "cell_type": "markdown",
      "source": [
        "## 02. Model with 4 layers"
      ],
      "metadata": {
        "id": "tOhm9uQT-Be-"
      }
    },
    {
      "cell_type": "code",
      "source": [
        "model_4= tf.keras.Sequential([\n",
        "    tf.keras.layers.Dense(100),\n",
        "    tf.keras.layers.Dense(50),\n",
        "    tf.keras.layers.Dense(10),\n",
        "    tf.keras.layers.Dense(10)\n",
        "])\n",
        "model_4.compile(loss=['mae'],\n",
        "                optimizer= tf.keras.optimizers.Adam(),\n",
        "                metrics=['mae'])\n",
        "model_4.fit(tf.expand_dims(X_train, axis=-1), y_train, epochs=100)"
      ],
      "metadata": {
        "colab": {
          "base_uri": "https://localhost:8080/"
        },
        "id": "4VwzkNEe7Kat",
        "outputId": "428a4672-52e6-4665-9d8c-dd4572fe02c8"
      },
      "execution_count": null,
      "outputs": [
        {
          "output_type": "stream",
          "name": "stdout",
          "text": [
            "Epoch 1/100\n",
            "6/6 [==============================] - 1s 4ms/step - loss: 437.3762 - mae: 437.3762\n",
            "Epoch 2/100\n",
            "6/6 [==============================] - 0s 4ms/step - loss: 313.2515 - mae: 313.2515\n",
            "Epoch 3/100\n",
            "6/6 [==============================] - 0s 3ms/step - loss: 221.9187 - mae: 221.9187\n",
            "Epoch 4/100\n",
            "6/6 [==============================] - 0s 3ms/step - loss: 167.2053 - mae: 167.2053\n",
            "Epoch 5/100\n",
            "6/6 [==============================] - 0s 3ms/step - loss: 100.1119 - mae: 100.1119\n",
            "Epoch 6/100\n",
            "6/6 [==============================] - 0s 3ms/step - loss: 78.1787 - mae: 78.1787\n",
            "Epoch 7/100\n",
            "6/6 [==============================] - 0s 3ms/step - loss: 56.9962 - mae: 56.9962\n",
            "Epoch 8/100\n",
            "6/6 [==============================] - 0s 3ms/step - loss: 45.1708 - mae: 45.1708\n",
            "Epoch 9/100\n",
            "6/6 [==============================] - 0s 4ms/step - loss: 34.4176 - mae: 34.4176\n",
            "Epoch 10/100\n",
            "6/6 [==============================] - 0s 4ms/step - loss: 22.7079 - mae: 22.7079\n",
            "Epoch 11/100\n",
            "6/6 [==============================] - 0s 4ms/step - loss: 11.7160 - mae: 11.7160\n",
            "Epoch 12/100\n",
            "6/6 [==============================] - 0s 4ms/step - loss: 7.3302 - mae: 7.3302\n",
            "Epoch 13/100\n",
            "6/6 [==============================] - 0s 3ms/step - loss: 8.4358 - mae: 8.4358\n",
            "Epoch 14/100\n",
            "6/6 [==============================] - 0s 3ms/step - loss: 5.8824 - mae: 5.8824\n",
            "Epoch 15/100\n",
            "6/6 [==============================] - 0s 4ms/step - loss: 6.1411 - mae: 6.1411\n",
            "Epoch 16/100\n",
            "6/6 [==============================] - 0s 3ms/step - loss: 5.2901 - mae: 5.2901\n",
            "Epoch 17/100\n",
            "6/6 [==============================] - 0s 3ms/step - loss: 5.0276 - mae: 5.0276\n",
            "Epoch 18/100\n",
            "6/6 [==============================] - 0s 3ms/step - loss: 4.6911 - mae: 4.6911\n",
            "Epoch 19/100\n",
            "6/6 [==============================] - 0s 5ms/step - loss: 4.4827 - mae: 4.4827\n",
            "Epoch 20/100\n",
            "6/6 [==============================] - 0s 5ms/step - loss: 4.4605 - mae: 4.4605\n",
            "Epoch 21/100\n",
            "6/6 [==============================] - 0s 5ms/step - loss: 4.3650 - mae: 4.3650\n",
            "Epoch 22/100\n",
            "6/6 [==============================] - 0s 6ms/step - loss: 4.4484 - mae: 4.4484\n",
            "Epoch 23/100\n",
            "6/6 [==============================] - 0s 4ms/step - loss: 4.4648 - mae: 4.4648\n",
            "Epoch 24/100\n",
            "6/6 [==============================] - 0s 6ms/step - loss: 4.5530 - mae: 4.5530\n",
            "Epoch 25/100\n",
            "6/6 [==============================] - 0s 6ms/step - loss: 4.3253 - mae: 4.3253\n",
            "Epoch 26/100\n",
            "6/6 [==============================] - 0s 5ms/step - loss: 4.6048 - mae: 4.6048\n",
            "Epoch 27/100\n",
            "6/6 [==============================] - 0s 5ms/step - loss: 4.6252 - mae: 4.6252\n",
            "Epoch 28/100\n",
            "6/6 [==============================] - 0s 5ms/step - loss: 4.1998 - mae: 4.1998\n",
            "Epoch 29/100\n",
            "6/6 [==============================] - 0s 5ms/step - loss: 4.9162 - mae: 4.9162\n",
            "Epoch 30/100\n",
            "6/6 [==============================] - 0s 5ms/step - loss: 5.1448 - mae: 5.1448\n",
            "Epoch 31/100\n",
            "6/6 [==============================] - 0s 5ms/step - loss: 4.6601 - mae: 4.6601\n",
            "Epoch 32/100\n",
            "6/6 [==============================] - 0s 5ms/step - loss: 4.5316 - mae: 4.5316\n",
            "Epoch 33/100\n",
            "6/6 [==============================] - 0s 5ms/step - loss: 4.5968 - mae: 4.5968\n",
            "Epoch 34/100\n",
            "6/6 [==============================] - 0s 5ms/step - loss: 5.2946 - mae: 5.2946\n",
            "Epoch 35/100\n",
            "6/6 [==============================] - 0s 5ms/step - loss: 5.8973 - mae: 5.8973\n",
            "Epoch 36/100\n",
            "6/6 [==============================] - 0s 5ms/step - loss: 5.0794 - mae: 5.0794\n",
            "Epoch 37/100\n",
            "6/6 [==============================] - 0s 5ms/step - loss: 4.8884 - mae: 4.8884\n",
            "Epoch 38/100\n",
            "6/6 [==============================] - 0s 5ms/step - loss: 5.0524 - mae: 5.0524\n",
            "Epoch 39/100\n",
            "6/6 [==============================] - 0s 6ms/step - loss: 4.2856 - mae: 4.2856\n",
            "Epoch 40/100\n",
            "6/6 [==============================] - 0s 6ms/step - loss: 5.2033 - mae: 5.2033\n",
            "Epoch 41/100\n",
            "6/6 [==============================] - 0s 5ms/step - loss: 5.1283 - mae: 5.1283\n",
            "Epoch 42/100\n",
            "6/6 [==============================] - 0s 5ms/step - loss: 4.8120 - mae: 4.8120\n",
            "Epoch 43/100\n",
            "6/6 [==============================] - 0s 4ms/step - loss: 4.8150 - mae: 4.8150\n",
            "Epoch 44/100\n",
            "6/6 [==============================] - 0s 5ms/step - loss: 4.1748 - mae: 4.1748\n",
            "Epoch 45/100\n",
            "6/6 [==============================] - 0s 5ms/step - loss: 4.0710 - mae: 4.0710\n",
            "Epoch 46/100\n",
            "6/6 [==============================] - 0s 5ms/step - loss: 3.8312 - mae: 3.8312\n",
            "Epoch 47/100\n",
            "6/6 [==============================] - 0s 5ms/step - loss: 3.7390 - mae: 3.7390\n",
            "Epoch 48/100\n",
            "6/6 [==============================] - 0s 5ms/step - loss: 3.7305 - mae: 3.7305\n",
            "Epoch 49/100\n",
            "6/6 [==============================] - 0s 4ms/step - loss: 4.0850 - mae: 4.0850\n",
            "Epoch 50/100\n",
            "6/6 [==============================] - 0s 4ms/step - loss: 4.3816 - mae: 4.3816\n",
            "Epoch 51/100\n",
            "6/6 [==============================] - 0s 4ms/step - loss: 4.4242 - mae: 4.4242\n",
            "Epoch 52/100\n",
            "6/6 [==============================] - 0s 4ms/step - loss: 4.4308 - mae: 4.4308\n",
            "Epoch 53/100\n",
            "6/6 [==============================] - 0s 5ms/step - loss: 4.4815 - mae: 4.4815\n",
            "Epoch 54/100\n",
            "6/6 [==============================] - 0s 5ms/step - loss: 4.6515 - mae: 4.6515\n",
            "Epoch 55/100\n",
            "6/6 [==============================] - 0s 5ms/step - loss: 5.0685 - mae: 5.0685\n",
            "Epoch 56/100\n",
            "6/6 [==============================] - 0s 4ms/step - loss: 5.1931 - mae: 5.1931\n",
            "Epoch 57/100\n",
            "6/6 [==============================] - 0s 5ms/step - loss: 4.1687 - mae: 4.1687\n",
            "Epoch 58/100\n",
            "6/6 [==============================] - 0s 5ms/step - loss: 3.4313 - mae: 3.4313\n",
            "Epoch 59/100\n",
            "6/6 [==============================] - 0s 5ms/step - loss: 3.5671 - mae: 3.5671\n",
            "Epoch 60/100\n",
            "6/6 [==============================] - 0s 6ms/step - loss: 4.2624 - mae: 4.2624\n",
            "Epoch 61/100\n",
            "6/6 [==============================] - 0s 5ms/step - loss: 4.8779 - mae: 4.8779\n",
            "Epoch 62/100\n",
            "6/6 [==============================] - 0s 4ms/step - loss: 4.2412 - mae: 4.2412\n",
            "Epoch 63/100\n",
            "6/6 [==============================] - 0s 4ms/step - loss: 3.9538 - mae: 3.9538\n",
            "Epoch 64/100\n",
            "6/6 [==============================] - 0s 4ms/step - loss: 3.8367 - mae: 3.8367\n",
            "Epoch 65/100\n",
            "6/6 [==============================] - 0s 5ms/step - loss: 4.1384 - mae: 4.1384\n",
            "Epoch 66/100\n",
            "6/6 [==============================] - 0s 5ms/step - loss: 4.1507 - mae: 4.1507\n",
            "Epoch 67/100\n",
            "6/6 [==============================] - 0s 4ms/step - loss: 4.5784 - mae: 4.5784\n",
            "Epoch 68/100\n",
            "6/6 [==============================] - 0s 6ms/step - loss: 4.1733 - mae: 4.1733\n",
            "Epoch 69/100\n",
            "6/6 [==============================] - 0s 5ms/step - loss: 4.6437 - mae: 4.6437\n",
            "Epoch 70/100\n",
            "6/6 [==============================] - 0s 4ms/step - loss: 4.5786 - mae: 4.5786\n",
            "Epoch 71/100\n",
            "6/6 [==============================] - 0s 5ms/step - loss: 4.2841 - mae: 4.2841\n",
            "Epoch 72/100\n",
            "6/6 [==============================] - 0s 5ms/step - loss: 4.0017 - mae: 4.0017\n",
            "Epoch 73/100\n",
            "6/6 [==============================] - 0s 4ms/step - loss: 4.9106 - mae: 4.9106\n",
            "Epoch 74/100\n",
            "6/6 [==============================] - 0s 5ms/step - loss: 4.1378 - mae: 4.1378\n",
            "Epoch 75/100\n",
            "6/6 [==============================] - 0s 5ms/step - loss: 3.5788 - mae: 3.5788\n",
            "Epoch 76/100\n",
            "6/6 [==============================] - 0s 6ms/step - loss: 3.6101 - mae: 3.6101\n",
            "Epoch 77/100\n",
            "6/6 [==============================] - 0s 6ms/step - loss: 3.7448 - mae: 3.7448\n",
            "Epoch 78/100\n",
            "6/6 [==============================] - 0s 5ms/step - loss: 3.6702 - mae: 3.6702\n",
            "Epoch 79/100\n",
            "6/6 [==============================] - 0s 5ms/step - loss: 3.8278 - mae: 3.8278\n",
            "Epoch 80/100\n",
            "6/6 [==============================] - 0s 5ms/step - loss: 3.7484 - mae: 3.7484\n",
            "Epoch 81/100\n",
            "6/6 [==============================] - 0s 5ms/step - loss: 4.1035 - mae: 4.1035\n",
            "Epoch 82/100\n",
            "6/6 [==============================] - 0s 5ms/step - loss: 4.7840 - mae: 4.7840\n",
            "Epoch 83/100\n",
            "6/6 [==============================] - 0s 5ms/step - loss: 4.7087 - mae: 4.7087\n",
            "Epoch 84/100\n",
            "6/6 [==============================] - 0s 4ms/step - loss: 4.6523 - mae: 4.6523\n",
            "Epoch 85/100\n",
            "6/6 [==============================] - 0s 4ms/step - loss: 4.3272 - mae: 4.3272\n",
            "Epoch 86/100\n",
            "6/6 [==============================] - 0s 5ms/step - loss: 4.0447 - mae: 4.0447\n",
            "Epoch 87/100\n",
            "6/6 [==============================] - 0s 5ms/step - loss: 4.6285 - mae: 4.6285\n",
            "Epoch 88/100\n",
            "6/6 [==============================] - 0s 5ms/step - loss: 5.1888 - mae: 5.1888\n",
            "Epoch 89/100\n",
            "6/6 [==============================] - 0s 6ms/step - loss: 4.4744 - mae: 4.4744\n",
            "Epoch 90/100\n",
            "6/6 [==============================] - 0s 5ms/step - loss: 4.1629 - mae: 4.1629\n",
            "Epoch 91/100\n",
            "6/6 [==============================] - 0s 5ms/step - loss: 6.5699 - mae: 6.5699\n",
            "Epoch 92/100\n",
            "6/6 [==============================] - 0s 4ms/step - loss: 5.6530 - mae: 5.6530\n",
            "Epoch 93/100\n",
            "6/6 [==============================] - 0s 5ms/step - loss: 5.1434 - mae: 5.1434\n",
            "Epoch 94/100\n",
            "6/6 [==============================] - 0s 4ms/step - loss: 4.9268 - mae: 4.9268\n",
            "Epoch 95/100\n",
            "6/6 [==============================] - 0s 4ms/step - loss: 3.5907 - mae: 3.5907\n",
            "Epoch 96/100\n",
            "6/6 [==============================] - 0s 4ms/step - loss: 3.6350 - mae: 3.6350\n",
            "Epoch 97/100\n",
            "6/6 [==============================] - 0s 4ms/step - loss: 3.5909 - mae: 3.5909\n",
            "Epoch 98/100\n",
            "6/6 [==============================] - 0s 4ms/step - loss: 3.3238 - mae: 3.3238\n",
            "Epoch 99/100\n",
            "6/6 [==============================] - 0s 4ms/step - loss: 3.0708 - mae: 3.0708\n",
            "Epoch 100/100\n",
            "6/6 [==============================] - 0s 4ms/step - loss: 2.8255 - mae: 2.8255\n"
          ]
        },
        {
          "output_type": "execute_result",
          "data": {
            "text/plain": [
              "<keras.callbacks.History at 0x7f127ceb2e00>"
            ]
          },
          "metadata": {},
          "execution_count": 52
        }
      ]
    },
    {
      "cell_type": "code",
      "source": [
        "model_4.evaluate(tf.expand_dims(X_test, axis=-1), y_test)"
      ],
      "metadata": {
        "colab": {
          "base_uri": "https://localhost:8080/"
        },
        "id": "8rgw_xsN7e-X",
        "outputId": "58d861b5-cfba-4c24-8acb-3a99dcb0cbd1"
      },
      "execution_count": null,
      "outputs": [
        {
          "output_type": "stream",
          "name": "stdout",
          "text": [
            "1/1 [==============================] - 0s 136ms/step - loss: 5.2740 - mae: 5.2740\n"
          ]
        },
        {
          "output_type": "execute_result",
          "data": {
            "text/plain": [
              "[5.27403450012207, 5.27403450012207]"
            ]
          },
          "metadata": {},
          "execution_count": 53
        }
      ]
    },
    {
      "cell_type": "code",
      "source": [
        "model_4.predict([4]).mean()"
      ],
      "metadata": {
        "colab": {
          "base_uri": "https://localhost:8080/"
        },
        "id": "hfZHLoVO7prk",
        "outputId": "11ac118f-7c53-4b3c-fa45-74eb05fdf183"
      },
      "execution_count": null,
      "outputs": [
        {
          "output_type": "stream",
          "name": "stderr",
          "text": [
            "WARNING:tensorflow:6 out of the last 12 calls to <function Model.make_predict_function.<locals>.predict_function at 0x7f127cfc75b0> triggered tf.function retracing. Tracing is expensive and the excessive number of tracings could be due to (1) creating @tf.function repeatedly in a loop, (2) passing tensors with different shapes, (3) passing Python objects instead of tensors. For (1), please define your @tf.function outside of the loop. For (2), @tf.function has reduce_retracing=True option that can avoid unnecessary retracing. For (3), please refer to https://www.tensorflow.org/guide/function#controlling_retracing and https://www.tensorflow.org/api_docs/python/tf/function for  more details.\n"
          ]
        },
        {
          "output_type": "stream",
          "name": "stdout",
          "text": [
            "1/1 [==============================] - 0s 87ms/step\n"
          ]
        },
        {
          "output_type": "execute_result",
          "data": {
            "text/plain": [
              "9.054203"
            ]
          },
          "metadata": {},
          "execution_count": 54
        }
      ]
    },
    {
      "cell_type": "markdown",
      "source": [
        "## 04. Working with `boston_housing` Dataset"
      ],
      "metadata": {
        "id": "0hfotN2972qo"
      }
    },
    {
      "cell_type": "markdown",
      "source": [
        "### Loading data"
      ],
      "metadata": {
        "id": "Ck-xIF3l-fZy"
      }
    },
    {
      "cell_type": "code",
      "source": [
        "from tensorflow.keras.datasets import boston_housing\n",
        "import tensorflow as tf\n",
        "import numpy as np\n",
        "import matplotlib.pyplot as plt\n",
        "import pandas as pd"
      ],
      "metadata": {
        "id": "MofO6s5u_DF7"
      },
      "execution_count": null,
      "outputs": []
    },
    {
      "cell_type": "code",
      "source": [
        "#since the data is already divided in train and test splits so\n",
        "(X_train, y_train),(X_test, y_test)= boston_housing.load_data(seed=42)"
      ],
      "metadata": {
        "colab": {
          "base_uri": "https://localhost:8080/"
        },
        "id": "x-ywh5f-_MpW",
        "outputId": "fe323dd6-17af-4f8b-e41d-36b66f60e7e2"
      },
      "execution_count": null,
      "outputs": [
        {
          "output_type": "stream",
          "name": "stdout",
          "text": [
            "Downloading data from https://storage.googleapis.com/tensorflow/tf-keras-datasets/boston_housing.npz\n",
            "57026/57026 [==============================] - 0s 0us/step\n"
          ]
        }
      ]
    },
    {
      "cell_type": "markdown",
      "source": [
        "### EDA"
      ],
      "metadata": {
        "id": "zYntWuGl__IL"
      }
    },
    {
      "cell_type": "code",
      "source": [
        "X_train.shape, y_train.shape"
      ],
      "metadata": {
        "colab": {
          "base_uri": "https://localhost:8080/"
        },
        "id": "3kk8E6Jp_jY7",
        "outputId": "1996f22e-9f2d-44d1-f3d3-1a2442a76960"
      },
      "execution_count": null,
      "outputs": [
        {
          "output_type": "execute_result",
          "data": {
            "text/plain": [
              "((404, 13), (404,))"
            ]
          },
          "metadata": {},
          "execution_count": 58
        }
      ]
    },
    {
      "cell_type": "code",
      "source": [
        "X_train[0], y_train[0]"
      ],
      "metadata": {
        "colab": {
          "base_uri": "https://localhost:8080/"
        },
        "id": "zWN6SOU9_oCX",
        "outputId": "42ad9841-05a9-4c77-fd23-ed0d7a4bfdb1"
      },
      "execution_count": null,
      "outputs": [
        {
          "output_type": "execute_result",
          "data": {
            "text/plain": [
              "(array([9.1780e-02, 0.0000e+00, 4.0500e+00, 0.0000e+00, 5.1000e-01,\n",
              "        6.4160e+00, 8.4100e+01, 2.6463e+00, 5.0000e+00, 2.9600e+02,\n",
              "        1.6600e+01, 3.9550e+02, 9.0400e+00]),\n",
              " 23.6)"
            ]
          },
          "metadata": {},
          "execution_count": 61
        }
      ]
    },
    {
      "cell_type": "code",
      "source": [
        "X_test.shape, y_test.shape"
      ],
      "metadata": {
        "colab": {
          "base_uri": "https://localhost:8080/"
        },
        "id": "dIUw912f_sTc",
        "outputId": "c10fc02f-310a-4584-e006-50b621bc8842"
      },
      "execution_count": null,
      "outputs": [
        {
          "output_type": "execute_result",
          "data": {
            "text/plain": [
              "((102, 13), (102,))"
            ]
          },
          "metadata": {},
          "execution_count": 62
        }
      ]
    },
    {
      "cell_type": "code",
      "source": [
        "X_test.max()"
      ],
      "metadata": {
        "colab": {
          "base_uri": "https://localhost:8080/"
        },
        "id": "guCExF5l_9YK",
        "outputId": "ea3525cb-d9fa-4e84-b14b-33b6e268093c"
      },
      "execution_count": null,
      "outputs": [
        {
          "output_type": "execute_result",
          "data": {
            "text/plain": [
              "711.0"
            ]
          },
          "metadata": {},
          "execution_count": 72
        }
      ]
    },
    {
      "cell_type": "markdown",
      "source": [
        "#### Visualizing Data"
      ],
      "metadata": {
        "id": "m_qmSHooATmY"
      }
    },
    {
      "cell_type": "code",
      "source": [
        "df= pd.DataFrame(X_train)"
      ],
      "metadata": {
        "id": "EmnHwKivCmO7"
      },
      "execution_count": null,
      "outputs": []
    },
    {
      "cell_type": "code",
      "source": [
        "df"
      ],
      "metadata": {
        "colab": {
          "base_uri": "https://localhost:8080/",
          "height": 423
        },
        "id": "M_EC1hVJCvbi",
        "outputId": "4663e283-67a3-48d0-9e66-0c3ef238bd4c"
      },
      "execution_count": null,
      "outputs": [
        {
          "output_type": "execute_result",
          "data": {
            "text/plain": [
              "          0     1      2    3      4      5     6       7     8      9     10  \\\n",
              "0    0.09178   0.0   4.05  0.0  0.510  6.416  84.1  2.6463   5.0  296.0  16.6   \n",
              "1    0.05644  40.0   6.41  1.0  0.447  6.758  32.9  4.0776   4.0  254.0  17.6   \n",
              "2    0.10574   0.0  27.74  0.0  0.609  5.983  98.8  1.8681   4.0  711.0  20.1   \n",
              "3    0.09164   0.0  10.81  0.0  0.413  6.065   7.8  5.2873   4.0  305.0  19.2   \n",
              "4    5.09017   0.0  18.10  0.0  0.713  6.297  91.8  2.3682  24.0  666.0  20.2   \n",
              "..       ...   ...    ...  ...    ...    ...   ...     ...   ...    ...   ...   \n",
              "399  9.39063   0.0  18.10  0.0  0.740  5.627  93.9  1.8172  24.0  666.0  20.2   \n",
              "400  0.10959   0.0  11.93  0.0  0.573  6.794  89.3  2.3889   1.0  273.0  21.0   \n",
              "401  0.03041   0.0   5.19  0.0  0.515  5.895  59.6  5.6150   5.0  224.0  20.2   \n",
              "402  0.52058   0.0   6.20  1.0  0.507  6.631  76.5  4.1480   8.0  307.0  17.4   \n",
              "403  0.25199   0.0  10.59  0.0  0.489  5.783  72.7  4.3549   4.0  277.0  18.6   \n",
              "\n",
              "         11     12  \n",
              "0    395.50   9.04  \n",
              "1    396.90   3.53  \n",
              "2    390.11  18.07  \n",
              "3    390.91   5.52  \n",
              "4    385.09  17.27  \n",
              "..      ...    ...  \n",
              "399  396.90  22.88  \n",
              "400  393.45   6.48  \n",
              "401  394.81  10.56  \n",
              "402  388.45   9.54  \n",
              "403  389.43  18.06  \n",
              "\n",
              "[404 rows x 13 columns]"
            ],
            "text/html": [
              "\n",
              "  <div id=\"df-60b38ae9-d377-4b64-b76f-240ce46dec51\">\n",
              "    <div class=\"colab-df-container\">\n",
              "      <div>\n",
              "<style scoped>\n",
              "    .dataframe tbody tr th:only-of-type {\n",
              "        vertical-align: middle;\n",
              "    }\n",
              "\n",
              "    .dataframe tbody tr th {\n",
              "        vertical-align: top;\n",
              "    }\n",
              "\n",
              "    .dataframe thead th {\n",
              "        text-align: right;\n",
              "    }\n",
              "</style>\n",
              "<table border=\"1\" class=\"dataframe\">\n",
              "  <thead>\n",
              "    <tr style=\"text-align: right;\">\n",
              "      <th></th>\n",
              "      <th>0</th>\n",
              "      <th>1</th>\n",
              "      <th>2</th>\n",
              "      <th>3</th>\n",
              "      <th>4</th>\n",
              "      <th>5</th>\n",
              "      <th>6</th>\n",
              "      <th>7</th>\n",
              "      <th>8</th>\n",
              "      <th>9</th>\n",
              "      <th>10</th>\n",
              "      <th>11</th>\n",
              "      <th>12</th>\n",
              "    </tr>\n",
              "  </thead>\n",
              "  <tbody>\n",
              "    <tr>\n",
              "      <th>0</th>\n",
              "      <td>0.09178</td>\n",
              "      <td>0.0</td>\n",
              "      <td>4.05</td>\n",
              "      <td>0.0</td>\n",
              "      <td>0.510</td>\n",
              "      <td>6.416</td>\n",
              "      <td>84.1</td>\n",
              "      <td>2.6463</td>\n",
              "      <td>5.0</td>\n",
              "      <td>296.0</td>\n",
              "      <td>16.6</td>\n",
              "      <td>395.50</td>\n",
              "      <td>9.04</td>\n",
              "    </tr>\n",
              "    <tr>\n",
              "      <th>1</th>\n",
              "      <td>0.05644</td>\n",
              "      <td>40.0</td>\n",
              "      <td>6.41</td>\n",
              "      <td>1.0</td>\n",
              "      <td>0.447</td>\n",
              "      <td>6.758</td>\n",
              "      <td>32.9</td>\n",
              "      <td>4.0776</td>\n",
              "      <td>4.0</td>\n",
              "      <td>254.0</td>\n",
              "      <td>17.6</td>\n",
              "      <td>396.90</td>\n",
              "      <td>3.53</td>\n",
              "    </tr>\n",
              "    <tr>\n",
              "      <th>2</th>\n",
              "      <td>0.10574</td>\n",
              "      <td>0.0</td>\n",
              "      <td>27.74</td>\n",
              "      <td>0.0</td>\n",
              "      <td>0.609</td>\n",
              "      <td>5.983</td>\n",
              "      <td>98.8</td>\n",
              "      <td>1.8681</td>\n",
              "      <td>4.0</td>\n",
              "      <td>711.0</td>\n",
              "      <td>20.1</td>\n",
              "      <td>390.11</td>\n",
              "      <td>18.07</td>\n",
              "    </tr>\n",
              "    <tr>\n",
              "      <th>3</th>\n",
              "      <td>0.09164</td>\n",
              "      <td>0.0</td>\n",
              "      <td>10.81</td>\n",
              "      <td>0.0</td>\n",
              "      <td>0.413</td>\n",
              "      <td>6.065</td>\n",
              "      <td>7.8</td>\n",
              "      <td>5.2873</td>\n",
              "      <td>4.0</td>\n",
              "      <td>305.0</td>\n",
              "      <td>19.2</td>\n",
              "      <td>390.91</td>\n",
              "      <td>5.52</td>\n",
              "    </tr>\n",
              "    <tr>\n",
              "      <th>4</th>\n",
              "      <td>5.09017</td>\n",
              "      <td>0.0</td>\n",
              "      <td>18.10</td>\n",
              "      <td>0.0</td>\n",
              "      <td>0.713</td>\n",
              "      <td>6.297</td>\n",
              "      <td>91.8</td>\n",
              "      <td>2.3682</td>\n",
              "      <td>24.0</td>\n",
              "      <td>666.0</td>\n",
              "      <td>20.2</td>\n",
              "      <td>385.09</td>\n",
              "      <td>17.27</td>\n",
              "    </tr>\n",
              "    <tr>\n",
              "      <th>...</th>\n",
              "      <td>...</td>\n",
              "      <td>...</td>\n",
              "      <td>...</td>\n",
              "      <td>...</td>\n",
              "      <td>...</td>\n",
              "      <td>...</td>\n",
              "      <td>...</td>\n",
              "      <td>...</td>\n",
              "      <td>...</td>\n",
              "      <td>...</td>\n",
              "      <td>...</td>\n",
              "      <td>...</td>\n",
              "      <td>...</td>\n",
              "    </tr>\n",
              "    <tr>\n",
              "      <th>399</th>\n",
              "      <td>9.39063</td>\n",
              "      <td>0.0</td>\n",
              "      <td>18.10</td>\n",
              "      <td>0.0</td>\n",
              "      <td>0.740</td>\n",
              "      <td>5.627</td>\n",
              "      <td>93.9</td>\n",
              "      <td>1.8172</td>\n",
              "      <td>24.0</td>\n",
              "      <td>666.0</td>\n",
              "      <td>20.2</td>\n",
              "      <td>396.90</td>\n",
              "      <td>22.88</td>\n",
              "    </tr>\n",
              "    <tr>\n",
              "      <th>400</th>\n",
              "      <td>0.10959</td>\n",
              "      <td>0.0</td>\n",
              "      <td>11.93</td>\n",
              "      <td>0.0</td>\n",
              "      <td>0.573</td>\n",
              "      <td>6.794</td>\n",
              "      <td>89.3</td>\n",
              "      <td>2.3889</td>\n",
              "      <td>1.0</td>\n",
              "      <td>273.0</td>\n",
              "      <td>21.0</td>\n",
              "      <td>393.45</td>\n",
              "      <td>6.48</td>\n",
              "    </tr>\n",
              "    <tr>\n",
              "      <th>401</th>\n",
              "      <td>0.03041</td>\n",
              "      <td>0.0</td>\n",
              "      <td>5.19</td>\n",
              "      <td>0.0</td>\n",
              "      <td>0.515</td>\n",
              "      <td>5.895</td>\n",
              "      <td>59.6</td>\n",
              "      <td>5.6150</td>\n",
              "      <td>5.0</td>\n",
              "      <td>224.0</td>\n",
              "      <td>20.2</td>\n",
              "      <td>394.81</td>\n",
              "      <td>10.56</td>\n",
              "    </tr>\n",
              "    <tr>\n",
              "      <th>402</th>\n",
              "      <td>0.52058</td>\n",
              "      <td>0.0</td>\n",
              "      <td>6.20</td>\n",
              "      <td>1.0</td>\n",
              "      <td>0.507</td>\n",
              "      <td>6.631</td>\n",
              "      <td>76.5</td>\n",
              "      <td>4.1480</td>\n",
              "      <td>8.0</td>\n",
              "      <td>307.0</td>\n",
              "      <td>17.4</td>\n",
              "      <td>388.45</td>\n",
              "      <td>9.54</td>\n",
              "    </tr>\n",
              "    <tr>\n",
              "      <th>403</th>\n",
              "      <td>0.25199</td>\n",
              "      <td>0.0</td>\n",
              "      <td>10.59</td>\n",
              "      <td>0.0</td>\n",
              "      <td>0.489</td>\n",
              "      <td>5.783</td>\n",
              "      <td>72.7</td>\n",
              "      <td>4.3549</td>\n",
              "      <td>4.0</td>\n",
              "      <td>277.0</td>\n",
              "      <td>18.6</td>\n",
              "      <td>389.43</td>\n",
              "      <td>18.06</td>\n",
              "    </tr>\n",
              "  </tbody>\n",
              "</table>\n",
              "<p>404 rows × 13 columns</p>\n",
              "</div>\n",
              "      <button class=\"colab-df-convert\" onclick=\"convertToInteractive('df-60b38ae9-d377-4b64-b76f-240ce46dec51')\"\n",
              "              title=\"Convert this dataframe to an interactive table.\"\n",
              "              style=\"display:none;\">\n",
              "        \n",
              "  <svg xmlns=\"http://www.w3.org/2000/svg\" height=\"24px\"viewBox=\"0 0 24 24\"\n",
              "       width=\"24px\">\n",
              "    <path d=\"M0 0h24v24H0V0z\" fill=\"none\"/>\n",
              "    <path d=\"M18.56 5.44l.94 2.06.94-2.06 2.06-.94-2.06-.94-.94-2.06-.94 2.06-2.06.94zm-11 1L8.5 8.5l.94-2.06 2.06-.94-2.06-.94L8.5 2.5l-.94 2.06-2.06.94zm10 10l.94 2.06.94-2.06 2.06-.94-2.06-.94-.94-2.06-.94 2.06-2.06.94z\"/><path d=\"M17.41 7.96l-1.37-1.37c-.4-.4-.92-.59-1.43-.59-.52 0-1.04.2-1.43.59L10.3 9.45l-7.72 7.72c-.78.78-.78 2.05 0 2.83L4 21.41c.39.39.9.59 1.41.59.51 0 1.02-.2 1.41-.59l7.78-7.78 2.81-2.81c.8-.78.8-2.07 0-2.86zM5.41 20L4 18.59l7.72-7.72 1.47 1.35L5.41 20z\"/>\n",
              "  </svg>\n",
              "      </button>\n",
              "      \n",
              "  <style>\n",
              "    .colab-df-container {\n",
              "      display:flex;\n",
              "      flex-wrap:wrap;\n",
              "      gap: 12px;\n",
              "    }\n",
              "\n",
              "    .colab-df-convert {\n",
              "      background-color: #E8F0FE;\n",
              "      border: none;\n",
              "      border-radius: 50%;\n",
              "      cursor: pointer;\n",
              "      display: none;\n",
              "      fill: #1967D2;\n",
              "      height: 32px;\n",
              "      padding: 0 0 0 0;\n",
              "      width: 32px;\n",
              "    }\n",
              "\n",
              "    .colab-df-convert:hover {\n",
              "      background-color: #E2EBFA;\n",
              "      box-shadow: 0px 1px 2px rgba(60, 64, 67, 0.3), 0px 1px 3px 1px rgba(60, 64, 67, 0.15);\n",
              "      fill: #174EA6;\n",
              "    }\n",
              "\n",
              "    [theme=dark] .colab-df-convert {\n",
              "      background-color: #3B4455;\n",
              "      fill: #D2E3FC;\n",
              "    }\n",
              "\n",
              "    [theme=dark] .colab-df-convert:hover {\n",
              "      background-color: #434B5C;\n",
              "      box-shadow: 0px 1px 3px 1px rgba(0, 0, 0, 0.15);\n",
              "      filter: drop-shadow(0px 1px 2px rgba(0, 0, 0, 0.3));\n",
              "      fill: #FFFFFF;\n",
              "    }\n",
              "  </style>\n",
              "\n",
              "      <script>\n",
              "        const buttonEl =\n",
              "          document.querySelector('#df-60b38ae9-d377-4b64-b76f-240ce46dec51 button.colab-df-convert');\n",
              "        buttonEl.style.display =\n",
              "          google.colab.kernel.accessAllowed ? 'block' : 'none';\n",
              "\n",
              "        async function convertToInteractive(key) {\n",
              "          const element = document.querySelector('#df-60b38ae9-d377-4b64-b76f-240ce46dec51');\n",
              "          const dataTable =\n",
              "            await google.colab.kernel.invokeFunction('convertToInteractive',\n",
              "                                                     [key], {});\n",
              "          if (!dataTable) return;\n",
              "\n",
              "          const docLinkHtml = 'Like what you see? Visit the ' +\n",
              "            '<a target=\"_blank\" href=https://colab.research.google.com/notebooks/data_table.ipynb>data table notebook</a>'\n",
              "            + ' to learn more about interactive tables.';\n",
              "          element.innerHTML = '';\n",
              "          dataTable['output_type'] = 'display_data';\n",
              "          await google.colab.output.renderOutput(dataTable, element);\n",
              "          const docLink = document.createElement('div');\n",
              "          docLink.innerHTML = docLinkHtml;\n",
              "          element.appendChild(docLink);\n",
              "        }\n",
              "      </script>\n",
              "    </div>\n",
              "  </div>\n",
              "  "
            ]
          },
          "metadata": {},
          "execution_count": 74
        }
      ]
    },
    {
      "cell_type": "code",
      "source": [
        "plt.hist(y_train)"
      ],
      "metadata": {
        "colab": {
          "base_uri": "https://localhost:8080/",
          "height": 485
        },
        "id": "wZq1wH80CxBS",
        "outputId": "a6ded1dd-04ae-4c87-910a-06722ad3cd32"
      },
      "execution_count": null,
      "outputs": [
        {
          "output_type": "execute_result",
          "data": {
            "text/plain": [
              "(array([ 17.,  48.,  69., 113.,  69.,  32.,  23.,   6.,  10.,  17.]),\n",
              " array([ 5. ,  9.5, 14. , 18.5, 23. , 27.5, 32. , 36.5, 41. , 45.5, 50. ]),\n",
              " <BarContainer object of 10 artists>)"
            ]
          },
          "metadata": {},
          "execution_count": 75
        },
        {
          "output_type": "display_data",
          "data": {
            "text/plain": [
              "<Figure size 640x480 with 1 Axes>"
            ],
            "image/png": "[encoded data removed]"
          },
          "metadata": {}
        }
      ]
    },
    {
      "cell_type": "markdown",
      "source": [
        "Seems that most of the houses cost around 10-25K$"
      ],
      "metadata": {
        "id": "rOXloy_cDAIZ"
      }
    },
    {
      "cell_type": "markdown",
      "source": [
        "### Modelling\n",
        "We'll start with a simple model and tweak it as we move further"
      ],
      "metadata": {
        "id": "h2NvYoBDDGbj"
      }
    },
    {
      "cell_type": "code",
      "source": [
        "model_5= tf.keras.Sequential([\n",
        "    tf.keras.layers.Dense(10)\n",
        "])\n",
        "model_5.compile(loss=['mae'],\n",
        "                optimizer=tf.keras.optimizers.Adam(),\n",
        "                metrics=['mae'])\n",
        "model_5.fit(X_train, y_train, epochs=100)"
      ],
      "metadata": {
        "colab": {
          "base_uri": "https://localhost:8080/"
        },
        "id": "Yi_K_fTlD1eq",
        "outputId": "0b8a4706-f5a0-4a7b-d39b-93b39889cca3"
      },
      "execution_count": null,
      "outputs": [
        {
          "output_type": "stream",
          "name": "stdout",
          "text": [
            "Epoch 1/100\n",
            "13/13 [==============================] - 2s 3ms/step - loss: 187.8072 - mae: 187.8072\n",
            "Epoch 2/100\n",
            "13/13 [==============================] - 0s 2ms/step - loss: 177.1629 - mae: 177.1629\n",
            "Epoch 3/100\n",
            "13/13 [==============================] - 0s 2ms/step - loss: 167.2541 - mae: 167.2541\n",
            "Epoch 4/100\n",
            "13/13 [==============================] - 0s 3ms/step - loss: 157.8815 - mae: 157.8815\n",
            "Epoch 5/100\n",
            "13/13 [==============================] - 0s 2ms/step - loss: 148.8904 - mae: 148.8904\n",
            "Epoch 6/100\n",
            "13/13 [==============================] - 0s 2ms/step - loss: 140.2209 - mae: 140.2209\n",
            "Epoch 7/100\n",
            "13/13 [==============================] - 0s 2ms/step - loss: 131.7428 - mae: 131.7428\n",
            "Epoch 8/100\n",
            "13/13 [==============================] - 0s 2ms/step - loss: 123.3781 - mae: 123.3781\n",
            "Epoch 9/100\n",
            "13/13 [==============================] - 0s 2ms/step - loss: 115.2532 - mae: 115.2532\n",
            "Epoch 10/100\n",
            "13/13 [==============================] - 0s 2ms/step - loss: 107.4069 - mae: 107.4069\n",
            "Epoch 11/100\n",
            "13/13 [==============================] - 0s 2ms/step - loss: 99.9810 - mae: 99.9810\n",
            "Epoch 12/100\n",
            "13/13 [==============================] - 0s 3ms/step - loss: 92.9636 - mae: 92.9636\n",
            "Epoch 13/100\n",
            "13/13 [==============================] - 0s 2ms/step - loss: 86.5115 - mae: 86.5115\n",
            "Epoch 14/100\n",
            "13/13 [==============================] - 0s 3ms/step - loss: 80.3197 - mae: 80.3197\n",
            "Epoch 15/100\n",
            "13/13 [==============================] - 0s 2ms/step - loss: 74.3815 - mae: 74.3815\n",
            "Epoch 16/100\n",
            "13/13 [==============================] - 0s 2ms/step - loss: 68.5518 - mae: 68.5518\n",
            "Epoch 17/100\n",
            "13/13 [==============================] - 0s 2ms/step - loss: 62.9249 - mae: 62.9249\n",
            "Epoch 18/100\n",
            "13/13 [==============================] - 0s 2ms/step - loss: 57.3762 - mae: 57.3762\n",
            "Epoch 19/100\n",
            "13/13 [==============================] - 0s 2ms/step - loss: 51.9109 - mae: 51.9109\n",
            "Epoch 20/100\n",
            "13/13 [==============================] - 0s 2ms/step - loss: 46.7886 - mae: 46.7886\n",
            "Epoch 21/100\n",
            "13/13 [==============================] - 0s 2ms/step - loss: 42.2187 - mae: 42.2187\n",
            "Epoch 22/100\n",
            "13/13 [==============================] - 0s 2ms/step - loss: 38.2075 - mae: 38.2075\n",
            "Epoch 23/100\n",
            "13/13 [==============================] - 0s 2ms/step - loss: 34.6566 - mae: 34.6566\n",
            "Epoch 24/100\n",
            "13/13 [==============================] - 0s 2ms/step - loss: 31.2901 - mae: 31.2901\n",
            "Epoch 25/100\n",
            "13/13 [==============================] - 0s 2ms/step - loss: 28.2565 - mae: 28.2565\n",
            "Epoch 26/100\n",
            "13/13 [==============================] - 0s 3ms/step - loss: 25.4813 - mae: 25.4813\n",
            "Epoch 27/100\n",
            "13/13 [==============================] - 0s 2ms/step - loss: 23.0846 - mae: 23.0846\n",
            "Epoch 28/100\n",
            "13/13 [==============================] - 0s 2ms/step - loss: 21.1020 - mae: 21.1020\n",
            "Epoch 29/100\n",
            "13/13 [==============================] - 0s 2ms/step - loss: 19.2908 - mae: 19.2908\n",
            "Epoch 30/100\n",
            "13/13 [==============================] - 0s 3ms/step - loss: 17.5954 - mae: 17.5954\n",
            "Epoch 31/100\n",
            "13/13 [==============================] - 0s 2ms/step - loss: 16.3377 - mae: 16.3377\n",
            "Epoch 32/100\n",
            "13/13 [==============================] - 0s 2ms/step - loss: 15.6781 - mae: 15.6781\n",
            "Epoch 33/100\n",
            "13/13 [==============================] - 0s 2ms/step - loss: 15.1333 - mae: 15.1333\n",
            "Epoch 34/100\n",
            "13/13 [==============================] - 0s 2ms/step - loss: 14.5892 - mae: 14.5892\n",
            "Epoch 35/100\n",
            "13/13 [==============================] - 0s 2ms/step - loss: 14.0812 - mae: 14.0812\n",
            "Epoch 36/100\n",
            "13/13 [==============================] - 0s 2ms/step - loss: 13.5556 - mae: 13.5556\n",
            "Epoch 37/100\n",
            "13/13 [==============================] - 0s 2ms/step - loss: 13.0759 - mae: 13.0759\n",
            "Epoch 38/100\n",
            "13/13 [==============================] - 0s 3ms/step - loss: 12.6200 - mae: 12.6200\n",
            "Epoch 39/100\n",
            "13/13 [==============================] - 0s 3ms/step - loss: 12.1877 - mae: 12.1877\n",
            "Epoch 40/100\n",
            "13/13 [==============================] - 0s 2ms/step - loss: 11.7713 - mae: 11.7713\n",
            "Epoch 41/100\n",
            "13/13 [==============================] - 0s 2ms/step - loss: 11.4152 - mae: 11.4152\n",
            "Epoch 42/100\n",
            "13/13 [==============================] - 0s 2ms/step - loss: 11.0670 - mae: 11.0670\n",
            "Epoch 43/100\n",
            "13/13 [==============================] - 0s 2ms/step - loss: 10.7779 - mae: 10.7779\n",
            "Epoch 44/100\n",
            "13/13 [==============================] - 0s 2ms/step - loss: 10.4956 - mae: 10.4956\n",
            "Epoch 45/100\n",
            "13/13 [==============================] - 0s 2ms/step - loss: 10.2213 - mae: 10.2213\n",
            "Epoch 46/100\n",
            "13/13 [==============================] - 0s 2ms/step - loss: 9.9655 - mae: 9.9655\n",
            "Epoch 47/100\n",
            "13/13 [==============================] - 0s 2ms/step - loss: 9.7153 - mae: 9.7153\n",
            "Epoch 48/100\n",
            "13/13 [==============================] - 0s 2ms/step - loss: 9.4749 - mae: 9.4749\n",
            "Epoch 49/100\n",
            "13/13 [==============================] - 0s 2ms/step - loss: 9.2537 - mae: 9.2537\n",
            "Epoch 50/100\n",
            "13/13 [==============================] - 0s 2ms/step - loss: 9.0389 - mae: 9.0389\n",
            "Epoch 51/100\n",
            "13/13 [==============================] - 0s 2ms/step - loss: 8.8363 - mae: 8.8363\n",
            "Epoch 52/100\n",
            "13/13 [==============================] - 0s 2ms/step - loss: 8.6744 - mae: 8.6744\n",
            "Epoch 53/100\n",
            "13/13 [==============================] - 0s 2ms/step - loss: 8.4882 - mae: 8.4882\n",
            "Epoch 54/100\n",
            "13/13 [==============================] - 0s 3ms/step - loss: 8.3077 - mae: 8.3077\n",
            "Epoch 55/100\n",
            "13/13 [==============================] - 0s 2ms/step - loss: 8.1616 - mae: 8.1616\n",
            "Epoch 56/100\n",
            "13/13 [==============================] - 0s 2ms/step - loss: 8.0120 - mae: 8.0120\n",
            "Epoch 57/100\n",
            "13/13 [==============================] - 0s 2ms/step - loss: 7.8820 - mae: 7.8820\n",
            "Epoch 58/100\n",
            "13/13 [==============================] - 0s 2ms/step - loss: 7.7572 - mae: 7.7572\n",
            "Epoch 59/100\n",
            "13/13 [==============================] - 0s 2ms/step - loss: 7.6488 - mae: 7.6488\n",
            "Epoch 60/100\n",
            "13/13 [==============================] - 0s 2ms/step - loss: 7.5533 - mae: 7.5533\n",
            "Epoch 61/100\n",
            "13/13 [==============================] - 0s 2ms/step - loss: 7.4632 - mae: 7.4632\n",
            "Epoch 62/100\n",
            "13/13 [==============================] - 0s 2ms/step - loss: 7.3906 - mae: 7.3906\n",
            "Epoch 63/100\n",
            "13/13 [==============================] - 0s 2ms/step - loss: 7.3259 - mae: 7.3259\n",
            "Epoch 64/100\n",
            "13/13 [==============================] - 0s 2ms/step - loss: 7.2734 - mae: 7.2734\n",
            "Epoch 65/100\n",
            "13/13 [==============================] - 0s 2ms/step - loss: 7.2001 - mae: 7.2001\n",
            "Epoch 66/100\n",
            "13/13 [==============================] - 0s 2ms/step - loss: 7.1355 - mae: 7.1355\n",
            "Epoch 67/100\n",
            "13/13 [==============================] - 0s 3ms/step - loss: 7.0939 - mae: 7.0939\n",
            "Epoch 68/100\n",
            "13/13 [==============================] - 0s 2ms/step - loss: 7.0604 - mae: 7.0604\n",
            "Epoch 69/100\n",
            "13/13 [==============================] - 0s 2ms/step - loss: 7.0032 - mae: 7.0032\n",
            "Epoch 70/100\n",
            "13/13 [==============================] - 0s 2ms/step - loss: 6.9712 - mae: 6.9712\n",
            "Epoch 71/100\n",
            "13/13 [==============================] - 0s 2ms/step - loss: 6.9457 - mae: 6.9457\n",
            "Epoch 72/100\n",
            "13/13 [==============================] - 0s 3ms/step - loss: 6.8864 - mae: 6.8864\n",
            "Epoch 73/100\n",
            "13/13 [==============================] - 0s 2ms/step - loss: 6.8357 - mae: 6.8357\n",
            "Epoch 74/100\n",
            "13/13 [==============================] - 0s 2ms/step - loss: 6.7984 - mae: 6.7984\n",
            "Epoch 75/100\n",
            "13/13 [==============================] - 0s 3ms/step - loss: 6.7903 - mae: 6.7903\n",
            "Epoch 76/100\n",
            "13/13 [==============================] - 0s 2ms/step - loss: 6.7436 - mae: 6.7436\n",
            "Epoch 77/100\n",
            "13/13 [==============================] - 0s 2ms/step - loss: 6.7141 - mae: 6.7141\n",
            "Epoch 78/100\n",
            "13/13 [==============================] - 0s 3ms/step - loss: 6.6715 - mae: 6.6715\n",
            "Epoch 79/100\n",
            "13/13 [==============================] - 0s 2ms/step - loss: 6.6341 - mae: 6.6341\n",
            "Epoch 80/100\n",
            "13/13 [==============================] - 0s 2ms/step - loss: 6.6044 - mae: 6.6044\n",
            "Epoch 81/100\n",
            "13/13 [==============================] - 0s 2ms/step - loss: 6.5733 - mae: 6.5733\n",
            "Epoch 82/100\n",
            "13/13 [==============================] - 0s 2ms/step - loss: 6.5275 - mae: 6.5275\n",
            "Epoch 83/100\n",
            "13/13 [==============================] - 0s 2ms/step - loss: 6.5077 - mae: 6.5077\n",
            "Epoch 84/100\n",
            "13/13 [==============================] - 0s 2ms/step - loss: 6.4996 - mae: 6.4996\n",
            "Epoch 85/100\n",
            "13/13 [==============================] - 0s 2ms/step - loss: 6.4375 - mae: 6.4375\n",
            "Epoch 86/100\n",
            "13/13 [==============================] - 0s 2ms/step - loss: 6.4045 - mae: 6.4045\n",
            "Epoch 87/100\n",
            "13/13 [==============================] - 0s 2ms/step - loss: 6.3854 - mae: 6.3854\n",
            "Epoch 88/100\n",
            "13/13 [==============================] - 0s 2ms/step - loss: 6.3550 - mae: 6.3550\n",
            "Epoch 89/100\n",
            "13/13 [==============================] - 0s 2ms/step - loss: 6.3292 - mae: 6.3292\n",
            "Epoch 90/100\n",
            "13/13 [==============================] - 0s 2ms/step - loss: 6.3070 - mae: 6.3070\n",
            "Epoch 91/100\n",
            "13/13 [==============================] - 0s 3ms/step - loss: 6.2836 - mae: 6.2836\n",
            "Epoch 92/100\n",
            "13/13 [==============================] - 0s 2ms/step - loss: 6.2509 - mae: 6.2509\n",
            "Epoch 93/100\n",
            "13/13 [==============================] - 0s 3ms/step - loss: 6.2048 - mae: 6.2048\n",
            "Epoch 94/100\n",
            "13/13 [==============================] - 0s 2ms/step - loss: 6.1860 - mae: 6.1860\n",
            "Epoch 95/100\n",
            "13/13 [==============================] - 0s 2ms/step - loss: 6.1588 - mae: 6.1588\n",
            "Epoch 96/100\n",
            "13/13 [==============================] - 0s 2ms/step - loss: 6.1337 - mae: 6.1337\n",
            "Epoch 97/100\n",
            "13/13 [==============================] - 0s 2ms/step - loss: 6.1126 - mae: 6.1126\n",
            "Epoch 98/100\n",
            "13/13 [==============================] - 0s 3ms/step - loss: 6.0875 - mae: 6.0875\n",
            "Epoch 99/100\n",
            "13/13 [==============================] - 0s 4ms/step - loss: 6.1153 - mae: 6.1153\n",
            "Epoch 100/100\n",
            "13/13 [==============================] - 0s 4ms/step - loss: 6.0758 - mae: 6.0758\n"
          ]
        },
        {
          "output_type": "execute_result",
          "data": {
            "text/plain": [
              "<keras.callbacks.History at 0x7f127cc5e9b0>"
            ]
          },
          "metadata": {},
          "execution_count": 77
        }
      ]
    },
    {
      "cell_type": "code",
      "source": [
        "model_5.evaluate(X_test, y_test)"
      ],
      "metadata": {
        "colab": {
          "base_uri": "https://localhost:8080/"
        },
        "id": "VypDOPYrEcC-",
        "outputId": "ad27c982-52ae-469a-ab8e-2755e372da4a"
      },
      "execution_count": null,
      "outputs": [
        {
          "output_type": "stream",
          "name": "stdout",
          "text": [
            "4/4 [==============================] - 0s 6ms/step - loss: 5.7338 - mae: 5.7338\n"
          ]
        },
        {
          "output_type": "execute_result",
          "data": {
            "text/plain": [
              "[5.733813285827637, 5.733813285827637]"
            ]
          },
          "metadata": {},
          "execution_count": 78
        }
      ]
    },
    {
      "cell_type": "markdown",
      "source": [
        "#### Tweaking the model\n",
        "Luckily our model has performed much btter than expected in the first go but it still need lots of improvement ao lets play with it a little 😉\n",
        "\n"
      ],
      "metadata": {
        "id": "2gk9K2h7EjTX"
      }
    },
    {
      "cell_type": "code",
      "source": [
        "model_6= tf.keras.Sequential([\n",
        "    tf.keras.layers.Dense(10),\n",
        "    tf.keras.layers.Dense(1)\n",
        "])\n",
        "model_6.compile(loss=['mae'],\n",
        "                optimizer= tf.keras.optimizers.Adam(),\n",
        "                metrics=['mae'])\n",
        "history_6=model_6.fit(X_train, y_train, epochs=100)"
      ],
      "metadata": {
        "colab": {
          "base_uri": "https://localhost:8080/"
        },
        "id": "Rl9rMmQaEtJV",
        "outputId": "b9a25597-f4eb-4904-d797-082d80250a4f"
      },
      "execution_count": null,
      "outputs": [
        {
          "output_type": "stream",
          "name": "stdout",
          "text": [
            "Epoch 1/100\n",
            "13/13 [==============================] - 1s 4ms/step - loss: 33.0417 - mae: 33.0417\n",
            "Epoch 2/100\n",
            "13/13 [==============================] - 0s 5ms/step - loss: 24.7825 - mae: 24.7825\n",
            "Epoch 3/100\n",
            "13/13 [==============================] - 0s 3ms/step - loss: 16.5229 - mae: 16.5229\n",
            "Epoch 4/100\n",
            "13/13 [==============================] - 0s 3ms/step - loss: 11.7622 - mae: 11.7622\n",
            "Epoch 5/100\n",
            "13/13 [==============================] - 0s 2ms/step - loss: 10.0164 - mae: 10.0164\n",
            "Epoch 6/100\n",
            "13/13 [==============================] - 0s 3ms/step - loss: 9.7329 - mae: 9.7329\n",
            "Epoch 7/100\n",
            "13/13 [==============================] - 0s 2ms/step - loss: 9.3940 - mae: 9.3940\n",
            "Epoch 8/100\n",
            "13/13 [==============================] - 0s 3ms/step - loss: 9.1642 - mae: 9.1642\n",
            "Epoch 9/100\n",
            "13/13 [==============================] - 0s 2ms/step - loss: 8.4830 - mae: 8.4830\n",
            "Epoch 10/100\n",
            "13/13 [==============================] - 0s 2ms/step - loss: 8.2580 - mae: 8.2580\n",
            "Epoch 11/100\n",
            "13/13 [==============================] - 0s 3ms/step - loss: 8.0403 - mae: 8.0403\n",
            "Epoch 12/100\n",
            "13/13 [==============================] - 0s 2ms/step - loss: 7.6245 - mae: 7.6245\n",
            "Epoch 13/100\n",
            "13/13 [==============================] - 0s 2ms/step - loss: 7.3722 - mae: 7.3722\n",
            "Epoch 14/100\n",
            "13/13 [==============================] - 0s 2ms/step - loss: 7.1800 - mae: 7.1800\n",
            "Epoch 15/100\n",
            "13/13 [==============================] - 0s 2ms/step - loss: 6.9708 - mae: 6.9708\n",
            "Epoch 16/100\n",
            "13/13 [==============================] - 0s 2ms/step - loss: 6.6120 - mae: 6.6120\n",
            "Epoch 17/100\n",
            "13/13 [==============================] - 0s 3ms/step - loss: 6.5238 - mae: 6.5238\n",
            "Epoch 18/100\n",
            "13/13 [==============================] - 0s 2ms/step - loss: 6.4021 - mae: 6.4021\n",
            "Epoch 19/100\n",
            "13/13 [==============================] - 0s 3ms/step - loss: 6.3639 - mae: 6.3639\n",
            "Epoch 20/100\n",
            "13/13 [==============================] - 0s 2ms/step - loss: 6.2650 - mae: 6.2650\n",
            "Epoch 21/100\n",
            "13/13 [==============================] - 0s 2ms/step - loss: 5.9691 - mae: 5.9691\n",
            "Epoch 22/100\n",
            "13/13 [==============================] - 0s 2ms/step - loss: 6.0879 - mae: 6.0879\n",
            "Epoch 23/100\n",
            "13/13 [==============================] - 0s 2ms/step - loss: 5.8043 - mae: 5.8043\n",
            "Epoch 24/100\n",
            "13/13 [==============================] - 0s 2ms/step - loss: 5.6986 - mae: 5.6986\n",
            "Epoch 25/100\n",
            "13/13 [==============================] - 0s 2ms/step - loss: 5.7061 - mae: 5.7061\n",
            "Epoch 26/100\n",
            "13/13 [==============================] - 0s 2ms/step - loss: 5.9255 - mae: 5.9255\n",
            "Epoch 27/100\n",
            "13/13 [==============================] - 0s 2ms/step - loss: 5.8963 - mae: 5.8963\n",
            "Epoch 28/100\n",
            "13/13 [==============================] - 0s 2ms/step - loss: 5.7186 - mae: 5.7186\n",
            "Epoch 29/100\n",
            "13/13 [==============================] - 0s 2ms/step - loss: 5.5476 - mae: 5.5476\n",
            "Epoch 30/100\n",
            "13/13 [==============================] - 0s 3ms/step - loss: 5.4656 - mae: 5.4656\n",
            "Epoch 31/100\n",
            "13/13 [==============================] - 0s 2ms/step - loss: 5.3648 - mae: 5.3648\n",
            "Epoch 32/100\n",
            "13/13 [==============================] - 0s 2ms/step - loss: 5.3719 - mae: 5.3719\n",
            "Epoch 33/100\n",
            "13/13 [==============================] - 0s 2ms/step - loss: 5.3970 - mae: 5.3970\n",
            "Epoch 34/100\n",
            "13/13 [==============================] - 0s 2ms/step - loss: 5.2966 - mae: 5.2966\n",
            "Epoch 35/100\n",
            "13/13 [==============================] - 0s 4ms/step - loss: 5.1772 - mae: 5.1772\n",
            "Epoch 36/100\n",
            "13/13 [==============================] - 0s 2ms/step - loss: 5.4314 - mae: 5.4314\n",
            "Epoch 37/100\n",
            "13/13 [==============================] - 0s 2ms/step - loss: 5.5854 - mae: 5.5854\n",
            "Epoch 38/100\n",
            "13/13 [==============================] - 0s 2ms/step - loss: 5.2157 - mae: 5.2157\n",
            "Epoch 39/100\n",
            "13/13 [==============================] - 0s 3ms/step - loss: 5.3334 - mae: 5.3334\n",
            "Epoch 40/100\n",
            "13/13 [==============================] - 0s 2ms/step - loss: 5.0578 - mae: 5.0578\n",
            "Epoch 41/100\n",
            "13/13 [==============================] - 0s 2ms/step - loss: 5.0834 - mae: 5.0834\n",
            "Epoch 42/100\n",
            "13/13 [==============================] - 0s 2ms/step - loss: 5.0393 - mae: 5.0393\n",
            "Epoch 43/100\n",
            "13/13 [==============================] - 0s 2ms/step - loss: 5.0912 - mae: 5.0912\n",
            "Epoch 44/100\n",
            "13/13 [==============================] - 0s 2ms/step - loss: 5.2703 - mae: 5.2703\n",
            "Epoch 45/100\n",
            "13/13 [==============================] - 0s 2ms/step - loss: 5.0013 - mae: 5.0013\n",
            "Epoch 46/100\n",
            "13/13 [==============================] - 0s 2ms/step - loss: 4.9600 - mae: 4.9600\n",
            "Epoch 47/100\n",
            "13/13 [==============================] - 0s 2ms/step - loss: 4.9651 - mae: 4.9651\n",
            "Epoch 48/100\n",
            "13/13 [==============================] - 0s 2ms/step - loss: 4.9866 - mae: 4.9866\n",
            "Epoch 49/100\n",
            "13/13 [==============================] - 0s 2ms/step - loss: 4.9079 - mae: 4.9079\n",
            "Epoch 50/100\n",
            "13/13 [==============================] - 0s 2ms/step - loss: 4.9091 - mae: 4.9091\n",
            "Epoch 51/100\n",
            "13/13 [==============================] - 0s 3ms/step - loss: 4.8619 - mae: 4.8619\n",
            "Epoch 52/100\n",
            "13/13 [==============================] - 0s 2ms/step - loss: 4.8931 - mae: 4.8931\n",
            "Epoch 53/100\n",
            "13/13 [==============================] - 0s 2ms/step - loss: 4.7776 - mae: 4.7776\n",
            "Epoch 54/100\n",
            "13/13 [==============================] - 0s 2ms/step - loss: 4.8949 - mae: 4.8949\n",
            "Epoch 55/100\n",
            "13/13 [==============================] - 0s 2ms/step - loss: 4.7911 - mae: 4.7911\n",
            "Epoch 56/100\n",
            "13/13 [==============================] - 0s 2ms/step - loss: 4.7990 - mae: 4.7990\n",
            "Epoch 57/100\n",
            "13/13 [==============================] - 0s 2ms/step - loss: 4.8927 - mae: 4.8927\n",
            "Epoch 58/100\n",
            "13/13 [==============================] - 0s 3ms/step - loss: 5.1998 - mae: 5.1998\n",
            "Epoch 59/100\n",
            "13/13 [==============================] - 0s 2ms/step - loss: 4.9295 - mae: 4.9295\n",
            "Epoch 60/100\n",
            "13/13 [==============================] - 0s 3ms/step - loss: 5.3732 - mae: 5.3732\n",
            "Epoch 61/100\n",
            "13/13 [==============================] - 0s 4ms/step - loss: 4.9423 - mae: 4.9423\n",
            "Epoch 62/100\n",
            "13/13 [==============================] - 0s 4ms/step - loss: 4.7425 - mae: 4.7425\n",
            "Epoch 63/100\n",
            "13/13 [==============================] - 0s 3ms/step - loss: 4.8165 - mae: 4.8165\n",
            "Epoch 64/100\n",
            "13/13 [==============================] - 0s 4ms/step - loss: 4.7349 - mae: 4.7349\n",
            "Epoch 65/100\n",
            "13/13 [==============================] - 0s 3ms/step - loss: 4.8777 - mae: 4.8777\n",
            "Epoch 66/100\n",
            "13/13 [==============================] - 0s 4ms/step - loss: 4.6635 - mae: 4.6635\n",
            "Epoch 67/100\n",
            "13/13 [==============================] - 0s 3ms/step - loss: 4.7006 - mae: 4.7006\n",
            "Epoch 68/100\n",
            "13/13 [==============================] - 0s 3ms/step - loss: 4.6966 - mae: 4.6966\n",
            "Epoch 69/100\n",
            "13/13 [==============================] - 0s 3ms/step - loss: 4.8504 - mae: 4.8504\n",
            "Epoch 70/100\n",
            "13/13 [==============================] - 0s 3ms/step - loss: 4.8695 - mae: 4.8695\n",
            "Epoch 71/100\n",
            "13/13 [==============================] - 0s 3ms/step - loss: 4.6594 - mae: 4.6594\n",
            "Epoch 72/100\n",
            "13/13 [==============================] - 0s 3ms/step - loss: 4.6324 - mae: 4.6324\n",
            "Epoch 73/100\n",
            "13/13 [==============================] - 0s 3ms/step - loss: 4.7138 - mae: 4.7138\n",
            "Epoch 74/100\n",
            "13/13 [==============================] - 0s 3ms/step - loss: 4.7734 - mae: 4.7734\n",
            "Epoch 75/100\n",
            "13/13 [==============================] - 0s 3ms/step - loss: 4.7978 - mae: 4.7978\n",
            "Epoch 76/100\n",
            "13/13 [==============================] - 0s 3ms/step - loss: 4.6134 - mae: 4.6134\n",
            "Epoch 77/100\n",
            "13/13 [==============================] - 0s 3ms/step - loss: 4.5433 - mae: 4.5433\n",
            "Epoch 78/100\n",
            "13/13 [==============================] - 0s 4ms/step - loss: 4.5991 - mae: 4.5991\n",
            "Epoch 79/100\n",
            "13/13 [==============================] - 0s 3ms/step - loss: 4.5623 - mae: 4.5623\n",
            "Epoch 80/100\n",
            "13/13 [==============================] - 0s 3ms/step - loss: 4.6212 - mae: 4.6212\n",
            "Epoch 81/100\n",
            "13/13 [==============================] - 0s 3ms/step - loss: 4.8686 - mae: 4.8686\n",
            "Epoch 82/100\n",
            "13/13 [==============================] - 0s 4ms/step - loss: 4.5639 - mae: 4.5639\n",
            "Epoch 83/100\n",
            "13/13 [==============================] - 0s 3ms/step - loss: 4.4890 - mae: 4.4890\n",
            "Epoch 84/100\n",
            "13/13 [==============================] - 0s 3ms/step - loss: 4.5795 - mae: 4.5795\n",
            "Epoch 85/100\n",
            "13/13 [==============================] - 0s 3ms/step - loss: 4.6039 - mae: 4.6039\n",
            "Epoch 86/100\n",
            "13/13 [==============================] - 0s 3ms/step - loss: 4.4939 - mae: 4.4939\n",
            "Epoch 87/100\n",
            "13/13 [==============================] - 0s 3ms/step - loss: 4.5181 - mae: 4.5181\n",
            "Epoch 88/100\n",
            "13/13 [==============================] - 0s 4ms/step - loss: 4.5682 - mae: 4.5682\n",
            "Epoch 89/100\n",
            "13/13 [==============================] - 0s 4ms/step - loss: 4.5412 - mae: 4.5412\n",
            "Epoch 90/100\n",
            "13/13 [==============================] - 0s 4ms/step - loss: 4.6991 - mae: 4.6991\n",
            "Epoch 91/100\n",
            "13/13 [==============================] - 0s 3ms/step - loss: 4.9126 - mae: 4.9126\n",
            "Epoch 92/100\n",
            "13/13 [==============================] - 0s 3ms/step - loss: 4.8018 - mae: 4.8018\n",
            "Epoch 93/100\n",
            "13/13 [==============================] - 0s 3ms/step - loss: 4.5411 - mae: 4.5411\n",
            "Epoch 94/100\n",
            "13/13 [==============================] - 0s 4ms/step - loss: 4.6301 - mae: 4.6301\n",
            "Epoch 95/100\n",
            "13/13 [==============================] - 0s 3ms/step - loss: 4.7183 - mae: 4.7183\n",
            "Epoch 96/100\n",
            "13/13 [==============================] - 0s 3ms/step - loss: 4.5958 - mae: 4.5958\n",
            "Epoch 97/100\n",
            "13/13 [==============================] - 0s 3ms/step - loss: 4.6758 - mae: 4.6758\n",
            "Epoch 98/100\n",
            "13/13 [==============================] - 0s 3ms/step - loss: 4.5999 - mae: 4.5999\n",
            "Epoch 99/100\n",
            "13/13 [==============================] - 0s 3ms/step - loss: 4.4913 - mae: 4.4913\n",
            "Epoch 100/100\n",
            "13/13 [==============================] - 0s 3ms/step - loss: 4.5571 - mae: 4.5571\n"
          ]
        }
      ]
    },
    {
      "cell_type": "code",
      "source": [
        "pd.DataFrame(history_6.history).plot()"
      ],
      "metadata": {
        "colab": {
          "base_uri": "https://localhost:8080/",
          "height": 448
        },
        "id": "IVYCUMuSFcFQ",
        "outputId": "35dd4b74-a887-4094-bdb3-41dbf65ebefc"
      },
      "execution_count": null,
      "outputs": [
        {
          "output_type": "execute_result",
          "data": {
            "text/plain": [
              "<Axes: >"
            ]
          },
          "metadata": {},
          "execution_count": 81
        },
        {
          "output_type": "display_data",
          "data": {
            "text/plain": [
              "<Figure size 640x480 with 1 Axes>"
            ],
            "image/png": "[encoded data removed]"
          },
          "metadata": {}
        }
      ]
    },
    {
      "cell_type": "code",
      "source": [
        "model_7= tf.keras.Sequential([\n",
        "    tf.keras.layers.Dense(10),\n",
        "    tf.keras.layers.Dense(1)\n",
        "])\n",
        "model_7.compile(loss=['mae'],\n",
        "                optimizer= tf.keras.optimizers.Adam(),\n",
        "                metrics=['mae'])\n",
        "history_7=model_7.fit(X_train, y_train, epochs=200)"
      ],
      "metadata": {
        "colab": {
          "base_uri": "https://localhost:8080/"
        },
        "id": "ZKHXiQJKFnkw",
        "outputId": "590c7193-8118-47a6-a6d3-9ea53db0a72b"
      },
      "execution_count": null,
      "outputs": [
        {
          "output_type": "stream",
          "name": "stdout",
          "text": [
            "Epoch 1/200\n",
            "13/13 [==============================] - 1s 2ms/step - loss: 132.7626 - mae: 132.7626\n",
            "Epoch 2/200\n",
            "13/13 [==============================] - 0s 2ms/step - loss: 81.9407 - mae: 81.9407\n",
            "Epoch 3/200\n",
            "13/13 [==============================] - 0s 2ms/step - loss: 62.3625 - mae: 62.3625\n",
            "Epoch 4/200\n",
            "13/13 [==============================] - 0s 3ms/step - loss: 55.3805 - mae: 55.3805\n",
            "Epoch 5/200\n",
            "13/13 [==============================] - 0s 2ms/step - loss: 49.4657 - mae: 49.4657\n",
            "Epoch 6/200\n",
            "13/13 [==============================] - 0s 2ms/step - loss: 43.1597 - mae: 43.1597\n",
            "Epoch 7/200\n",
            "13/13 [==============================] - 0s 2ms/step - loss: 36.8953 - mae: 36.8953\n",
            "Epoch 8/200\n",
            "13/13 [==============================] - 0s 2ms/step - loss: 30.5934 - mae: 30.5934\n",
            "Epoch 9/200\n",
            "13/13 [==============================] - 0s 2ms/step - loss: 24.5163 - mae: 24.5163\n",
            "Epoch 10/200\n",
            "13/13 [==============================] - 0s 2ms/step - loss: 19.2153 - mae: 19.2153\n",
            "Epoch 11/200\n",
            "13/13 [==============================] - 0s 3ms/step - loss: 14.5953 - mae: 14.5953\n",
            "Epoch 12/200\n",
            "13/13 [==============================] - 0s 3ms/step - loss: 11.3420 - mae: 11.3420\n",
            "Epoch 13/200\n",
            "13/13 [==============================] - 0s 2ms/step - loss: 9.5968 - mae: 9.5968\n",
            "Epoch 14/200\n",
            "13/13 [==============================] - 0s 2ms/step - loss: 8.9529 - mae: 8.9529\n",
            "Epoch 15/200\n",
            "13/13 [==============================] - 0s 2ms/step - loss: 8.2146 - mae: 8.2146\n",
            "Epoch 16/200\n",
            "13/13 [==============================] - 0s 3ms/step - loss: 7.8130 - mae: 7.8130\n",
            "Epoch 17/200\n",
            "13/13 [==============================] - 0s 3ms/step - loss: 7.5758 - mae: 7.5758\n",
            "Epoch 18/200\n",
            "13/13 [==============================] - 0s 2ms/step - loss: 6.9566 - mae: 6.9566\n",
            "Epoch 19/200\n",
            "13/13 [==============================] - 0s 3ms/step - loss: 6.7144 - mae: 6.7144\n",
            "Epoch 20/200\n",
            "13/13 [==============================] - 0s 2ms/step - loss: 6.4946 - mae: 6.4946\n",
            "Epoch 21/200\n",
            "13/13 [==============================] - 0s 2ms/step - loss: 6.3124 - mae: 6.3124\n",
            "Epoch 22/200\n",
            "13/13 [==============================] - 0s 3ms/step - loss: 6.2368 - mae: 6.2368\n",
            "Epoch 23/200\n",
            "13/13 [==============================] - 0s 3ms/step - loss: 5.8748 - mae: 5.8748\n",
            "Epoch 24/200\n",
            "13/13 [==============================] - 0s 2ms/step - loss: 5.7336 - mae: 5.7336\n",
            "Epoch 25/200\n",
            "13/13 [==============================] - 0s 2ms/step - loss: 5.5084 - mae: 5.5084\n",
            "Epoch 26/200\n",
            "13/13 [==============================] - 0s 2ms/step - loss: 5.4828 - mae: 5.4828\n",
            "Epoch 27/200\n",
            "13/13 [==============================] - 0s 3ms/step - loss: 5.4400 - mae: 5.4400\n",
            "Epoch 28/200\n",
            "13/13 [==============================] - 0s 2ms/step - loss: 5.4151 - mae: 5.4151\n",
            "Epoch 29/200\n",
            "13/13 [==============================] - 0s 2ms/step - loss: 5.4205 - mae: 5.4205\n",
            "Epoch 30/200\n",
            "13/13 [==============================] - 0s 2ms/step - loss: 5.3457 - mae: 5.3457\n",
            "Epoch 31/200\n",
            "13/13 [==============================] - 0s 2ms/step - loss: 5.2846 - mae: 5.2846\n",
            "Epoch 32/200\n",
            "13/13 [==============================] - 0s 2ms/step - loss: 5.5398 - mae: 5.5398\n",
            "Epoch 33/200\n",
            "13/13 [==============================] - 0s 2ms/step - loss: 5.2805 - mae: 5.2805\n",
            "Epoch 34/200\n",
            "13/13 [==============================] - 0s 2ms/step - loss: 5.6700 - mae: 5.6700\n",
            "Epoch 35/200\n",
            "13/13 [==============================] - 0s 2ms/step - loss: 5.4337 - mae: 5.4337\n",
            "Epoch 36/200\n",
            "13/13 [==============================] - 0s 2ms/step - loss: 5.2483 - mae: 5.2483\n",
            "Epoch 37/200\n",
            "13/13 [==============================] - 0s 2ms/step - loss: 5.3238 - mae: 5.3238\n",
            "Epoch 38/200\n",
            "13/13 [==============================] - 0s 2ms/step - loss: 5.4518 - mae: 5.4518\n",
            "Epoch 39/200\n",
            "13/13 [==============================] - 0s 2ms/step - loss: 5.1501 - mae: 5.1501\n",
            "Epoch 40/200\n",
            "13/13 [==============================] - 0s 2ms/step - loss: 5.1832 - mae: 5.1832\n",
            "Epoch 41/200\n",
            "13/13 [==============================] - 0s 2ms/step - loss: 5.0911 - mae: 5.0911\n",
            "Epoch 42/200\n",
            "13/13 [==============================] - 0s 2ms/step - loss: 5.0934 - mae: 5.0934\n",
            "Epoch 43/200\n",
            "13/13 [==============================] - 0s 2ms/step - loss: 5.2006 - mae: 5.2006\n",
            "Epoch 44/200\n",
            "13/13 [==============================] - 0s 2ms/step - loss: 5.1038 - mae: 5.1038\n",
            "Epoch 45/200\n",
            "13/13 [==============================] - 0s 2ms/step - loss: 5.1536 - mae: 5.1536\n",
            "Epoch 46/200\n",
            "13/13 [==============================] - 0s 2ms/step - loss: 5.1886 - mae: 5.1886\n",
            "Epoch 47/200\n",
            "13/13 [==============================] - 0s 2ms/step - loss: 5.1263 - mae: 5.1263\n",
            "Epoch 48/200\n",
            "13/13 [==============================] - 0s 2ms/step - loss: 5.0943 - mae: 5.0943\n",
            "Epoch 49/200\n",
            "13/13 [==============================] - 0s 2ms/step - loss: 5.1544 - mae: 5.1544\n",
            "Epoch 50/200\n",
            "13/13 [==============================] - 0s 3ms/step - loss: 5.0243 - mae: 5.0243\n",
            "Epoch 51/200\n",
            "13/13 [==============================] - 0s 2ms/step - loss: 5.0881 - mae: 5.0881\n",
            "Epoch 52/200\n",
            "13/13 [==============================] - 0s 2ms/step - loss: 5.2159 - mae: 5.2159\n",
            "Epoch 53/200\n",
            "13/13 [==============================] - 0s 3ms/step - loss: 5.1231 - mae: 5.1231\n",
            "Epoch 54/200\n",
            "13/13 [==============================] - 0s 2ms/step - loss: 5.1508 - mae: 5.1508\n",
            "Epoch 55/200\n",
            "13/13 [==============================] - 0s 2ms/step - loss: 5.1201 - mae: 5.1201\n",
            "Epoch 56/200\n",
            "13/13 [==============================] - 0s 2ms/step - loss: 5.0353 - mae: 5.0353\n",
            "Epoch 57/200\n",
            "13/13 [==============================] - 0s 2ms/step - loss: 5.3597 - mae: 5.3597\n",
            "Epoch 58/200\n",
            "13/13 [==============================] - 0s 3ms/step - loss: 5.3064 - mae: 5.3064\n",
            "Epoch 59/200\n",
            "13/13 [==============================] - 0s 2ms/step - loss: 5.0789 - mae: 5.0789\n",
            "Epoch 60/200\n",
            "13/13 [==============================] - 0s 2ms/step - loss: 4.9525 - mae: 4.9525\n",
            "Epoch 61/200\n",
            "13/13 [==============================] - 0s 2ms/step - loss: 5.1519 - mae: 5.1519\n",
            "Epoch 62/200\n",
            "13/13 [==============================] - 0s 2ms/step - loss: 4.9320 - mae: 4.9320\n",
            "Epoch 63/200\n",
            "13/13 [==============================] - 0s 2ms/step - loss: 4.9337 - mae: 4.9337\n",
            "Epoch 64/200\n",
            "13/13 [==============================] - 0s 2ms/step - loss: 5.2996 - mae: 5.2996\n",
            "Epoch 65/200\n",
            "13/13 [==============================] - 0s 2ms/step - loss: 5.1624 - mae: 5.1624\n",
            "Epoch 66/200\n",
            "13/13 [==============================] - 0s 2ms/step - loss: 5.0788 - mae: 5.0788\n",
            "Epoch 67/200\n",
            "13/13 [==============================] - 0s 2ms/step - loss: 5.1016 - mae: 5.1016\n",
            "Epoch 68/200\n",
            "13/13 [==============================] - 0s 2ms/step - loss: 5.3178 - mae: 5.3178\n",
            "Epoch 69/200\n",
            "13/13 [==============================] - 0s 2ms/step - loss: 5.3274 - mae: 5.3274\n",
            "Epoch 70/200\n",
            "13/13 [==============================] - 0s 3ms/step - loss: 4.9735 - mae: 4.9735\n",
            "Epoch 71/200\n",
            "13/13 [==============================] - 0s 2ms/step - loss: 5.0263 - mae: 5.0263\n",
            "Epoch 72/200\n",
            "13/13 [==============================] - 0s 2ms/step - loss: 5.0365 - mae: 5.0365\n",
            "Epoch 73/200\n",
            "13/13 [==============================] - 0s 2ms/step - loss: 4.8900 - mae: 4.8900\n",
            "Epoch 74/200\n",
            "13/13 [==============================] - 0s 3ms/step - loss: 4.8421 - mae: 4.8421\n",
            "Epoch 75/200\n",
            "13/13 [==============================] - 0s 2ms/step - loss: 4.8070 - mae: 4.8070\n",
            "Epoch 76/200\n",
            "13/13 [==============================] - 0s 4ms/step - loss: 4.8218 - mae: 4.8218\n",
            "Epoch 77/200\n",
            "13/13 [==============================] - 0s 2ms/step - loss: 5.0026 - mae: 5.0026\n",
            "Epoch 78/200\n",
            "13/13 [==============================] - 0s 2ms/step - loss: 5.0093 - mae: 5.0093\n",
            "Epoch 79/200\n",
            "13/13 [==============================] - 0s 2ms/step - loss: 4.8546 - mae: 4.8546\n",
            "Epoch 80/200\n",
            "13/13 [==============================] - 0s 2ms/step - loss: 4.7709 - mae: 4.7709\n",
            "Epoch 81/200\n",
            "13/13 [==============================] - 0s 2ms/step - loss: 4.8781 - mae: 4.8781\n",
            "Epoch 82/200\n",
            "13/13 [==============================] - 0s 2ms/step - loss: 4.8056 - mae: 4.8056\n",
            "Epoch 83/200\n",
            "13/13 [==============================] - 0s 2ms/step - loss: 4.7656 - mae: 4.7656\n",
            "Epoch 84/200\n",
            "13/13 [==============================] - 0s 2ms/step - loss: 4.8143 - mae: 4.8143\n",
            "Epoch 85/200\n",
            "13/13 [==============================] - 0s 2ms/step - loss: 4.7803 - mae: 4.7803\n",
            "Epoch 86/200\n",
            "13/13 [==============================] - 0s 2ms/step - loss: 5.1116 - mae: 5.1116\n",
            "Epoch 87/200\n",
            "13/13 [==============================] - 0s 3ms/step - loss: 5.0278 - mae: 5.0278\n",
            "Epoch 88/200\n",
            "13/13 [==============================] - 0s 2ms/step - loss: 5.0361 - mae: 5.0361\n",
            "Epoch 89/200\n",
            "13/13 [==============================] - 0s 2ms/step - loss: 5.4820 - mae: 5.4820\n",
            "Epoch 90/200\n",
            "13/13 [==============================] - 0s 2ms/step - loss: 5.3884 - mae: 5.3884\n",
            "Epoch 91/200\n",
            "13/13 [==============================] - 0s 3ms/step - loss: 5.2701 - mae: 5.2701\n",
            "Epoch 92/200\n",
            "13/13 [==============================] - 0s 2ms/step - loss: 5.1168 - mae: 5.1168\n",
            "Epoch 93/200\n",
            "13/13 [==============================] - 0s 2ms/step - loss: 4.8607 - mae: 4.8607\n",
            "Epoch 94/200\n",
            "13/13 [==============================] - 0s 2ms/step - loss: 4.8645 - mae: 4.8645\n",
            "Epoch 95/200\n",
            "13/13 [==============================] - 0s 2ms/step - loss: 4.7224 - mae: 4.7224\n",
            "Epoch 96/200\n",
            "13/13 [==============================] - 0s 2ms/step - loss: 4.8219 - mae: 4.8219\n",
            "Epoch 97/200\n",
            "13/13 [==============================] - 0s 2ms/step - loss: 4.8717 - mae: 4.8717\n",
            "Epoch 98/200\n",
            "13/13 [==============================] - 0s 2ms/step - loss: 4.7671 - mae: 4.7671\n",
            "Epoch 99/200\n",
            "13/13 [==============================] - 0s 3ms/step - loss: 4.6437 - mae: 4.6437\n",
            "Epoch 100/200\n",
            "13/13 [==============================] - 0s 3ms/step - loss: 4.8774 - mae: 4.8774\n",
            "Epoch 101/200\n",
            "13/13 [==============================] - 0s 3ms/step - loss: 4.8292 - mae: 4.8292\n",
            "Epoch 102/200\n",
            "13/13 [==============================] - 0s 3ms/step - loss: 4.8382 - mae: 4.8382\n",
            "Epoch 103/200\n",
            "13/13 [==============================] - 0s 3ms/step - loss: 5.0449 - mae: 5.0449\n",
            "Epoch 104/200\n",
            "13/13 [==============================] - 0s 4ms/step - loss: 5.0151 - mae: 5.0151\n",
            "Epoch 105/200\n",
            "13/13 [==============================] - 0s 3ms/step - loss: 4.7706 - mae: 4.7706\n",
            "Epoch 106/200\n",
            "13/13 [==============================] - 0s 3ms/step - loss: 4.5967 - mae: 4.5967\n",
            "Epoch 107/200\n",
            "13/13 [==============================] - 0s 4ms/step - loss: 4.6343 - mae: 4.6343\n",
            "Epoch 108/200\n",
            "13/13 [==============================] - 0s 3ms/step - loss: 4.7396 - mae: 4.7396\n",
            "Epoch 109/200\n",
            "13/13 [==============================] - 0s 3ms/step - loss: 4.7375 - mae: 4.7375\n",
            "Epoch 110/200\n",
            "13/13 [==============================] - 0s 3ms/step - loss: 4.7541 - mae: 4.7541\n",
            "Epoch 111/200\n",
            "13/13 [==============================] - 0s 4ms/step - loss: 4.5883 - mae: 4.5883\n",
            "Epoch 112/200\n",
            "13/13 [==============================] - 0s 3ms/step - loss: 4.6605 - mae: 4.6605\n",
            "Epoch 113/200\n",
            "13/13 [==============================] - 0s 3ms/step - loss: 4.8422 - mae: 4.8422\n",
            "Epoch 114/200\n",
            "13/13 [==============================] - 0s 3ms/step - loss: 4.8188 - mae: 4.8188\n",
            "Epoch 115/200\n",
            "13/13 [==============================] - 0s 3ms/step - loss: 4.8410 - mae: 4.8410\n",
            "Epoch 116/200\n",
            "13/13 [==============================] - 0s 3ms/step - loss: 4.5582 - mae: 4.5582\n",
            "Epoch 117/200\n",
            "13/13 [==============================] - 0s 3ms/step - loss: 4.5436 - mae: 4.5436\n",
            "Epoch 118/200\n",
            "13/13 [==============================] - 0s 3ms/step - loss: 4.6250 - mae: 4.6250\n",
            "Epoch 119/200\n",
            "13/13 [==============================] - 0s 3ms/step - loss: 4.5906 - mae: 4.5906\n",
            "Epoch 120/200\n",
            "13/13 [==============================] - 0s 3ms/step - loss: 4.6349 - mae: 4.6349\n",
            "Epoch 121/200\n",
            "13/13 [==============================] - 0s 3ms/step - loss: 4.7887 - mae: 4.7887\n",
            "Epoch 122/200\n",
            "13/13 [==============================] - 0s 3ms/step - loss: 4.8182 - mae: 4.8182\n",
            "Epoch 123/200\n",
            "13/13 [==============================] - 0s 4ms/step - loss: 4.6567 - mae: 4.6567\n",
            "Epoch 124/200\n",
            "13/13 [==============================] - 0s 3ms/step - loss: 4.5006 - mae: 4.5006\n",
            "Epoch 125/200\n",
            "13/13 [==============================] - 0s 3ms/step - loss: 4.5709 - mae: 4.5709\n",
            "Epoch 126/200\n",
            "13/13 [==============================] - 0s 3ms/step - loss: 4.7747 - mae: 4.7747\n",
            "Epoch 127/200\n",
            "13/13 [==============================] - 0s 3ms/step - loss: 4.5105 - mae: 4.5105\n",
            "Epoch 128/200\n",
            "13/13 [==============================] - 0s 3ms/step - loss: 4.5026 - mae: 4.5026\n",
            "Epoch 129/200\n",
            "13/13 [==============================] - 0s 3ms/step - loss: 4.5630 - mae: 4.5630\n",
            "Epoch 130/200\n",
            "13/13 [==============================] - 0s 3ms/step - loss: 4.4769 - mae: 4.4769\n",
            "Epoch 131/200\n",
            "13/13 [==============================] - 0s 3ms/step - loss: 4.5330 - mae: 4.5330\n",
            "Epoch 132/200\n",
            "13/13 [==============================] - 0s 3ms/step - loss: 4.6813 - mae: 4.6813\n",
            "Epoch 133/200\n",
            "13/13 [==============================] - 0s 3ms/step - loss: 4.4473 - mae: 4.4473\n",
            "Epoch 134/200\n",
            "13/13 [==============================] - 0s 3ms/step - loss: 4.4871 - mae: 4.4871\n",
            "Epoch 135/200\n",
            "13/13 [==============================] - 0s 3ms/step - loss: 4.4833 - mae: 4.4833\n",
            "Epoch 136/200\n",
            "13/13 [==============================] - 0s 3ms/step - loss: 4.6734 - mae: 4.6734\n",
            "Epoch 137/200\n",
            "13/13 [==============================] - 0s 3ms/step - loss: 4.5684 - mae: 4.5684\n",
            "Epoch 138/200\n",
            "13/13 [==============================] - 0s 3ms/step - loss: 4.4298 - mae: 4.4298\n",
            "Epoch 139/200\n",
            "13/13 [==============================] - 0s 3ms/step - loss: 4.4542 - mae: 4.4542\n",
            "Epoch 140/200\n",
            "13/13 [==============================] - 0s 3ms/step - loss: 4.6284 - mae: 4.6284\n",
            "Epoch 141/200\n",
            "13/13 [==============================] - 0s 3ms/step - loss: 4.4644 - mae: 4.4644\n",
            "Epoch 142/200\n",
            "13/13 [==============================] - 0s 3ms/step - loss: 4.5454 - mae: 4.5454\n",
            "Epoch 143/200\n",
            "13/13 [==============================] - 0s 3ms/step - loss: 4.9398 - mae: 4.9398\n",
            "Epoch 144/200\n",
            "13/13 [==============================] - 0s 3ms/step - loss: 4.5689 - mae: 4.5689\n",
            "Epoch 145/200\n",
            "13/13 [==============================] - 0s 3ms/step - loss: 4.8046 - mae: 4.8046\n",
            "Epoch 146/200\n",
            "13/13 [==============================] - 0s 3ms/step - loss: 4.9555 - mae: 4.9555\n",
            "Epoch 147/200\n",
            "13/13 [==============================] - 0s 3ms/step - loss: 4.5942 - mae: 4.5942\n",
            "Epoch 148/200\n",
            "13/13 [==============================] - 0s 3ms/step - loss: 4.5007 - mae: 4.5007\n",
            "Epoch 149/200\n",
            "13/13 [==============================] - 0s 3ms/step - loss: 4.4052 - mae: 4.4052\n",
            "Epoch 150/200\n",
            "13/13 [==============================] - 0s 3ms/step - loss: 4.5413 - mae: 4.5413\n",
            "Epoch 151/200\n",
            "13/13 [==============================] - 0s 3ms/step - loss: 4.4878 - mae: 4.4878\n",
            "Epoch 152/200\n",
            "13/13 [==============================] - 0s 3ms/step - loss: 4.7893 - mae: 4.7893\n",
            "Epoch 153/200\n",
            "13/13 [==============================] - 0s 3ms/step - loss: 4.5300 - mae: 4.5300\n",
            "Epoch 154/200\n",
            "13/13 [==============================] - 0s 3ms/step - loss: 4.4350 - mae: 4.4350\n",
            "Epoch 155/200\n",
            "13/13 [==============================] - 0s 3ms/step - loss: 4.5128 - mae: 4.5128\n",
            "Epoch 156/200\n",
            "13/13 [==============================] - 0s 3ms/step - loss: 4.4211 - mae: 4.4211\n",
            "Epoch 157/200\n",
            "13/13 [==============================] - 0s 3ms/step - loss: 4.3816 - mae: 4.3816\n",
            "Epoch 158/200\n",
            "13/13 [==============================] - 0s 3ms/step - loss: 4.3288 - mae: 4.3288\n",
            "Epoch 159/200\n",
            "13/13 [==============================] - 0s 3ms/step - loss: 4.3784 - mae: 4.3784\n",
            "Epoch 160/200\n",
            "13/13 [==============================] - 0s 3ms/step - loss: 4.4689 - mae: 4.4689\n",
            "Epoch 161/200\n",
            "13/13 [==============================] - 0s 3ms/step - loss: 4.4755 - mae: 4.4755\n",
            "Epoch 162/200\n",
            "13/13 [==============================] - 0s 3ms/step - loss: 4.3833 - mae: 4.3833\n",
            "Epoch 163/200\n",
            "13/13 [==============================] - 0s 3ms/step - loss: 4.3942 - mae: 4.3942\n",
            "Epoch 164/200\n",
            "13/13 [==============================] - 0s 3ms/step - loss: 4.3879 - mae: 4.3879\n",
            "Epoch 165/200\n",
            "13/13 [==============================] - 0s 3ms/step - loss: 4.4260 - mae: 4.4260\n",
            "Epoch 166/200\n",
            "13/13 [==============================] - 0s 3ms/step - loss: 4.4471 - mae: 4.4471\n",
            "Epoch 167/200\n",
            "13/13 [==============================] - 0s 3ms/step - loss: 4.3232 - mae: 4.3232\n",
            "Epoch 168/200\n",
            "13/13 [==============================] - 0s 3ms/step - loss: 4.3071 - mae: 4.3071\n",
            "Epoch 169/200\n",
            "13/13 [==============================] - 0s 4ms/step - loss: 4.4404 - mae: 4.4404\n",
            "Epoch 170/200\n",
            "13/13 [==============================] - 0s 3ms/step - loss: 4.4926 - mae: 4.4926\n",
            "Epoch 171/200\n",
            "13/13 [==============================] - 0s 3ms/step - loss: 4.4323 - mae: 4.4323\n",
            "Epoch 172/200\n",
            "13/13 [==============================] - 0s 4ms/step - loss: 4.4427 - mae: 4.4427\n",
            "Epoch 173/200\n",
            "13/13 [==============================] - 0s 3ms/step - loss: 4.3674 - mae: 4.3674\n",
            "Epoch 174/200\n",
            "13/13 [==============================] - 0s 3ms/step - loss: 4.5345 - mae: 4.5345\n",
            "Epoch 175/200\n",
            "13/13 [==============================] - 0s 3ms/step - loss: 4.4377 - mae: 4.4377\n",
            "Epoch 176/200\n",
            "13/13 [==============================] - 0s 3ms/step - loss: 4.3482 - mae: 4.3482\n",
            "Epoch 177/200\n",
            "13/13 [==============================] - 0s 3ms/step - loss: 4.4950 - mae: 4.4950\n",
            "Epoch 178/200\n",
            "13/13 [==============================] - 0s 3ms/step - loss: 4.5245 - mae: 4.5245\n",
            "Epoch 179/200\n",
            "13/13 [==============================] - 0s 3ms/step - loss: 4.5456 - mae: 4.5456\n",
            "Epoch 180/200\n",
            "13/13 [==============================] - 0s 3ms/step - loss: 4.4723 - mae: 4.4723\n",
            "Epoch 181/200\n",
            "13/13 [==============================] - 0s 4ms/step - loss: 4.5422 - mae: 4.5422\n",
            "Epoch 182/200\n",
            "13/13 [==============================] - 0s 3ms/step - loss: 4.3400 - mae: 4.3400\n",
            "Epoch 183/200\n",
            "13/13 [==============================] - 0s 3ms/step - loss: 4.2536 - mae: 4.2536\n",
            "Epoch 184/200\n",
            "13/13 [==============================] - 0s 3ms/step - loss: 4.3204 - mae: 4.3204\n",
            "Epoch 185/200\n",
            "13/13 [==============================] - 0s 3ms/step - loss: 4.3865 - mae: 4.3865\n",
            "Epoch 186/200\n",
            "13/13 [==============================] - 0s 4ms/step - loss: 4.2991 - mae: 4.2991\n",
            "Epoch 187/200\n",
            "13/13 [==============================] - 0s 4ms/step - loss: 4.2757 - mae: 4.2757\n",
            "Epoch 188/200\n",
            "13/13 [==============================] - 0s 4ms/step - loss: 4.3164 - mae: 4.3164\n",
            "Epoch 189/200\n",
            "13/13 [==============================] - 0s 3ms/step - loss: 4.2581 - mae: 4.2581\n",
            "Epoch 190/200\n",
            "13/13 [==============================] - 0s 2ms/step - loss: 4.2522 - mae: 4.2522\n",
            "Epoch 191/200\n",
            "13/13 [==============================] - 0s 2ms/step - loss: 4.3867 - mae: 4.3867\n",
            "Epoch 192/200\n",
            "13/13 [==============================] - 0s 2ms/step - loss: 4.2029 - mae: 4.2029\n",
            "Epoch 193/200\n",
            "13/13 [==============================] - 0s 2ms/step - loss: 4.4055 - mae: 4.4055\n",
            "Epoch 194/200\n",
            "13/13 [==============================] - 0s 2ms/step - loss: 4.3900 - mae: 4.3900\n",
            "Epoch 195/200\n",
            "13/13 [==============================] - 0s 2ms/step - loss: 4.2489 - mae: 4.2489\n",
            "Epoch 196/200\n",
            "13/13 [==============================] - 0s 2ms/step - loss: 4.3098 - mae: 4.3098\n",
            "Epoch 197/200\n",
            "13/13 [==============================] - 0s 2ms/step - loss: 4.3560 - mae: 4.3560\n",
            "Epoch 198/200\n",
            "13/13 [==============================] - 0s 2ms/step - loss: 4.3855 - mae: 4.3855\n",
            "Epoch 199/200\n",
            "13/13 [==============================] - 0s 3ms/step - loss: 4.3504 - mae: 4.3504\n",
            "Epoch 200/200\n",
            "13/13 [==============================] - 0s 3ms/step - loss: 4.3325 - mae: 4.3325\n"
          ]
        }
      ]
    },
    {
      "cell_type": "code",
      "source": [
        "pd.DataFrame(history_7.history).plot()"
      ],
      "metadata": {
        "colab": {
          "base_uri": "https://localhost:8080/",
          "height": 448
        },
        "id": "36Qb2gcEGFGh",
        "outputId": "c6cbe2b1-4cef-4822-853c-4df4de3f811f"
      },
      "execution_count": null,
      "outputs": [
        {
          "output_type": "execute_result",
          "data": {
            "text/plain": [
              "<Axes: >"
            ]
          },
          "metadata": {},
          "execution_count": 83
        },
        {
          "output_type": "display_data",
          "data": {
            "text/plain": [
              "<Figure size 640x480 with 1 Axes>"
            ],
            "image/png": "[encoded data removed]"
          },
          "metadata": {}
        }
      ]
    },
    {
      "cell_type": "code",
      "source": [
        "model_8= tf.keras.Sequential([\n",
        "    tf.keras.layers.Dense(50),\n",
        "    tf.keras.layers.Dense(20),\n",
        "    tf.keras.layers.Dense(1)\n",
        "])\n",
        "model_8.compile(loss=['mae'],\n",
        "                optimizer= tf.keras.optimizers.Adam(),\n",
        "                metrics=['mae'])\n",
        "history_8=model_8.fit(X_train, y_train, epochs=100)"
      ],
      "metadata": {
        "colab": {
          "base_uri": "https://localhost:8080/"
        },
        "id": "58rIBWNOGMks",
        "outputId": "46abae8d-c84e-4c1d-9f26-14e413be472a"
      },
      "execution_count": null,
      "outputs": [
        {
          "output_type": "stream",
          "name": "stdout",
          "text": [
            "Epoch 1/100\n",
            "13/13 [==============================] - 1s 3ms/step - loss: 47.2817 - mae: 47.2817\n",
            "Epoch 2/100\n",
            "13/13 [==============================] - 0s 3ms/step - loss: 16.9346 - mae: 16.9346\n",
            "Epoch 3/100\n",
            "13/13 [==============================] - 0s 3ms/step - loss: 9.2562 - mae: 9.2562\n",
            "Epoch 4/100\n",
            "13/13 [==============================] - 0s 3ms/step - loss: 7.7962 - mae: 7.7962\n",
            "Epoch 5/100\n",
            "13/13 [==============================] - 0s 2ms/step - loss: 6.4971 - mae: 6.4971\n",
            "Epoch 6/100\n",
            "13/13 [==============================] - 0s 3ms/step - loss: 6.4726 - mae: 6.4726\n",
            "Epoch 7/100\n",
            "13/13 [==============================] - 0s 2ms/step - loss: 6.1082 - mae: 6.1082\n",
            "Epoch 8/100\n",
            "13/13 [==============================] - 0s 3ms/step - loss: 5.8758 - mae: 5.8758\n",
            "Epoch 9/100\n",
            "13/13 [==============================] - 0s 3ms/step - loss: 6.2491 - mae: 6.2491\n",
            "Epoch 10/100\n",
            "13/13 [==============================] - 0s 3ms/step - loss: 5.6596 - mae: 5.6596\n",
            "Epoch 11/100\n",
            "13/13 [==============================] - 0s 3ms/step - loss: 5.8121 - mae: 5.8121\n",
            "Epoch 12/100\n",
            "13/13 [==============================] - 0s 3ms/step - loss: 5.8827 - mae: 5.8827\n",
            "Epoch 13/100\n",
            "13/13 [==============================] - 0s 3ms/step - loss: 6.8942 - mae: 6.8942\n",
            "Epoch 14/100\n",
            "13/13 [==============================] - 0s 2ms/step - loss: 6.4175 - mae: 6.4175\n",
            "Epoch 15/100\n",
            "13/13 [==============================] - 0s 3ms/step - loss: 5.5771 - mae: 5.5771\n",
            "Epoch 16/100\n",
            "13/13 [==============================] - 0s 3ms/step - loss: 6.2460 - mae: 6.2460\n",
            "Epoch 17/100\n",
            "13/13 [==============================] - 0s 2ms/step - loss: 6.7195 - mae: 6.7195\n",
            "Epoch 18/100\n",
            "13/13 [==============================] - 0s 3ms/step - loss: 7.0593 - mae: 7.0593\n",
            "Epoch 19/100\n",
            "13/13 [==============================] - 0s 3ms/step - loss: 6.5139 - mae: 6.5139\n",
            "Epoch 20/100\n",
            "13/13 [==============================] - 0s 3ms/step - loss: 6.9516 - mae: 6.9516\n",
            "Epoch 21/100\n",
            "13/13 [==============================] - 0s 2ms/step - loss: 6.8469 - mae: 6.8469\n",
            "Epoch 22/100\n",
            "13/13 [==============================] - 0s 3ms/step - loss: 5.6605 - mae: 5.6605\n",
            "Epoch 23/100\n",
            "13/13 [==============================] - 0s 2ms/step - loss: 5.4084 - mae: 5.4084\n",
            "Epoch 24/100\n",
            "13/13 [==============================] - 0s 2ms/step - loss: 5.8346 - mae: 5.8346\n",
            "Epoch 25/100\n",
            "13/13 [==============================] - 0s 3ms/step - loss: 5.2543 - mae: 5.2543\n",
            "Epoch 26/100\n",
            "13/13 [==============================] - 0s 3ms/step - loss: 5.5961 - mae: 5.5961\n",
            "Epoch 27/100\n",
            "13/13 [==============================] - 0s 2ms/step - loss: 5.1950 - mae: 5.1950\n",
            "Epoch 28/100\n",
            "13/13 [==============================] - 0s 2ms/step - loss: 5.9764 - mae: 5.9764\n",
            "Epoch 29/100\n",
            "13/13 [==============================] - 0s 2ms/step - loss: 7.3591 - mae: 7.3591\n",
            "Epoch 30/100\n",
            "13/13 [==============================] - 0s 2ms/step - loss: 6.3827 - mae: 6.3827\n",
            "Epoch 31/100\n",
            "13/13 [==============================] - 0s 2ms/step - loss: 6.0052 - mae: 6.0052\n",
            "Epoch 32/100\n",
            "13/13 [==============================] - 0s 2ms/step - loss: 5.5773 - mae: 5.5773\n",
            "Epoch 33/100\n",
            "13/13 [==============================] - 0s 2ms/step - loss: 5.1993 - mae: 5.1993\n",
            "Epoch 34/100\n",
            "13/13 [==============================] - 0s 2ms/step - loss: 5.4544 - mae: 5.4544\n",
            "Epoch 35/100\n",
            "13/13 [==============================] - 0s 2ms/step - loss: 5.3746 - mae: 5.3746\n",
            "Epoch 36/100\n",
            "13/13 [==============================] - 0s 3ms/step - loss: 5.0997 - mae: 5.0997\n",
            "Epoch 37/100\n",
            "13/13 [==============================] - 0s 3ms/step - loss: 5.1691 - mae: 5.1691\n",
            "Epoch 38/100\n",
            "13/13 [==============================] - 0s 3ms/step - loss: 5.1618 - mae: 5.1618\n",
            "Epoch 39/100\n",
            "13/13 [==============================] - 0s 3ms/step - loss: 5.1148 - mae: 5.1148\n",
            "Epoch 40/100\n",
            "13/13 [==============================] - 0s 2ms/step - loss: 4.9993 - mae: 4.9993\n",
            "Epoch 41/100\n",
            "13/13 [==============================] - 0s 2ms/step - loss: 5.1513 - mae: 5.1513\n",
            "Epoch 42/100\n",
            "13/13 [==============================] - 0s 2ms/step - loss: 4.9730 - mae: 4.9730\n",
            "Epoch 43/100\n",
            "13/13 [==============================] - 0s 3ms/step - loss: 5.7335 - mae: 5.7335\n",
            "Epoch 44/100\n",
            "13/13 [==============================] - 0s 5ms/step - loss: 5.0939 - mae: 5.0939\n",
            "Epoch 45/100\n",
            "13/13 [==============================] - 0s 4ms/step - loss: 4.7850 - mae: 4.7850\n",
            "Epoch 46/100\n",
            "13/13 [==============================] - 0s 3ms/step - loss: 5.0777 - mae: 5.0777\n",
            "Epoch 47/100\n",
            "13/13 [==============================] - 0s 5ms/step - loss: 5.1664 - mae: 5.1664\n",
            "Epoch 48/100\n",
            "13/13 [==============================] - 0s 4ms/step - loss: 5.4742 - mae: 5.4742\n",
            "Epoch 49/100\n",
            "13/13 [==============================] - 0s 4ms/step - loss: 5.4532 - mae: 5.4532\n",
            "Epoch 50/100\n",
            "13/13 [==============================] - 0s 3ms/step - loss: 5.0063 - mae: 5.0063\n",
            "Epoch 51/100\n",
            "13/13 [==============================] - 0s 4ms/step - loss: 4.9342 - mae: 4.9342\n",
            "Epoch 52/100\n",
            "13/13 [==============================] - 0s 3ms/step - loss: 5.4521 - mae: 5.4521\n",
            "Epoch 53/100\n",
            "13/13 [==============================] - 0s 3ms/step - loss: 5.3758 - mae: 5.3758\n",
            "Epoch 54/100\n",
            "13/13 [==============================] - 0s 4ms/step - loss: 4.7675 - mae: 4.7675\n",
            "Epoch 55/100\n",
            "13/13 [==============================] - 0s 4ms/step - loss: 4.8434 - mae: 4.8434\n",
            "Epoch 56/100\n",
            "13/13 [==============================] - 0s 5ms/step - loss: 5.5040 - mae: 5.5040\n",
            "Epoch 57/100\n",
            "13/13 [==============================] - 0s 4ms/step - loss: 5.2872 - mae: 5.2872\n",
            "Epoch 58/100\n",
            "13/13 [==============================] - 0s 3ms/step - loss: 5.2763 - mae: 5.2763\n",
            "Epoch 59/100\n",
            "13/13 [==============================] - 0s 4ms/step - loss: 5.3498 - mae: 5.3498\n",
            "Epoch 60/100\n",
            "13/13 [==============================] - 0s 4ms/step - loss: 5.4437 - mae: 5.4437\n",
            "Epoch 61/100\n",
            "13/13 [==============================] - 0s 4ms/step - loss: 5.3605 - mae: 5.3605\n",
            "Epoch 62/100\n",
            "13/13 [==============================] - 0s 4ms/step - loss: 5.1830 - mae: 5.1830\n",
            "Epoch 63/100\n",
            "13/13 [==============================] - 0s 3ms/step - loss: 4.9149 - mae: 4.9149\n",
            "Epoch 64/100\n",
            "13/13 [==============================] - 0s 4ms/step - loss: 5.2526 - mae: 5.2526\n",
            "Epoch 65/100\n",
            "13/13 [==============================] - 0s 4ms/step - loss: 4.6853 - mae: 4.6853\n",
            "Epoch 66/100\n",
            "13/13 [==============================] - 0s 5ms/step - loss: 5.2624 - mae: 5.2624\n",
            "Epoch 67/100\n",
            "13/13 [==============================] - 0s 3ms/step - loss: 5.3687 - mae: 5.3687\n",
            "Epoch 68/100\n",
            "13/13 [==============================] - 0s 3ms/step - loss: 4.8762 - mae: 4.8762\n",
            "Epoch 69/100\n",
            "13/13 [==============================] - 0s 3ms/step - loss: 4.9668 - mae: 4.9668\n",
            "Epoch 70/100\n",
            "13/13 [==============================] - 0s 3ms/step - loss: 4.8878 - mae: 4.8878\n",
            "Epoch 71/100\n",
            "13/13 [==============================] - 0s 3ms/step - loss: 4.9389 - mae: 4.9389\n",
            "Epoch 72/100\n",
            "13/13 [==============================] - 0s 4ms/step - loss: 5.1322 - mae: 5.1322\n",
            "Epoch 73/100\n",
            "13/13 [==============================] - 0s 4ms/step - loss: 5.2379 - mae: 5.2379\n",
            "Epoch 74/100\n",
            "13/13 [==============================] - 0s 4ms/step - loss: 4.6077 - mae: 4.6077\n",
            "Epoch 75/100\n",
            "13/13 [==============================] - 0s 4ms/step - loss: 4.7929 - mae: 4.7929\n",
            "Epoch 76/100\n",
            "13/13 [==============================] - 0s 3ms/step - loss: 5.2139 - mae: 5.2139\n",
            "Epoch 77/100\n",
            "13/13 [==============================] - 0s 4ms/step - loss: 6.3412 - mae: 6.3412\n",
            "Epoch 78/100\n",
            "13/13 [==============================] - 0s 3ms/step - loss: 5.1949 - mae: 5.1949\n",
            "Epoch 79/100\n",
            "13/13 [==============================] - 0s 3ms/step - loss: 5.0139 - mae: 5.0139\n",
            "Epoch 80/100\n",
            "13/13 [==============================] - 0s 4ms/step - loss: 4.5856 - mae: 4.5856\n",
            "Epoch 81/100\n",
            "13/13 [==============================] - 0s 3ms/step - loss: 4.7308 - mae: 4.7308\n",
            "Epoch 82/100\n",
            "13/13 [==============================] - 0s 3ms/step - loss: 4.5095 - mae: 4.5095\n",
            "Epoch 83/100\n",
            "13/13 [==============================] - 0s 4ms/step - loss: 4.5304 - mae: 4.5304\n",
            "Epoch 84/100\n",
            "13/13 [==============================] - 0s 4ms/step - loss: 4.6948 - mae: 4.6948\n",
            "Epoch 85/100\n",
            "13/13 [==============================] - 0s 4ms/step - loss: 4.4945 - mae: 4.4945\n",
            "Epoch 86/100\n",
            "13/13 [==============================] - 0s 4ms/step - loss: 4.4924 - mae: 4.4924\n",
            "Epoch 87/100\n",
            "13/13 [==============================] - 0s 3ms/step - loss: 5.1732 - mae: 5.1732\n",
            "Epoch 88/100\n",
            "13/13 [==============================] - 0s 4ms/step - loss: 4.8286 - mae: 4.8286\n",
            "Epoch 89/100\n",
            "13/13 [==============================] - 0s 4ms/step - loss: 5.0017 - mae: 5.0017\n",
            "Epoch 90/100\n",
            "13/13 [==============================] - 0s 4ms/step - loss: 5.9149 - mae: 5.9149\n",
            "Epoch 91/100\n",
            "13/13 [==============================] - 0s 4ms/step - loss: 4.8732 - mae: 4.8732\n",
            "Epoch 92/100\n",
            "13/13 [==============================] - 0s 4ms/step - loss: 4.5157 - mae: 4.5157\n",
            "Epoch 93/100\n",
            "13/13 [==============================] - 0s 4ms/step - loss: 4.6009 - mae: 4.6009\n",
            "Epoch 94/100\n",
            "13/13 [==============================] - 0s 6ms/step - loss: 4.8392 - mae: 4.8392\n",
            "Epoch 95/100\n",
            "13/13 [==============================] - 0s 3ms/step - loss: 5.1607 - mae: 5.1607\n",
            "Epoch 96/100\n",
            "13/13 [==============================] - 0s 4ms/step - loss: 5.5978 - mae: 5.5978\n",
            "Epoch 97/100\n",
            "13/13 [==============================] - 0s 4ms/step - loss: 5.2960 - mae: 5.2960\n",
            "Epoch 98/100\n",
            "13/13 [==============================] - 0s 4ms/step - loss: 5.0374 - mae: 5.0374\n",
            "Epoch 99/100\n",
            "13/13 [==============================] - 0s 3ms/step - loss: 4.9969 - mae: 4.9969\n",
            "Epoch 100/100\n",
            "13/13 [==============================] - 0s 3ms/step - loss: 4.9660 - mae: 4.9660\n"
          ]
        }
      ]
    },
    {
      "cell_type": "code",
      "source": [
        "model_7.evaluate(X_test, y_test)"
      ],
      "metadata": {
        "colab": {
          "base_uri": "https://localhost:8080/"
        },
        "id": "5VPER0YuGol3",
        "outputId": "6c3041cc-eb03-49ec-bc16-ed02ac826d1e"
      },
      "execution_count": null,
      "outputs": [
        {
          "output_type": "stream",
          "name": "stdout",
          "text": [
            "4/4 [==============================] - 0s 3ms/step - loss: 3.8680 - mae: 3.8680\n"
          ]
        },
        {
          "output_type": "execute_result",
          "data": {
            "text/plain": [
              "[3.8679723739624023, 3.8679723739624023]"
            ]
          },
          "metadata": {},
          "execution_count": 87
        }
      ]
    },
    {
      "cell_type": "code",
      "source": [
        "model_8.evaluate(X_test, y_test)"
      ],
      "metadata": {
        "colab": {
          "base_uri": "https://localhost:8080/"
        },
        "id": "pAd5OGl8GTzX",
        "outputId": "cf22f814-7283-493d-81c8-4d31bc3268f0"
      },
      "execution_count": null,
      "outputs": [
        {
          "output_type": "stream",
          "name": "stdout",
          "text": [
            "4/4 [==============================] - 0s 3ms/step - loss: 3.7954 - mae: 3.7954\n"
          ]
        },
        {
          "output_type": "execute_result",
          "data": {
            "text/plain": [
              "[3.7954349517822266, 3.7954349517822266]"
            ]
          },
          "metadata": {},
          "execution_count": 86
        }
      ]
    },
    {
      "cell_type": "code",
      "source": [
        "model_9= tf.keras.Sequential([\n",
        "    tf.keras.layers.Dense(50),\n",
        "    tf.keras.layers.Dense(20),\n",
        "    tf.keras.layers.Dense(1)\n",
        "])\n",
        "model_9.compile(loss=['mae'],\n",
        "                optimizer= tf.keras.optimizers.Adam(lr=0.01),\n",
        "                metrics=['mae'])\n",
        "history_9=model_9.fit(X_train, y_train, epochs=100)"
      ],
      "metadata": {
        "colab": {
          "base_uri": "https://localhost:8080/"
        },
        "id": "bMUDcUUPGln4",
        "outputId": "da99c7fa-cb38-4245-d2a5-0e6f22870b35"
      },
      "execution_count": null,
      "outputs": [
        {
          "output_type": "stream",
          "name": "stderr",
          "text": [
            "WARNING:absl:`lr` is deprecated in Keras optimizer, please use `learning_rate` or use the legacy optimizer, e.g.,tf.keras.optimizers.legacy.Adam.\n"
          ]
        },
        {
          "output_type": "stream",
          "name": "stdout",
          "text": [
            "Epoch 1/100\n",
            "13/13 [==============================] - 1s 2ms/step - loss: 51.3967 - mae: 51.3967\n",
            "Epoch 2/100\n",
            "13/13 [==============================] - 0s 3ms/step - loss: 16.6168 - mae: 16.6168\n",
            "Epoch 3/100\n",
            "13/13 [==============================] - 0s 3ms/step - loss: 11.6012 - mae: 11.6012\n",
            "Epoch 4/100\n",
            "13/13 [==============================] - 0s 2ms/step - loss: 9.5183 - mae: 9.5183\n",
            "Epoch 5/100\n",
            "13/13 [==============================] - 0s 3ms/step - loss: 8.1650 - mae: 8.1650\n",
            "Epoch 6/100\n",
            "13/13 [==============================] - 0s 3ms/step - loss: 7.0061 - mae: 7.0061\n",
            "Epoch 7/100\n",
            "13/13 [==============================] - 0s 3ms/step - loss: 6.5289 - mae: 6.5289\n",
            "Epoch 8/100\n",
            "13/13 [==============================] - 0s 2ms/step - loss: 6.4579 - mae: 6.4579\n",
            "Epoch 9/100\n",
            "13/13 [==============================] - 0s 2ms/step - loss: 6.1676 - mae: 6.1676\n",
            "Epoch 10/100\n",
            "13/13 [==============================] - 0s 2ms/step - loss: 5.9845 - mae: 5.9845\n",
            "Epoch 11/100\n",
            "13/13 [==============================] - 0s 2ms/step - loss: 6.1374 - mae: 6.1374\n",
            "Epoch 12/100\n",
            "13/13 [==============================] - 0s 2ms/step - loss: 6.2348 - mae: 6.2348\n",
            "Epoch 13/100\n",
            "13/13 [==============================] - 0s 2ms/step - loss: 6.6110 - mae: 6.6110\n",
            "Epoch 14/100\n",
            "13/13 [==============================] - 0s 3ms/step - loss: 6.6358 - mae: 6.6358\n",
            "Epoch 15/100\n",
            "13/13 [==============================] - 0s 2ms/step - loss: 5.7122 - mae: 5.7122\n",
            "Epoch 16/100\n",
            "13/13 [==============================] - 0s 3ms/step - loss: 5.6239 - mae: 5.6239\n",
            "Epoch 17/100\n",
            "13/13 [==============================] - 0s 3ms/step - loss: 5.8463 - mae: 5.8463\n",
            "Epoch 18/100\n",
            "13/13 [==============================] - 0s 3ms/step - loss: 5.6047 - mae: 5.6047\n",
            "Epoch 19/100\n",
            "13/13 [==============================] - 0s 2ms/step - loss: 5.5355 - mae: 5.5355\n",
            "Epoch 20/100\n",
            "13/13 [==============================] - 0s 2ms/step - loss: 5.5191 - mae: 5.5191\n",
            "Epoch 21/100\n",
            "13/13 [==============================] - 0s 2ms/step - loss: 6.7547 - mae: 6.7547\n",
            "Epoch 22/100\n",
            "13/13 [==============================] - 0s 2ms/step - loss: 6.1792 - mae: 6.1792\n",
            "Epoch 23/100\n",
            "13/13 [==============================] - 0s 3ms/step - loss: 5.2814 - mae: 5.2814\n",
            "Epoch 24/100\n",
            "13/13 [==============================] - 0s 2ms/step - loss: 5.3075 - mae: 5.3075\n",
            "Epoch 25/100\n",
            "13/13 [==============================] - 0s 2ms/step - loss: 6.1330 - mae: 6.1330\n",
            "Epoch 26/100\n",
            "13/13 [==============================] - 0s 2ms/step - loss: 6.6992 - mae: 6.6992\n",
            "Epoch 27/100\n",
            "13/13 [==============================] - 0s 2ms/step - loss: 5.7465 - mae: 5.7465\n",
            "Epoch 28/100\n",
            "13/13 [==============================] - 0s 3ms/step - loss: 5.4759 - mae: 5.4759\n",
            "Epoch 29/100\n",
            "13/13 [==============================] - 0s 2ms/step - loss: 6.7191 - mae: 6.7191\n",
            "Epoch 30/100\n",
            "13/13 [==============================] - 0s 2ms/step - loss: 6.0964 - mae: 6.0964\n",
            "Epoch 31/100\n",
            "13/13 [==============================] - 0s 2ms/step - loss: 5.1588 - mae: 5.1588\n",
            "Epoch 32/100\n",
            "13/13 [==============================] - 0s 2ms/step - loss: 5.6970 - mae: 5.6970\n",
            "Epoch 33/100\n",
            "13/13 [==============================] - 0s 2ms/step - loss: 6.1531 - mae: 6.1531\n",
            "Epoch 34/100\n",
            "13/13 [==============================] - 0s 3ms/step - loss: 5.0866 - mae: 5.0866\n",
            "Epoch 35/100\n",
            "13/13 [==============================] - 0s 2ms/step - loss: 5.0226 - mae: 5.0226\n",
            "Epoch 36/100\n",
            "13/13 [==============================] - 0s 2ms/step - loss: 5.1219 - mae: 5.1219\n",
            "Epoch 37/100\n",
            "13/13 [==============================] - 0s 2ms/step - loss: 5.0839 - mae: 5.0839\n",
            "Epoch 38/100\n",
            "13/13 [==============================] - 0s 2ms/step - loss: 4.9783 - mae: 4.9783\n",
            "Epoch 39/100\n",
            "13/13 [==============================] - 0s 2ms/step - loss: 6.0263 - mae: 6.0263\n",
            "Epoch 40/100\n",
            "13/13 [==============================] - 0s 2ms/step - loss: 5.2889 - mae: 5.2889\n",
            "Epoch 41/100\n",
            "13/13 [==============================] - 0s 3ms/step - loss: 5.0063 - mae: 5.0063\n",
            "Epoch 42/100\n",
            "13/13 [==============================] - 0s 2ms/step - loss: 5.0241 - mae: 5.0241\n",
            "Epoch 43/100\n",
            "13/13 [==============================] - 0s 3ms/step - loss: 4.7194 - mae: 4.7194\n",
            "Epoch 44/100\n",
            "13/13 [==============================] - 0s 2ms/step - loss: 4.8821 - mae: 4.8821\n",
            "Epoch 45/100\n",
            "13/13 [==============================] - 0s 3ms/step - loss: 5.0123 - mae: 5.0123\n",
            "Epoch 46/100\n",
            "13/13 [==============================] - 0s 3ms/step - loss: 5.4719 - mae: 5.4719\n",
            "Epoch 47/100\n",
            "13/13 [==============================] - 0s 2ms/step - loss: 5.7709 - mae: 5.7709\n",
            "Epoch 48/100\n",
            "13/13 [==============================] - 0s 3ms/step - loss: 5.1288 - mae: 5.1288\n",
            "Epoch 49/100\n",
            "13/13 [==============================] - 0s 2ms/step - loss: 4.8135 - mae: 4.8135\n",
            "Epoch 50/100\n",
            "13/13 [==============================] - 0s 3ms/step - loss: 4.7474 - mae: 4.7474\n",
            "Epoch 51/100\n",
            "13/13 [==============================] - 0s 2ms/step - loss: 4.5081 - mae: 4.5081\n",
            "Epoch 52/100\n",
            "13/13 [==============================] - 0s 3ms/step - loss: 5.0620 - mae: 5.0620\n",
            "Epoch 53/100\n",
            "13/13 [==============================] - 0s 2ms/step - loss: 5.3549 - mae: 5.3549\n",
            "Epoch 54/100\n",
            "13/13 [==============================] - 0s 2ms/step - loss: 5.3699 - mae: 5.3699\n",
            "Epoch 55/100\n",
            "13/13 [==============================] - 0s 2ms/step - loss: 5.3573 - mae: 5.3573\n",
            "Epoch 56/100\n",
            "13/13 [==============================] - 0s 3ms/step - loss: 5.6235 - mae: 5.6235\n",
            "Epoch 57/100\n",
            "13/13 [==============================] - 0s 2ms/step - loss: 4.5875 - mae: 4.5875\n",
            "Epoch 58/100\n",
            "13/13 [==============================] - 0s 2ms/step - loss: 5.1417 - mae: 5.1417\n",
            "Epoch 59/100\n",
            "13/13 [==============================] - 0s 2ms/step - loss: 4.4629 - mae: 4.4629\n",
            "Epoch 60/100\n",
            "13/13 [==============================] - 0s 2ms/step - loss: 4.5227 - mae: 4.5227\n",
            "Epoch 61/100\n",
            "13/13 [==============================] - 0s 2ms/step - loss: 5.0024 - mae: 5.0024\n",
            "Epoch 62/100\n",
            "13/13 [==============================] - 0s 2ms/step - loss: 7.4670 - mae: 7.4670\n",
            "Epoch 63/100\n",
            "13/13 [==============================] - 0s 2ms/step - loss: 5.0534 - mae: 5.0534\n",
            "Epoch 64/100\n",
            "13/13 [==============================] - 0s 2ms/step - loss: 5.0494 - mae: 5.0494\n",
            "Epoch 65/100\n",
            "13/13 [==============================] - 0s 2ms/step - loss: 4.9253 - mae: 4.9253\n",
            "Epoch 66/100\n",
            "13/13 [==============================] - 0s 2ms/step - loss: 5.1628 - mae: 5.1628\n",
            "Epoch 67/100\n",
            "13/13 [==============================] - 0s 2ms/step - loss: 4.6417 - mae: 4.6417\n",
            "Epoch 68/100\n",
            "13/13 [==============================] - 0s 3ms/step - loss: 5.0768 - mae: 5.0768\n",
            "Epoch 69/100\n",
            "13/13 [==============================] - 0s 2ms/step - loss: 5.0872 - mae: 5.0872\n",
            "Epoch 70/100\n",
            "13/13 [==============================] - 0s 2ms/step - loss: 4.7923 - mae: 4.7923\n",
            "Epoch 71/100\n",
            "13/13 [==============================] - 0s 3ms/step - loss: 4.5590 - mae: 4.5590\n",
            "Epoch 72/100\n",
            "13/13 [==============================] - 0s 3ms/step - loss: 4.7866 - mae: 4.7866\n",
            "Epoch 73/100\n",
            "13/13 [==============================] - 0s 3ms/step - loss: 5.4958 - mae: 5.4958\n",
            "Epoch 74/100\n",
            "13/13 [==============================] - 0s 3ms/step - loss: 4.4003 - mae: 4.4003\n",
            "Epoch 75/100\n",
            "13/13 [==============================] - 0s 3ms/step - loss: 5.4364 - mae: 5.4364\n",
            "Epoch 76/100\n",
            "13/13 [==============================] - 0s 2ms/step - loss: 4.4016 - mae: 4.4016\n",
            "Epoch 77/100\n",
            "13/13 [==============================] - 0s 2ms/step - loss: 4.6256 - mae: 4.6256\n",
            "Epoch 78/100\n",
            "13/13 [==============================] - 0s 2ms/step - loss: 5.0377 - mae: 5.0377\n",
            "Epoch 79/100\n",
            "13/13 [==============================] - 0s 2ms/step - loss: 5.8699 - mae: 5.8699\n",
            "Epoch 80/100\n",
            "13/13 [==============================] - 0s 2ms/step - loss: 4.6932 - mae: 4.6932\n",
            "Epoch 81/100\n",
            "13/13 [==============================] - 0s 2ms/step - loss: 5.0338 - mae: 5.0338\n",
            "Epoch 82/100\n",
            "13/13 [==============================] - 0s 2ms/step - loss: 4.7058 - mae: 4.7058\n",
            "Epoch 83/100\n",
            "13/13 [==============================] - 0s 2ms/step - loss: 4.5766 - mae: 4.5766\n",
            "Epoch 84/100\n",
            "13/13 [==============================] - 0s 2ms/step - loss: 4.2124 - mae: 4.2124\n",
            "Epoch 85/100\n",
            "13/13 [==============================] - 0s 2ms/step - loss: 4.2521 - mae: 4.2521\n",
            "Epoch 86/100\n",
            "13/13 [==============================] - 0s 3ms/step - loss: 4.5369 - mae: 4.5369\n",
            "Epoch 87/100\n",
            "13/13 [==============================] - 0s 3ms/step - loss: 4.2796 - mae: 4.2796\n",
            "Epoch 88/100\n",
            "13/13 [==============================] - 0s 2ms/step - loss: 4.7086 - mae: 4.7086\n",
            "Epoch 89/100\n",
            "13/13 [==============================] - 0s 2ms/step - loss: 4.4679 - mae: 4.4679\n",
            "Epoch 90/100\n",
            "13/13 [==============================] - 0s 2ms/step - loss: 4.6810 - mae: 4.6810\n",
            "Epoch 91/100\n",
            "13/13 [==============================] - 0s 2ms/step - loss: 4.9937 - mae: 4.9937\n",
            "Epoch 92/100\n",
            "13/13 [==============================] - 0s 2ms/step - loss: 4.9616 - mae: 4.9616\n",
            "Epoch 93/100\n",
            "13/13 [==============================] - 0s 3ms/step - loss: 4.4138 - mae: 4.4138\n",
            "Epoch 94/100\n",
            "13/13 [==============================] - 0s 2ms/step - loss: 4.7686 - mae: 4.7686\n",
            "Epoch 95/100\n",
            "13/13 [==============================] - 0s 2ms/step - loss: 4.9566 - mae: 4.9566\n",
            "Epoch 96/100\n",
            "13/13 [==============================] - 0s 3ms/step - loss: 4.3290 - mae: 4.3290\n",
            "Epoch 97/100\n",
            "13/13 [==============================] - 0s 3ms/step - loss: 4.3671 - mae: 4.3671\n",
            "Epoch 98/100\n",
            "13/13 [==============================] - 0s 3ms/step - loss: 5.2131 - mae: 5.2131\n",
            "Epoch 99/100\n",
            "13/13 [==============================] - 0s 3ms/step - loss: 5.3435 - mae: 5.3435\n",
            "Epoch 100/100\n",
            "13/13 [==============================] - 0s 2ms/step - loss: 4.5206 - mae: 4.5206\n"
          ]
        }
      ]
    },
    {
      "cell_type": "code",
      "source": [
        "model_9.evaluate(X_test, y_test)"
      ],
      "metadata": {
        "colab": {
          "base_uri": "https://localhost:8080/"
        },
        "id": "HO3mTZCvG2Yc",
        "outputId": "3b44b712-d77d-4f9e-f330-41ac4fd3c0f6"
      },
      "execution_count": null,
      "outputs": [
        {
          "output_type": "stream",
          "name": "stdout",
          "text": [
            "4/4 [==============================] - 0s 4ms/step - loss: 3.8310 - mae: 3.8310\n"
          ]
        },
        {
          "output_type": "execute_result",
          "data": {
            "text/plain": [
              "[3.8310062885284424, 3.8310062885284424]"
            ]
          },
          "metadata": {},
          "execution_count": 91
        }
      ]
    },
    {
      "cell_type": "code",
      "source": [
        "model_10= tf.keras.Sequential([\n",
        "    tf.keras.layers.Dense(50),\n",
        "    tf.keras.layers.Dense(20),\n",
        "    tf.keras.layers.Dense(1)\n",
        "])\n",
        "model_10.compile(loss=['mae'],\n",
        "                optimizer= tf.keras.optimizers.Adam(),\n",
        "                metrics=['mae'])\n",
        "lr_scheduler= tf.keras.callbacks.LearningRateScheduler(lambda epoch: 1e-4*10**(epoch/20))\n",
        "history_10=model_10.fit(X_train, y_train, epochs=100, callbacks=[lr_scheduler])"
      ],
      "metadata": {
        "colab": {
          "base_uri": "https://localhost:8080/"
        },
        "id": "SsabFBSTG8pG",
        "outputId": "46698caf-9406-41ae-f79c-7fb9493aea59"
      },
      "execution_count": null,
      "outputs": [
        {
          "output_type": "stream",
          "name": "stdout",
          "text": [
            "Epoch 1/100\n",
            "13/13 [==============================] - 1s 2ms/step - loss: 65.9288 - mae: 65.9288 - lr: 1.0000e-04\n",
            "Epoch 2/100\n",
            "13/13 [==============================] - 0s 2ms/step - loss: 34.0901 - mae: 34.0901 - lr: 1.1220e-04\n",
            "Epoch 3/100\n",
            "13/13 [==============================] - 0s 2ms/step - loss: 10.8498 - mae: 10.8498 - lr: 1.2589e-04\n",
            "Epoch 4/100\n",
            "13/13 [==============================] - 0s 3ms/step - loss: 9.6276 - mae: 9.6276 - lr: 1.4125e-04\n",
            "Epoch 5/100\n",
            "13/13 [==============================] - 0s 2ms/step - loss: 8.4358 - mae: 8.4358 - lr: 1.5849e-04\n",
            "Epoch 6/100\n",
            "13/13 [==============================] - 0s 2ms/step - loss: 7.6393 - mae: 7.6393 - lr: 1.7783e-04\n",
            "Epoch 7/100\n",
            "13/13 [==============================] - 0s 2ms/step - loss: 7.4501 - mae: 7.4501 - lr: 1.9953e-04\n",
            "Epoch 8/100\n",
            "13/13 [==============================] - 0s 2ms/step - loss: 7.1257 - mae: 7.1257 - lr: 2.2387e-04\n",
            "Epoch 9/100\n",
            "13/13 [==============================] - 0s 2ms/step - loss: 6.9970 - mae: 6.9970 - lr: 2.5119e-04\n",
            "Epoch 10/100\n",
            "13/13 [==============================] - 0s 3ms/step - loss: 6.8711 - mae: 6.8711 - lr: 2.8184e-04\n",
            "Epoch 11/100\n",
            "13/13 [==============================] - 0s 3ms/step - loss: 6.8057 - mae: 6.8057 - lr: 3.1623e-04\n",
            "Epoch 12/100\n",
            "13/13 [==============================] - 0s 2ms/step - loss: 6.7190 - mae: 6.7190 - lr: 3.5481e-04\n",
            "Epoch 13/100\n",
            "13/13 [==============================] - 0s 2ms/step - loss: 6.7875 - mae: 6.7875 - lr: 3.9811e-04\n",
            "Epoch 14/100\n",
            "13/13 [==============================] - 0s 2ms/step - loss: 6.5327 - mae: 6.5327 - lr: 4.4668e-04\n",
            "Epoch 15/100\n",
            "13/13 [==============================] - 0s 3ms/step - loss: 6.4482 - mae: 6.4482 - lr: 5.0119e-04\n",
            "Epoch 16/100\n",
            "13/13 [==============================] - 0s 3ms/step - loss: 6.5397 - mae: 6.5397 - lr: 5.6234e-04\n",
            "Epoch 17/100\n",
            "13/13 [==============================] - 0s 2ms/step - loss: 6.3841 - mae: 6.3841 - lr: 6.3096e-04\n",
            "Epoch 18/100\n",
            "13/13 [==============================] - 0s 2ms/step - loss: 6.4548 - mae: 6.4548 - lr: 7.0795e-04\n",
            "Epoch 19/100\n",
            "13/13 [==============================] - 0s 3ms/step - loss: 6.2978 - mae: 6.2978 - lr: 7.9433e-04\n",
            "Epoch 20/100\n",
            "13/13 [==============================] - 0s 2ms/step - loss: 6.2469 - mae: 6.2469 - lr: 8.9125e-04\n",
            "Epoch 21/100\n",
            "13/13 [==============================] - 0s 3ms/step - loss: 6.2654 - mae: 6.2654 - lr: 0.0010\n",
            "Epoch 22/100\n",
            "13/13 [==============================] - 0s 3ms/step - loss: 6.5266 - mae: 6.5266 - lr: 0.0011\n",
            "Epoch 23/100\n",
            "13/13 [==============================] - 0s 2ms/step - loss: 7.7585 - mae: 7.7585 - lr: 0.0013\n",
            "Epoch 24/100\n",
            "13/13 [==============================] - 0s 2ms/step - loss: 7.7652 - mae: 7.7652 - lr: 0.0014\n",
            "Epoch 25/100\n",
            "13/13 [==============================] - 0s 2ms/step - loss: 7.3946 - mae: 7.3946 - lr: 0.0016\n",
            "Epoch 26/100\n",
            "13/13 [==============================] - 0s 2ms/step - loss: 7.0788 - mae: 7.0788 - lr: 0.0018\n",
            "Epoch 27/100\n",
            "13/13 [==============================] - 0s 2ms/step - loss: 6.3822 - mae: 6.3822 - lr: 0.0020\n",
            "Epoch 28/100\n",
            "13/13 [==============================] - 0s 2ms/step - loss: 6.0409 - mae: 6.0409 - lr: 0.0022\n",
            "Epoch 29/100\n",
            "13/13 [==============================] - 0s 2ms/step - loss: 6.0294 - mae: 6.0294 - lr: 0.0025\n",
            "Epoch 30/100\n",
            "13/13 [==============================] - 0s 2ms/step - loss: 6.4974 - mae: 6.4974 - lr: 0.0028\n",
            "Epoch 31/100\n",
            "13/13 [==============================] - 0s 2ms/step - loss: 6.9077 - mae: 6.9077 - lr: 0.0032\n",
            "Epoch 32/100\n",
            "13/13 [==============================] - 0s 3ms/step - loss: 11.0917 - mae: 11.0917 - lr: 0.0035\n",
            "Epoch 33/100\n",
            "13/13 [==============================] - 0s 2ms/step - loss: 6.7642 - mae: 6.7642 - lr: 0.0040\n",
            "Epoch 34/100\n",
            "13/13 [==============================] - 0s 3ms/step - loss: 6.9396 - mae: 6.9396 - lr: 0.0045\n",
            "Epoch 35/100\n",
            "13/13 [==============================] - 0s 3ms/step - loss: 6.6083 - mae: 6.6083 - lr: 0.0050\n",
            "Epoch 36/100\n",
            "13/13 [==============================] - 0s 3ms/step - loss: 8.0854 - mae: 8.0854 - lr: 0.0056\n",
            "Epoch 37/100\n",
            "13/13 [==============================] - 0s 3ms/step - loss: 7.5837 - mae: 7.5837 - lr: 0.0063\n",
            "Epoch 38/100\n",
            "13/13 [==============================] - 0s 2ms/step - loss: 8.2254 - mae: 8.2254 - lr: 0.0071\n",
            "Epoch 39/100\n",
            "13/13 [==============================] - 0s 3ms/step - loss: 11.9744 - mae: 11.9744 - lr: 0.0079\n",
            "Epoch 40/100\n",
            "13/13 [==============================] - 0s 2ms/step - loss: 8.4402 - mae: 8.4402 - lr: 0.0089\n",
            "Epoch 41/100\n",
            "13/13 [==============================] - 0s 2ms/step - loss: 24.3565 - mae: 24.3565 - lr: 0.0100\n",
            "Epoch 42/100\n",
            "13/13 [==============================] - 0s 2ms/step - loss: 10.9206 - mae: 10.9206 - lr: 0.0112\n",
            "Epoch 43/100\n",
            "13/13 [==============================] - 0s 2ms/step - loss: 8.9051 - mae: 8.9051 - lr: 0.0126\n",
            "Epoch 44/100\n",
            "13/13 [==============================] - 0s 2ms/step - loss: 9.5646 - mae: 9.5646 - lr: 0.0141\n",
            "Epoch 45/100\n",
            "13/13 [==============================] - 0s 3ms/step - loss: 11.8052 - mae: 11.8052 - lr: 0.0158\n",
            "Epoch 46/100\n",
            "13/13 [==============================] - 0s 2ms/step - loss: 10.5058 - mae: 10.5058 - lr: 0.0178\n",
            "Epoch 47/100\n",
            "13/13 [==============================] - 0s 3ms/step - loss: 6.6209 - mae: 6.6209 - lr: 0.0200\n",
            "Epoch 48/100\n",
            "13/13 [==============================] - 0s 3ms/step - loss: 6.4272 - mae: 6.4272 - lr: 0.0224\n",
            "Epoch 49/100\n",
            "13/13 [==============================] - 0s 2ms/step - loss: 6.7085 - mae: 6.7085 - lr: 0.0251\n",
            "Epoch 50/100\n",
            "13/13 [==============================] - 0s 3ms/step - loss: 6.7332 - mae: 6.7332 - lr: 0.0282\n",
            "Epoch 51/100\n",
            "13/13 [==============================] - 0s 2ms/step - loss: 5.9956 - mae: 5.9956 - lr: 0.0316\n",
            "Epoch 52/100\n",
            "13/13 [==============================] - 0s 3ms/step - loss: 6.4251 - mae: 6.4251 - lr: 0.0355\n",
            "Epoch 53/100\n",
            "13/13 [==============================] - 0s 2ms/step - loss: 7.0442 - mae: 7.0442 - lr: 0.0398\n",
            "Epoch 54/100\n",
            "13/13 [==============================] - 0s 2ms/step - loss: 7.1564 - mae: 7.1564 - lr: 0.0447\n",
            "Epoch 55/100\n",
            "13/13 [==============================] - 0s 3ms/step - loss: 6.2587 - mae: 6.2587 - lr: 0.0501\n",
            "Epoch 56/100\n",
            "13/13 [==============================] - 0s 2ms/step - loss: 5.4715 - mae: 5.4715 - lr: 0.0562\n",
            "Epoch 57/100\n",
            "13/13 [==============================] - 0s 2ms/step - loss: 6.7218 - mae: 6.7218 - lr: 0.0631\n",
            "Epoch 58/100\n",
            "13/13 [==============================] - 0s 2ms/step - loss: 6.8789 - mae: 6.8789 - lr: 0.0708\n",
            "Epoch 59/100\n",
            "13/13 [==============================] - 0s 3ms/step - loss: 6.9058 - mae: 6.9058 - lr: 0.0794\n",
            "Epoch 60/100\n",
            "13/13 [==============================] - 0s 2ms/step - loss: 5.6175 - mae: 5.6175 - lr: 0.0891\n",
            "Epoch 61/100\n",
            "13/13 [==============================] - 0s 2ms/step - loss: 7.1241 - mae: 7.1241 - lr: 0.1000\n",
            "Epoch 62/100\n",
            "13/13 [==============================] - 0s 2ms/step - loss: 10.8003 - mae: 10.8003 - lr: 0.1122\n",
            "Epoch 63/100\n",
            "13/13 [==============================] - 0s 2ms/step - loss: 7.3340 - mae: 7.3340 - lr: 0.1259\n",
            "Epoch 64/100\n",
            "13/13 [==============================] - 0s 2ms/step - loss: 9.7386 - mae: 9.7386 - lr: 0.1413\n",
            "Epoch 65/100\n",
            "13/13 [==============================] - 0s 2ms/step - loss: 42.1819 - mae: 42.1819 - lr: 0.1585\n",
            "Epoch 66/100\n",
            "13/13 [==============================] - 0s 2ms/step - loss: 1602.4441 - mae: 1602.4441 - lr: 0.1778\n",
            "Epoch 67/100\n",
            "13/13 [==============================] - 0s 3ms/step - loss: 32291.1211 - mae: 32291.1211 - lr: 0.1995\n",
            "Epoch 68/100\n",
            "13/13 [==============================] - 0s 3ms/step - loss: 28438.5938 - mae: 28438.5938 - lr: 0.2239\n",
            "Epoch 69/100\n",
            "13/13 [==============================] - 0s 2ms/step - loss: 12120.8389 - mae: 12120.8389 - lr: 0.2512\n",
            "Epoch 70/100\n",
            "13/13 [==============================] - 0s 2ms/step - loss: 4229.8999 - mae: 4229.8999 - lr: 0.2818\n",
            "Epoch 71/100\n",
            "13/13 [==============================] - 0s 3ms/step - loss: 2142.8179 - mae: 2142.8179 - lr: 0.3162\n",
            "Epoch 72/100\n",
            "13/13 [==============================] - 0s 2ms/step - loss: 450.0435 - mae: 450.0435 - lr: 0.3548\n",
            "Epoch 73/100\n",
            "13/13 [==============================] - 0s 2ms/step - loss: 245.8642 - mae: 245.8642 - lr: 0.3981\n",
            "Epoch 74/100\n",
            "13/13 [==============================] - 0s 3ms/step - loss: 144.6740 - mae: 144.6740 - lr: 0.4467\n",
            "Epoch 75/100\n",
            "13/13 [==============================] - 0s 2ms/step - loss: 73.1111 - mae: 73.1111 - lr: 0.5012\n",
            "Epoch 76/100\n",
            "13/13 [==============================] - 0s 2ms/step - loss: 88.8339 - mae: 88.8339 - lr: 0.5623\n",
            "Epoch 77/100\n",
            "13/13 [==============================] - 0s 2ms/step - loss: 352.8812 - mae: 352.8812 - lr: 0.6310\n",
            "Epoch 78/100\n",
            "13/13 [==============================] - 0s 2ms/step - loss: 655.5093 - mae: 655.5093 - lr: 0.7079\n",
            "Epoch 79/100\n",
            "13/13 [==============================] - 0s 2ms/step - loss: 201.9210 - mae: 201.9210 - lr: 0.7943\n",
            "Epoch 80/100\n",
            "13/13 [==============================] - 0s 3ms/step - loss: 111.9076 - mae: 111.9076 - lr: 0.8913\n",
            "Epoch 81/100\n",
            "13/13 [==============================] - 0s 3ms/step - loss: 53.0238 - mae: 53.0238 - lr: 1.0000\n",
            "Epoch 82/100\n",
            "13/13 [==============================] - 0s 2ms/step - loss: 39.3276 - mae: 39.3276 - lr: 1.1220\n",
            "Epoch 83/100\n",
            "13/13 [==============================] - 0s 2ms/step - loss: 16.8789 - mae: 16.8789 - lr: 1.2589\n",
            "Epoch 84/100\n",
            "13/13 [==============================] - 0s 2ms/step - loss: 13.1577 - mae: 13.1577 - lr: 1.4125\n",
            "Epoch 85/100\n",
            "13/13 [==============================] - 0s 3ms/step - loss: 10.8058 - mae: 10.8058 - lr: 1.5849\n",
            "Epoch 86/100\n",
            "13/13 [==============================] - 0s 2ms/step - loss: 12.6212 - mae: 12.6212 - lr: 1.7783\n",
            "Epoch 87/100\n",
            "13/13 [==============================] - 0s 2ms/step - loss: 8.7563 - mae: 8.7563 - lr: 1.9953\n",
            "Epoch 88/100\n",
            "13/13 [==============================] - 0s 2ms/step - loss: 6.9012 - mae: 6.9012 - lr: 2.2387\n",
            "Epoch 89/100\n",
            "13/13 [==============================] - 0s 2ms/step - loss: 5.1584 - mae: 5.1584 - lr: 2.5119\n",
            "Epoch 90/100\n",
            "13/13 [==============================] - 0s 2ms/step - loss: 5.6392 - mae: 5.6392 - lr: 2.8184\n",
            "Epoch 91/100\n",
            "13/13 [==============================] - 0s 2ms/step - loss: 7.2632 - mae: 7.2632 - lr: 3.1623\n",
            "Epoch 92/100\n",
            "13/13 [==============================] - 0s 2ms/step - loss: 16.3751 - mae: 16.3751 - lr: 3.5481\n",
            "Epoch 93/100\n",
            "13/13 [==============================] - 0s 3ms/step - loss: 743.2537 - mae: 743.2537 - lr: 3.9811\n",
            "Epoch 94/100\n",
            "13/13 [==============================] - 0s 3ms/step - loss: 1526956032.0000 - mae: 1526956032.0000 - lr: 4.4668\n",
            "Epoch 95/100\n",
            "13/13 [==============================] - 0s 3ms/step - loss: 675281344.0000 - mae: 675281344.0000 - lr: 5.0119\n",
            "Epoch 96/100\n",
            "13/13 [==============================] - 0s 2ms/step - loss: 178883936.0000 - mae: 178883936.0000 - lr: 5.6234\n",
            "Epoch 97/100\n",
            "13/13 [==============================] - 0s 3ms/step - loss: 64723500.0000 - mae: 64723500.0000 - lr: 6.3096\n",
            "Epoch 98/100\n",
            "13/13 [==============================] - 0s 2ms/step - loss: 17202452.0000 - mae: 17202452.0000 - lr: 7.0795\n",
            "Epoch 99/100\n",
            "13/13 [==============================] - 0s 2ms/step - loss: 10022352.0000 - mae: 10022352.0000 - lr: 7.9433\n",
            "Epoch 100/100\n",
            "13/13 [==============================] - 0s 3ms/step - loss: 5177236.5000 - mae: 5177236.5000 - lr: 8.9125\n"
          ]
        }
      ]
    },
    {
      "cell_type": "code",
      "source": [
        "model_10.evaluate(X_test, y_test)"
      ],
      "metadata": {
        "colab": {
          "base_uri": "https://localhost:8080/"
        },
        "id": "DmJltMviHhMu",
        "outputId": "a6401252-8983-4812-889f-84b7ba13cb16"
      },
      "execution_count": null,
      "outputs": [
        {
          "output_type": "stream",
          "name": "stdout",
          "text": [
            "4/4 [==============================] - 0s 6ms/step - loss: 4.9135 - mae: 4.9135\n"
          ]
        },
        {
          "output_type": "execute_result",
          "data": {
            "text/plain": [
              "[4.913516044616699, 4.913516044616699]"
            ]
          },
          "metadata": {},
          "execution_count": 93
        }
      ]
    },
    {
      "cell_type": "code",
      "source": [
        "lrs= 1e-4*10**(tf.range(100)/20)"
      ],
      "metadata": {
        "id": "zEokBb5UHmRM"
      },
      "execution_count": null,
      "outputs": []
    },
    {
      "cell_type": "code",
      "source": [
        "plt.semilogx(lrs, history_10.history['loss'])"
      ],
      "metadata": {
        "colab": {
          "base_uri": "https://localhost:8080/",
          "height": 468
        },
        "id": "gpWC9hueIHPA",
        "outputId": "03422a61-963a-4abc-9b37-2a0e882b3bf5"
      },
      "execution_count": null,
      "outputs": [
        {
          "output_type": "execute_result",
          "data": {
            "text/plain": [
              "[<matplotlib.lines.Line2D at 0x7f126de06ef0>]"
            ]
          },
          "metadata": {},
          "execution_count": 105
        },
        {
          "output_type": "display_data",
          "data": {
            "text/plain": [
              "<Figure size 640x480 with 1 Axes>"
            ],
            "image/png": "[encoded data removed]"
          },
          "metadata": {}
        }
      ]
    },
    {
      "cell_type": "markdown",
      "source": [
        "Well, quite surprised heehee 😆\n",
        "it means that the ideal lr in this case should be the default one"
      ],
      "metadata": {
        "id": "7jG4KhjSIm1N"
      }
    },
    {
      "cell_type": "code",
      "source": [
        "model_9.evaluate(X_test, y_test)"
      ],
      "metadata": {
        "colab": {
          "base_uri": "https://localhost:8080/"
        },
        "id": "80Ni6bLMJrBm",
        "outputId": "ba597f72-7e3f-4fae-a608-1c372820133b"
      },
      "execution_count": null,
      "outputs": [
        {
          "output_type": "stream",
          "name": "stdout",
          "text": [
            "4/4 [==============================] - 0s 9ms/step - loss: 3.8310 - mae: 3.8310\n"
          ]
        },
        {
          "output_type": "execute_result",
          "data": {
            "text/plain": [
              "[3.8310062885284424, 3.8310062885284424]"
            ]
          },
          "metadata": {},
          "execution_count": 106
        }
      ]
    },
    {
      "cell_type": "code",
      "source": [
        "model_10.evaluate(X_test, y_test)"
      ],
      "metadata": {
        "colab": {
          "base_uri": "https://localhost:8080/"
        },
        "id": "d9c2j2QoJzlM",
        "outputId": "4080dd14-9355-4c30-b8d0-b7f4ca137bac"
      },
      "execution_count": null,
      "outputs": [
        {
          "output_type": "stream",
          "name": "stdout",
          "text": [
            "4/4 [==============================] - 0s 4ms/step - loss: 3887445.0000 - mae: 3887445.0000\n"
          ]
        },
        {
          "output_type": "execute_result",
          "data": {
            "text/plain": [
              "[3887445.0, 3887445.0]"
            ]
          },
          "metadata": {},
          "execution_count": 107
        }
      ]
    },
    {
      "cell_type": "code",
      "source": [
        "model_8.evaluate(X_test, y_test)"
      ],
      "metadata": {
        "colab": {
          "base_uri": "https://localhost:8080/"
        },
        "id": "ZrLpkna8J19A",
        "outputId": "1011caf4-2b6b-430f-a725-80eb1b865cc9"
      },
      "execution_count": null,
      "outputs": [
        {
          "output_type": "stream",
          "name": "stdout",
          "text": [
            "4/4 [==============================] - 0s 9ms/step - loss: 3.7954 - mae: 3.7954\n"
          ]
        },
        {
          "output_type": "execute_result",
          "data": {
            "text/plain": [
              "[3.7954349517822266, 3.7954349517822266]"
            ]
          },
          "metadata": {},
          "execution_count": 108
        }
      ]
    },
    {
      "cell_type": "code",
      "source": [
        "model_7.evaluate(X_test, y_test)"
      ],
      "metadata": {
        "colab": {
          "base_uri": "https://localhost:8080/"
        },
        "id": "MFjYyncOJ4i7",
        "outputId": "12cd0260-095f-4fb7-98d6-4c8e1eb21179"
      },
      "execution_count": null,
      "outputs": [
        {
          "output_type": "stream",
          "name": "stdout",
          "text": [
            "4/4 [==============================] - 0s 4ms/step - loss: 3.8680 - mae: 3.8680\n"
          ]
        },
        {
          "output_type": "execute_result",
          "data": {
            "text/plain": [
              "[3.8679723739624023, 3.8679723739624023]"
            ]
          },
          "metadata": {},
          "execution_count": 109
        }
      ]
    },
    {
      "cell_type": "code",
      "source": [
        "model_8.summary(\n",
        ")"
      ],
      "metadata": {
        "colab": {
          "base_uri": "https://localhost:8080/"
        },
        "id": "IhA_AE1SJ7xV",
        "outputId": "b5ab92aa-3dab-452c-d656-2ac65cafa8ae"
      },
      "execution_count": null,
      "outputs": [
        {
          "output_type": "stream",
          "name": "stdout",
          "text": [
            "Model: \"sequential_15\"\n",
            "_________________________________________________________________\n",
            " Layer (type)                Output Shape              Param #   \n",
            "=================================================================\n",
            " dense_36 (Dense)            (None, 50)                700       \n",
            "                                                                 \n",
            " dense_37 (Dense)            (None, 20)                1020      \n",
            "                                                                 \n",
            " dense_38 (Dense)            (None, 1)                 21        \n",
            "                                                                 \n",
            "=================================================================\n",
            "Total params: 1,741\n",
            "Trainable params: 1,741\n",
            "Non-trainable params: 0\n",
            "_________________________________________________________________\n"
          ]
        }
      ]
    },
    {
      "cell_type": "code",
      "source": [
        "model_10.summary()"
      ],
      "metadata": {
        "colab": {
          "base_uri": "https://localhost:8080/"
        },
        "id": "zTfd_XkpJ-Pz",
        "outputId": "9274c662-d1b9-4e59-e748-2480df3e2cf1"
      },
      "execution_count": null,
      "outputs": [
        {
          "output_type": "stream",
          "name": "stdout",
          "text": [
            "Model: \"sequential_19\"\n",
            "_________________________________________________________________\n",
            " Layer (type)                Output Shape              Param #   \n",
            "=================================================================\n",
            " dense_48 (Dense)            (None, 50)                700       \n",
            "                                                                 \n",
            " dense_49 (Dense)            (None, 20)                1020      \n",
            "                                                                 \n",
            " dense_50 (Dense)            (None, 1)                 21        \n",
            "                                                                 \n",
            "=================================================================\n",
            "Total params: 1,741\n",
            "Trainable params: 1,741\n",
            "Non-trainable params: 0\n",
            "_________________________________________________________________\n"
          ]
        }
      ]
    },
    {
      "cell_type": "code",
      "source": [
        "model_11= tf.keras.Sequential([\n",
        "    tf.keras.layers.Dense(50),\n",
        "    tf.keras.layers.Dense(20),\n",
        "    tf.keras.layers.Dense(20),\n",
        "    tf.keras.layers.Dense(1)\n",
        "])\n",
        "model_11.compile(loss=['mae'],\n",
        "                 optimizer=tf.keras.optimizers.Adam(),\n",
        "                 metrics=['mae'])\n",
        "model_11.fit(X_train, y_train, epochs=100)"
      ],
      "metadata": {
        "colab": {
          "base_uri": "https://localhost:8080/"
        },
        "id": "NqU2tjicKC-1",
        "outputId": "019455c5-7395-4dbc-85f4-2d114971869c"
      },
      "execution_count": null,
      "outputs": [
        {
          "output_type": "stream",
          "name": "stdout",
          "text": [
            "Epoch 1/100\n",
            "13/13 [==============================] - 1s 2ms/step - loss: 260.3668 - mae: 260.3668\n",
            "Epoch 2/100\n",
            "13/13 [==============================] - 0s 3ms/step - loss: 71.0815 - mae: 71.0815\n",
            "Epoch 3/100\n",
            "13/13 [==============================] - 0s 2ms/step - loss: 28.7402 - mae: 28.7402\n",
            "Epoch 4/100\n",
            "13/13 [==============================] - 0s 2ms/step - loss: 15.6559 - mae: 15.6559\n",
            "Epoch 5/100\n",
            "13/13 [==============================] - 0s 2ms/step - loss: 13.0489 - mae: 13.0489\n",
            "Epoch 6/100\n",
            "13/13 [==============================] - 0s 3ms/step - loss: 11.6187 - mae: 11.6187\n",
            "Epoch 7/100\n",
            "13/13 [==============================] - 0s 3ms/step - loss: 10.9683 - mae: 10.9683\n",
            "Epoch 8/100\n",
            "13/13 [==============================] - 0s 2ms/step - loss: 10.2246 - mae: 10.2246\n",
            "Epoch 9/100\n",
            "13/13 [==============================] - 0s 2ms/step - loss: 9.9441 - mae: 9.9441\n",
            "Epoch 10/100\n",
            "13/13 [==============================] - 0s 3ms/step - loss: 8.3379 - mae: 8.3379\n",
            "Epoch 11/100\n",
            "13/13 [==============================] - 0s 2ms/step - loss: 7.7634 - mae: 7.7634\n",
            "Epoch 12/100\n",
            "13/13 [==============================] - 0s 2ms/step - loss: 7.8469 - mae: 7.8469\n",
            "Epoch 13/100\n",
            "13/13 [==============================] - 0s 2ms/step - loss: 7.1144 - mae: 7.1144\n",
            "Epoch 14/100\n",
            "13/13 [==============================] - 0s 2ms/step - loss: 7.2209 - mae: 7.2209\n",
            "Epoch 15/100\n",
            "13/13 [==============================] - 0s 3ms/step - loss: 6.7269 - mae: 6.7269\n",
            "Epoch 16/100\n",
            "13/13 [==============================] - 0s 2ms/step - loss: 6.4990 - mae: 6.4990\n",
            "Epoch 17/100\n",
            "13/13 [==============================] - 0s 2ms/step - loss: 7.3775 - mae: 7.3775\n",
            "Epoch 18/100\n",
            "13/13 [==============================] - 0s 2ms/step - loss: 6.9503 - mae: 6.9503\n",
            "Epoch 19/100\n",
            "13/13 [==============================] - 0s 2ms/step - loss: 6.1714 - mae: 6.1714\n",
            "Epoch 20/100\n",
            "13/13 [==============================] - 0s 2ms/step - loss: 7.0033 - mae: 7.0033\n",
            "Epoch 21/100\n",
            "13/13 [==============================] - 0s 2ms/step - loss: 5.9963 - mae: 5.9963\n",
            "Epoch 22/100\n",
            "13/13 [==============================] - 0s 2ms/step - loss: 6.0736 - mae: 6.0736\n",
            "Epoch 23/100\n",
            "13/13 [==============================] - 0s 2ms/step - loss: 5.9110 - mae: 5.9110\n",
            "Epoch 24/100\n",
            "13/13 [==============================] - 0s 2ms/step - loss: 6.2112 - mae: 6.2112\n",
            "Epoch 25/100\n",
            "13/13 [==============================] - 0s 3ms/step - loss: 5.7209 - mae: 5.7209\n",
            "Epoch 26/100\n",
            "13/13 [==============================] - 0s 3ms/step - loss: 5.7729 - mae: 5.7729\n",
            "Epoch 27/100\n",
            "13/13 [==============================] - 0s 2ms/step - loss: 5.7109 - mae: 5.7109\n",
            "Epoch 28/100\n",
            "13/13 [==============================] - 0s 2ms/step - loss: 5.6309 - mae: 5.6309\n",
            "Epoch 29/100\n",
            "13/13 [==============================] - 0s 3ms/step - loss: 6.0198 - mae: 6.0198\n",
            "Epoch 30/100\n",
            "13/13 [==============================] - 0s 2ms/step - loss: 5.7460 - mae: 5.7460\n",
            "Epoch 31/100\n",
            "13/13 [==============================] - 0s 2ms/step - loss: 5.2683 - mae: 5.2683\n",
            "Epoch 32/100\n",
            "13/13 [==============================] - 0s 2ms/step - loss: 5.4686 - mae: 5.4686\n",
            "Epoch 33/100\n",
            "13/13 [==============================] - 0s 2ms/step - loss: 5.6206 - mae: 5.6206\n",
            "Epoch 34/100\n",
            "13/13 [==============================] - 0s 3ms/step - loss: 5.4975 - mae: 5.4975\n",
            "Epoch 35/100\n",
            "13/13 [==============================] - 0s 3ms/step - loss: 5.8748 - mae: 5.8748\n",
            "Epoch 36/100\n",
            "13/13 [==============================] - 0s 2ms/step - loss: 5.2457 - mae: 5.2457\n",
            "Epoch 37/100\n",
            "13/13 [==============================] - 0s 3ms/step - loss: 5.5610 - mae: 5.5610\n",
            "Epoch 38/100\n",
            "13/13 [==============================] - 0s 3ms/step - loss: 6.1843 - mae: 6.1843\n",
            "Epoch 39/100\n",
            "13/13 [==============================] - 0s 3ms/step - loss: 5.3754 - mae: 5.3754\n",
            "Epoch 40/100\n",
            "13/13 [==============================] - 0s 3ms/step - loss: 5.0203 - mae: 5.0203\n",
            "Epoch 41/100\n",
            "13/13 [==============================] - 0s 3ms/step - loss: 5.0372 - mae: 5.0372\n",
            "Epoch 42/100\n",
            "13/13 [==============================] - 0s 2ms/step - loss: 5.5141 - mae: 5.5141\n",
            "Epoch 43/100\n",
            "13/13 [==============================] - 0s 2ms/step - loss: 5.6366 - mae: 5.6366\n",
            "Epoch 44/100\n",
            "13/13 [==============================] - 0s 2ms/step - loss: 5.9642 - mae: 5.9642\n",
            "Epoch 45/100\n",
            "13/13 [==============================] - 0s 2ms/step - loss: 5.0581 - mae: 5.0581\n",
            "Epoch 46/100\n",
            "13/13 [==============================] - 0s 2ms/step - loss: 4.9924 - mae: 4.9924\n",
            "Epoch 47/100\n",
            "13/13 [==============================] - 0s 3ms/step - loss: 4.7795 - mae: 4.7795\n",
            "Epoch 48/100\n",
            "13/13 [==============================] - 0s 2ms/step - loss: 6.3420 - mae: 6.3420\n",
            "Epoch 49/100\n",
            "13/13 [==============================] - 0s 2ms/step - loss: 6.2349 - mae: 6.2349\n",
            "Epoch 50/100\n",
            "13/13 [==============================] - 0s 2ms/step - loss: 5.6335 - mae: 5.6335\n",
            "Epoch 51/100\n",
            "13/13 [==============================] - 0s 2ms/step - loss: 4.9791 - mae: 4.9791\n",
            "Epoch 52/100\n",
            "13/13 [==============================] - 0s 2ms/step - loss: 4.9707 - mae: 4.9707\n",
            "Epoch 53/100\n",
            "13/13 [==============================] - 0s 2ms/step - loss: 6.3024 - mae: 6.3024\n",
            "Epoch 54/100\n",
            "13/13 [==============================] - 0s 2ms/step - loss: 6.0384 - mae: 6.0384\n",
            "Epoch 55/100\n",
            "13/13 [==============================] - 0s 2ms/step - loss: 5.2449 - mae: 5.2449\n",
            "Epoch 56/100\n",
            "13/13 [==============================] - 0s 2ms/step - loss: 5.5069 - mae: 5.5069\n",
            "Epoch 57/100\n",
            "13/13 [==============================] - 0s 2ms/step - loss: 4.9489 - mae: 4.9489\n",
            "Epoch 58/100\n",
            "13/13 [==============================] - 0s 3ms/step - loss: 5.2735 - mae: 5.2735\n",
            "Epoch 59/100\n",
            "13/13 [==============================] - 0s 3ms/step - loss: 6.4687 - mae: 6.4687\n",
            "Epoch 60/100\n",
            "13/13 [==============================] - 0s 3ms/step - loss: 6.5752 - mae: 6.5752\n",
            "Epoch 61/100\n",
            "13/13 [==============================] - 0s 2ms/step - loss: 5.8131 - mae: 5.8131\n",
            "Epoch 62/100\n",
            "13/13 [==============================] - 0s 3ms/step - loss: 5.1963 - mae: 5.1963\n",
            "Epoch 63/100\n",
            "13/13 [==============================] - 0s 2ms/step - loss: 5.0611 - mae: 5.0611\n",
            "Epoch 64/100\n",
            "13/13 [==============================] - 0s 2ms/step - loss: 5.4170 - mae: 5.4170\n",
            "Epoch 65/100\n",
            "13/13 [==============================] - 0s 2ms/step - loss: 5.0925 - mae: 5.0925\n",
            "Epoch 66/100\n",
            "13/13 [==============================] - 0s 3ms/step - loss: 5.2218 - mae: 5.2218\n",
            "Epoch 67/100\n",
            "13/13 [==============================] - 0s 2ms/step - loss: 5.9126 - mae: 5.9126\n",
            "Epoch 68/100\n",
            "13/13 [==============================] - 0s 2ms/step - loss: 4.7246 - mae: 4.7246\n",
            "Epoch 69/100\n",
            "13/13 [==============================] - 0s 3ms/step - loss: 5.0309 - mae: 5.0309\n",
            "Epoch 70/100\n",
            "13/13 [==============================] - 0s 2ms/step - loss: 4.8873 - mae: 4.8873\n",
            "Epoch 71/100\n",
            "13/13 [==============================] - 0s 3ms/step - loss: 5.2157 - mae: 5.2157\n",
            "Epoch 72/100\n",
            "13/13 [==============================] - 0s 2ms/step - loss: 6.0013 - mae: 6.0013\n",
            "Epoch 73/100\n",
            "13/13 [==============================] - 0s 3ms/step - loss: 4.8587 - mae: 4.8587\n",
            "Epoch 74/100\n",
            "13/13 [==============================] - 0s 2ms/step - loss: 4.9082 - mae: 4.9082\n",
            "Epoch 75/100\n",
            "13/13 [==============================] - 0s 2ms/step - loss: 5.7631 - mae: 5.7631\n",
            "Epoch 76/100\n",
            "13/13 [==============================] - 0s 3ms/step - loss: 5.7701 - mae: 5.7701\n",
            "Epoch 77/100\n",
            "13/13 [==============================] - 0s 2ms/step - loss: 4.7201 - mae: 4.7201\n",
            "Epoch 78/100\n",
            "13/13 [==============================] - 0s 3ms/step - loss: 4.6227 - mae: 4.6227\n",
            "Epoch 79/100\n",
            "13/13 [==============================] - 0s 2ms/step - loss: 5.8241 - mae: 5.8241\n",
            "Epoch 80/100\n",
            "13/13 [==============================] - 0s 3ms/step - loss: 4.7757 - mae: 4.7757\n",
            "Epoch 81/100\n",
            "13/13 [==============================] - 0s 3ms/step - loss: 4.6684 - mae: 4.6684\n",
            "Epoch 82/100\n",
            "13/13 [==============================] - 0s 4ms/step - loss: 4.7167 - mae: 4.7167\n",
            "Epoch 83/100\n",
            "13/13 [==============================] - 0s 3ms/step - loss: 5.1101 - mae: 5.1101\n",
            "Epoch 84/100\n",
            "13/13 [==============================] - 0s 3ms/step - loss: 4.9243 - mae: 4.9243\n",
            "Epoch 85/100\n",
            "13/13 [==============================] - 0s 3ms/step - loss: 6.4504 - mae: 6.4504\n",
            "Epoch 86/100\n",
            "13/13 [==============================] - 0s 2ms/step - loss: 5.8928 - mae: 5.8928\n",
            "Epoch 87/100\n",
            "13/13 [==============================] - 0s 2ms/step - loss: 4.3630 - mae: 4.3630\n",
            "Epoch 88/100\n",
            "13/13 [==============================] - 0s 2ms/step - loss: 4.8524 - mae: 4.8524\n",
            "Epoch 89/100\n",
            "13/13 [==============================] - 0s 2ms/step - loss: 5.4832 - mae: 5.4832\n",
            "Epoch 90/100\n",
            "13/13 [==============================] - 0s 2ms/step - loss: 5.5829 - mae: 5.5829\n",
            "Epoch 91/100\n",
            "13/13 [==============================] - 0s 2ms/step - loss: 5.5721 - mae: 5.5721\n",
            "Epoch 92/100\n",
            "13/13 [==============================] - 0s 3ms/step - loss: 4.5178 - mae: 4.5178\n",
            "Epoch 93/100\n",
            "13/13 [==============================] - 0s 3ms/step - loss: 5.0833 - mae: 5.0833\n",
            "Epoch 94/100\n",
            "13/13 [==============================] - 0s 3ms/step - loss: 5.5024 - mae: 5.5024\n",
            "Epoch 95/100\n",
            "13/13 [==============================] - 0s 3ms/step - loss: 5.2344 - mae: 5.2344\n",
            "Epoch 96/100\n",
            "13/13 [==============================] - 0s 3ms/step - loss: 6.7429 - mae: 6.7429\n",
            "Epoch 97/100\n",
            "13/13 [==============================] - 0s 3ms/step - loss: 5.9795 - mae: 5.9795\n",
            "Epoch 98/100\n",
            "13/13 [==============================] - 0s 2ms/step - loss: 5.3644 - mae: 5.3644\n",
            "Epoch 99/100\n",
            "13/13 [==============================] - 0s 3ms/step - loss: 6.8161 - mae: 6.8161\n",
            "Epoch 100/100\n",
            "13/13 [==============================] - 0s 3ms/step - loss: 5.8153 - mae: 5.8153\n"
          ]
        },
        {
          "output_type": "execute_result",
          "data": {
            "text/plain": [
              "<keras.callbacks.History at 0x7f126d4021d0>"
            ]
          },
          "metadata": {},
          "execution_count": 115
        }
      ]
    },
    {
      "cell_type": "code",
      "source": [
        "model_11.evaluate(X_test, y_test)"
      ],
      "metadata": {
        "colab": {
          "base_uri": "https://localhost:8080/"
        },
        "id": "ZihugeZLKe7g",
        "outputId": "1434bbc4-c6ab-43df-9309-69ac142cfe12"
      },
      "execution_count": null,
      "outputs": [
        {
          "output_type": "stream",
          "name": "stdout",
          "text": [
            "4/4 [==============================] - 0s 6ms/step - loss: 4.2187 - mae: 4.2187\n"
          ]
        },
        {
          "output_type": "execute_result",
          "data": {
            "text/plain": [
              "[4.21866512298584, 4.21866512298584]"
            ]
          },
          "metadata": {},
          "execution_count": 116
        }
      ]
    },
    {
      "cell_type": "markdown",
      "source": [
        "So, `model_8` seems to be the best performing model till now."
      ],
      "metadata": {
        "id": "kw6NzIvbLFy5"
      }
    },
    {
      "cell_type": "code",
      "source": [
        "model_8.evaluate(X_test, y_test)"
      ],
      "metadata": {
        "colab": {
          "base_uri": "https://localhost:8080/"
        },
        "id": "13ook8PwLQQ8",
        "outputId": "c0fa9481-99c0-4f22-b5cc-f3b156f3f982"
      },
      "execution_count": null,
      "outputs": [
        {
          "output_type": "stream",
          "name": "stdout",
          "text": [
            "4/4 [==============================] - 0s 6ms/step - loss: 3.7954 - mae: 3.7954\n"
          ]
        },
        {
          "output_type": "execute_result",
          "data": {
            "text/plain": [
              "[3.7954349517822266, 3.7954349517822266]"
            ]
          },
          "metadata": {},
          "execution_count": 117
        }
      ]
    },
    {
      "cell_type": "code",
      "source": [
        "tf.keras.utils.plot_model(model_8, show_shapes=True)"
      ],
      "metadata": {
        "colab": {
          "base_uri": "https://localhost:8080/",
          "height": 422
        },
        "id": "j0X06pYBLXS_",
        "outputId": "b95ad232-9e69-44dc-d29f-fa1d1b5f2893"
      },
      "execution_count": null,
      "outputs": [
        {
          "output_type": "execute_result",
          "data": {
            "image/png": "[encoded data removed]",
            "text/plain": [
              "<IPython.core.display.Image object>"
            ]
          },
          "metadata": {},
          "execution_count": 121
        }
      ]
    },
    {
      "cell_type": "code",
      "source": [
        "import pickle"
      ],
      "metadata": {
        "id": "9Nm9EyziLxi7"
      },
      "execution_count": null,
      "outputs": []
    },
    {
      "cell_type": "markdown",
      "source": [
        "# ✅ Done the Exercise"
      ],
      "metadata": {
        "id": "gJBxGkk2MRJv"
      }
    },
    {
      "cell_type": "code",
      "source": [],
      "metadata": {
        "id": "eC9o3rkBMoYM"
      },
      "execution_count": null,
      "outputs": []
    }
  ]
}
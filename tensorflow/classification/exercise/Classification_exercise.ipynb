{
  "nbformat": 4,
  "nbformat_minor": 0,
  "metadata": {
    "colab": {
      "provenance": []
    },
    "kernelspec": {
      "name": "python3",
      "display_name": "Python 3"
    },
    "language_info": {
      "name": "python"
    }
  },
  "cells": [
    {
      "cell_type": "markdown",
      "source": [
        "# 🛠 Neural network classification with TensorFlow Exercises\n",
        "01. Play with neural networks in the [TensorFlow Playground](https://playground.tensorflow.org/) for 10-minutes.    \n",
        " * Especially try different values of the learning, what happens when you\n",
        "   decrease it? What happens when you increase it?\n",
        "02. Replicate the model pictured in the TensorFlow Playground diagram below using TensorFlow code.\n",
        "  * Compile it using the Adam optimizer, binary crossentropy loss and accuracy metric. Once it's compiled check a summary of the model.\n",
        "03. Try this network out for yourself on the TensorFlow Playground website.\n",
        "https://raw.githubusercontent.com/mrdbourke/tensorflow-deep-learning/main/images/02-tensorflow-playground-replication-exercise.png\n",
        "\n",
        "**Hint:** there are 5 hidden layers but the output layer isn't pictured, you'll have to decide what the output layer should be based on the input data.\n",
        "\n",
        "04. Create a classification dataset using Scikit-Learn's [make_moons()](https://scikit-learn.org/stable/modules/generated/sklearn.datasets.make_moons.html) function, visualize it and then build a model to fit it at over 85% accuracy.\n",
        "05. Train a model to get 88%+ accuracy on the `fashion MNIST` test set. Plot a `confusion matrix` to see the results after.\n",
        "06. Recreate[TensorFlow's softmax activation](https://en.wikipedia.org/wiki/Softmax_function) function in your own code. Make sure it can accept a tensor and return that tensor after having the softmax function applied to it.\n",
        "07. Create a function (or write code) to visualize multiple image predictions for the `fashion MNIST` at the same time.\n",
        "  * Plot at least three different images and their prediction labels at the same time. **Hint:** see the [classification tutorial in the TensorFlow documentation](https://www.tensorflow.org/tutorials/keras/classification) for ideas.\n",
        "08. Make a function to show an image of a certain class of the `fashion MNIST` dataset and make a prediction on it.\n",
        "For example, plot 3 images of the T-shirt class with their predictions."
      ],
      "metadata": {
        "id": "5E5T6Igpu8tp"
      }
    },
    {
      "cell_type": "markdown",
      "source": [
        "#02. Replicating the model"
      ],
      "metadata": {
        "id": "CCZrblTQwdBT"
      }
    },
    {
      "cell_type": "code",
      "source": [
        "import tensorflow as tf\n",
        "import matplotlib.pyplot as plt\n",
        "import numpy as np\n",
        "import pandas as pd"
      ],
      "metadata": {
        "id": "_NckZIeawbFP"
      },
      "execution_count": null,
      "outputs": []
    },
    {
      "cell_type": "code",
      "source": [
        "#creating the model\n",
        "model= tf.keras.Sequential([\n",
        "    tf.keras.layers.Dense(6, activation='relu'),\n",
        "    tf.keras.layers.Dense(6, activation='relu'),\n",
        "    tf.keras.layers.Dense(6, activation='relu'),\n",
        "    tf.keras.layers.Dense(6, activation='relu'),\n",
        "    tf.keras.layers.Dense(6, activation='relu'),\n",
        "    tf.keras.layers.Dense(6, activation='relu')\n",
        "])\n",
        "#compiling\n",
        "model.compile(loss=['binary_crossentropy'],\n",
        "              optimizer= tf.keras.optimizers.Adam(),\n",
        "              metrics=['accuracy'])\n",
        "model.build((None,1))"
      ],
      "metadata": {
        "id": "k123Sw5lvKO-"
      },
      "execution_count": null,
      "outputs": []
    },
    {
      "cell_type": "code",
      "source": [
        "model.summary()"
      ],
      "metadata": {
        "colab": {
          "base_uri": "https://localhost:8080/"
        },
        "id": "D3Cko3S-wKR8",
        "outputId": "b382a25b-34ed-49cd-934c-4dbbbb60fa34"
      },
      "execution_count": null,
      "outputs": [
        {
          "output_type": "stream",
          "name": "stdout",
          "text": [
            "Model: \"sequential\"\n",
            "_________________________________________________________________\n",
            " Layer (type)                Output Shape              Param #   \n",
            "=================================================================\n",
            " dense (Dense)               (None, 6)                 12        \n",
            "                                                                 \n",
            " dense_1 (Dense)             (None, 6)                 42        \n",
            "                                                                 \n",
            " dense_2 (Dense)             (None, 6)                 42        \n",
            "                                                                 \n",
            " dense_3 (Dense)             (None, 6)                 42        \n",
            "                                                                 \n",
            " dense_4 (Dense)             (None, 6)                 42        \n",
            "                                                                 \n",
            " dense_5 (Dense)             (None, 6)                 42        \n",
            "                                                                 \n",
            "=================================================================\n",
            "Total params: 222\n",
            "Trainable params: 222\n",
            "Non-trainable params: 0\n",
            "_________________________________________________________________\n"
          ]
        }
      ]
    },
    {
      "cell_type": "markdown",
      "source": [
        "# 04.Making a model for `make_moons()` dataset"
      ],
      "metadata": {
        "id": "rl7muwgVw86Z"
      }
    },
    {
      "cell_type": "code",
      "source": [
        "from sklearn.datasets import make_moons"
      ],
      "metadata": {
        "id": "3v-KgTLpxfyC"
      },
      "execution_count": null,
      "outputs": []
    },
    {
      "cell_type": "code",
      "source": [
        "X, y=make_moons(n_samples=1000, random_state=42)"
      ],
      "metadata": {
        "id": "pFhj9kV1x-uS"
      },
      "execution_count": null,
      "outputs": []
    },
    {
      "cell_type": "markdown",
      "source": [
        "## EDA"
      ],
      "metadata": {
        "id": "0voE9kJGzR6y"
      }
    },
    {
      "cell_type": "code",
      "source": [
        "X.shape, y.shape"
      ],
      "metadata": {
        "colab": {
          "base_uri": "https://localhost:8080/"
        },
        "id": "wFCtqomAyDO9",
        "outputId": "8ec45e4f-1563-4013-b71e-5bb133b3c0b1"
      },
      "execution_count": null,
      "outputs": [
        {
          "output_type": "execute_result",
          "data": {
            "text/plain": [
              "((1000, 2), (1000,))"
            ]
          },
          "metadata": {},
          "execution_count": 7
        }
      ]
    },
    {
      "cell_type": "code",
      "source": [
        "#Creatinf test and train splits\n",
        "X_train, y_train= X[:800], y[:800]\n",
        "X_test, y_test=X[800:], y[800:]"
      ],
      "metadata": {
        "id": "z5nzBw9ByGZ7"
      },
      "execution_count": null,
      "outputs": []
    },
    {
      "cell_type": "code",
      "source": [
        "X_train.shape, y_train.shape, X_test.shape, y_test.shape"
      ],
      "metadata": {
        "colab": {
          "base_uri": "https://localhost:8080/"
        },
        "id": "iLH_OegvygCe",
        "outputId": "cd5097a5-4fd0-47e6-fb58-dd2f658f11d5"
      },
      "execution_count": null,
      "outputs": [
        {
          "output_type": "execute_result",
          "data": {
            "text/plain": [
              "((800, 2), (800,), (200, 2), (200,))"
            ]
          },
          "metadata": {},
          "execution_count": 9
        }
      ]
    },
    {
      "cell_type": "code",
      "source": [
        "df= pd.DataFrame({\"X0\": X[:,0], \"X1\":X[:,1], \"labels\":y})\n",
        "df.info()"
      ],
      "metadata": {
        "colab": {
          "base_uri": "https://localhost:8080/"
        },
        "id": "zd0ugQUFym7T",
        "outputId": "2d2b38d5-1c68-4c70-e6d5-45f1592e9068"
      },
      "execution_count": null,
      "outputs": [
        {
          "output_type": "stream",
          "name": "stdout",
          "text": [
            "<class 'pandas.core.frame.DataFrame'>\n",
            "RangeIndex: 1000 entries, 0 to 999\n",
            "Data columns (total 3 columns):\n",
            " #   Column  Non-Null Count  Dtype  \n",
            "---  ------  --------------  -----  \n",
            " 0   X0      1000 non-null   float64\n",
            " 1   X1      1000 non-null   float64\n",
            " 2   labels  1000 non-null   int64  \n",
            "dtypes: float64(2), int64(1)\n",
            "memory usage: 23.6 KB\n"
          ]
        }
      ]
    },
    {
      "cell_type": "code",
      "source": [
        "df.head()"
      ],
      "metadata": {
        "colab": {
          "base_uri": "https://localhost:8080/",
          "height": 206
        },
        "id": "URQ4jEThzyQh",
        "outputId": "4a0531f0-dbfc-4ac4-acc7-c99f2c70bc0d"
      },
      "execution_count": null,
      "outputs": [
        {
          "output_type": "execute_result",
          "data": {
            "text/plain": [
              "         X0        X1  labels\n",
              "0  0.008727  0.368174       1\n",
              "1  0.921384 -0.496905       1\n",
              "2  0.940226 -0.498212       1\n",
              "3  0.465875 -0.345406       1\n",
              "4 -0.850412  0.526117       0"
            ],
            "text/html": [
              "\n",
              "  <div id=\"df-12f89893-b526-49e1-9075-61eaea8032ee\">\n",
              "    <div class=\"colab-df-container\">\n",
              "      <div>\n",
              "<style scoped>\n",
              "    .dataframe tbody tr th:only-of-type {\n",
              "        vertical-align: middle;\n",
              "    }\n",
              "\n",
              "    .dataframe tbody tr th {\n",
              "        vertical-align: top;\n",
              "    }\n",
              "\n",
              "    .dataframe thead th {\n",
              "        text-align: right;\n",
              "    }\n",
              "</style>\n",
              "<table border=\"1\" class=\"dataframe\">\n",
              "  <thead>\n",
              "    <tr style=\"text-align: right;\">\n",
              "      <th></th>\n",
              "      <th>X0</th>\n",
              "      <th>X1</th>\n",
              "      <th>labels</th>\n",
              "    </tr>\n",
              "  </thead>\n",
              "  <tbody>\n",
              "    <tr>\n",
              "      <th>0</th>\n",
              "      <td>0.008727</td>\n",
              "      <td>0.368174</td>\n",
              "      <td>1</td>\n",
              "    </tr>\n",
              "    <tr>\n",
              "      <th>1</th>\n",
              "      <td>0.921384</td>\n",
              "      <td>-0.496905</td>\n",
              "      <td>1</td>\n",
              "    </tr>\n",
              "    <tr>\n",
              "      <th>2</th>\n",
              "      <td>0.940226</td>\n",
              "      <td>-0.498212</td>\n",
              "      <td>1</td>\n",
              "    </tr>\n",
              "    <tr>\n",
              "      <th>3</th>\n",
              "      <td>0.465875</td>\n",
              "      <td>-0.345406</td>\n",
              "      <td>1</td>\n",
              "    </tr>\n",
              "    <tr>\n",
              "      <th>4</th>\n",
              "      <td>-0.850412</td>\n",
              "      <td>0.526117</td>\n",
              "      <td>0</td>\n",
              "    </tr>\n",
              "  </tbody>\n",
              "</table>\n",
              "</div>\n",
              "      <button class=\"colab-df-convert\" onclick=\"convertToInteractive('df-12f89893-b526-49e1-9075-61eaea8032ee')\"\n",
              "              title=\"Convert this dataframe to an interactive table.\"\n",
              "              style=\"display:none;\">\n",
              "        \n",
              "  <svg xmlns=\"http://www.w3.org/2000/svg\" height=\"24px\"viewBox=\"0 0 24 24\"\n",
              "       width=\"24px\">\n",
              "    <path d=\"M0 0h24v24H0V0z\" fill=\"none\"/>\n",
              "    <path d=\"M18.56 5.44l.94 2.06.94-2.06 2.06-.94-2.06-.94-.94-2.06-.94 2.06-2.06.94zm-11 1L8.5 8.5l.94-2.06 2.06-.94-2.06-.94L8.5 2.5l-.94 2.06-2.06.94zm10 10l.94 2.06.94-2.06 2.06-.94-2.06-.94-.94-2.06-.94 2.06-2.06.94z\"/><path d=\"M17.41 7.96l-1.37-1.37c-.4-.4-.92-.59-1.43-.59-.52 0-1.04.2-1.43.59L10.3 9.45l-7.72 7.72c-.78.78-.78 2.05 0 2.83L4 21.41c.39.39.9.59 1.41.59.51 0 1.02-.2 1.41-.59l7.78-7.78 2.81-2.81c.8-.78.8-2.07 0-2.86zM5.41 20L4 18.59l7.72-7.72 1.47 1.35L5.41 20z\"/>\n",
              "  </svg>\n",
              "      </button>\n",
              "      \n",
              "  <style>\n",
              "    .colab-df-container {\n",
              "      display:flex;\n",
              "      flex-wrap:wrap;\n",
              "      gap: 12px;\n",
              "    }\n",
              "\n",
              "    .colab-df-convert {\n",
              "      background-color: #E8F0FE;\n",
              "      border: none;\n",
              "      border-radius: 50%;\n",
              "      cursor: pointer;\n",
              "      display: none;\n",
              "      fill: #1967D2;\n",
              "      height: 32px;\n",
              "      padding: 0 0 0 0;\n",
              "      width: 32px;\n",
              "    }\n",
              "\n",
              "    .colab-df-convert:hover {\n",
              "      background-color: #E2EBFA;\n",
              "      box-shadow: 0px 1px 2px rgba(60, 64, 67, 0.3), 0px 1px 3px 1px rgba(60, 64, 67, 0.15);\n",
              "      fill: #174EA6;\n",
              "    }\n",
              "\n",
              "    [theme=dark] .colab-df-convert {\n",
              "      background-color: #3B4455;\n",
              "      fill: #D2E3FC;\n",
              "    }\n",
              "\n",
              "    [theme=dark] .colab-df-convert:hover {\n",
              "      background-color: #434B5C;\n",
              "      box-shadow: 0px 1px 3px 1px rgba(0, 0, 0, 0.15);\n",
              "      filter: drop-shadow(0px 1px 2px rgba(0, 0, 0, 0.3));\n",
              "      fill: #FFFFFF;\n",
              "    }\n",
              "  </style>\n",
              "\n",
              "      <script>\n",
              "        const buttonEl =\n",
              "          document.querySelector('#df-12f89893-b526-49e1-9075-61eaea8032ee button.colab-df-convert');\n",
              "        buttonEl.style.display =\n",
              "          google.colab.kernel.accessAllowed ? 'block' : 'none';\n",
              "\n",
              "        async function convertToInteractive(key) {\n",
              "          const element = document.querySelector('#df-12f89893-b526-49e1-9075-61eaea8032ee');\n",
              "          const dataTable =\n",
              "            await google.colab.kernel.invokeFunction('convertToInteractive',\n",
              "                                                     [key], {});\n",
              "          if (!dataTable) return;\n",
              "\n",
              "          const docLinkHtml = 'Like what you see? Visit the ' +\n",
              "            '<a target=\"_blank\" href=https://colab.research.google.com/notebooks/data_table.ipynb>data table notebook</a>'\n",
              "            + ' to learn more about interactive tables.';\n",
              "          element.innerHTML = '';\n",
              "          dataTable['output_type'] = 'display_data';\n",
              "          await google.colab.output.renderOutput(dataTable, element);\n",
              "          const docLink = document.createElement('div');\n",
              "          docLink.innerHTML = docLinkHtml;\n",
              "          element.appendChild(docLink);\n",
              "        }\n",
              "      </script>\n",
              "    </div>\n",
              "  </div>\n",
              "  "
            ]
          },
          "metadata": {},
          "execution_count": 11
        }
      ]
    },
    {
      "cell_type": "markdown",
      "source": [
        "### Visualizing data"
      ],
      "metadata": {
        "id": "pYXLWtF9yrVb"
      }
    },
    {
      "cell_type": "code",
      "source": [
        "plt.scatter(df[\"X0\"], df[\"X1\"], c=df['labels'])"
      ],
      "metadata": {
        "colab": {
          "base_uri": "https://localhost:8080/",
          "height": 448
        },
        "id": "J36zTMMYzcQ2",
        "outputId": "9e59d744-566b-4a70-e676-519cec85f577"
      },
      "execution_count": null,
      "outputs": [
        {
          "output_type": "execute_result",
          "data": {
            "text/plain": [
              "<matplotlib.collections.PathCollection at 0x7fe9b2ae6ec0>"
            ]
          },
          "metadata": {},
          "execution_count": 12
        },
        {
          "output_type": "display_data",
          "data": {
            "text/plain": [
              "<Figure size 640x480 with 1 Axes>"
            ],
            "image/png": "[encoded data removed]"
          },
          "metadata": {}
        }
      ]
    },
    {
      "cell_type": "markdown",
      "source": [
        "## Modelling"
      ],
      "metadata": {
        "id": "aC6j52VnznOj"
      }
    },
    {
      "cell_type": "code",
      "source": [
        "model_1= tf.keras.Sequential([\n",
        "    tf.keras.layers.Dense(10),\n",
        "    tf.keras.layers.Dense(1)\n",
        "])\n",
        "model_1.compile(loss=['binary_crossentropy'],\n",
        "                optimizer= tf.keras.optimizers.Adam(),\n",
        "                metrics=['accuracy'])\n",
        "model_1.fit(X_train, y_train, epochs=100)"
      ],
      "metadata": {
        "colab": {
          "base_uri": "https://localhost:8080/"
        },
        "id": "2DbVP79O4TjZ",
        "outputId": "e4ee16a0-fefa-4b68-e7d3-d0fc8f16a724"
      },
      "execution_count": null,
      "outputs": [
        {
          "output_type": "stream",
          "name": "stdout",
          "text": [
            "Epoch 1/100\n",
            "25/25 [==============================] - 2s 4ms/step - loss: 1.2311 - accuracy: 0.8450\n",
            "Epoch 2/100\n",
            "25/25 [==============================] - 0s 4ms/step - loss: 1.1169 - accuracy: 0.8512\n",
            "Epoch 3/100\n",
            "25/25 [==============================] - 0s 4ms/step - loss: 1.1007 - accuracy: 0.8500\n",
            "Epoch 4/100\n",
            "25/25 [==============================] - 0s 5ms/step - loss: 1.0913 - accuracy: 0.8550\n",
            "Epoch 5/100\n",
            "25/25 [==============================] - 0s 4ms/step - loss: 1.0585 - accuracy: 0.8575\n",
            "Epoch 6/100\n",
            "25/25 [==============================] - 0s 7ms/step - loss: 1.0074 - accuracy: 0.8562\n",
            "Epoch 7/100\n",
            "25/25 [==============================] - 0s 7ms/step - loss: 0.9431 - accuracy: 0.8587\n",
            "Epoch 8/100\n",
            "25/25 [==============================] - 0s 4ms/step - loss: 0.8629 - accuracy: 0.8487\n",
            "Epoch 9/100\n",
            "25/25 [==============================] - 0s 10ms/step - loss: 0.8337 - accuracy: 0.8487\n",
            "Epoch 10/100\n",
            "25/25 [==============================] - 0s 5ms/step - loss: 0.8286 - accuracy: 0.8487\n",
            "Epoch 11/100\n",
            "25/25 [==============================] - 0s 5ms/step - loss: 0.8244 - accuracy: 0.8512\n",
            "Epoch 12/100\n",
            "25/25 [==============================] - 0s 6ms/step - loss: 0.8208 - accuracy: 0.8512\n",
            "Epoch 13/100\n",
            "25/25 [==============================] - 0s 4ms/step - loss: 0.8176 - accuracy: 0.8537\n",
            "Epoch 14/100\n",
            "25/25 [==============================] - 0s 4ms/step - loss: 0.8039 - accuracy: 0.8537\n",
            "Epoch 15/100\n",
            "25/25 [==============================] - 0s 4ms/step - loss: 0.7985 - accuracy: 0.8537\n",
            "Epoch 16/100\n",
            "25/25 [==============================] - 0s 8ms/step - loss: 0.7845 - accuracy: 0.8550\n",
            "Epoch 17/100\n",
            "25/25 [==============================] - 0s 7ms/step - loss: 0.7802 - accuracy: 0.8550\n",
            "Epoch 18/100\n",
            "25/25 [==============================] - 0s 7ms/step - loss: 0.7778 - accuracy: 0.8562\n",
            "Epoch 19/100\n",
            "25/25 [==============================] - 0s 8ms/step - loss: 0.7642 - accuracy: 0.8575\n",
            "Epoch 20/100\n",
            "25/25 [==============================] - 0s 10ms/step - loss: 0.7609 - accuracy: 0.8587\n",
            "Epoch 21/100\n",
            "25/25 [==============================] - 0s 11ms/step - loss: 0.7366 - accuracy: 0.8600\n",
            "Epoch 22/100\n",
            "25/25 [==============================] - 0s 9ms/step - loss: 0.7000 - accuracy: 0.8575\n",
            "Epoch 23/100\n",
            "25/25 [==============================] - 0s 15ms/step - loss: 0.6790 - accuracy: 0.8575\n",
            "Epoch 24/100\n",
            "25/25 [==============================] - 0s 9ms/step - loss: 0.6647 - accuracy: 0.8575\n",
            "Epoch 25/100\n",
            "25/25 [==============================] - 0s 8ms/step - loss: 0.6470 - accuracy: 0.8587\n",
            "Epoch 26/100\n",
            "25/25 [==============================] - 0s 7ms/step - loss: 0.6286 - accuracy: 0.8587\n",
            "Epoch 27/100\n",
            "25/25 [==============================] - 0s 8ms/step - loss: 0.6126 - accuracy: 0.8600\n",
            "Epoch 28/100\n",
            "25/25 [==============================] - 0s 9ms/step - loss: 0.5903 - accuracy: 0.8600\n",
            "Epoch 29/100\n",
            "25/25 [==============================] - 0s 6ms/step - loss: 0.5636 - accuracy: 0.8612\n",
            "Epoch 30/100\n",
            "25/25 [==============================] - 0s 6ms/step - loss: 0.5369 - accuracy: 0.8600\n",
            "Epoch 31/100\n",
            "25/25 [==============================] - 0s 6ms/step - loss: 0.5216 - accuracy: 0.8600\n",
            "Epoch 32/100\n",
            "25/25 [==============================] - 0s 6ms/step - loss: 0.5056 - accuracy: 0.8612\n",
            "Epoch 33/100\n",
            "25/25 [==============================] - 0s 5ms/step - loss: 0.4903 - accuracy: 0.8612\n",
            "Epoch 34/100\n",
            "25/25 [==============================] - 0s 6ms/step - loss: 0.4719 - accuracy: 0.8625\n",
            "Epoch 35/100\n",
            "25/25 [==============================] - 0s 6ms/step - loss: 0.4550 - accuracy: 0.8625\n",
            "Epoch 36/100\n",
            "25/25 [==============================] - 0s 10ms/step - loss: 0.4257 - accuracy: 0.8625\n",
            "Epoch 37/100\n",
            "25/25 [==============================] - 0s 10ms/step - loss: 0.3915 - accuracy: 0.8625\n",
            "Epoch 38/100\n",
            "25/25 [==============================] - 0s 11ms/step - loss: 0.3845 - accuracy: 0.8637\n",
            "Epoch 39/100\n",
            "25/25 [==============================] - 0s 10ms/step - loss: 0.3685 - accuracy: 0.8637\n",
            "Epoch 40/100\n",
            "25/25 [==============================] - 0s 8ms/step - loss: 0.3521 - accuracy: 0.8625\n",
            "Epoch 41/100\n",
            "25/25 [==============================] - 0s 4ms/step - loss: 0.3156 - accuracy: 0.8637\n",
            "Epoch 42/100\n",
            "25/25 [==============================] - 0s 6ms/step - loss: 0.2989 - accuracy: 0.8650\n",
            "Epoch 43/100\n",
            "25/25 [==============================] - 0s 4ms/step - loss: 0.2686 - accuracy: 0.8637\n",
            "Epoch 44/100\n",
            "25/25 [==============================] - 0s 3ms/step - loss: 0.2601 - accuracy: 0.8650\n",
            "Epoch 45/100\n",
            "25/25 [==============================] - 0s 2ms/step - loss: 0.2571 - accuracy: 0.8650\n",
            "Epoch 46/100\n",
            "25/25 [==============================] - 0s 2ms/step - loss: 0.2553 - accuracy: 0.8662\n",
            "Epoch 47/100\n",
            "25/25 [==============================] - 0s 2ms/step - loss: 0.2535 - accuracy: 0.8662\n",
            "Epoch 48/100\n",
            "25/25 [==============================] - 0s 2ms/step - loss: 0.2520 - accuracy: 0.8675\n",
            "Epoch 49/100\n",
            "25/25 [==============================] - 0s 2ms/step - loss: 0.2508 - accuracy: 0.8675\n",
            "Epoch 50/100\n",
            "25/25 [==============================] - 0s 2ms/step - loss: 0.2496 - accuracy: 0.8675\n",
            "Epoch 51/100\n",
            "25/25 [==============================] - 0s 2ms/step - loss: 0.2485 - accuracy: 0.8687\n",
            "Epoch 52/100\n",
            "25/25 [==============================] - 0s 2ms/step - loss: 0.2475 - accuracy: 0.8675\n",
            "Epoch 53/100\n",
            "25/25 [==============================] - 0s 2ms/step - loss: 0.2465 - accuracy: 0.8675\n",
            "Epoch 54/100\n",
            "25/25 [==============================] - 0s 2ms/step - loss: 0.2456 - accuracy: 0.8687\n",
            "Epoch 55/100\n",
            "25/25 [==============================] - 0s 2ms/step - loss: 0.2447 - accuracy: 0.8687\n",
            "Epoch 56/100\n",
            "25/25 [==============================] - 0s 2ms/step - loss: 0.2440 - accuracy: 0.8687\n",
            "Epoch 57/100\n",
            "25/25 [==============================] - 0s 2ms/step - loss: 0.2430 - accuracy: 0.8700\n",
            "Epoch 58/100\n",
            "25/25 [==============================] - 0s 2ms/step - loss: 0.2423 - accuracy: 0.8700\n",
            "Epoch 59/100\n",
            "25/25 [==============================] - 0s 2ms/step - loss: 0.2416 - accuracy: 0.8712\n",
            "Epoch 60/100\n",
            "25/25 [==============================] - 0s 2ms/step - loss: 0.2409 - accuracy: 0.8700\n",
            "Epoch 61/100\n",
            "25/25 [==============================] - 0s 2ms/step - loss: 0.2401 - accuracy: 0.8700\n",
            "Epoch 62/100\n",
            "25/25 [==============================] - 0s 2ms/step - loss: 0.2395 - accuracy: 0.8725\n",
            "Epoch 63/100\n",
            "25/25 [==============================] - 0s 2ms/step - loss: 0.2388 - accuracy: 0.8712\n",
            "Epoch 64/100\n",
            "25/25 [==============================] - 0s 2ms/step - loss: 0.2382 - accuracy: 0.8725\n",
            "Epoch 65/100\n",
            "25/25 [==============================] - 0s 2ms/step - loss: 0.2376 - accuracy: 0.8725\n",
            "Epoch 66/100\n",
            "25/25 [==============================] - 0s 2ms/step - loss: 0.2370 - accuracy: 0.8737\n",
            "Epoch 67/100\n",
            "25/25 [==============================] - 0s 2ms/step - loss: 0.2365 - accuracy: 0.8725\n",
            "Epoch 68/100\n",
            "25/25 [==============================] - 0s 2ms/step - loss: 0.2359 - accuracy: 0.8737\n",
            "Epoch 69/100\n",
            "25/25 [==============================] - 0s 2ms/step - loss: 0.2353 - accuracy: 0.8737\n",
            "Epoch 70/100\n",
            "25/25 [==============================] - 0s 2ms/step - loss: 0.2347 - accuracy: 0.8737\n",
            "Epoch 71/100\n",
            "25/25 [==============================] - 0s 2ms/step - loss: 0.2343 - accuracy: 0.8750\n",
            "Epoch 72/100\n",
            "25/25 [==============================] - 0s 2ms/step - loss: 0.2337 - accuracy: 0.8737\n",
            "Epoch 73/100\n",
            "25/25 [==============================] - 0s 2ms/step - loss: 0.2331 - accuracy: 0.8737\n",
            "Epoch 74/100\n",
            "25/25 [==============================] - 0s 2ms/step - loss: 0.2326 - accuracy: 0.8750\n",
            "Epoch 75/100\n",
            "25/25 [==============================] - 0s 2ms/step - loss: 0.2322 - accuracy: 0.8737\n",
            "Epoch 76/100\n",
            "25/25 [==============================] - 0s 2ms/step - loss: 0.2316 - accuracy: 0.8750\n",
            "Epoch 77/100\n",
            "25/25 [==============================] - 0s 2ms/step - loss: 0.2312 - accuracy: 0.8763\n",
            "Epoch 78/100\n",
            "25/25 [==============================] - 0s 2ms/step - loss: 0.2307 - accuracy: 0.8763\n",
            "Epoch 79/100\n",
            "25/25 [==============================] - 0s 2ms/step - loss: 0.2302 - accuracy: 0.8763\n",
            "Epoch 80/100\n",
            "25/25 [==============================] - 0s 2ms/step - loss: 0.2299 - accuracy: 0.8750\n",
            "Epoch 81/100\n",
            "25/25 [==============================] - 0s 2ms/step - loss: 0.2293 - accuracy: 0.8763\n",
            "Epoch 82/100\n",
            "25/25 [==============================] - 0s 2ms/step - loss: 0.2289 - accuracy: 0.8750\n",
            "Epoch 83/100\n",
            "25/25 [==============================] - 0s 2ms/step - loss: 0.2284 - accuracy: 0.8763\n",
            "Epoch 84/100\n",
            "25/25 [==============================] - 0s 2ms/step - loss: 0.2280 - accuracy: 0.8763\n",
            "Epoch 85/100\n",
            "25/25 [==============================] - 0s 2ms/step - loss: 0.2276 - accuracy: 0.8775\n",
            "Epoch 86/100\n",
            "25/25 [==============================] - 0s 2ms/step - loss: 0.2274 - accuracy: 0.8775\n",
            "Epoch 87/100\n",
            "25/25 [==============================] - 0s 2ms/step - loss: 0.2268 - accuracy: 0.8763\n",
            "Epoch 88/100\n",
            "25/25 [==============================] - 0s 2ms/step - loss: 0.2265 - accuracy: 0.8788\n",
            "Epoch 89/100\n",
            "25/25 [==============================] - 0s 2ms/step - loss: 0.2261 - accuracy: 0.8775\n",
            "Epoch 90/100\n",
            "25/25 [==============================] - 0s 2ms/step - loss: 0.2258 - accuracy: 0.8788\n",
            "Epoch 91/100\n",
            "25/25 [==============================] - 0s 2ms/step - loss: 0.2254 - accuracy: 0.8788\n",
            "Epoch 92/100\n",
            "25/25 [==============================] - 0s 2ms/step - loss: 0.2250 - accuracy: 0.8788\n",
            "Epoch 93/100\n",
            "25/25 [==============================] - 0s 2ms/step - loss: 0.2246 - accuracy: 0.8800\n",
            "Epoch 94/100\n",
            "25/25 [==============================] - 0s 2ms/step - loss: 0.2243 - accuracy: 0.8813\n",
            "Epoch 95/100\n",
            "25/25 [==============================] - 0s 2ms/step - loss: 0.2241 - accuracy: 0.8800\n",
            "Epoch 96/100\n",
            "25/25 [==============================] - 0s 2ms/step - loss: 0.2238 - accuracy: 0.8813\n",
            "Epoch 97/100\n",
            "25/25 [==============================] - 0s 2ms/step - loss: 0.2235 - accuracy: 0.8825\n",
            "Epoch 98/100\n",
            "25/25 [==============================] - 0s 3ms/step - loss: 0.2231 - accuracy: 0.8825\n",
            "Epoch 99/100\n",
            "25/25 [==============================] - 0s 2ms/step - loss: 0.2228 - accuracy: 0.8825\n",
            "Epoch 100/100\n",
            "25/25 [==============================] - 0s 2ms/step - loss: 0.2226 - accuracy: 0.8825\n"
          ]
        },
        {
          "output_type": "execute_result",
          "data": {
            "text/plain": [
              "<keras.callbacks.History at 0x7fe9b08619f0>"
            ]
          },
          "metadata": {},
          "execution_count": 13
        }
      ]
    },
    {
      "cell_type": "code",
      "source": [
        "model_1.evaluate(X_test, y_test)"
      ],
      "metadata": {
        "colab": {
          "base_uri": "https://localhost:8080/"
        },
        "id": "BkeM7GjP7tH-",
        "outputId": "34d24ac1-07a3-405c-8902-8a16a94232fd"
      },
      "execution_count": null,
      "outputs": [
        {
          "output_type": "stream",
          "name": "stdout",
          "text": [
            "7/7 [==============================] - 0s 3ms/step - loss: 0.2500 - accuracy: 0.8450\n"
          ]
        },
        {
          "output_type": "execute_result",
          "data": {
            "text/plain": [
              "[0.25002148747444153, 0.8450000286102295]"
            ]
          },
          "metadata": {},
          "execution_count": 14
        }
      ]
    },
    {
      "cell_type": "code",
      "source": [
        "model_2= tf.keras.Sequential([\n",
        "    tf.keras.layers.Dense(100, activation='relu'),\n",
        "    tf.keras.layers.Dense(1, activation='sigmoid')\n",
        "])\n",
        "model_2.compile(loss='binary_crossentropy',\n",
        "                optimizer=tf.keras.optimizers.Adam(),\n",
        "                metrics=['accuracy'])\n",
        "model_2.fit(X_train, y_train, epochs=100)"
      ],
      "metadata": {
        "colab": {
          "base_uri": "https://localhost:8080/"
        },
        "id": "N0di181p71IL",
        "outputId": "d7f34d13-6f0a-401c-e87c-88c4ac890161"
      },
      "execution_count": null,
      "outputs": [
        {
          "output_type": "stream",
          "name": "stdout",
          "text": [
            "Epoch 1/100\n",
            "25/25 [==============================] - 1s 3ms/step - loss: 0.6352 - accuracy: 0.7750\n",
            "Epoch 2/100\n",
            "25/25 [==============================] - 0s 2ms/step - loss: 0.5247 - accuracy: 0.8325\n",
            "Epoch 3/100\n",
            "25/25 [==============================] - 0s 2ms/step - loss: 0.4467 - accuracy: 0.8325\n",
            "Epoch 4/100\n",
            "25/25 [==============================] - 0s 2ms/step - loss: 0.3896 - accuracy: 0.8388\n",
            "Epoch 5/100\n",
            "25/25 [==============================] - 0s 3ms/step - loss: 0.3506 - accuracy: 0.8425\n",
            "Epoch 6/100\n",
            "25/25 [==============================] - 0s 2ms/step - loss: 0.3223 - accuracy: 0.8500\n",
            "Epoch 7/100\n",
            "25/25 [==============================] - 0s 2ms/step - loss: 0.3015 - accuracy: 0.8612\n",
            "Epoch 8/100\n",
            "25/25 [==============================] - 0s 2ms/step - loss: 0.2850 - accuracy: 0.8687\n",
            "Epoch 9/100\n",
            "25/25 [==============================] - 0s 2ms/step - loss: 0.2714 - accuracy: 0.8763\n",
            "Epoch 10/100\n",
            "25/25 [==============================] - 0s 2ms/step - loss: 0.2602 - accuracy: 0.8775\n",
            "Epoch 11/100\n",
            "25/25 [==============================] - 0s 3ms/step - loss: 0.2509 - accuracy: 0.8800\n",
            "Epoch 12/100\n",
            "25/25 [==============================] - 0s 2ms/step - loss: 0.2421 - accuracy: 0.8838\n",
            "Epoch 13/100\n",
            "25/25 [==============================] - 0s 2ms/step - loss: 0.2353 - accuracy: 0.8888\n",
            "Epoch 14/100\n",
            "25/25 [==============================] - 0s 2ms/step - loss: 0.2292 - accuracy: 0.8900\n",
            "Epoch 15/100\n",
            "25/25 [==============================] - 0s 2ms/step - loss: 0.2240 - accuracy: 0.8938\n",
            "Epoch 16/100\n",
            "25/25 [==============================] - 0s 2ms/step - loss: 0.2202 - accuracy: 0.8938\n",
            "Epoch 17/100\n",
            "25/25 [==============================] - 0s 2ms/step - loss: 0.2161 - accuracy: 0.8963\n",
            "Epoch 18/100\n",
            "25/25 [==============================] - 0s 2ms/step - loss: 0.2134 - accuracy: 0.8975\n",
            "Epoch 19/100\n",
            "25/25 [==============================] - 0s 2ms/step - loss: 0.2103 - accuracy: 0.8988\n",
            "Epoch 20/100\n",
            "25/25 [==============================] - 0s 2ms/step - loss: 0.2074 - accuracy: 0.8975\n",
            "Epoch 21/100\n",
            "25/25 [==============================] - 0s 3ms/step - loss: 0.2054 - accuracy: 0.8963\n",
            "Epoch 22/100\n",
            "25/25 [==============================] - 0s 2ms/step - loss: 0.2030 - accuracy: 0.9000\n",
            "Epoch 23/100\n",
            "25/25 [==============================] - 0s 2ms/step - loss: 0.2011 - accuracy: 0.9025\n",
            "Epoch 24/100\n",
            "25/25 [==============================] - 0s 2ms/step - loss: 0.1989 - accuracy: 0.9000\n",
            "Epoch 25/100\n",
            "25/25 [==============================] - 0s 2ms/step - loss: 0.1981 - accuracy: 0.9000\n",
            "Epoch 26/100\n",
            "25/25 [==============================] - 0s 3ms/step - loss: 0.1954 - accuracy: 0.9038\n",
            "Epoch 27/100\n",
            "25/25 [==============================] - 0s 3ms/step - loss: 0.1935 - accuracy: 0.9050\n",
            "Epoch 28/100\n",
            "25/25 [==============================] - 0s 3ms/step - loss: 0.1921 - accuracy: 0.9038\n",
            "Epoch 29/100\n",
            "25/25 [==============================] - 0s 3ms/step - loss: 0.1901 - accuracy: 0.9075\n",
            "Epoch 30/100\n",
            "25/25 [==============================] - 0s 2ms/step - loss: 0.1886 - accuracy: 0.9038\n",
            "Epoch 31/100\n",
            "25/25 [==============================] - 0s 2ms/step - loss: 0.1869 - accuracy: 0.9062\n",
            "Epoch 32/100\n",
            "25/25 [==============================] - 0s 2ms/step - loss: 0.1853 - accuracy: 0.9087\n",
            "Epoch 33/100\n",
            "25/25 [==============================] - 0s 2ms/step - loss: 0.1839 - accuracy: 0.9112\n",
            "Epoch 34/100\n",
            "25/25 [==============================] - 0s 2ms/step - loss: 0.1824 - accuracy: 0.9100\n",
            "Epoch 35/100\n",
            "25/25 [==============================] - 0s 2ms/step - loss: 0.1808 - accuracy: 0.9100\n",
            "Epoch 36/100\n",
            "25/25 [==============================] - 0s 2ms/step - loss: 0.1789 - accuracy: 0.9162\n",
            "Epoch 37/100\n",
            "25/25 [==============================] - 0s 3ms/step - loss: 0.1773 - accuracy: 0.9137\n",
            "Epoch 38/100\n",
            "25/25 [==============================] - 0s 3ms/step - loss: 0.1757 - accuracy: 0.9137\n",
            "Epoch 39/100\n",
            "25/25 [==============================] - 0s 3ms/step - loss: 0.1745 - accuracy: 0.9150\n",
            "Epoch 40/100\n",
            "25/25 [==============================] - 0s 2ms/step - loss: 0.1726 - accuracy: 0.9175\n",
            "Epoch 41/100\n",
            "25/25 [==============================] - 0s 2ms/step - loss: 0.1709 - accuracy: 0.9200\n",
            "Epoch 42/100\n",
            "25/25 [==============================] - 0s 3ms/step - loss: 0.1689 - accuracy: 0.9175\n",
            "Epoch 43/100\n",
            "25/25 [==============================] - 0s 3ms/step - loss: 0.1670 - accuracy: 0.9212\n",
            "Epoch 44/100\n",
            "25/25 [==============================] - 0s 2ms/step - loss: 0.1669 - accuracy: 0.9225\n",
            "Epoch 45/100\n",
            "25/25 [==============================] - 0s 3ms/step - loss: 0.1635 - accuracy: 0.9250\n",
            "Epoch 46/100\n",
            "25/25 [==============================] - 0s 2ms/step - loss: 0.1621 - accuracy: 0.9200\n",
            "Epoch 47/100\n",
            "25/25 [==============================] - 0s 3ms/step - loss: 0.1603 - accuracy: 0.9287\n",
            "Epoch 48/100\n",
            "25/25 [==============================] - 0s 2ms/step - loss: 0.1583 - accuracy: 0.9237\n",
            "Epoch 49/100\n",
            "25/25 [==============================] - 0s 2ms/step - loss: 0.1564 - accuracy: 0.9300\n",
            "Epoch 50/100\n",
            "25/25 [==============================] - 0s 2ms/step - loss: 0.1542 - accuracy: 0.9312\n",
            "Epoch 51/100\n",
            "25/25 [==============================] - 0s 2ms/step - loss: 0.1530 - accuracy: 0.9250\n",
            "Epoch 52/100\n",
            "25/25 [==============================] - 0s 3ms/step - loss: 0.1509 - accuracy: 0.9312\n",
            "Epoch 53/100\n",
            "25/25 [==============================] - 0s 2ms/step - loss: 0.1488 - accuracy: 0.9325\n",
            "Epoch 54/100\n",
            "25/25 [==============================] - 0s 2ms/step - loss: 0.1469 - accuracy: 0.9350\n",
            "Epoch 55/100\n",
            "25/25 [==============================] - 0s 4ms/step - loss: 0.1449 - accuracy: 0.9362\n",
            "Epoch 56/100\n",
            "25/25 [==============================] - 0s 3ms/step - loss: 0.1432 - accuracy: 0.9375\n",
            "Epoch 57/100\n",
            "25/25 [==============================] - 0s 3ms/step - loss: 0.1410 - accuracy: 0.9400\n",
            "Epoch 58/100\n",
            "25/25 [==============================] - 0s 2ms/step - loss: 0.1390 - accuracy: 0.9362\n",
            "Epoch 59/100\n",
            "25/25 [==============================] - 0s 2ms/step - loss: 0.1372 - accuracy: 0.9413\n",
            "Epoch 60/100\n",
            "25/25 [==============================] - 0s 2ms/step - loss: 0.1353 - accuracy: 0.9425\n",
            "Epoch 61/100\n",
            "25/25 [==============================] - 0s 2ms/step - loss: 0.1338 - accuracy: 0.9463\n",
            "Epoch 62/100\n",
            "25/25 [==============================] - 0s 2ms/step - loss: 0.1308 - accuracy: 0.9475\n",
            "Epoch 63/100\n",
            "25/25 [==============================] - 0s 3ms/step - loss: 0.1292 - accuracy: 0.9500\n",
            "Epoch 64/100\n",
            "25/25 [==============================] - 0s 3ms/step - loss: 0.1276 - accuracy: 0.9475\n",
            "Epoch 65/100\n",
            "25/25 [==============================] - 0s 2ms/step - loss: 0.1252 - accuracy: 0.9525\n",
            "Epoch 66/100\n",
            "25/25 [==============================] - 0s 2ms/step - loss: 0.1245 - accuracy: 0.9513\n",
            "Epoch 67/100\n",
            "25/25 [==============================] - 0s 2ms/step - loss: 0.1214 - accuracy: 0.9538\n",
            "Epoch 68/100\n",
            "25/25 [==============================] - 0s 2ms/step - loss: 0.1198 - accuracy: 0.9550\n",
            "Epoch 69/100\n",
            "25/25 [==============================] - 0s 2ms/step - loss: 0.1175 - accuracy: 0.9538\n",
            "Epoch 70/100\n",
            "25/25 [==============================] - 0s 3ms/step - loss: 0.1166 - accuracy: 0.9550\n",
            "Epoch 71/100\n",
            "25/25 [==============================] - 0s 2ms/step - loss: 0.1144 - accuracy: 0.9575\n",
            "Epoch 72/100\n",
            "25/25 [==============================] - 0s 2ms/step - loss: 0.1120 - accuracy: 0.9588\n",
            "Epoch 73/100\n",
            "25/25 [==============================] - 0s 3ms/step - loss: 0.1108 - accuracy: 0.9588\n",
            "Epoch 74/100\n",
            "25/25 [==============================] - 0s 2ms/step - loss: 0.1083 - accuracy: 0.9613\n",
            "Epoch 75/100\n",
            "25/25 [==============================] - 0s 2ms/step - loss: 0.1063 - accuracy: 0.9613\n",
            "Epoch 76/100\n",
            "25/25 [==============================] - 0s 2ms/step - loss: 0.1043 - accuracy: 0.9625\n",
            "Epoch 77/100\n",
            "25/25 [==============================] - 0s 2ms/step - loss: 0.1028 - accuracy: 0.9638\n",
            "Epoch 78/100\n",
            "25/25 [==============================] - 0s 2ms/step - loss: 0.1007 - accuracy: 0.9638\n",
            "Epoch 79/100\n",
            "25/25 [==============================] - 0s 2ms/step - loss: 0.0990 - accuracy: 0.9663\n",
            "Epoch 80/100\n",
            "25/25 [==============================] - 0s 2ms/step - loss: 0.0969 - accuracy: 0.9675\n",
            "Epoch 81/100\n",
            "25/25 [==============================] - 0s 2ms/step - loss: 0.0953 - accuracy: 0.9675\n",
            "Epoch 82/100\n",
            "25/25 [==============================] - 0s 2ms/step - loss: 0.0934 - accuracy: 0.9688\n",
            "Epoch 83/100\n",
            "25/25 [==============================] - 0s 2ms/step - loss: 0.0917 - accuracy: 0.9712\n",
            "Epoch 84/100\n",
            "25/25 [==============================] - 0s 2ms/step - loss: 0.0899 - accuracy: 0.9725\n",
            "Epoch 85/100\n",
            "25/25 [==============================] - 0s 2ms/step - loss: 0.0889 - accuracy: 0.9737\n",
            "Epoch 86/100\n",
            "25/25 [==============================] - 0s 2ms/step - loss: 0.0866 - accuracy: 0.9750\n",
            "Epoch 87/100\n",
            "25/25 [==============================] - 0s 2ms/step - loss: 0.0849 - accuracy: 0.9750\n",
            "Epoch 88/100\n",
            "25/25 [==============================] - 0s 2ms/step - loss: 0.0831 - accuracy: 0.9762\n",
            "Epoch 89/100\n",
            "25/25 [==============================] - 0s 2ms/step - loss: 0.0818 - accuracy: 0.9750\n",
            "Epoch 90/100\n",
            "25/25 [==============================] - 0s 2ms/step - loss: 0.0801 - accuracy: 0.9775\n",
            "Epoch 91/100\n",
            "25/25 [==============================] - 0s 2ms/step - loss: 0.0785 - accuracy: 0.9775\n",
            "Epoch 92/100\n",
            "25/25 [==============================] - 0s 2ms/step - loss: 0.0767 - accuracy: 0.9787\n",
            "Epoch 93/100\n",
            "25/25 [==============================] - 0s 2ms/step - loss: 0.0752 - accuracy: 0.9812\n",
            "Epoch 94/100\n",
            "25/25 [==============================] - 0s 2ms/step - loss: 0.0737 - accuracy: 0.9812\n",
            "Epoch 95/100\n",
            "25/25 [==============================] - 0s 2ms/step - loss: 0.0726 - accuracy: 0.9837\n",
            "Epoch 96/100\n",
            "25/25 [==============================] - 0s 2ms/step - loss: 0.0711 - accuracy: 0.9850\n",
            "Epoch 97/100\n",
            "25/25 [==============================] - 0s 2ms/step - loss: 0.0699 - accuracy: 0.9850\n",
            "Epoch 98/100\n",
            "25/25 [==============================] - 0s 2ms/step - loss: 0.0678 - accuracy: 0.9862\n",
            "Epoch 99/100\n",
            "25/25 [==============================] - 0s 2ms/step - loss: 0.0664 - accuracy: 0.9862\n",
            "Epoch 100/100\n",
            "25/25 [==============================] - 0s 2ms/step - loss: 0.0652 - accuracy: 0.9862\n"
          ]
        },
        {
          "output_type": "execute_result",
          "data": {
            "text/plain": [
              "<keras.callbacks.History at 0x7fe9b0917c40>"
            ]
          },
          "metadata": {},
          "execution_count": 15
        }
      ]
    },
    {
      "cell_type": "code",
      "source": [
        "model_2.evaluate(X_test, y_test)"
      ],
      "metadata": {
        "colab": {
          "base_uri": "https://localhost:8080/"
        },
        "id": "2grCUIKi8bfQ",
        "outputId": "9427b9ed-e0fa-46af-bb9d-8d6f2569b544"
      },
      "execution_count": null,
      "outputs": [
        {
          "output_type": "stream",
          "name": "stdout",
          "text": [
            "7/7 [==============================] - 0s 5ms/step - loss: 0.0702 - accuracy: 0.9850\n"
          ]
        },
        {
          "output_type": "execute_result",
          "data": {
            "text/plain": [
              "[0.07024848461151123, 0.9850000143051147]"
            ]
          },
          "metadata": {},
          "execution_count": 16
        }
      ]
    },
    {
      "cell_type": "code",
      "source": [
        "def plot_decision_boundary(model, X, y):\n",
        "    # Set min and max values and give it some padding\n",
        "    x_min, x_max = X[:, 0].min() - 1, X[:, 0].max() + 1\n",
        "    y_min, y_max = X[:, 1].min() - 1, X[:, 1].max() + 1\n",
        "    h = 0.01  # step size in the mesh\n",
        "\n",
        "    # Generate a grid of points with distance h between them\n",
        "    xx, yy = np.meshgrid(np.arange(x_min, x_max, h), np.arange(y_min, y_max, h))\n",
        "\n",
        "    # Predict the value for each grid point\n",
        "    Z = model.predict(np.c_[xx.ravel(), yy.ravel()])\n",
        "\n",
        "    # Reshape the predictions to match the grid shape\n",
        "    Z = Z.reshape(xx.shape)\n",
        "\n",
        "    # Plot the decision boundary and the training examples\n",
        "    plt.contourf(xx, yy, Z, alpha=0.8)\n",
        "    plt.scatter(X[:, 0], X[:, 1], c=y, edgecolors='k')\n",
        "    plt.xlabel('Purple')\n",
        "    plt.ylabel('Yellow')\n",
        "    plt.title('Decision Boundary')\n",
        "    plt.show()\n"
      ],
      "metadata": {
        "id": "PtLWKp0W8fPc"
      },
      "execution_count": null,
      "outputs": []
    },
    {
      "cell_type": "code",
      "source": [
        "plot_decision_boundary(model_2, X_test, y_test)"
      ],
      "metadata": {
        "colab": {
          "base_uri": "https://localhost:8080/",
          "height": 490
        },
        "id": "arWKp-8d9XlK",
        "outputId": "41e3233a-d6b5-40d2-b0aa-7c087f1be8c3"
      },
      "execution_count": null,
      "outputs": [
        {
          "output_type": "stream",
          "name": "stdout",
          "text": [
            "5469/5469 [==============================] - 9s 2ms/step\n"
          ]
        },
        {
          "output_type": "display_data",
          "data": {
            "text/plain": [
              "<Figure size 640x480 with 1 Axes>"
            ],
            "image/png": "[encoded data removed]"
          },
          "metadata": {}
        }
      ]
    },
    {
      "cell_type": "markdown",
      "source": [
        "## 05. Train a model for `Fashion_mnist()`"
      ],
      "metadata": {
        "id": "B0x2xTG29csq"
      }
    },
    {
      "cell_type": "code",
      "source": [
        "#Getting data ready\n",
        "from tensorflow.keras.datasets import fashion_mnist"
      ],
      "metadata": {
        "id": "pQ_-yfF2EF4y"
      },
      "execution_count": null,
      "outputs": []
    },
    {
      "cell_type": "code",
      "source": [
        "import matplotlib.pyplot as plt\n",
        "import numpy as np\n",
        "import pandas as pd"
      ],
      "metadata": {
        "id": "DF2PYmNAFDwF"
      },
      "execution_count": null,
      "outputs": []
    },
    {
      "cell_type": "code",
      "source": [
        "(X_train, y_train), (X_test, y_test)=fashion_mnist.load_data()"
      ],
      "metadata": {
        "id": "5YSKpZZ1FOGo"
      },
      "execution_count": null,
      "outputs": []
    },
    {
      "cell_type": "markdown",
      "source": [
        "### EDA"
      ],
      "metadata": {
        "id": "3XmZ2ZXbGM1m"
      }
    },
    {
      "cell_type": "code",
      "source": [
        "X_train.shape, y_train.shape"
      ],
      "metadata": {
        "colab": {
          "base_uri": "https://localhost:8080/"
        },
        "id": "NGgZBV0TFz6v",
        "outputId": "b7c74d8b-ad5a-491f-d8c6-c6d021dd113c"
      },
      "execution_count": null,
      "outputs": [
        {
          "output_type": "execute_result",
          "data": {
            "text/plain": [
              "((60000, 28, 28), (60000,))"
            ]
          },
          "metadata": {},
          "execution_count": 22
        }
      ]
    },
    {
      "cell_type": "code",
      "source": [
        "X_test.shape, y_test.shape"
      ],
      "metadata": {
        "colab": {
          "base_uri": "https://localhost:8080/"
        },
        "id": "_fezEW-RF8sT",
        "outputId": "3105760e-39b9-4428-862e-f63fb987ddfc"
      },
      "execution_count": null,
      "outputs": [
        {
          "output_type": "execute_result",
          "data": {
            "text/plain": [
              "((10000, 28, 28), (10000,))"
            ]
          },
          "metadata": {},
          "execution_count": 23
        }
      ]
    },
    {
      "cell_type": "code",
      "source": [
        "X_train.max()"
      ],
      "metadata": {
        "colab": {
          "base_uri": "https://localhost:8080/"
        },
        "id": "vAKdQUeKGEPp",
        "outputId": "c588abbb-0e28-4621-8e51-8abb22a4d38f"
      },
      "execution_count": null,
      "outputs": [
        {
          "output_type": "execute_result",
          "data": {
            "text/plain": [
              "255"
            ]
          },
          "metadata": {},
          "execution_count": 24
        }
      ]
    },
    {
      "cell_type": "code",
      "source": [
        "labels=['T-shirt/top',\n",
        "'Trouser',\n",
        "'Pullover',\n",
        "'Dress',\n",
        "'Coat',\n",
        "'Sandal',\n",
        "'Shirt',\n",
        "'Sneaker',\n",
        "'Bag',\n",
        "'Ankle boot']\n",
        "len(labels)"
      ],
      "metadata": {
        "colab": {
          "base_uri": "https://localhost:8080/"
        },
        "id": "i6NWj4wsGRGf",
        "outputId": "dd916f30-50a5-48d5-a2d5-e45e2cbd797c"
      },
      "execution_count": null,
      "outputs": [
        {
          "output_type": "execute_result",
          "data": {
            "text/plain": [
              "10"
            ]
          },
          "metadata": {},
          "execution_count": 25
        }
      ]
    },
    {
      "cell_type": "code",
      "source": [
        "y_train[0]"
      ],
      "metadata": {
        "colab": {
          "base_uri": "https://localhost:8080/"
        },
        "id": "qjuURbcdG4W4",
        "outputId": "9ead0a6d-4864-4bf1-fbb2-0e51cf349083"
      },
      "execution_count": null,
      "outputs": [
        {
          "output_type": "execute_result",
          "data": {
            "text/plain": [
              "9"
            ]
          },
          "metadata": {},
          "execution_count": 26
        }
      ]
    },
    {
      "cell_type": "code",
      "source": [
        "# Normalizing the data\n",
        "X_train_norm= X_train/255"
      ],
      "metadata": {
        "id": "lpQkD1LlHHF2"
      },
      "execution_count": null,
      "outputs": []
    },
    {
      "cell_type": "code",
      "source": [
        "X_test_norm= X_test/255"
      ],
      "metadata": {
        "id": "HWmj0lcGHTKL"
      },
      "execution_count": null,
      "outputs": []
    },
    {
      "cell_type": "markdown",
      "source": [
        "### Visualizing the data"
      ],
      "metadata": {
        "id": "qxV-AfojHWH6"
      }
    },
    {
      "cell_type": "code",
      "source": [
        "plt.imshow(X_train_norm[0])"
      ],
      "metadata": {
        "colab": {
          "base_uri": "https://localhost:8080/",
          "height": 448
        },
        "id": "cPrgkGY4HYVl",
        "outputId": "f7229ecc-471d-4c32-bc64-de9596034809"
      },
      "execution_count": null,
      "outputs": [
        {
          "output_type": "execute_result",
          "data": {
            "text/plain": [
              "<matplotlib.image.AxesImage at 0x7fe9c131df60>"
            ]
          },
          "metadata": {},
          "execution_count": 29
        },
        {
          "output_type": "display_data",
          "data": {
            "text/plain": [
              "<Figure size 640x480 with 1 Axes>"
            ],
            "image/png": "[encoded data removed]"
          },
          "metadata": {}
        }
      ]
    },
    {
      "cell_type": "code",
      "source": [
        "#defining a function to plot random images\n",
        "def random_images(images):\n",
        "  plt.figure(figsize=(10,5))\n",
        "  for i in range(1,5):\n",
        "    rn= np.random.randint(len(images))\n",
        "    plt.subplot(1,5,i)\n",
        "    plt.imshow(images[rn], cmap= plt.cm.binary)\n",
        "    plt.axis(False)\n",
        "    plt.title(labels[y_train[rn]])\n"
      ],
      "metadata": {
        "id": "-j7K-JLSHyKB"
      },
      "execution_count": null,
      "outputs": []
    },
    {
      "cell_type": "code",
      "source": [
        "random_images(X_train)"
      ],
      "metadata": {
        "colab": {
          "base_uri": "https://localhost:8080/",
          "height": 192
        },
        "id": "X5Jrvp3fJCrY",
        "outputId": "42566e4d-7a31-429e-f0f5-efcef5df0f62"
      },
      "execution_count": null,
      "outputs": [
        {
          "output_type": "display_data",
          "data": {
            "text/plain": [
              "<Figure size 1000x500 with 4 Axes>"
            ],
            "image/png": "[encoded data removed]"
          },
          "metadata": {}
        }
      ]
    },
    {
      "cell_type": "markdown",
      "source": [
        "### Modelling"
      ],
      "metadata": {
        "id": "C5Evw2FTJHbY"
      }
    },
    {
      "cell_type": "code",
      "source": [
        "model_3=tf.keras.Sequential([\n",
        "    tf.keras.layers.Dense(10),\n",
        "    tf.keras.layers.Dense(1)\n",
        "])\n",
        "model_3.compile(loss='binary_crossentropy',\n",
        "                optimizer= tf.keras.optimizers.Adam(),\n",
        "                metrics=['accuracy'])\n",
        "model_3.fit(X_train_norm[:1000], y_train[:1000], epochs=100)"
      ],
      "metadata": {
        "colab": {
          "base_uri": "https://localhost:8080/"
        },
        "id": "DYycYn6xKFTD",
        "outputId": "fd203ba1-f602-4a8c-ee58-3cbc10f4a523"
      },
      "execution_count": null,
      "outputs": [
        {
          "output_type": "stream",
          "name": "stdout",
          "text": [
            "Epoch 1/100\n",
            "32/32 [==============================] - 1s 3ms/step - loss: -8.8434 - accuracy: 0.1069\n",
            "Epoch 2/100\n",
            "32/32 [==============================] - 0s 3ms/step - loss: -33.4472 - accuracy: 0.1047\n",
            "Epoch 3/100\n",
            "32/32 [==============================] - 0s 3ms/step - loss: -38.2660 - accuracy: 0.1044\n",
            "Epoch 4/100\n",
            "32/32 [==============================] - 0s 3ms/step - loss: -40.0132 - accuracy: 0.1037\n",
            "Epoch 5/100\n",
            "32/32 [==============================] - 0s 3ms/step - loss: -41.1024 - accuracy: 0.1042\n",
            "Epoch 6/100\n",
            "32/32 [==============================] - 0s 3ms/step - loss: -41.7912 - accuracy: 0.1043\n",
            "Epoch 7/100\n",
            "32/32 [==============================] - 0s 3ms/step - loss: -42.2864 - accuracy: 0.1046\n",
            "Epoch 8/100\n",
            "32/32 [==============================] - 0s 3ms/step - loss: -42.9370 - accuracy: 0.1054\n",
            "Epoch 9/100\n",
            "32/32 [==============================] - 0s 3ms/step - loss: -43.6259 - accuracy: 0.1055\n",
            "Epoch 10/100\n",
            "32/32 [==============================] - 0s 3ms/step - loss: -44.0372 - accuracy: 0.1040\n",
            "Epoch 11/100\n",
            "32/32 [==============================] - 0s 3ms/step - loss: -44.3724 - accuracy: 0.1040\n",
            "Epoch 12/100\n",
            "32/32 [==============================] - 0s 3ms/step - loss: -45.0352 - accuracy: 0.1040\n",
            "Epoch 13/100\n",
            "32/32 [==============================] - 0s 3ms/step - loss: -45.2329 - accuracy: 0.1040\n",
            "Epoch 14/100\n",
            "32/32 [==============================] - 0s 3ms/step - loss: -45.7946 - accuracy: 0.1040\n",
            "Epoch 15/100\n",
            "32/32 [==============================] - 0s 3ms/step - loss: -46.3845 - accuracy: 0.1040\n",
            "Epoch 16/100\n",
            "32/32 [==============================] - 0s 3ms/step - loss: -47.0640 - accuracy: 0.1040\n",
            "Epoch 17/100\n",
            "32/32 [==============================] - 0s 6ms/step - loss: -53.3123 - accuracy: 0.1040\n",
            "Epoch 18/100\n",
            "32/32 [==============================] - 0s 6ms/step - loss: -54.0260 - accuracy: 0.1040\n",
            "Epoch 19/100\n",
            "32/32 [==============================] - 0s 5ms/step - loss: -54.0261 - accuracy: 0.1040\n",
            "Epoch 20/100\n",
            "32/32 [==============================] - 0s 6ms/step - loss: -54.0260 - accuracy: 0.1040\n",
            "Epoch 21/100\n",
            "32/32 [==============================] - 0s 5ms/step - loss: -54.0255 - accuracy: 0.1040\n",
            "Epoch 22/100\n",
            "32/32 [==============================] - 0s 5ms/step - loss: -54.0263 - accuracy: 0.1040\n",
            "Epoch 23/100\n",
            "32/32 [==============================] - 0s 5ms/step - loss: -54.0275 - accuracy: 0.1040\n",
            "Epoch 24/100\n",
            "32/32 [==============================] - 0s 5ms/step - loss: -54.0278 - accuracy: 0.1040\n",
            "Epoch 25/100\n",
            "32/32 [==============================] - 0s 5ms/step - loss: -54.0287 - accuracy: 0.1040\n",
            "Epoch 26/100\n",
            "32/32 [==============================] - 0s 5ms/step - loss: -54.0293 - accuracy: 0.1040\n",
            "Epoch 27/100\n",
            "32/32 [==============================] - 0s 5ms/step - loss: -54.0305 - accuracy: 0.1040\n",
            "Epoch 28/100\n",
            "32/32 [==============================] - 0s 5ms/step - loss: -54.0307 - accuracy: 0.1040\n",
            "Epoch 29/100\n",
            "32/32 [==============================] - 0s 5ms/step - loss: -54.0305 - accuracy: 0.1040\n",
            "Epoch 30/100\n",
            "32/32 [==============================] - 0s 5ms/step - loss: -54.0310 - accuracy: 0.1040\n",
            "Epoch 31/100\n",
            "32/32 [==============================] - 0s 6ms/step - loss: -54.0300 - accuracy: 0.1040\n",
            "Epoch 32/100\n",
            "32/32 [==============================] - 0s 6ms/step - loss: -54.0301 - accuracy: 0.1040\n",
            "Epoch 33/100\n",
            "32/32 [==============================] - 0s 6ms/step - loss: -54.0320 - accuracy: 0.1040\n",
            "Epoch 34/100\n",
            "32/32 [==============================] - 0s 6ms/step - loss: -54.0307 - accuracy: 0.1040\n",
            "Epoch 35/100\n",
            "32/32 [==============================] - 0s 5ms/step - loss: -54.0311 - accuracy: 0.1040\n",
            "Epoch 36/100\n",
            "32/32 [==============================] - 0s 3ms/step - loss: -54.0317 - accuracy: 0.1040\n",
            "Epoch 37/100\n",
            "32/32 [==============================] - 0s 4ms/step - loss: -54.0318 - accuracy: 0.1040\n",
            "Epoch 38/100\n",
            "32/32 [==============================] - 0s 5ms/step - loss: -54.0314 - accuracy: 0.1040\n",
            "Epoch 39/100\n",
            "32/32 [==============================] - 0s 4ms/step - loss: -54.0329 - accuracy: 0.1040\n",
            "Epoch 40/100\n",
            "32/32 [==============================] - 0s 3ms/step - loss: -54.0321 - accuracy: 0.1040\n",
            "Epoch 41/100\n",
            "32/32 [==============================] - 0s 3ms/step - loss: -54.0318 - accuracy: 0.1040\n",
            "Epoch 42/100\n",
            "32/32 [==============================] - 0s 3ms/step - loss: -54.0325 - accuracy: 0.1040\n",
            "Epoch 43/100\n",
            "32/32 [==============================] - 0s 4ms/step - loss: -54.0329 - accuracy: 0.1040\n",
            "Epoch 44/100\n",
            "32/32 [==============================] - 0s 3ms/step - loss: -54.0321 - accuracy: 0.1040\n",
            "Epoch 45/100\n",
            "32/32 [==============================] - 0s 4ms/step - loss: -54.0326 - accuracy: 0.1040\n",
            "Epoch 46/100\n",
            "32/32 [==============================] - 0s 4ms/step - loss: -54.0319 - accuracy: 0.1040\n",
            "Epoch 47/100\n",
            "32/32 [==============================] - 0s 3ms/step - loss: -54.0320 - accuracy: 0.1040\n",
            "Epoch 48/100\n",
            "32/32 [==============================] - 0s 4ms/step - loss: -54.0335 - accuracy: 0.1040\n",
            "Epoch 49/100\n",
            "32/32 [==============================] - 0s 4ms/step - loss: -54.0341 - accuracy: 0.1040\n",
            "Epoch 50/100\n",
            "32/32 [==============================] - 0s 3ms/step - loss: -54.0328 - accuracy: 0.1040\n",
            "Epoch 51/100\n",
            "32/32 [==============================] - 0s 3ms/step - loss: -54.0350 - accuracy: 0.1040\n",
            "Epoch 52/100\n",
            "32/32 [==============================] - 0s 3ms/step - loss: -54.0351 - accuracy: 0.1040\n",
            "Epoch 53/100\n",
            "32/32 [==============================] - 0s 3ms/step - loss: -54.0354 - accuracy: 0.1040\n",
            "Epoch 54/100\n",
            "32/32 [==============================] - 0s 3ms/step - loss: -54.0351 - accuracy: 0.1040\n",
            "Epoch 55/100\n",
            "32/32 [==============================] - 0s 4ms/step - loss: -54.0358 - accuracy: 0.1040\n",
            "Epoch 56/100\n",
            "32/32 [==============================] - 0s 4ms/step - loss: -54.0368 - accuracy: 0.1040\n",
            "Epoch 57/100\n",
            "32/32 [==============================] - 0s 4ms/step - loss: -54.0384 - accuracy: 0.1040\n",
            "Epoch 58/100\n",
            "32/32 [==============================] - 0s 4ms/step - loss: -54.0385 - accuracy: 0.1040\n",
            "Epoch 59/100\n",
            "32/32 [==============================] - 0s 3ms/step - loss: -54.0378 - accuracy: 0.1040\n",
            "Epoch 60/100\n",
            "32/32 [==============================] - 0s 3ms/step - loss: -54.0385 - accuracy: 0.1040\n",
            "Epoch 61/100\n",
            "32/32 [==============================] - 0s 3ms/step - loss: -54.0386 - accuracy: 0.1040\n",
            "Epoch 62/100\n",
            "32/32 [==============================] - 0s 2ms/step - loss: -54.0386 - accuracy: 0.1040\n",
            "Epoch 63/100\n",
            "32/32 [==============================] - 0s 3ms/step - loss: -54.0389 - accuracy: 0.1040\n",
            "Epoch 64/100\n",
            "32/32 [==============================] - 0s 4ms/step - loss: -54.0399 - accuracy: 0.1040\n",
            "Epoch 65/100\n",
            "32/32 [==============================] - 0s 3ms/step - loss: -54.0405 - accuracy: 0.1040\n",
            "Epoch 66/100\n",
            "32/32 [==============================] - 0s 3ms/step - loss: -54.0401 - accuracy: 0.1040\n",
            "Epoch 67/100\n",
            "32/32 [==============================] - 0s 3ms/step - loss: -54.0402 - accuracy: 0.1040\n",
            "Epoch 68/100\n",
            "32/32 [==============================] - 0s 3ms/step - loss: -54.0399 - accuracy: 0.1040\n",
            "Epoch 69/100\n",
            "32/32 [==============================] - 0s 3ms/step - loss: -54.0401 - accuracy: 0.1040\n",
            "Epoch 70/100\n",
            "32/32 [==============================] - 0s 3ms/step - loss: -54.0397 - accuracy: 0.1040\n",
            "Epoch 71/100\n",
            "32/32 [==============================] - 0s 3ms/step - loss: -54.0394 - accuracy: 0.1040\n",
            "Epoch 72/100\n",
            "32/32 [==============================] - 0s 3ms/step - loss: -54.0403 - accuracy: 0.1040\n",
            "Epoch 73/100\n",
            "32/32 [==============================] - 0s 3ms/step - loss: -54.0398 - accuracy: 0.1040\n",
            "Epoch 74/100\n",
            "32/32 [==============================] - 0s 3ms/step - loss: -54.0405 - accuracy: 0.1040\n",
            "Epoch 75/100\n",
            "32/32 [==============================] - 0s 3ms/step - loss: -54.0400 - accuracy: 0.1040\n",
            "Epoch 76/100\n",
            "32/32 [==============================] - 0s 3ms/step - loss: -54.0405 - accuracy: 0.1040\n",
            "Epoch 77/100\n",
            "32/32 [==============================] - 0s 3ms/step - loss: -54.0402 - accuracy: 0.1040\n",
            "Epoch 78/100\n",
            "32/32 [==============================] - 0s 3ms/step - loss: -54.0401 - accuracy: 0.1040\n",
            "Epoch 79/100\n",
            "32/32 [==============================] - 0s 3ms/step - loss: -54.0403 - accuracy: 0.1040\n",
            "Epoch 80/100\n",
            "32/32 [==============================] - 0s 3ms/step - loss: -54.0400 - accuracy: 0.1040\n",
            "Epoch 81/100\n",
            "32/32 [==============================] - 0s 4ms/step - loss: -54.0403 - accuracy: 0.1040\n",
            "Epoch 82/100\n",
            "32/32 [==============================] - 0s 4ms/step - loss: -54.0414 - accuracy: 0.1040\n",
            "Epoch 83/100\n",
            "32/32 [==============================] - 0s 4ms/step - loss: -54.0419 - accuracy: 0.1040\n",
            "Epoch 84/100\n",
            "32/32 [==============================] - 0s 4ms/step - loss: -54.0416 - accuracy: 0.1040\n",
            "Epoch 85/100\n",
            "32/32 [==============================] - 0s 3ms/step - loss: -54.0417 - accuracy: 0.1040\n",
            "Epoch 86/100\n",
            "32/32 [==============================] - 0s 3ms/step - loss: -54.0412 - accuracy: 0.1040\n",
            "Epoch 87/100\n",
            "32/32 [==============================] - 0s 3ms/step - loss: -54.0416 - accuracy: 0.1040\n",
            "Epoch 88/100\n",
            "32/32 [==============================] - 0s 3ms/step - loss: -54.0414 - accuracy: 0.1040\n",
            "Epoch 89/100\n",
            "32/32 [==============================] - 0s 3ms/step - loss: -54.0410 - accuracy: 0.1040\n",
            "Epoch 90/100\n",
            "32/32 [==============================] - 0s 3ms/step - loss: -54.0417 - accuracy: 0.1040\n",
            "Epoch 91/100\n",
            "32/32 [==============================] - 0s 3ms/step - loss: -54.0416 - accuracy: 0.1040\n",
            "Epoch 92/100\n",
            "32/32 [==============================] - 0s 3ms/step - loss: -54.0416 - accuracy: 0.1040\n",
            "Epoch 93/100\n",
            "32/32 [==============================] - 0s 4ms/step - loss: -54.0420 - accuracy: 0.1040\n",
            "Epoch 94/100\n",
            "32/32 [==============================] - 0s 3ms/step - loss: -54.0418 - accuracy: 0.1040\n",
            "Epoch 95/100\n",
            "32/32 [==============================] - 0s 3ms/step - loss: -54.0415 - accuracy: 0.1040\n",
            "Epoch 96/100\n",
            "32/32 [==============================] - 0s 3ms/step - loss: -54.0415 - accuracy: 0.1040\n",
            "Epoch 97/100\n",
            "32/32 [==============================] - 0s 3ms/step - loss: -54.0420 - accuracy: 0.1040\n",
            "Epoch 98/100\n",
            "32/32 [==============================] - 0s 3ms/step - loss: -54.0422 - accuracy: 0.1040\n",
            "Epoch 99/100\n",
            "32/32 [==============================] - 0s 4ms/step - loss: -54.0415 - accuracy: 0.1040\n",
            "Epoch 100/100\n",
            "32/32 [==============================] - 0s 3ms/step - loss: -54.0420 - accuracy: 0.1040\n"
          ]
        },
        {
          "output_type": "execute_result",
          "data": {
            "text/plain": [
              "<keras.callbacks.History at 0x7fe9c0dd2ce0>"
            ]
          },
          "metadata": {},
          "execution_count": 32
        }
      ]
    },
    {
      "cell_type": "code",
      "source": [
        "model_4= tf.keras.Sequential([\n",
        "    tf.keras.layers.Flatten(input_shape=(28,28)),\n",
        "    tf.keras.layers.Dense(4, activation='relu'),\n",
        "    tf.keras.layers.Dense(4, activation='relu'),\n",
        "    tf.keras.layers.Dense(10,activation='softmax')\n",
        "])\n",
        "model_4.compile(loss= tf.keras.losses.SparseCategoricalCrossentropy(),\n",
        "                optimizer=tf.keras.optimizers.Adam(lr=0.01),\n",
        "                metrics=['accuracy'])\n",
        "model_4.fit(X_train_norm, y_train, epochs=25)"
      ],
      "metadata": {
        "colab": {
          "base_uri": "https://localhost:8080/"
        },
        "id": "ke1RxgFCKp7O",
        "outputId": "d0281d5f-90cb-4692-bd03-51e811bc4737"
      },
      "execution_count": null,
      "outputs": [
        {
          "output_type": "stream",
          "name": "stderr",
          "text": [
            "WARNING:absl:`lr` is deprecated in Keras optimizer, please use `learning_rate` or use the legacy optimizer, e.g.,tf.keras.optimizers.legacy.Adam.\n"
          ]
        },
        {
          "output_type": "stream",
          "name": "stdout",
          "text": [
            "Epoch 1/25\n",
            "1875/1875 [==============================] - 5s 2ms/step - loss: 1.0401 - accuracy: 0.6180\n",
            "Epoch 2/25\n",
            "1875/1875 [==============================] - 6s 3ms/step - loss: 0.7111 - accuracy: 0.7366\n",
            "Epoch 3/25\n",
            "1875/1875 [==============================] - 4s 2ms/step - loss: 0.6781 - accuracy: 0.7518\n",
            "Epoch 4/25\n",
            "1875/1875 [==============================] - 5s 2ms/step - loss: 0.6572 - accuracy: 0.7611\n",
            "Epoch 5/25\n",
            "1875/1875 [==============================] - 6s 3ms/step - loss: 0.6447 - accuracy: 0.7672\n",
            "Epoch 6/25\n",
            "1875/1875 [==============================] - 5s 2ms/step - loss: 0.6340 - accuracy: 0.7701\n",
            "Epoch 7/25\n",
            "1875/1875 [==============================] - 5s 3ms/step - loss: 0.6257 - accuracy: 0.7750\n",
            "Epoch 8/25\n",
            "1875/1875 [==============================] - 4s 2ms/step - loss: 0.6190 - accuracy: 0.7770\n",
            "Epoch 9/25\n",
            "1875/1875 [==============================] - 5s 2ms/step - loss: 0.6133 - accuracy: 0.7796\n",
            "Epoch 10/25\n",
            "1875/1875 [==============================] - 5s 3ms/step - loss: 0.6088 - accuracy: 0.7818\n",
            "Epoch 11/25\n",
            "1875/1875 [==============================] - 4s 2ms/step - loss: 0.6058 - accuracy: 0.7824\n",
            "Epoch 12/25\n",
            "1875/1875 [==============================] - 4s 2ms/step - loss: 0.6034 - accuracy: 0.7841\n",
            "Epoch 13/25\n",
            "1875/1875 [==============================] - 5s 3ms/step - loss: 0.5991 - accuracy: 0.7846\n",
            "Epoch 14/25\n",
            "1875/1875 [==============================] - 5s 3ms/step - loss: 0.5969 - accuracy: 0.7865\n",
            "Epoch 15/25\n",
            "1875/1875 [==============================] - 6s 3ms/step - loss: 0.5952 - accuracy: 0.7864\n",
            "Epoch 16/25\n",
            "1875/1875 [==============================] - 4s 2ms/step - loss: 0.5927 - accuracy: 0.7867\n",
            "Epoch 17/25\n",
            "1875/1875 [==============================] - 4s 2ms/step - loss: 0.5911 - accuracy: 0.7860\n",
            "Epoch 18/25\n",
            "1875/1875 [==============================] - 5s 3ms/step - loss: 0.5894 - accuracy: 0.7886\n",
            "Epoch 19/25\n",
            "1875/1875 [==============================] - 4s 2ms/step - loss: 0.5882 - accuracy: 0.7891\n",
            "Epoch 20/25\n",
            "1875/1875 [==============================] - 4s 2ms/step - loss: 0.5877 - accuracy: 0.7886\n",
            "Epoch 21/25\n",
            "1875/1875 [==============================] - 7s 4ms/step - loss: 0.5866 - accuracy: 0.7895\n",
            "Epoch 22/25\n",
            "1875/1875 [==============================] - 4s 2ms/step - loss: 0.5857 - accuracy: 0.7903\n",
            "Epoch 23/25\n",
            "1875/1875 [==============================] - 5s 2ms/step - loss: 0.5845 - accuracy: 0.7913\n",
            "Epoch 24/25\n",
            "1875/1875 [==============================] - 5s 3ms/step - loss: 0.5840 - accuracy: 0.7906\n",
            "Epoch 25/25\n",
            "1875/1875 [==============================] - 4s 2ms/step - loss: 0.5820 - accuracy: 0.7911\n"
          ]
        },
        {
          "output_type": "execute_result",
          "data": {
            "text/plain": [
              "<keras.callbacks.History at 0x7fe9afeecf10>"
            ]
          },
          "metadata": {},
          "execution_count": 33
        }
      ]
    },
    {
      "cell_type": "code",
      "source": [
        "model_4.evaluate(X_test_norm, y_test)"
      ],
      "metadata": {
        "colab": {
          "base_uri": "https://localhost:8080/"
        },
        "id": "DEKOLuocLqwf",
        "outputId": "e15ddf32-76ab-40ff-b4e2-86735a0e7a16"
      },
      "execution_count": null,
      "outputs": [
        {
          "output_type": "stream",
          "name": "stdout",
          "text": [
            "313/313 [==============================] - 1s 2ms/step - loss: 0.6316 - accuracy: 0.7777\n"
          ]
        },
        {
          "output_type": "execute_result",
          "data": {
            "text/plain": [
              "[0.6315865516662598, 0.7777000069618225]"
            ]
          },
          "metadata": {},
          "execution_count": 34
        }
      ]
    },
    {
      "cell_type": "code",
      "source": [
        "model_4= tf.keras.Sequential([\n",
        "    tf.keras.layers.Flatten(input_shape=(28,28)),\n",
        "    tf.keras.layers.Dense(10, activation='relu'),\n",
        "    tf.keras.layers.Dense(4, activation='relu'),\n",
        "    tf.keras.layers.Dense(4, activation='relu'),\n",
        "    tf.keras.layers.Dense(10,activation='softmax')\n",
        "])\n",
        "model_4.compile(loss= tf.keras.losses.SparseCategoricalCrossentropy(),\n",
        "                optimizer=tf.keras.optimizers.Adam(lr=0.02),\n",
        "                metrics=['accuracy'])\n",
        "model_4.fit(X_train_norm, y_train, epochs=50)"
      ],
      "metadata": {
        "colab": {
          "base_uri": "https://localhost:8080/"
        },
        "id": "CjunYH7ARgCz",
        "outputId": "73bfbd8f-ebcc-4b3f-a0d5-b06bacf8d3c6"
      },
      "execution_count": null,
      "outputs": [
        {
          "output_type": "stream",
          "name": "stderr",
          "text": [
            "WARNING:absl:`lr` is deprecated in Keras optimizer, please use `learning_rate` or use the legacy optimizer, e.g.,tf.keras.optimizers.legacy.Adam.\n"
          ]
        },
        {
          "output_type": "stream",
          "name": "stdout",
          "text": [
            "Epoch 1/50\n",
            "1875/1875 [==============================] - 7s 3ms/step - loss: 1.2113 - accuracy: 0.5109\n",
            "Epoch 2/50\n",
            "1875/1875 [==============================] - 5s 3ms/step - loss: 0.6170 - accuracy: 0.7787\n",
            "Epoch 3/50\n",
            "1875/1875 [==============================] - 5s 3ms/step - loss: 0.5296 - accuracy: 0.8151\n",
            "Epoch 4/50\n",
            "1875/1875 [==============================] - 5s 3ms/step - loss: 0.4908 - accuracy: 0.8297\n",
            "Epoch 5/50\n",
            "1875/1875 [==============================] - 4s 2ms/step - loss: 0.4695 - accuracy: 0.8368\n",
            "Epoch 6/50\n",
            "1875/1875 [==============================] - 6s 3ms/step - loss: 0.4533 - accuracy: 0.8411\n",
            "Epoch 7/50\n",
            "1875/1875 [==============================] - 4s 2ms/step - loss: 0.4423 - accuracy: 0.8460\n",
            "Epoch 8/50\n",
            "1875/1875 [==============================] - 5s 3ms/step - loss: 0.4334 - accuracy: 0.8473\n",
            "Epoch 9/50\n",
            "1875/1875 [==============================] - 4s 2ms/step - loss: 0.4261 - accuracy: 0.8499\n",
            "Epoch 10/50\n",
            "1875/1875 [==============================] - 4s 2ms/step - loss: 0.4206 - accuracy: 0.8515\n",
            "Epoch 11/50\n",
            "1875/1875 [==============================] - 5s 3ms/step - loss: 0.4127 - accuracy: 0.8540\n",
            "Epoch 12/50\n",
            "1875/1875 [==============================] - 4s 2ms/step - loss: 0.4086 - accuracy: 0.8555\n",
            "Epoch 13/50\n",
            "1875/1875 [==============================] - 4s 2ms/step - loss: 0.4061 - accuracy: 0.8563\n",
            "Epoch 14/50\n",
            "1875/1875 [==============================] - 5s 3ms/step - loss: 0.4022 - accuracy: 0.8586\n",
            "Epoch 15/50\n",
            "1875/1875 [==============================] - 5s 2ms/step - loss: 0.3976 - accuracy: 0.8595\n",
            "Epoch 16/50\n",
            "1875/1875 [==============================] - 6s 3ms/step - loss: 0.3930 - accuracy: 0.8617\n",
            "Epoch 17/50\n",
            "1875/1875 [==============================] - 5s 3ms/step - loss: 0.3912 - accuracy: 0.8609\n",
            "Epoch 18/50\n",
            "1875/1875 [==============================] - 5s 2ms/step - loss: 0.3887 - accuracy: 0.8620\n",
            "Epoch 19/50\n",
            "1875/1875 [==============================] - 5s 3ms/step - loss: 0.3864 - accuracy: 0.8634\n",
            "Epoch 20/50\n",
            "1875/1875 [==============================] - 5s 3ms/step - loss: 0.3843 - accuracy: 0.8632\n",
            "Epoch 21/50\n",
            "1875/1875 [==============================] - 5s 3ms/step - loss: 0.3824 - accuracy: 0.8643\n",
            "Epoch 22/50\n",
            "1875/1875 [==============================] - 5s 3ms/step - loss: 0.3789 - accuracy: 0.8656\n",
            "Epoch 23/50\n",
            "1875/1875 [==============================] - 4s 2ms/step - loss: 0.3766 - accuracy: 0.8664\n",
            "Epoch 24/50\n",
            "1875/1875 [==============================] - 5s 3ms/step - loss: 0.3749 - accuracy: 0.8671\n",
            "Epoch 25/50\n",
            "1875/1875 [==============================] - 5s 2ms/step - loss: 0.3747 - accuracy: 0.8670\n",
            "Epoch 26/50\n",
            "1875/1875 [==============================] - 5s 3ms/step - loss: 0.3714 - accuracy: 0.8667\n",
            "Epoch 27/50\n",
            "1875/1875 [==============================] - 6s 3ms/step - loss: 0.3727 - accuracy: 0.8674\n",
            "Epoch 28/50\n",
            "1875/1875 [==============================] - 5s 3ms/step - loss: 0.3716 - accuracy: 0.8672\n",
            "Epoch 29/50\n",
            "1875/1875 [==============================] - 5s 3ms/step - loss: 0.3677 - accuracy: 0.8687\n",
            "Epoch 30/50\n",
            "1875/1875 [==============================] - 5s 3ms/step - loss: 0.3682 - accuracy: 0.8687\n",
            "Epoch 31/50\n",
            "1875/1875 [==============================] - 4s 2ms/step - loss: 0.3658 - accuracy: 0.8699\n",
            "Epoch 32/50\n",
            "1875/1875 [==============================] - 5s 3ms/step - loss: 0.3652 - accuracy: 0.8696\n",
            "Epoch 33/50\n",
            "1875/1875 [==============================] - 4s 2ms/step - loss: 0.3641 - accuracy: 0.8699\n",
            "Epoch 34/50\n",
            "1875/1875 [==============================] - 5s 3ms/step - loss: 0.3631 - accuracy: 0.8702\n",
            "Epoch 35/50\n",
            "1875/1875 [==============================] - 6s 3ms/step - loss: 0.3611 - accuracy: 0.8704\n",
            "Epoch 36/50\n",
            "1875/1875 [==============================] - 4s 2ms/step - loss: 0.3605 - accuracy: 0.8706\n",
            "Epoch 37/50\n",
            "1875/1875 [==============================] - 5s 3ms/step - loss: 0.3603 - accuracy: 0.8699\n",
            "Epoch 38/50\n",
            "1875/1875 [==============================] - 6s 3ms/step - loss: 0.3578 - accuracy: 0.8716\n",
            "Epoch 39/50\n",
            "1875/1875 [==============================] - 4s 2ms/step - loss: 0.3576 - accuracy: 0.8720\n",
            "Epoch 40/50\n",
            "1875/1875 [==============================] - 5s 3ms/step - loss: 0.3568 - accuracy: 0.8717\n",
            "Epoch 41/50\n",
            "1875/1875 [==============================] - 4s 2ms/step - loss: 0.3574 - accuracy: 0.8714\n",
            "Epoch 42/50\n",
            "1875/1875 [==============================] - 5s 2ms/step - loss: 0.3551 - accuracy: 0.8717\n",
            "Epoch 43/50\n",
            "1875/1875 [==============================] - 5s 3ms/step - loss: 0.3564 - accuracy: 0.8712\n",
            "Epoch 44/50\n",
            "1875/1875 [==============================] - 5s 2ms/step - loss: 0.3532 - accuracy: 0.8738\n",
            "Epoch 45/50\n",
            "1875/1875 [==============================] - 6s 3ms/step - loss: 0.3538 - accuracy: 0.8724\n",
            "Epoch 46/50\n",
            "1875/1875 [==============================] - 4s 2ms/step - loss: 0.3529 - accuracy: 0.8729\n",
            "Epoch 47/50\n",
            "1875/1875 [==============================] - 4s 2ms/step - loss: 0.3528 - accuracy: 0.8728\n",
            "Epoch 48/50\n",
            "1875/1875 [==============================] - 5s 3ms/step - loss: 0.3514 - accuracy: 0.8732\n",
            "Epoch 49/50\n",
            "1875/1875 [==============================] - 4s 2ms/step - loss: 0.3508 - accuracy: 0.8741\n",
            "Epoch 50/50\n",
            "1875/1875 [==============================] - 5s 2ms/step - loss: 0.3499 - accuracy: 0.8737\n"
          ]
        },
        {
          "output_type": "execute_result",
          "data": {
            "text/plain": [
              "<keras.callbacks.History at 0x7fe9c0fb2dd0>"
            ]
          },
          "metadata": {},
          "execution_count": 35
        }
      ]
    },
    {
      "cell_type": "code",
      "source": [
        "from sklearn.metrics import confusion_matrix\n",
        "y_preds=model_4.predict(X_test_norm)\n"
      ],
      "metadata": {
        "colab": {
          "base_uri": "https://localhost:8080/"
        },
        "id": "tsoYmJOaTCv8",
        "outputId": "1e830108-f41b-4737-967f-35f15c2d1e72"
      },
      "execution_count": null,
      "outputs": [
        {
          "output_type": "stream",
          "name": "stdout",
          "text": [
            "313/313 [==============================] - 1s 1ms/step\n"
          ]
        }
      ]
    },
    {
      "cell_type": "code",
      "source": [
        "cm=confusion_matrix(y_test, tf.argmax(y_preds, axis=1))"
      ],
      "metadata": {
        "id": "g7bOXRIaVmWl"
      },
      "execution_count": null,
      "outputs": []
    },
    {
      "cell_type": "code",
      "source": [
        "cm"
      ],
      "metadata": {
        "colab": {
          "base_uri": "https://localhost:8080/"
        },
        "id": "osdyQy9DWG1B",
        "outputId": "d27e54eb-db48-4c3c-d8f0-a189515a0e35"
      },
      "execution_count": null,
      "outputs": [
        {
          "output_type": "execute_result",
          "data": {
            "text/plain": [
              "array([[821,  10,  24,  49,   1,   1,  89,   1,   4,   0],\n",
              "       [  4, 961,   5,  23,   3,   0,   0,   0,   4,   0],\n",
              "       [ 10,   6, 792,  15,  78,   0,  92,   0,   7,   0],\n",
              "       [ 34,  16,  14, 883,  23,   1,  25,   0,   4,   0],\n",
              "       [  0,   1, 147,  53, 717,   0,  76,   0,   6,   0],\n",
              "       [  0,   1,   0,   0,   0, 949,   0,  24,   7,  19],\n",
              "       [177,   6, 135,  40,  81,   0, 552,   0,   9,   0],\n",
              "       [  0,   0,   0,   0,   0,  42,   0, 941,   1,  16],\n",
              "       [  1,   8,  16,   4,  12,   7,   7,   5, 940,   0],\n",
              "       [  0,   0,   0,   0,   0,  24,   1,  46,   0, 929]])"
            ]
          },
          "metadata": {},
          "execution_count": 38
        }
      ]
    },
    {
      "cell_type": "code",
      "source": [
        "import seaborn as sns"
      ],
      "metadata": {
        "id": "BjEj86tmXsf7"
      },
      "execution_count": null,
      "outputs": []
    },
    {
      "cell_type": "code",
      "source": [
        "plt.figure(figsize=(12,12))\n",
        "sns.heatmap(cm, annot=True, cmap= plt.cm.Blues, fmt='2')\n",
        "plt.xticks(np.arange(len(labels)),labels)\n",
        "plt.yticks(np.arange(len(labels)),labels)"
      ],
      "metadata": {
        "colab": {
          "base_uri": "https://localhost:8080/",
          "height": 1000
        },
        "id": "m7D5MrusXw8G",
        "outputId": "c95b2687-01a6-4c07-ad00-29f12c5cb875"
      },
      "execution_count": null,
      "outputs": [
        {
          "output_type": "execute_result",
          "data": {
            "text/plain": [
              "([<matplotlib.axis.YTick at 0x7fe98c135c00>,\n",
              "  <matplotlib.axis.YTick at 0x7fe98c1355a0>,\n",
              "  <matplotlib.axis.YTick at 0x7fe98bf99ba0>,\n",
              "  <matplotlib.axis.YTick at 0x7fe98bfd5e10>,\n",
              "  <matplotlib.axis.YTick at 0x7fe98bfd7a30>,\n",
              "  <matplotlib.axis.YTick at 0x7fe98bff0520>,\n",
              "  <matplotlib.axis.YTick at 0x7fe98bff0fd0>,\n",
              "  <matplotlib.axis.YTick at 0x7fe98bff1a80>,\n",
              "  <matplotlib.axis.YTick at 0x7fe98bff1330>,\n",
              "  <matplotlib.axis.YTick at 0x7fe98bff2380>],\n",
              " [Text(0, 0, 'T-shirt/top'),\n",
              "  Text(0, 1, 'Trouser'),\n",
              "  Text(0, 2, 'Pullover'),\n",
              "  Text(0, 3, 'Dress'),\n",
              "  Text(0, 4, 'Coat'),\n",
              "  Text(0, 5, 'Sandal'),\n",
              "  Text(0, 6, 'Shirt'),\n",
              "  Text(0, 7, 'Sneaker'),\n",
              "  Text(0, 8, 'Bag'),\n",
              "  Text(0, 9, 'Ankle boot')])"
            ]
          },
          "metadata": {},
          "execution_count": 40
        },
        {
          "output_type": "display_data",
          "data": {
            "text/plain": [
              "<Figure size 1200x1200 with 2 Axes>"
            ],
            "image/png": "[encoded data removed]"
          },
          "metadata": {}
        }
      ]
    },
    {
      "cell_type": "markdown",
      "source": [
        "## 07.Function to plot multiple images"
      ],
      "metadata": {
        "id": "_jhgzgyCYDSl"
      }
    },
    {
      "cell_type": "code",
      "source": [
        "def random_images(model, images):\n",
        "  plt.figure(figsize=(10,5))\n",
        "  for i in range(1,5):\n",
        "    rn= np.random.randint(len(images))\n",
        "    plt.subplot(1,4,i)\n",
        "    plt.imshow(images[rn], cmap= plt.cm.binary)\n",
        "    pred = model.predict(images[rn].reshape(-1,784),verbose=0)\n",
        "    plt.axis(False)\n",
        "    plt.title(f\"{labels[y_test[rn]]}||{labels[pred.argmax()]}\");"
      ],
      "metadata": {
        "id": "lgB-QqyuVsCS"
      },
      "execution_count": null,
      "outputs": []
    },
    {
      "cell_type": "code",
      "source": [
        "random_images(model_4, X_test_norm)"
      ],
      "metadata": {
        "colab": {
          "base_uri": "https://localhost:8080/",
          "height": 227
        },
        "id": "HubfIf3QVtNu",
        "outputId": "860bfa48-a0b7-475e-b0e9-50ce46115e15"
      },
      "execution_count": null,
      "outputs": [
        {
          "output_type": "display_data",
          "data": {
            "text/plain": [
              "<Figure size 1000x500 with 4 Axes>"
            ],
            "image/png": "[encoded data removed]"
          },
          "metadata": {}
        }
      ]
    },
    {
      "cell_type": "markdown",
      "source": [
        "## 08. Making a function to plot images of certain class an predict on it"
      ],
      "metadata": {
        "id": "WKic9xvHW9CZ"
      }
    },
    {
      "cell_type": "code",
      "source": [
        "def random_images(model, images):\n",
        "  plt.figure(figsize=(10,5))\n",
        "  while True:\n",
        "    rn= np.random.randint(len(images))\n",
        "    if labels[y_test[rn]]=='Shirt':\n",
        "      for n in range(1,5):\n",
        "        plt.subplot(1,4,n)\n",
        "        plt.imshow(images[rn], cmap= plt.cm.binary)\n",
        "        pred = model.predict(images[rn].reshape(-1,784),verbose=0)\n",
        "        plt.axis(False)\n",
        "        plt.title(f\"{labels[y_test[rn]]}||{labels[pred.argmax()]}\");\n",
        "      break"
      ],
      "metadata": {
        "id": "xsdFe-qGmBxj"
      },
      "execution_count": null,
      "outputs": []
    },
    {
      "cell_type": "code",
      "source": [
        "random_images(model_4, X_test_norm)"
      ],
      "metadata": {
        "colab": {
          "base_uri": "https://localhost:8080/",
          "height": 227
        },
        "id": "oMlFVf7Sm5oH",
        "outputId": "ee07bb9f-2d90-48d6-e43d-784e857697a7"
      },
      "execution_count": null,
      "outputs": [
        {
          "output_type": "display_data",
          "data": {
            "text/plain": [
              "<Figure size 1000x500 with 4 Axes>"
            ],
            "image/png": "[encoded data removed]"
          },
          "metadata": {}
        }
      ]
    },
    {
      "cell_type": "markdown",
      "source": [
        "# ✅ Exercise Done"
      ],
      "metadata": {
        "id": "rZm1rPoJm-uk"
      }
    },
    {
      "cell_type": "code",
      "source": [],
      "metadata": {
        "id": "koQVmEhOrcoE"
      },
      "execution_count": null,
      "outputs": []
    }
  ]
}
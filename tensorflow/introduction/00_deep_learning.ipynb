{
  "nbformat": 4,
  "nbformat_minor": 0,
  "metadata": {
    "colab": {
      "provenance": []
    },
    "kernelspec": {
      "name": "python3",
      "display_name": "Python 3"
    },
    "language_info": {
      "name": "python"
    }
  },
  "cells": [
    {
      "cell_type": "code",
      "execution_count": null,
      "metadata": {
        "id": "7omHVFlyw9z4"
      },
      "outputs": [],
      "source": [
        "import tensorflow as tf"
      ]
    },
    {
      "cell_type": "code",
      "source": [
        "print(tf.__version__)"
      ],
      "metadata": {
        "colab": {
          "base_uri": "https://localhost:8080/"
        },
        "id": "HUlfbV4VxIsa",
        "outputId": "e1b93685-21b5-461b-8d29-108dc4349f4d"
      },
      "execution_count": null,
      "outputs": [
        {
          "output_type": "stream",
          "name": "stdout",
          "text": [
            "2.12.0\n"
          ]
        }
      ]
    },
    {
      "cell_type": "code",
      "source": [
        "scalar = tf.constant(7)\n",
        "scalar.ndim\n",
        "scalar"
      ],
      "metadata": {
        "colab": {
          "base_uri": "https://localhost:8080/"
        },
        "id": "cDcLQffoxQrC",
        "outputId": "c32db502-3d1e-4fb2-c776-22a97b117913"
      },
      "execution_count": null,
      "outputs": [
        {
          "output_type": "execute_result",
          "data": {
            "text/plain": [
              "<tf.Tensor: shape=(), dtype=int32, numpy=7>"
            ]
          },
          "metadata": {},
          "execution_count": 3
        }
      ]
    },
    {
      "cell_type": "code",
      "source": [
        "vector= tf.constant([10,10])\n",
        "vector, vector.ndim"
      ],
      "metadata": {
        "colab": {
          "base_uri": "https://localhost:8080/"
        },
        "id": "piYxFtPcxba_",
        "outputId": "0b85d1f1-8250-4e5e-ca99-c6db889e35a0"
      },
      "execution_count": null,
      "outputs": [
        {
          "output_type": "execute_result",
          "data": {
            "text/plain": [
              "(<tf.Tensor: shape=(2,), dtype=int32, numpy=array([10, 10], dtype=int32)>, 1)"
            ]
          },
          "metadata": {},
          "execution_count": 4
        }
      ]
    },
    {
      "cell_type": "code",
      "source": [
        "matrix=tf.constant([[10,10],\n",
        "                    [10,10]])\n",
        "matrix"
      ],
      "metadata": {
        "colab": {
          "base_uri": "https://localhost:8080/"
        },
        "id": "nBvRdvqgxmBg",
        "outputId": "5c0ba5f0-067a-461b-8b7b-94b79cdd379a"
      },
      "execution_count": null,
      "outputs": [
        {
          "output_type": "execute_result",
          "data": {
            "text/plain": [
              "<tf.Tensor: shape=(2, 2), dtype=int32, numpy=\n",
              "array([[10, 10],\n",
              "       [10, 10]], dtype=int32)>"
            ]
          },
          "metadata": {},
          "execution_count": 5
        }
      ]
    },
    {
      "cell_type": "code",
      "source": [
        "matrix.ndim"
      ],
      "metadata": {
        "colab": {
          "base_uri": "https://localhost:8080/"
        },
        "id": "_-U57IgFx72N",
        "outputId": "5685d5b7-5bcd-4e87-c945-c5e48dcbf75b"
      },
      "execution_count": null,
      "outputs": [
        {
          "output_type": "execute_result",
          "data": {
            "text/plain": [
              "2"
            ]
          },
          "metadata": {},
          "execution_count": 6
        }
      ]
    },
    {
      "cell_type": "code",
      "source": [
        "tensor= tf.constant([[[10,10],\n",
        "                      [10,10]],\n",
        "                      [[10,10],\n",
        "                       [10,10]],\n",
        "                       [[10,10],\n",
        "                       [10,10]]])"
      ],
      "metadata": {
        "id": "G4FLvyWlyA2Q"
      },
      "execution_count": null,
      "outputs": []
    },
    {
      "cell_type": "code",
      "source": [
        "tensor"
      ],
      "metadata": {
        "colab": {
          "base_uri": "https://localhost:8080/"
        },
        "id": "jQKy_hlNybOv",
        "outputId": "c0408970-f548-41cc-a544-fd49a62acf2e"
      },
      "execution_count": null,
      "outputs": [
        {
          "output_type": "execute_result",
          "data": {
            "text/plain": [
              "<tf.Tensor: shape=(3, 2, 2), dtype=int32, numpy=\n",
              "array([[[10, 10],\n",
              "        [10, 10]],\n",
              "\n",
              "       [[10, 10],\n",
              "        [10, 10]],\n",
              "\n",
              "       [[10, 10],\n",
              "        [10, 10]]], dtype=int32)>"
            ]
          },
          "metadata": {},
          "execution_count": 8
        }
      ]
    },
    {
      "cell_type": "code",
      "source": [
        "tensor.ndim"
      ],
      "metadata": {
        "colab": {
          "base_uri": "https://localhost:8080/"
        },
        "id": "vctCyWl8yc4m",
        "outputId": "c2130e84-fb8b-4d22-f5d8-e414e0353869"
      },
      "execution_count": null,
      "outputs": [
        {
          "output_type": "execute_result",
          "data": {
            "text/plain": [
              "3"
            ]
          },
          "metadata": {},
          "execution_count": 9
        }
      ]
    },
    {
      "cell_type": "code",
      "source": [
        "unchangeable_tensor= tf.constant(tensor)"
      ],
      "metadata": {
        "id": "9tlmzpyAyg3_"
      },
      "execution_count": null,
      "outputs": []
    },
    {
      "cell_type": "code",
      "source": [
        "# unchangeable_tensor[0][0][0].assign(9), # The error here means that constant tensors can't be cahnged like variable tensors."
      ],
      "metadata": {
        "id": "PD-rRSm1yqWx"
      },
      "execution_count": null,
      "outputs": []
    },
    {
      "cell_type": "code",
      "source": [
        "changeable_tensor = tf.Variable([[10,10],\n",
        "                                 [10,9]])"
      ],
      "metadata": {
        "id": "tIrOypRlytcD"
      },
      "execution_count": null,
      "outputs": []
    },
    {
      "cell_type": "code",
      "source": [
        "changeable_tensor[0].assign(9)"
      ],
      "metadata": {
        "colab": {
          "base_uri": "https://localhost:8080/"
        },
        "id": "QcOAUtTSzdo-",
        "outputId": "f0badfca-fd08-4dec-ae63-b706dbe75b34"
      },
      "execution_count": null,
      "outputs": [
        {
          "output_type": "execute_result",
          "data": {
            "text/plain": [
              "<tf.Variable 'UnreadVariable' shape=(2, 2) dtype=int32, numpy=\n",
              "array([[ 9,  9],\n",
              "       [10,  9]], dtype=int32)>"
            ]
          },
          "metadata": {},
          "execution_count": 13
        }
      ]
    },
    {
      "cell_type": "code",
      "source": [
        "random= tf.random.Generator.from_seed(42).normal(shape=(2,3))"
      ],
      "metadata": {
        "id": "z6s_MLHzznRa"
      },
      "execution_count": null,
      "outputs": []
    },
    {
      "cell_type": "code",
      "source": [
        "random"
      ],
      "metadata": {
        "colab": {
          "base_uri": "https://localhost:8080/"
        },
        "id": "BVES3PJB1R5T",
        "outputId": "f4153c8b-511e-4edd-90be-c9e20656a053"
      },
      "execution_count": null,
      "outputs": [
        {
          "output_type": "execute_result",
          "data": {
            "text/plain": [
              "<tf.Tensor: shape=(2, 3), dtype=float32, numpy=\n",
              "array([[-0.7565803 , -0.06854702,  0.07595026],\n",
              "       [-1.2573844 , -0.23193763, -1.8107855 ]], dtype=float32)>"
            ]
          },
          "metadata": {},
          "execution_count": 15
        }
      ]
    },
    {
      "cell_type": "markdown",
      "source": [
        "## Shuffling the tensors"
      ],
      "metadata": {
        "id": "uwM0XZ0F1S1o"
      }
    },
    {
      "cell_type": "code",
      "source": [
        "unshuffled_tensor=tf.constant([[10,8],\n",
        "                               [9,5],\n",
        "                               [3,1]])\n",
        "unshuffled_tensor"
      ],
      "metadata": {
        "colab": {
          "base_uri": "https://localhost:8080/"
        },
        "id": "8zicA3Qt4mlT",
        "outputId": "ecb79810-4917-4c5f-9f16-56b5b240cc4a"
      },
      "execution_count": null,
      "outputs": [
        {
          "output_type": "execute_result",
          "data": {
            "text/plain": [
              "<tf.Tensor: shape=(3, 2), dtype=int32, numpy=\n",
              "array([[10,  8],\n",
              "       [ 9,  5],\n",
              "       [ 3,  1]], dtype=int32)>"
            ]
          },
          "metadata": {},
          "execution_count": 16
        }
      ]
    },
    {
      "cell_type": "code",
      "source": [
        "tf.random.set_seed(42)"
      ],
      "metadata": {
        "id": "p13QIFET7uJ9"
      },
      "execution_count": null,
      "outputs": []
    },
    {
      "cell_type": "code",
      "source": [
        "tf.random.set_seed(42)\n",
        "shuffled_tensor=tf.random.shuffle(unshuffled_tensor, seed=42)\n",
        "shuffled_tensor"
      ],
      "metadata": {
        "colab": {
          "base_uri": "https://localhost:8080/"
        },
        "id": "quzZVTQG7Ia_",
        "outputId": "543c6548-fbe9-4f71-fc47-fa8f4dcb3bec"
      },
      "execution_count": null,
      "outputs": [
        {
          "output_type": "execute_result",
          "data": {
            "text/plain": [
              "<tf.Tensor: shape=(3, 2), dtype=int32, numpy=\n",
              "array([[10,  8],\n",
              "       [ 9,  5],\n",
              "       [ 3,  1]], dtype=int32)>"
            ]
          },
          "metadata": {},
          "execution_count": 18
        }
      ]
    },
    {
      "cell_type": "code",
      "source": [
        "tensor"
      ],
      "metadata": {
        "colab": {
          "base_uri": "https://localhost:8080/"
        },
        "id": "IxfHMMBw7dw5",
        "outputId": "09ae8f76-c794-48f9-ecc9-dd9ef1154f19"
      },
      "execution_count": null,
      "outputs": [
        {
          "output_type": "execute_result",
          "data": {
            "text/plain": [
              "<tf.Tensor: shape=(3, 2, 2), dtype=int32, numpy=\n",
              "array([[[10, 10],\n",
              "        [10, 10]],\n",
              "\n",
              "       [[10, 10],\n",
              "        [10, 10]],\n",
              "\n",
              "       [[10, 10],\n",
              "        [10, 10]]], dtype=int32)>"
            ]
          },
          "metadata": {},
          "execution_count": 19
        }
      ]
    },
    {
      "cell_type": "code",
      "source": [
        "import numpy as np"
      ],
      "metadata": {
        "id": "QTBkwdld96GI"
      },
      "execution_count": null,
      "outputs": []
    },
    {
      "cell_type": "code",
      "source": [
        "numpy_A=np.arange(1,25)"
      ],
      "metadata": {
        "id": "11qNXioDAX0l"
      },
      "execution_count": null,
      "outputs": []
    },
    {
      "cell_type": "code",
      "source": [
        "numpy_A"
      ],
      "metadata": {
        "colab": {
          "base_uri": "https://localhost:8080/"
        },
        "id": "7zXLJFmjAdf1",
        "outputId": "c37ab784-50d3-4b5b-84d8-fa4a0d0f370d"
      },
      "execution_count": null,
      "outputs": [
        {
          "output_type": "execute_result",
          "data": {
            "text/plain": [
              "array([ 1,  2,  3,  4,  5,  6,  7,  8,  9, 10, 11, 12, 13, 14, 15, 16, 17,\n",
              "       18, 19, 20, 21, 22, 23, 24])"
            ]
          },
          "metadata": {},
          "execution_count": 22
        }
      ]
    },
    {
      "cell_type": "code",
      "source": [
        "A = tf.constant(numpy_A, shape=(2,3,4))\n",
        "A"
      ],
      "metadata": {
        "colab": {
          "base_uri": "https://localhost:8080/"
        },
        "id": "2B0vXDtUApi9",
        "outputId": "0473fe29-06f8-4c79-fe1f-1d317469d484"
      },
      "execution_count": null,
      "outputs": [
        {
          "output_type": "execute_result",
          "data": {
            "text/plain": [
              "<tf.Tensor: shape=(2, 3, 4), dtype=int64, numpy=\n",
              "array([[[ 1,  2,  3,  4],\n",
              "        [ 5,  6,  7,  8],\n",
              "        [ 9, 10, 11, 12]],\n",
              "\n",
              "       [[13, 14, 15, 16],\n",
              "        [17, 18, 19, 20],\n",
              "        [21, 22, 23, 24]]])>"
            ]
          },
          "metadata": {},
          "execution_count": 23
        }
      ]
    },
    {
      "cell_type": "code",
      "source": [
        "rank_4_tensor = tf.constant(np.zeros(shape=(2,3,4,5), dtype=float))\n",
        "rank_4_tensor\n"
      ],
      "metadata": {
        "id": "ZYkH5Ci2A9r1",
        "colab": {
          "base_uri": "https://localhost:8080/"
        },
        "outputId": "f1c92209-b2bd-404e-8936-249b369beede"
      },
      "execution_count": null,
      "outputs": [
        {
          "output_type": "execute_result",
          "data": {
            "text/plain": [
              "<tf.Tensor: shape=(2, 3, 4, 5), dtype=float64, numpy=\n",
              "array([[[[0., 0., 0., 0., 0.],\n",
              "         [0., 0., 0., 0., 0.],\n",
              "         [0., 0., 0., 0., 0.],\n",
              "         [0., 0., 0., 0., 0.]],\n",
              "\n",
              "        [[0., 0., 0., 0., 0.],\n",
              "         [0., 0., 0., 0., 0.],\n",
              "         [0., 0., 0., 0., 0.],\n",
              "         [0., 0., 0., 0., 0.]],\n",
              "\n",
              "        [[0., 0., 0., 0., 0.],\n",
              "         [0., 0., 0., 0., 0.],\n",
              "         [0., 0., 0., 0., 0.],\n",
              "         [0., 0., 0., 0., 0.]]],\n",
              "\n",
              "\n",
              "       [[[0., 0., 0., 0., 0.],\n",
              "         [0., 0., 0., 0., 0.],\n",
              "         [0., 0., 0., 0., 0.],\n",
              "         [0., 0., 0., 0., 0.]],\n",
              "\n",
              "        [[0., 0., 0., 0., 0.],\n",
              "         [0., 0., 0., 0., 0.],\n",
              "         [0., 0., 0., 0., 0.],\n",
              "         [0., 0., 0., 0., 0.]],\n",
              "\n",
              "        [[0., 0., 0., 0., 0.],\n",
              "         [0., 0., 0., 0., 0.],\n",
              "         [0., 0., 0., 0., 0.],\n",
              "         [0., 0., 0., 0., 0.]]]])>"
            ]
          },
          "metadata": {},
          "execution_count": 24
        }
      ]
    },
    {
      "cell_type": "code",
      "source": [
        "print(f\"the dimensions of the tensor:{rank_4_tensor.ndim}\")\n",
        "print(f\"the shape: {rank_4_tensor.shape}\")\n",
        "print(f\"The elements along 0 axis:{rank_4_tensor.shape[0]}\")\n",
        "print(f\"the last elements:{rank_4_tensor.shape[-1]}\")\n",
        "print(f\"The size of the tesnor:{tf.size(rank_4_tensor)}\")\n",
        "print(f\"Total number of elemnts in our tensor:{tf.size(rank_4_tensor).numpy()}\")"
      ],
      "metadata": {
        "colab": {
          "base_uri": "https://localhost:8080/"
        },
        "id": "n2QD0UByzuG-",
        "outputId": "9d987725-a2ef-4f6d-c4f5-19ddd906de27"
      },
      "execution_count": null,
      "outputs": [
        {
          "output_type": "stream",
          "name": "stdout",
          "text": [
            "the dimensions of the tensor:4\n",
            "the shape: (2, 3, 4, 5)\n",
            "The elements along 0 axis:2\n",
            "the last elements:5\n",
            "The size of the tesnor:120\n",
            "Total number of elemnts in our tensor:120\n"
          ]
        }
      ]
    },
    {
      "cell_type": "code",
      "source": [
        "rank_4_tensor[:2]"
      ],
      "metadata": {
        "colab": {
          "base_uri": "https://localhost:8080/"
        },
        "id": "n6xKp8Nc3IcX",
        "outputId": "b39a1894-8a85-43f4-ba2f-ae12332b3c01"
      },
      "execution_count": null,
      "outputs": [
        {
          "output_type": "execute_result",
          "data": {
            "text/plain": [
              "<tf.Tensor: shape=(2, 3, 4, 5), dtype=float64, numpy=\n",
              "array([[[[0., 0., 0., 0., 0.],\n",
              "         [0., 0., 0., 0., 0.],\n",
              "         [0., 0., 0., 0., 0.],\n",
              "         [0., 0., 0., 0., 0.]],\n",
              "\n",
              "        [[0., 0., 0., 0., 0.],\n",
              "         [0., 0., 0., 0., 0.],\n",
              "         [0., 0., 0., 0., 0.],\n",
              "         [0., 0., 0., 0., 0.]],\n",
              "\n",
              "        [[0., 0., 0., 0., 0.],\n",
              "         [0., 0., 0., 0., 0.],\n",
              "         [0., 0., 0., 0., 0.],\n",
              "         [0., 0., 0., 0., 0.]]],\n",
              "\n",
              "\n",
              "       [[[0., 0., 0., 0., 0.],\n",
              "         [0., 0., 0., 0., 0.],\n",
              "         [0., 0., 0., 0., 0.],\n",
              "         [0., 0., 0., 0., 0.]],\n",
              "\n",
              "        [[0., 0., 0., 0., 0.],\n",
              "         [0., 0., 0., 0., 0.],\n",
              "         [0., 0., 0., 0., 0.],\n",
              "         [0., 0., 0., 0., 0.]],\n",
              "\n",
              "        [[0., 0., 0., 0., 0.],\n",
              "         [0., 0., 0., 0., 0.],\n",
              "         [0., 0., 0., 0., 0.],\n",
              "         [0., 0., 0., 0., 0.]]]])>"
            ]
          },
          "metadata": {},
          "execution_count": 26
        }
      ]
    },
    {
      "cell_type": "code",
      "source": [
        "tensor_2=tf.constant(np.arange(11,31), shape=(2,5,2))"
      ],
      "metadata": {
        "id": "I11jDgu613gL"
      },
      "execution_count": null,
      "outputs": []
    },
    {
      "cell_type": "code",
      "source": [
        "tensor_2"
      ],
      "metadata": {
        "colab": {
          "base_uri": "https://localhost:8080/"
        },
        "id": "kBs3uPrn7Xl9",
        "outputId": "e9d57c6d-6988-4e87-a8b0-f1775dcf10c1"
      },
      "execution_count": null,
      "outputs": [
        {
          "output_type": "execute_result",
          "data": {
            "text/plain": [
              "<tf.Tensor: shape=(2, 5, 2), dtype=int64, numpy=\n",
              "array([[[11, 12],\n",
              "        [13, 14],\n",
              "        [15, 16],\n",
              "        [17, 18],\n",
              "        [19, 20]],\n",
              "\n",
              "       [[21, 22],\n",
              "        [23, 24],\n",
              "        [25, 26],\n",
              "        [27, 28],\n",
              "        [29, 30]]])>"
            ]
          },
          "metadata": {},
          "execution_count": 28
        }
      ]
    },
    {
      "cell_type": "code",
      "source": [
        "tensor_2[1:2, 2:3,-1]"
      ],
      "metadata": {
        "colab": {
          "base_uri": "https://localhost:8080/"
        },
        "id": "w--A17KT7cV2",
        "outputId": "1de8f81c-c5e3-40c5-acdb-a8c49227af95"
      },
      "execution_count": null,
      "outputs": [
        {
          "output_type": "execute_result",
          "data": {
            "text/plain": [
              "<tf.Tensor: shape=(1, 1), dtype=int64, numpy=array([[26]])>"
            ]
          },
          "metadata": {},
          "execution_count": 29
        }
      ]
    },
    {
      "cell_type": "code",
      "source": [
        "tensor_3= tensor_2[..., tf.newaxis]"
      ],
      "metadata": {
        "id": "MjbaLx-j8PuH"
      },
      "execution_count": null,
      "outputs": []
    },
    {
      "cell_type": "code",
      "source": [
        "tensor_3"
      ],
      "metadata": {
        "colab": {
          "base_uri": "https://localhost:8080/"
        },
        "id": "pZ0CsVhLAOfT",
        "outputId": "165d032b-9718-4445-a8a5-fdadbdf8f47e"
      },
      "execution_count": null,
      "outputs": [
        {
          "output_type": "execute_result",
          "data": {
            "text/plain": [
              "<tf.Tensor: shape=(2, 5, 2, 1), dtype=int64, numpy=\n",
              "array([[[[11],\n",
              "         [12]],\n",
              "\n",
              "        [[13],\n",
              "         [14]],\n",
              "\n",
              "        [[15],\n",
              "         [16]],\n",
              "\n",
              "        [[17],\n",
              "         [18]],\n",
              "\n",
              "        [[19],\n",
              "         [20]]],\n",
              "\n",
              "\n",
              "       [[[21],\n",
              "         [22]],\n",
              "\n",
              "        [[23],\n",
              "         [24]],\n",
              "\n",
              "        [[25],\n",
              "         [26]],\n",
              "\n",
              "        [[27],\n",
              "         [28]],\n",
              "\n",
              "        [[29],\n",
              "         [30]]]])>"
            ]
          },
          "metadata": {},
          "execution_count": 31
        }
      ]
    },
    {
      "cell_type": "code",
      "source": [
        "tf.expand_dims(tensor_2, axis=2)"
      ],
      "metadata": {
        "colab": {
          "base_uri": "https://localhost:8080/"
        },
        "id": "DXvk848DAWES",
        "outputId": "74f0b3e5-1f43-40aa-8a56-fb40fa218a1b"
      },
      "execution_count": null,
      "outputs": [
        {
          "output_type": "execute_result",
          "data": {
            "text/plain": [
              "<tf.Tensor: shape=(2, 5, 1, 2), dtype=int64, numpy=\n",
              "array([[[[11, 12]],\n",
              "\n",
              "        [[13, 14]],\n",
              "\n",
              "        [[15, 16]],\n",
              "\n",
              "        [[17, 18]],\n",
              "\n",
              "        [[19, 20]]],\n",
              "\n",
              "\n",
              "       [[[21, 22]],\n",
              "\n",
              "        [[23, 24]],\n",
              "\n",
              "        [[25, 26]],\n",
              "\n",
              "        [[27, 28]],\n",
              "\n",
              "        [[29, 30]]]])>"
            ]
          },
          "metadata": {},
          "execution_count": 32
        }
      ]
    },
    {
      "cell_type": "markdown",
      "source": [
        "## Matrix Operations"
      ],
      "metadata": {
        "id": "2xbiSaNjArys"
      }
    },
    {
      "cell_type": "markdown",
      "source": [
        "### Addition"
      ],
      "metadata": {
        "id": "ckWhUX9IAtvk"
      }
    },
    {
      "cell_type": "code",
      "source": [
        "matrix_1=tf.constant([[1,2],\n",
        "                      [3,4],\n",
        "                      [5,6]])\n",
        "matrix_2= tf.constant([[1,2],\n",
        "                       [3,4],\n",
        "                       [5,6]])\n",
        "matrix_1.shape, matrix_2.shape"
      ],
      "metadata": {
        "colab": {
          "base_uri": "https://localhost:8080/"
        },
        "id": "Na1Wwpj9lBHJ",
        "outputId": "a791e404-c0ab-41c8-a834-7b99538abe62"
      },
      "execution_count": null,
      "outputs": [
        {
          "output_type": "execute_result",
          "data": {
            "text/plain": [
              "(TensorShape([3, 2]), TensorShape([3, 2]))"
            ]
          },
          "metadata": {},
          "execution_count": 33
        }
      ]
    },
    {
      "cell_type": "code",
      "source": [
        "%%time\n",
        "matrix_1 + matrix_2"
      ],
      "metadata": {
        "colab": {
          "base_uri": "https://localhost:8080/"
        },
        "id": "-yndGwnRleOO",
        "outputId": "828f82aa-938d-45d0-9032-c28b65cc5e85"
      },
      "execution_count": null,
      "outputs": [
        {
          "output_type": "stream",
          "name": "stdout",
          "text": [
            "CPU times: user 2.02 ms, sys: 0 ns, total: 2.02 ms\n",
            "Wall time: 2.32 ms\n"
          ]
        },
        {
          "output_type": "execute_result",
          "data": {
            "text/plain": [
              "<tf.Tensor: shape=(3, 2), dtype=int32, numpy=\n",
              "array([[ 2,  4],\n",
              "       [ 6,  8],\n",
              "       [10, 12]], dtype=int32)>"
            ]
          },
          "metadata": {},
          "execution_count": 34
        }
      ]
    },
    {
      "cell_type": "markdown",
      "source": [
        "**Note**: we can use the usual way of operations on matrices like the above but using `tf.math` will perform the operation much faster as `tensorflow()` is able to use GPU.\n",
        "Let's see what I mean:"
      ],
      "metadata": {
        "id": "i71jQ4b_lmGC"
      }
    },
    {
      "cell_type": "code",
      "source": [
        "%%time\n",
        "tf.math.add(matrix_1, matrix_2)"
      ],
      "metadata": {
        "colab": {
          "base_uri": "https://localhost:8080/"
        },
        "id": "YOuNgxsZmDkW",
        "outputId": "4cdb9f4f-caed-40bd-affb-4c8207acd516"
      },
      "execution_count": null,
      "outputs": [
        {
          "output_type": "stream",
          "name": "stdout",
          "text": [
            "CPU times: user 243 µs, sys: 32 µs, total: 275 µs\n",
            "Wall time: 285 µs\n"
          ]
        },
        {
          "output_type": "execute_result",
          "data": {
            "text/plain": [
              "<tf.Tensor: shape=(3, 2), dtype=int32, numpy=\n",
              "array([[ 2,  4],\n",
              "       [ 6,  8],\n",
              "       [10, 12]], dtype=int32)>"
            ]
          },
          "metadata": {},
          "execution_count": 35
        }
      ]
    },
    {
      "cell_type": "markdown",
      "source": [
        "You can see the difference now!!!"
      ],
      "metadata": {
        "id": "d1JnNj5WmRlk"
      }
    },
    {
      "cell_type": "code",
      "source": [
        "# tf.matmul(matrix_1, matrix_2) #If you run this cell it will give you error \"Matrix size-incompatible: In[0]: [3,2], In[1]: [3,2] [Op:MatMul]\""
      ],
      "metadata": {
        "id": "xJpZIW1emlYS"
      },
      "execution_count": null,
      "outputs": []
    },
    {
      "cell_type": "markdown",
      "source": [
        "Matrix has two rules for multiplication:\n",
        "* The inner dimensions must match\n",
        "* The resultant matrix will be the shape of outside dimensions.\n",
        "\n",
        "So lets `reshape()` or `transpose()` our matrices. `transpose()` is required by `tf.tensordot()`."
      ],
      "metadata": {
        "id": "cfd7Oa5QmtiV"
      }
    },
    {
      "cell_type": "code",
      "source": [
        "matrix_1.shape, matrix_2.shape"
      ],
      "metadata": {
        "colab": {
          "base_uri": "https://localhost:8080/"
        },
        "id": "6mg7VXwxnK_O",
        "outputId": "fb9363a7-b883-440d-8542-ecde11318dae"
      },
      "execution_count": null,
      "outputs": [
        {
          "output_type": "execute_result",
          "data": {
            "text/plain": [
              "(TensorShape([3, 2]), TensorShape([3, 2]))"
            ]
          },
          "metadata": {},
          "execution_count": 37
        }
      ]
    },
    {
      "cell_type": "code",
      "source": [
        "tf.matmul(matrix_1, tf.transpose(matrix_2))"
      ],
      "metadata": {
        "colab": {
          "base_uri": "https://localhost:8080/"
        },
        "id": "VDGmdX0SnfFa",
        "outputId": "1fe27a49-ed87-4290-c26f-8e122e74357d"
      },
      "execution_count": null,
      "outputs": [
        {
          "output_type": "execute_result",
          "data": {
            "text/plain": [
              "<tf.Tensor: shape=(3, 3), dtype=int32, numpy=\n",
              "array([[ 5, 11, 17],\n",
              "       [11, 25, 39],\n",
              "       [17, 39, 61]], dtype=int32)>"
            ]
          },
          "metadata": {},
          "execution_count": 38
        }
      ]
    },
    {
      "cell_type": "code",
      "source": [
        "tf.matmul(tf.reshape(matrix_1, shape=(2,3)), matrix_2)"
      ],
      "metadata": {
        "colab": {
          "base_uri": "https://localhost:8080/"
        },
        "id": "QKgmmAYBnpui",
        "outputId": "4567823c-5781-48ff-9034-a08da0c2c088"
      },
      "execution_count": null,
      "outputs": [
        {
          "output_type": "execute_result",
          "data": {
            "text/plain": [
              "<tf.Tensor: shape=(2, 2), dtype=int32, numpy=\n",
              "array([[22, 28],\n",
              "       [49, 64]], dtype=int32)>"
            ]
          },
          "metadata": {},
          "execution_count": 39
        }
      ]
    },
    {
      "cell_type": "code",
      "source": [
        "tf.divide(matrix_1, matrix_2)"
      ],
      "metadata": {
        "colab": {
          "base_uri": "https://localhost:8080/"
        },
        "id": "eeQ0VCXin50a",
        "outputId": "ef129fc8-5f1f-4306-95ac-3ebdba5415f4"
      },
      "execution_count": null,
      "outputs": [
        {
          "output_type": "execute_result",
          "data": {
            "text/plain": [
              "<tf.Tensor: shape=(3, 2), dtype=float64, numpy=\n",
              "array([[1., 1.],\n",
              "       [1., 1.],\n",
              "       [1., 1.]])>"
            ]
          },
          "metadata": {},
          "execution_count": 40
        }
      ]
    },
    {
      "cell_type": "markdown",
      "source": [
        "Well you can't divide matrices 😆. This was just aiwein krraha thaa 😆"
      ],
      "metadata": {
        "id": "oBJtFYa3oHyq"
      }
    },
    {
      "cell_type": "code",
      "source": [
        "tf.tensordot(matrix_1, tf.transpose(matrix_2), axes=1)"
      ],
      "metadata": {
        "colab": {
          "base_uri": "https://localhost:8080/"
        },
        "id": "mZUbAE-coikn",
        "outputId": "b21a0a5b-d6da-45c5-f9d7-a4d6b95a78da"
      },
      "execution_count": null,
      "outputs": [
        {
          "output_type": "execute_result",
          "data": {
            "text/plain": [
              "<tf.Tensor: shape=(3, 3), dtype=int32, numpy=\n",
              "array([[ 5, 11, 17],\n",
              "       [11, 25, 39],\n",
              "       [17, 39, 61]], dtype=int32)>"
            ]
          },
          "metadata": {},
          "execution_count": 41
        }
      ]
    },
    {
      "cell_type": "code",
      "source": [
        "tf.tensordot(tf.transpose(matrix_1), matrix_2, axes=1)"
      ],
      "metadata": {
        "colab": {
          "base_uri": "https://localhost:8080/"
        },
        "id": "-OKBbnjPyV86",
        "outputId": "e5351a05-bb60-4e19-daca-8cf6e1b480dc"
      },
      "execution_count": null,
      "outputs": [
        {
          "output_type": "execute_result",
          "data": {
            "text/plain": [
              "<tf.Tensor: shape=(2, 2), dtype=int32, numpy=\n",
              "array([[35, 44],\n",
              "       [44, 56]], dtype=int32)>"
            ]
          },
          "metadata": {},
          "execution_count": 42
        }
      ]
    },
    {
      "cell_type": "markdown",
      "source": [
        "## Changing datatypes of Tensors:\n",
        "Typecasting in tensorflow is by `tf.cast()`."
      ],
      "metadata": {
        "id": "gRIwIt8Jzdbw"
      }
    },
    {
      "cell_type": "code",
      "source": [
        "A= tf.constant([1,2,3])\n",
        "A"
      ],
      "metadata": {
        "colab": {
          "base_uri": "https://localhost:8080/"
        },
        "id": "KvBX4fbXwXHI",
        "outputId": "96cf3f4c-b45f-4e69-b354-f56f1834ce76"
      },
      "execution_count": null,
      "outputs": [
        {
          "output_type": "execute_result",
          "data": {
            "text/plain": [
              "<tf.Tensor: shape=(3,), dtype=int32, numpy=array([1, 2, 3], dtype=int32)>"
            ]
          },
          "metadata": {},
          "execution_count": 43
        }
      ]
    },
    {
      "cell_type": "code",
      "source": [
        "B=tf.constant([9.,8.,10.])\n",
        "B"
      ],
      "metadata": {
        "colab": {
          "base_uri": "https://localhost:8080/"
        },
        "id": "zcSx1Kcowdol",
        "outputId": "0721feaa-9565-4c73-fbbb-274963f59a02"
      },
      "execution_count": null,
      "outputs": [
        {
          "output_type": "execute_result",
          "data": {
            "text/plain": [
              "<tf.Tensor: shape=(3,), dtype=float32, numpy=array([ 9.,  8., 10.], dtype=float32)>"
            ]
          },
          "metadata": {},
          "execution_count": 44
        }
      ]
    },
    {
      "cell_type": "code",
      "source": [
        "C= tf.cast(A, tf.int8)\n",
        "C"
      ],
      "metadata": {
        "colab": {
          "base_uri": "https://localhost:8080/"
        },
        "id": "50YqBQfuwtKb",
        "outputId": "7bcadf1a-9b6e-4cfe-e69f-1929f488f761"
      },
      "execution_count": null,
      "outputs": [
        {
          "output_type": "execute_result",
          "data": {
            "text/plain": [
              "<tf.Tensor: shape=(3,), dtype=int8, numpy=array([1, 2, 3], dtype=int8)>"
            ]
          },
          "metadata": {},
          "execution_count": 46
        }
      ]
    },
    {
      "cell_type": "code",
      "source": [
        "D=tf.cast(B, tf.float16)\n",
        "D"
      ],
      "metadata": {
        "colab": {
          "base_uri": "https://localhost:8080/"
        },
        "id": "K8p5hni2yeRY",
        "outputId": "d87b7a6b-fec5-4936-f70b-86a1d10e7fa2"
      },
      "execution_count": null,
      "outputs": [
        {
          "output_type": "execute_result",
          "data": {
            "text/plain": [
              "<tf.Tensor: shape=(3,), dtype=float16, numpy=array([ 9.,  8., 10.], dtype=float16)>"
            ]
          },
          "metadata": {},
          "execution_count": 48
        }
      ]
    },
    {
      "cell_type": "code",
      "source": [
        "E= tf.cast(D, tf.int64)"
      ],
      "metadata": {
        "id": "3jdWR_cYyp3z"
      },
      "execution_count": null,
      "outputs": []
    },
    {
      "cell_type": "code",
      "source": [
        "E"
      ],
      "metadata": {
        "colab": {
          "base_uri": "https://localhost:8080/"
        },
        "id": "OBoV7x6pyywq",
        "outputId": "66e4e725-f990-44bc-858f-19137fe44b3c"
      },
      "execution_count": null,
      "outputs": [
        {
          "output_type": "execute_result",
          "data": {
            "text/plain": [
              "<tf.Tensor: shape=(3,), dtype=int64, numpy=array([ 9,  8, 10])>"
            ]
          },
          "metadata": {},
          "execution_count": 50
        }
      ]
    },
    {
      "cell_type": "markdown",
      "source": [
        "## Aggregating Tensors:\n",
        "Condensing them from multiple values down to smaller values"
      ],
      "metadata": {
        "id": "9TtnfK84y0CT"
      }
    },
    {
      "cell_type": "code",
      "source": [
        "print(-D)"
      ],
      "metadata": {
        "colab": {
          "base_uri": "https://localhost:8080/"
        },
        "id": "XQl08ABLzblQ",
        "outputId": "54d3f1af-c6be-4f8d-96b0-2da3edda9bc9"
      },
      "execution_count": null,
      "outputs": [
        {
          "output_type": "stream",
          "name": "stdout",
          "text": [
            "tf.Tensor([ -9.  -8. -10.], shape=(3,), dtype=float16)\n"
          ]
        }
      ]
    },
    {
      "cell_type": "code",
      "source": [
        "F= tf.abs(-D) #gives the absolute value\n",
        "F"
      ],
      "metadata": {
        "colab": {
          "base_uri": "https://localhost:8080/"
        },
        "id": "q2XL2gQY7Jtn",
        "outputId": "635ab17c-c681-4346-870c-327e828d1241"
      },
      "execution_count": null,
      "outputs": [
        {
          "output_type": "execute_result",
          "data": {
            "text/plain": [
              "<tf.Tensor: shape=(3,), dtype=float16, numpy=array([ 9.,  8., 10.], dtype=float16)>"
            ]
          },
          "metadata": {},
          "execution_count": 56
        }
      ]
    },
    {
      "cell_type": "code",
      "source": [
        "tf.reduce_min(E) #minimum"
      ],
      "metadata": {
        "colab": {
          "base_uri": "https://localhost:8080/"
        },
        "id": "PmDMcxt28lXa",
        "outputId": "bdf49ffb-3424-42bb-8c0d-7bebc84a344a"
      },
      "execution_count": null,
      "outputs": [
        {
          "output_type": "execute_result",
          "data": {
            "text/plain": [
              "<tf.Tensor: shape=(), dtype=int64, numpy=8>"
            ]
          },
          "metadata": {},
          "execution_count": 66
        }
      ]
    },
    {
      "cell_type": "code",
      "source": [
        "tf.reduce_max(D) # to find maximum"
      ],
      "metadata": {
        "colab": {
          "base_uri": "https://localhost:8080/"
        },
        "id": "ZY0i5N9_9BuV",
        "outputId": "8d006789-3da0-4bc4-edcb-3c63b06cc2f1"
      },
      "execution_count": null,
      "outputs": [
        {
          "output_type": "execute_result",
          "data": {
            "text/plain": [
              "<tf.Tensor: shape=(), dtype=float16, numpy=10.0>"
            ]
          },
          "metadata": {},
          "execution_count": 67
        }
      ]
    },
    {
      "cell_type": "code",
      "source": [
        "tf.reduce_mean(F) #to find mean"
      ],
      "metadata": {
        "colab": {
          "base_uri": "https://localhost:8080/"
        },
        "id": "fiWg1D3n9MRv",
        "outputId": "476e1905-2521-4351-a998-d13ffafd2dc7"
      },
      "execution_count": null,
      "outputs": [
        {
          "output_type": "execute_result",
          "data": {
            "text/plain": [
              "<tf.Tensor: shape=(), dtype=float16, numpy=9.0>"
            ]
          },
          "metadata": {},
          "execution_count": 68
        }
      ]
    },
    {
      "cell_type": "code",
      "source": [
        "# tf.math.reduce_variance(E) #wont work so will have to convert dtype into float"
      ],
      "metadata": {
        "id": "7hc7OvcS9Tc8"
      },
      "execution_count": null,
      "outputs": []
    },
    {
      "cell_type": "code",
      "source": [
        "tf.math.reduce_variance(tf.cast(E, tf.float32)) # to find variance"
      ],
      "metadata": {
        "colab": {
          "base_uri": "https://localhost:8080/"
        },
        "id": "FRumWvts-F6U",
        "outputId": "28c369a8-a7cc-4209-c453-cb485f6fe775"
      },
      "execution_count": null,
      "outputs": [
        {
          "output_type": "execute_result",
          "data": {
            "text/plain": [
              "<tf.Tensor: shape=(), dtype=float32, numpy=0.6666667>"
            ]
          },
          "metadata": {},
          "execution_count": 79
        }
      ]
    },
    {
      "cell_type": "code",
      "source": [
        "tf.math.reduce_std(tf.cast(E, tf.float32)) # to find standard deviation"
      ],
      "metadata": {
        "colab": {
          "base_uri": "https://localhost:8080/"
        },
        "id": "35Hgf-CS-f7I",
        "outputId": "3c5af825-a9d9-4873-904d-19ca2c56acf5"
      },
      "execution_count": null,
      "outputs": [
        {
          "output_type": "execute_result",
          "data": {
            "text/plain": [
              "<tf.Tensor: shape=(), dtype=float32, numpy=0.8164966>"
            ]
          },
          "metadata": {},
          "execution_count": 78
        }
      ]
    },
    {
      "cell_type": "code",
      "source": [
        "import tensorflow_probability as tfp"
      ],
      "metadata": {
        "id": "E1GzGbLy-tju"
      },
      "execution_count": null,
      "outputs": []
    },
    {
      "cell_type": "code",
      "source": [
        "tfp.stats.variance(tf.cast(E, tf.float32))"
      ],
      "metadata": {
        "colab": {
          "base_uri": "https://localhost:8080/"
        },
        "id": "ByP2nBlB_m7h",
        "outputId": "9a901ceb-ee75-4560-f151-b08acc13c205"
      },
      "execution_count": null,
      "outputs": [
        {
          "output_type": "execute_result",
          "data": {
            "text/plain": [
              "<tf.Tensor: shape=(), dtype=float32, numpy=0.6666667>"
            ]
          },
          "metadata": {},
          "execution_count": 82
        }
      ]
    },
    {
      "cell_type": "markdown",
      "source": [
        "## Finding positional maximum and minimum"
      ],
      "metadata": {
        "id": "C8SxH2Eh_s5v"
      }
    },
    {
      "cell_type": "code",
      "source": [
        "tf.random.set_seed(50)\n",
        "G=tf.constant(tf.random.uniform(shape=[50],seed=42))\n",
        "G"
      ],
      "metadata": {
        "colab": {
          "base_uri": "https://localhost:8080/"
        },
        "id": "Gq3kL-8iBqbX",
        "outputId": "4987f6c0-235b-43f6-851f-3f44851ce50e"
      },
      "execution_count": null,
      "outputs": [
        {
          "output_type": "execute_result",
          "data": {
            "text/plain": [
              "<tf.Tensor: shape=(50,), dtype=float32, numpy=\n",
              "array([0.6203257 , 0.89154935, 0.32661438, 0.97836685, 0.7686428 ,\n",
              "       0.74070084, 0.645759  , 0.7121906 , 0.7831063 , 0.5153687 ,\n",
              "       0.42817783, 0.5632707 , 0.01776755, 0.7162845 , 0.46074605,\n",
              "       0.61696136, 0.36191297, 0.986956  , 0.27285445, 0.5927348 ,\n",
              "       0.68023896, 0.54652536, 0.28453124, 0.82896054, 0.5145595 ,\n",
              "       0.88879526, 0.54013336, 0.2245214 , 0.5683669 , 0.56679094,\n",
              "       0.41150737, 0.70246565, 0.46915042, 0.5505512 , 0.23332906,\n",
              "       0.3555416 , 0.8680407 , 0.7273568 , 0.29180384, 0.35253668,\n",
              "       0.8352454 , 0.480016  , 0.84876597, 0.83687925, 0.15508807,\n",
              "       0.8417727 , 0.78756   , 0.2899896 , 0.9872377 , 0.7657682 ],\n",
              "      dtype=float32)>"
            ]
          },
          "metadata": {},
          "execution_count": 94
        }
      ]
    },
    {
      "cell_type": "code",
      "source": [
        "tf.reduce_max(G)"
      ],
      "metadata": {
        "colab": {
          "base_uri": "https://localhost:8080/"
        },
        "id": "sEHsGJ_EB89p",
        "outputId": "348b9420-ca4c-45a1-a387-ff3234f86fa5"
      },
      "execution_count": null,
      "outputs": [
        {
          "output_type": "execute_result",
          "data": {
            "text/plain": [
              "<tf.Tensor: shape=(), dtype=float32, numpy=0.9872377>"
            ]
          },
          "metadata": {},
          "execution_count": 95
        }
      ]
    },
    {
      "cell_type": "code",
      "source": [
        "tf.argmax(G).numpy()"
      ],
      "metadata": {
        "colab": {
          "base_uri": "https://localhost:8080/"
        },
        "id": "IhDfjZDLCVj4",
        "outputId": "667794d5-6c75-4716-e037-7156d1c8378c"
      },
      "execution_count": null,
      "outputs": [
        {
          "output_type": "execute_result",
          "data": {
            "text/plain": [
              "48"
            ]
          },
          "metadata": {},
          "execution_count": 99
        }
      ]
    },
    {
      "cell_type": "code",
      "source": [
        "G[tf.argmax(G)] # to find the max value by index"
      ],
      "metadata": {
        "colab": {
          "base_uri": "https://localhost:8080/"
        },
        "id": "SSH_5SDoCYBZ",
        "outputId": "3bd0d079-7ca8-4390-c167-a72530c73c4b"
      },
      "execution_count": null,
      "outputs": [
        {
          "output_type": "execute_result",
          "data": {
            "text/plain": [
              "<tf.Tensor: shape=(), dtype=float32, numpy=0.9872377>"
            ]
          },
          "metadata": {},
          "execution_count": 98
        }
      ]
    },
    {
      "cell_type": "code",
      "source": [
        "G[48]"
      ],
      "metadata": {
        "colab": {
          "base_uri": "https://localhost:8080/"
        },
        "id": "bJvvieaeCt6y",
        "outputId": "85b91d6f-4fb0-466b-8478-9203cd982067"
      },
      "execution_count": null,
      "outputs": [
        {
          "output_type": "execute_result",
          "data": {
            "text/plain": [
              "<tf.Tensor: shape=(), dtype=float32, numpy=0.9872377>"
            ]
          },
          "metadata": {},
          "execution_count": 100
        }
      ]
    },
    {
      "cell_type": "code",
      "source": [
        "(tf.reduce_max(G)== G[tf.argmax(G)]).numpy()"
      ],
      "metadata": {
        "colab": {
          "base_uri": "https://localhost:8080/"
        },
        "id": "zIAo8T5SC4rq",
        "outputId": "bd48c969-cc5e-406d-d40a-386e1d0bdff0"
      },
      "execution_count": null,
      "outputs": [
        {
          "output_type": "execute_result",
          "data": {
            "text/plain": [
              "True"
            ]
          },
          "metadata": {},
          "execution_count": 103
        }
      ]
    },
    {
      "cell_type": "markdown",
      "source": [
        "## Find positional minimum"
      ],
      "metadata": {
        "id": "UDqAZeBUDAze"
      }
    },
    {
      "cell_type": "code",
      "source": [
        "tf.reduce_min(G).numpy()"
      ],
      "metadata": {
        "colab": {
          "base_uri": "https://localhost:8080/"
        },
        "id": "Kwmok3M2DYPG",
        "outputId": "931b1e2f-46bb-4642-e821-afab086cec4a"
      },
      "execution_count": null,
      "outputs": [
        {
          "output_type": "execute_result",
          "data": {
            "text/plain": [
              "0.017767549"
            ]
          },
          "metadata": {},
          "execution_count": 109
        }
      ]
    },
    {
      "cell_type": "code",
      "source": [
        "tf.argmin(G).numpy() #to get the index of min value"
      ],
      "metadata": {
        "colab": {
          "base_uri": "https://localhost:8080/"
        },
        "id": "aacPu8wlDgkH",
        "outputId": "56ffe824-1ded-4267-9215-99d7745c8b5a"
      },
      "execution_count": null,
      "outputs": [
        {
          "output_type": "execute_result",
          "data": {
            "text/plain": [
              "12"
            ]
          },
          "metadata": {},
          "execution_count": 107
        }
      ]
    },
    {
      "cell_type": "code",
      "source": [
        "G[tf.argmin(G)].numpy()"
      ],
      "metadata": {
        "colab": {
          "base_uri": "https://localhost:8080/"
        },
        "id": "3F8qG8I6D06i",
        "outputId": "e793acfe-86a3-4fa4-d07f-49bbc056d231"
      },
      "execution_count": null,
      "outputs": [
        {
          "output_type": "execute_result",
          "data": {
            "text/plain": [
              "0.017767549"
            ]
          },
          "metadata": {},
          "execution_count": 111
        }
      ]
    },
    {
      "cell_type": "code",
      "source": [
        "(G[tf.argmin(G)]==tf.reduce_min(G)).numpy()"
      ],
      "metadata": {
        "colab": {
          "base_uri": "https://localhost:8080/"
        },
        "id": "P5Bp1X8UD_4K",
        "outputId": "8a656987-5e23-4f14-84d3-3459a37c68b6"
      },
      "execution_count": null,
      "outputs": [
        {
          "output_type": "execute_result",
          "data": {
            "text/plain": [
              "True"
            ]
          },
          "metadata": {},
          "execution_count": 118
        }
      ]
    },
    {
      "cell_type": "markdown",
      "source": [
        "## Squeezing and One_hot encoding"
      ],
      "metadata": {
        "id": "Oh_QTtF4ETbv"
      }
    },
    {
      "cell_type": "code",
      "source": [
        "G = tf.reshape(G,shape=(1,1,1,50))"
      ],
      "metadata": {
        "id": "H8sOr-jqLH0Q"
      },
      "execution_count": null,
      "outputs": []
    },
    {
      "cell_type": "code",
      "source": [
        "G.shape"
      ],
      "metadata": {
        "colab": {
          "base_uri": "https://localhost:8080/"
        },
        "id": "8FMNm7l6LRRK",
        "outputId": "05e5a5ff-1cc8-4cd8-f5b9-cb313e0daaf0"
      },
      "execution_count": null,
      "outputs": [
        {
          "output_type": "execute_result",
          "data": {
            "text/plain": [
              "TensorShape([1, 1, 1, 50])"
            ]
          },
          "metadata": {},
          "execution_count": 121
        }
      ]
    },
    {
      "cell_type": "code",
      "source": [
        "G_squeezed= tf.squeeze(G)"
      ],
      "metadata": {
        "id": "WL-tLNiYLXbf"
      },
      "execution_count": null,
      "outputs": []
    },
    {
      "cell_type": "code",
      "source": [
        "G_squeezed.shape #singal dimensional axices are gone"
      ],
      "metadata": {
        "colab": {
          "base_uri": "https://localhost:8080/"
        },
        "id": "6lEuKEbCLeMr",
        "outputId": "a446b776-de70-45d9-8486-001d3d2f0059"
      },
      "execution_count": null,
      "outputs": [
        {
          "output_type": "execute_result",
          "data": {
            "text/plain": [
              "TensorShape([50])"
            ]
          },
          "metadata": {},
          "execution_count": 129
        }
      ]
    },
    {
      "cell_type": "code",
      "source": [
        "indices = [1,2,3,4]\n",
        "depth=4\n",
        "H=tf.one_hot(indices, depth)\n",
        "H"
      ],
      "metadata": {
        "colab": {
          "base_uri": "https://localhost:8080/"
        },
        "id": "s8vjrRK-Lm5H",
        "outputId": "f8c5b219-4ed5-4319-eb30-8b06257a1589"
      },
      "execution_count": null,
      "outputs": [
        {
          "output_type": "execute_result",
          "data": {
            "text/plain": [
              "<tf.Tensor: shape=(4, 4), dtype=float32, numpy=\n",
              "array([[0., 1., 0., 0.],\n",
              "       [0., 0., 1., 0.],\n",
              "       [0., 0., 0., 1.],\n",
              "       [0., 0., 0., 0.]], dtype=float32)>"
            ]
          },
          "metadata": {},
          "execution_count": 132
        }
      ]
    },
    {
      "cell_type": "code",
      "source": [
        "#lets have some fun with one_hot\n",
        "H= tf.one_hot(indices, depth, on_value=\"Yeahhh\", off_value=\"Nahhh\")\n",
        "H"
      ],
      "metadata": {
        "colab": {
          "base_uri": "https://localhost:8080/"
        },
        "id": "M8NTYkW0L9oU",
        "outputId": "aab598de-5b93-4d1a-c9fa-69c9dd1ac1c5"
      },
      "execution_count": null,
      "outputs": [
        {
          "output_type": "execute_result",
          "data": {
            "text/plain": [
              "<tf.Tensor: shape=(4, 4), dtype=string, numpy=\n",
              "array([[b'Nahhh', b'Yeahhh', b'Nahhh', b'Nahhh'],\n",
              "       [b'Nahhh', b'Nahhh', b'Yeahhh', b'Nahhh'],\n",
              "       [b'Nahhh', b'Nahhh', b'Nahhh', b'Yeahhh'],\n",
              "       [b'Nahhh', b'Nahhh', b'Nahhh', b'Nahhh']], dtype=object)>"
            ]
          },
          "metadata": {},
          "execution_count": 134
        }
      ]
    },
    {
      "cell_type": "markdown",
      "source": [
        "## Finished Yayyyyyy!!!! 🕺"
      ],
      "metadata": {
        "id": "k0uOFnF0MVSK"
      }
    },
    {
      "cell_type": "code",
      "source": [],
      "metadata": {
        "id": "wwrOZSlyMtvj"
      },
      "execution_count": null,
      "outputs": []
    }
  ]
}